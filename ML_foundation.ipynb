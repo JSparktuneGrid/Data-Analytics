{
  "nbformat": 4,
  "nbformat_minor": 0,
  "metadata": {
    "colab": {
      "provenance": [],
      "toc_visible": true
    },
    "kernelspec": {
      "name": "python3",
      "display_name": "Python 3"
    },
    "language_info": {
      "name": "python"
    }
  },
  "cells": [
    {
      "cell_type": "markdown",
      "source": [
        "# Feature engineering with Python"
      ],
      "metadata": {
        "id": "vJH4Pv0v1vsk"
      }
    },
    {
      "cell_type": "markdown",
      "source": [
        "## Introduction\n",
        "\n",
        "Throughout this notebook, we will learn to use Python to perform feature engineering on a dataset to prepare it for modeling using a supervised classification model. Before getting started, watch the associated instructional video and complete the in-video question. All of the code we will be implementing and related instructions are contained in this notebook."
      ],
      "metadata": {
        "id": "OmZNCSfP18m3"
      }
    },
    {
      "cell_type": "markdown",
      "source": [
        "## Overview\n",
        "The data we will use in this notebook is customer data from a European bank. We will return to this data often throughout this course. Later, we will compare the performance of different models on this data. Be sure to review the [data dictionary](https://www.coursera.org/learn/the-nuts-and-bolts-of-machine-learning/supplement/s7Mux/follow-along-instructions-feature-engineering-with-python) to better acquaint yourself with it.\n",
        "\n",
        "The data will be used to predict whether a customer of the bank will churn. If a customer churns, it means they left the bank and took their business elsewhere. If you can predict which customers are likely to churn, you can take measures to retain them before they do.\n",
        "\n",
        "Topics of focus in this activity include:\n",
        "\n",
        "  * **Feature selection**\n",
        "    * Removing uninformative features\n",
        "  * **Feature extraction**\n",
        "    * Creating new features from existing features\n",
        "  * **Feature transformation**\n",
        "    * Modifying existing features to better suit our objectives\n",
        "    * Encoding of categorical features as dummies"
      ],
      "metadata": {
        "id": "8lI8qaed12Qd"
      }
    },
    {
      "cell_type": "markdown",
      "source": [
        "## Import packages and libraries\n",
        "First, we will need to import all the required libraries and extensions. Throughout the course, we will be using numpy and pandas for operations."
      ],
      "metadata": {
        "id": "03AzlRhh2Eg6"
      }
    },
    {
      "cell_type": "code",
      "execution_count": null,
      "metadata": {
        "id": "qfUIhBW31T3L"
      },
      "outputs": [],
      "source": [
        "import numpy as np\n",
        "import pandas as pd"
      ]
    },
    {
      "cell_type": "markdown",
      "source": [
        "## Target variable\n",
        "\n",
        "The data dictionary shows that there is a column called `Exited`. This is a Boolean value that indicates whether or not a customer left the bank (0 = did not leave, 1 = did leave). This will be our target variable. In other words, for each customer, our model should predict whether they should have a 0 or a 1 in the `Exited` column.\n",
        "\n",
        "This is a supervised learning classification task because we will predict on a binary class. Therefore, this notebook will prepare the data for a classification model."
      ],
      "metadata": {
        "id": "ryBxMoA52PHs"
      }
    },
    {
      "cell_type": "code",
      "source": [
        "# Read in data\n",
        "df_original = pd.read_csv('Churn_Modelling.csv')"
      ],
      "metadata": {
        "id": "_RGFtnzQ2UEO"
      },
      "execution_count": null,
      "outputs": []
    },
    {
      "cell_type": "code",
      "source": [
        "df_original.head()"
      ],
      "metadata": {
        "id": "I_Sth6L_2tPy"
      },
      "execution_count": null,
      "outputs": []
    },
    {
      "cell_type": "markdown",
      "source": [
        "When modeling, a best practice is to perform a rigorous examination of the data before beginning feature engineering and feature selection. Not only does this process help you understand your data, what it is telling you, and what it is not telling you, but it also can give you clues that help you create new features.\n",
        "\n",
        "You have already learned the fundamentals of exploratory data analysis (EDA), so this notebook will skip that essential part of the modeling process. Just remember that a good data science project will always include EDA.\n",
        "\n",
        "The following table provides a quick overview of the data"
      ],
      "metadata": {
        "id": "w23vij6k2xDr"
      }
    },
    {
      "cell_type": "code",
      "source": [
        "# Print high-level info about data\n",
        "df_original.info()"
      ],
      "metadata": {
        "id": "Ob0VGej53iE6"
      },
      "execution_count": null,
      "outputs": []
    },
    {
      "cell_type": "markdown",
      "source": [
        "From this table, we can confirm that the data has 14 features and 10,000 observations. We also know that nine features are integers, two are floats, and three are strings. Finally, we can tell that there are no null values because there are 10,000 observations, and each column has 10,000 non-null values."
      ],
      "metadata": {
        "id": "GAd9rWNu3fTU"
      }
    },
    {
      "cell_type": "markdown",
      "source": [
        "## Feature engineering"
      ],
      "metadata": {
        "id": "gUFLXBaC3nWy"
      }
    },
    {
      "cell_type": "markdown",
      "source": [
        "###Feature selection\n",
        "\n",
        "Feature selection is the process of choosing features to be used for modeling. In practice, feature selection takes place at multiple points in the PACE process. Although sometimes you will be given a dataset and a defined target variable, most often in practice you will begin with only a question or a problem that you are tasked with solving. In these cases, if you decide that the problem requires a model, you will then have to:\n",
        "\n",
        "* Consider what data is available to you\n",
        "* Decide on what kind of model you need\n",
        "* Decide on a target variable\n",
        "* Assemble a collection of features that you think might help predict on your chosen target\n",
        "\n",
        "This all takes place during the **Plan** phase.\n",
        "\n",
        "Then, during the **Analyze** phase, you perform EDA on the data and reevaluate your variables for appropriateness. For example, can your model handle null values? If not, what do you do with features with a lot of nulls? Perhaps you drop them. This too is feature selection.\n",
        "\n",
        "Feature selection also occurs during the **Construct** phase. This usually involves building a model, examining which features are most predictive, and then removing the unpredictive features.\n",
        "\n",
        "There's a lot of work involved in feature selection. In this case, we already have a dataset, and we are not performing thorough EDA on it. However, we can still examine the data to ensure that all the features can reasonably be expected to have predictive potential."
      ],
      "metadata": {
        "id": "rS8SDS_43qhv"
      }
    },
    {
      "cell_type": "markdown",
      "source": [
        "Returning to the bank data, notice that the first column is called `RowNumber`, and it just enumerates the rows. We should drop this feature, because row number shouldn't have any correlation with whether or not a customer churned.\n",
        "\n",
        "The same is true for `CustomerID`, which appears to be a number assigned to the customer for administrative purposes, and `Surname`, which is the customer's last name. Since these cannot be expected to have any influence over the target variable, we can remove them from the modeling dataset.\n",
        "\n",
        "Finally, for ethical reasons, we should remove the `Gender` column. The reason for doing this is that we don't want our model-making predictions (and therefore, offering promotions/financial incentives) based on a person's gender."
      ],
      "metadata": {
        "id": "Sx2u_KIG3t6y"
      }
    },
    {
      "cell_type": "code",
      "source": [
        "# Create a new df that drops RowNumber, CustomerId, Surname, and Gender cols\n",
        "churn_df = df_original.drop(['RowNumber', 'CustomerId', 'Surname', 'Gender'],\n",
        "                            axis=1)"
      ],
      "metadata": {
        "id": "kE8F7dSp4I8V"
      },
      "execution_count": null,
      "outputs": []
    },
    {
      "cell_type": "code",
      "source": [
        "churn_df.head()"
      ],
      "metadata": {
        "id": "4C2jpi174Lki"
      },
      "execution_count": null,
      "outputs": []
    },
    {
      "cell_type": "markdown",
      "source": [
        "### Feature extraction\n",
        "\n",
        "Depending on your data, you may be able to create brand new features from your existing features. Oftentimes, features that you create yourself are some of the most important features selected by your model. Usually this is the case when you have both domain knowledge for the problem you're solving and the right combinations of data.\n",
        "\n",
        "For example, suppose you knew that your bank had a computer glitch that caused many credit card transactions to be mistakenly declined in October. It would be reasonable to suspect that people who experienced this might be at increased risk of leaving the bank. If you had a feature that represented each customer's number of credit card transactions each month, you could create a new feature; for example, `OctUseRatio`, where:\n",
        "\n",
        "$$\\text{OctUseRatio} = \\frac{\\text{num of Oct. transactions}}{\\text{avg num monthly transactions}}$$\n",
        "  </br>\n",
        "\n",
        "This new feature would then give you a ratio that might be indicative of whether the customer experienced declined transactions.\n",
        "\n",
        "We don't have this kind of specific circumstantial knowledge, and we don't have many features to choose from, but we can create a new feature that might help improve the model.\n",
        "\n"
      ],
      "metadata": {
        "id": "apRFMYpK4Rv1"
      }
    },
    {
      "cell_type": "markdown",
      "source": [
        "Let's create a `Loyalty` feature that represents the percentage of each customer's life that they were customers. We can do this by dividing `Tenure` by `Age`:\n",
        "\n",
        "$$\\text{Loyalty} = \\frac{\\text{Tenure}}{\\text{Age}}$$\n",
        "  </br>\n",
        "The intuition here is that people who have been customers for a greater proportion of their lives might be less likely to churn."
      ],
      "metadata": {
        "id": "SK4-cdTG4Rxl"
      }
    },
    {
      "cell_type": "code",
      "source": [
        "# Create Loyalty variable\n",
        "churn_df['Loyalty'] = churn_df['Tenure'] / churn_df['Age']"
      ],
      "metadata": {
        "id": "hgdBpDHU4lPE"
      },
      "execution_count": null,
      "outputs": []
    },
    {
      "cell_type": "code",
      "source": [
        "churn_df.head()"
      ],
      "metadata": {
        "id": "ODlTiap64oZt"
      },
      "execution_count": null,
      "outputs": []
    },
    {
      "cell_type": "markdown",
      "source": [
        "### Feature transformation\n",
        "\n",
        "The next step is to transform our features to get them ready for modeling. Different models have different requirements for how the data should be prepared and also different assumptions about their distributions, independence, and so on. You learned about some of these already for linear and logistic regression, and you will continue learning about them as you encounter new modeling techniques.\n",
        "\n",
        "The models we will be building with this data are all classification models, and classification models generally need categorical variables to be encoded. Our dataset has one categorical feature: `Geography`. Let's check how many categories appear in the data for this feature."
      ],
      "metadata": {
        "id": "NhLVe6nj4sTe"
      }
    },
    {
      "cell_type": "code",
      "source": [
        "# Print unique values of Geography col\n",
        "churn_df['Geography'].unique()"
      ],
      "metadata": {
        "id": "Tw66AzLm4u3F"
      },
      "execution_count": null,
      "outputs": []
    },
    {
      "cell_type": "markdown",
      "source": [
        "There are three unique values: France, Spain, and Germany. Encode this data so it can be represented using Boolean features. We will use a pandas function called `pd.get_dummies()` to do this.\n",
        "\n",
        "When we call `pd.get_dummies()` on this feature, it will replace the `Geography` column with three new Boolean columns--one for each possible category contained in the column being dummied.\n",
        "\n",
        "When we specify `drop_first=True` in the function call, it means that instead of replacing `Geography` with three new columns, it will instead replace it with two columns. We can do this because no information is lost from this, but the dataset is shorter and simpler.  \n",
        "\n",
        "In this case, we end up with two new columns called `Geography_Germany` and `Geography_Spain`. We don't need a `Geography_France` column, because if a customer's values in `Geography_Germany` and `Geography_Spain` are both 0, we will know they are from France!"
      ],
      "metadata": {
        "id": "_9Q7-89R4sR3"
      }
    },
    {
      "cell_type": "code",
      "source": [
        "# Dummy encode categorical variables\n",
        "churn_df = pd.get_dummies(churn_df, drop_first=True)"
      ],
      "metadata": {
        "id": "Vffqgdr24zKO"
      },
      "execution_count": null,
      "outputs": []
    },
    {
      "cell_type": "code",
      "source": [
        "churn_df.head()"
      ],
      "metadata": {
        "id": "gRAVVGM340Vc"
      },
      "execution_count": null,
      "outputs": []
    },
    {
      "cell_type": "markdown",
      "source": [
        "We can now use our new dataset to build a model."
      ],
      "metadata": {
        "id": "Zd1oXWmY5aMZ"
      }
    },
    {
      "cell_type": "markdown",
      "source": [
        "## Conclusion\n",
        "You now understand how to use Python to perform feature engineering on a dataset to prepare it for modeling. Going forward, you can start using Python to perform feature engineering on your own data."
      ],
      "metadata": {
        "id": "Kh4pqBcF5avp"
      }
    },
    {
      "cell_type": "markdown",
      "source": [
        "# Perform feature engineering"
      ],
      "metadata": {
        "id": "S-9T84dd7FeR"
      }
    },
    {
      "cell_type": "markdown",
      "source": [
        "## **Introduction**\n",
        "\n",
        "\n",
        "As you're learning, data professionals working on modeling projects use featuring engineering to help them determine which attributes in the data can best predict certain measures.\n",
        "\n",
        "In this activity, you are working for a firm that provides insights to the National Basketball Association (NBA), a professional North American basketball league. You will help NBA managers and coaches identify which players are most likely to thrive in the high-pressure environment of professional basketball and help the team be successful over time.\n",
        "\n",
        "To do this, you will analyze a subset of data that contains information about NBA players and their performance records. You will conduct feature engineering to determine which features will most effectively predict whether a player's NBA career will last at least five years. The insights gained then will be used in the next stage of the project: building the predictive model.\n",
        "\n"
      ],
      "metadata": {
        "id": "9TxTAXD17Kmr"
      }
    },
    {
      "cell_type": "markdown",
      "source": [
        "## Step 1: Imports"
      ],
      "metadata": {
        "id": "dmEYgzWx7LyV"
      }
    },
    {
      "cell_type": "code",
      "source": [
        "import pandas as pd"
      ],
      "metadata": {
        "id": "SCZtnfYi7Z4J"
      },
      "execution_count": null,
      "outputs": []
    },
    {
      "cell_type": "code",
      "source": [
        "# Save in a variable named `data`.\n",
        "\n",
        "data = pd.read_csv(\"nba-players.csv\", index_col=0)"
      ],
      "metadata": {
        "id": "O7GsNxHh7duB"
      },
      "execution_count": null,
      "outputs": []
    },
    {
      "cell_type": "markdown",
      "source": [
        "## Step 2: Data exploration"
      ],
      "metadata": {
        "id": "RJ80RXrH7p5O"
      }
    },
    {
      "cell_type": "code",
      "source": [
        "data.head(10)"
      ],
      "metadata": {
        "id": "jRl705fY7thf"
      },
      "execution_count": null,
      "outputs": []
    },
    {
      "cell_type": "code",
      "source": [
        "data.shape"
      ],
      "metadata": {
        "id": "YmCadlpm7ytY"
      },
      "execution_count": null,
      "outputs": []
    },
    {
      "cell_type": "markdown",
      "source": [
        "**Question:** What do you observe about the number of rows and the number of columns in the data?\n",
        "- There are 1,340 rows and 21 columns in the data."
      ],
      "metadata": {
        "id": "F1mbe_AY734D"
      }
    },
    {
      "cell_type": "code",
      "source": [
        "# Display all column names.\n",
        "\n",
        "data.columns"
      ],
      "metadata": {
        "id": "9alMnLDv77aX"
      },
      "execution_count": null,
      "outputs": []
    },
    {
      "cell_type": "markdown",
      "source": [
        "The following table provides a description of the data in each column. This metadata comes from the data source, which is listed in the references section of this lab.\n",
        "\n",
        "<center>\n",
        "\n",
        "|Column Name|Column Description|\n",
        "|:---|:-------|\n",
        "|`name`|Name of NBA player|\n",
        "|`gp`|Number of games played|\n",
        "|`min`|Number of minutes played per game|\n",
        "|`pts`|Average number of points per game|\n",
        "|`fgm`|Average number of field goals made per game|\n",
        "|`fga`|Average number of field goal attempts per game|\n",
        "|`fg`|Average percent of field goals made per game|\n",
        "|`3p_made`|Average number of three-point field goals made per game|\n",
        "|`3pa`|Average number of three-point field goal attempts per game|\n",
        "|`3p`|Average percent of three-point field goals made per game|\n",
        "|`ftm`|Average number of free throws made per game|\n",
        "|`fta`|Average number of free throw attempts per game|\n",
        "|`ft`|Average percent of free throws made per game|\n",
        "|`oreb`|Average number of offensive rebounds per game|\n",
        "|`dreb`|Average number of defensive rebounds per game|\n",
        "|`reb`|Average number of rebounds per game|\n",
        "|`ast`|Average number of assists per game|\n",
        "|`stl`|Average number of steals per game|\n",
        "|`blk`|Average number of blocks per game|\n",
        "|`tov`|Average number of turnovers per game|\n",
        "|`target_5yrs`|1 if career duration >= 5 yrs, 0 otherwise|\n",
        "\n",
        "</center>"
      ],
      "metadata": {
        "id": "jDbvNkj_8BFU"
      }
    },
    {
      "cell_type": "code",
      "source": [
        "# Use .info() to display a summary of the DataFrame.\n",
        "\n",
        "data.info()"
      ],
      "metadata": {
        "id": "lLOVWF8S8Iqo"
      },
      "execution_count": null,
      "outputs": []
    },
    {
      "cell_type": "markdown",
      "source": [
        "**Question:** Based on the preceding tables, which columns are numerical and which columns are categorical?\n",
        "- Based on the preceding tables, the `name` column is categorical, and the rest of the columns are numerical."
      ],
      "metadata": {
        "id": "rxLwbdqY8Wkz"
      }
    },
    {
      "cell_type": "markdown",
      "source": [
        "### Check for missing values\n",
        "Now, review the data to determine whether it contains any missing values. Begin by displaying the number of missing values in each column. After that, use isna() to check whether each value in the data is missing. Finally, use sum() to aggregate the number of missing values per column."
      ],
      "metadata": {
        "id": "7Vuj7xFB8Wis"
      }
    },
    {
      "cell_type": "code",
      "source": [
        "# Display the number of missing values in each column.\n",
        "# Check whether each value is missing.\n",
        "#Aggregate the number of missing values per column.\n",
        "\n",
        "### YOUR CODE HERE ###\n",
        "\n",
        "data.isna().sum()"
      ],
      "metadata": {
        "id": "C1m6FeqC8pvr"
      },
      "execution_count": null,
      "outputs": []
    },
    {
      "cell_type": "markdown",
      "source": [
        "**Question:** What do you observe about the missing values in the columns?\n",
        "All columns in this dataset have 0 missing values.\n",
        "\n",
        "**Question:** Why is it important to check for missing values?\n",
        "Checking for missing values is an important step in data exploration. Missing values are not particularly useful, so it's important to handle them by cleaning the data."
      ],
      "metadata": {
        "id": "0ztVybaS8sG0"
      }
    },
    {
      "cell_type": "markdown",
      "source": [
        "## Step 3: Statistical tests\n",
        "\n",
        "Next, use a statistical technique to check the class balance in the data. To understand how balanced the dataset is in terms of class, display the percentage of values that belong to each class in the target column. In this context, class 1 indicates an NBA career duration of at least five years, while class 0 indicates an NBA career duration of less than five years."
      ],
      "metadata": {
        "id": "LXB5rXQr8vvk"
      }
    },
    {
      "cell_type": "code",
      "source": [
        "data[\"target_5yrs\"].value_counts(normalize=True)*100"
      ],
      "metadata": {
        "id": "ZJJRvJCc9DdO"
      },
      "execution_count": null,
      "outputs": []
    },
    {
      "cell_type": "markdown",
      "source": [
        "**Question:** What do you observe about the class balance in the target column?\n",
        "- About 62% of the values in the target columm belong to class 1, and about 38% of the values belong to class 0. In other words, about 62% of players represented by this data have an NBA career duration of at least five years, and about 38% do not.\n",
        "- The dataset is not perfectly balanced, but an exact 50-50 split is a rare occurance in datasets, and a 62-38 split is not too imbalanced. However, if the majority class made up 90% or more of the dataset, then that would be of concern, and it would be prudent to address that issue through techniques like upsampling and downsampling.\n",
        "\n",
        "**Question:** Why is it important to check class balance?\n",
        "\n",
        "If there is a lot more representation of one class than another, then the model may be biased toward the majority class. When this happens, the predictions may be inaccurate."
      ],
      "metadata": {
        "id": "NJwv3KvXBkrE"
      }
    },
    {
      "cell_type": "markdown",
      "source": [
        "## Step 4: Results and Evaluation\n",
        "\n",
        "Now, perform feature engineering, with the goal of identifying and creating features that will serve as useful predictors for the target variable, `target_5yrs`."
      ],
      "metadata": {
        "id": "yukeW4J_Bkot"
      }
    },
    {
      "cell_type": "markdown",
      "source": [
        "### Feature Selection"
      ],
      "metadata": {
        "id": "XjE-umsGB8Br"
      }
    },
    {
      "cell_type": "markdown",
      "source": [
        "The following table contains descriptions of the data in each column:\n",
        "\n",
        "<center>\n",
        "\n",
        "|Column Name|Column Description|\n",
        "|:---|:-------|\n",
        "|`name`|Name of NBA player|\n",
        "|`gp`|Number of games played|\n",
        "|`min`|Number of minutes played|\n",
        "|`pts`|Average number of points per game|\n",
        "|`fgm`|Average number of field goals made per game|\n",
        "|`fga`|Average number of field goal attempts per game|\n",
        "|`fg`|Average percent of field goals made per game|\n",
        "|`3p_made`|Average number of three-point field goals made per game|\n",
        "|`3pa`|Average number of three-point field goal attempts per game|\n",
        "|`3p`|Average percent of three-point field goals made per game|\n",
        "|`ftm`|Average number of free throws made per game|\n",
        "|`fta`|Average number of free throw attempts per game|\n",
        "|`ft`|Average percent of free throws made per game|\n",
        "|`oreb`|Average number of offensive rebounds per game|\n",
        "|`dreb`|Average number of defensive rebounds per game|\n",
        "|`reb`|Average number of rebounds per game|\n",
        "|`ast`|Average number of assists per game|\n",
        "|`stl`|Average number of steals per game|\n",
        "|`blk`|Average number of blocks per game|\n",
        "|`tov`|Average number of turnovers per game|\n",
        "|`target_5yrs`|1 if career duration >= 5 yrs, 0 otherwise|\n",
        "\n",
        "</center>"
      ],
      "metadata": {
        "id": "rpJLoLM6B8D7"
      }
    },
    {
      "cell_type": "markdown",
      "source": [
        "**Question:** Which columns would you select and avoid selecting as features, and why? Keep in mind the goal is to identify features that will serve as useful predictors for the target variable, `target_5yrs`.  \n",
        "\n",
        "- You should avoid selecting the `name` column as a feature. A player's name is not helpful in determining their career duration. Moreover, it may not be ethical or fair to predict a player's career duration based on a name.\n",
        "- The number of games a player has played in may not be as important in determining their career duration as the number of points they have earned. While you could say that someone who has played in more games may have more practice and experience, the points they earn during the games they played in would speak more to their performance as a player. This, in turn, would influence their career duration. So, the `gp` column on its own may not be a helpful feature. However, `gp` and `pts` could be combined to get the total number of points earned across the games played, and that result could be a helpful feature. That approach can be implemented later in the feature engineering process—in feature extraction.\n",
        "- If the number of points earned across games will be extracted as a feature, then that could be combined with the number of minutes played across games (`min * gp`) to extract another feature. This could be a measure of players' efficiency and could help in predicting players' career duration. `min` on its own may not be useful as a feature for the same reason as `gp`.\n",
        "- There are three different columns that give information about field goals. The percent of field goals a player makes (`fg`) says more about their performance than the number of field goals they make (`fgm`) or the number of field goals they attempt (`fga`). The percent gives more context, as it takes into account both how many field goals a player successfully made and how many field goals they attempted in total. This allows for a more meaningful comparison between players. The same logic applies to the percent of three-point field goals made, as well as the percent of free throws made.\n",
        "- There are columns for the number offensive rebounds (`oreb`), the number of defensive rebounds (`dreb`), and the number of rebounds overall (`reb`). Because the overall number of rebounds should already incorporate both offensive and defensive rebounds, it would make sense to use the overall as a feature.\n",
        "- The number of assists (`ast`), steals (`stl`), blocks (`blk`), and turnovers (`tov`) also provide information about how well players are performing in games, and thus, could be helpful in predicting how long players last in the league.\n",
        "\n",
        "Therefore, at this stage of the feature engineering process, it would be most effective to select the following columns:\n",
        "\n",
        "`gp`, `min`, `pts`, `fg`, `3p`, `ft`, `reb`, `ast`, `stl`, `blk`, `tov`."
      ],
      "metadata": {
        "id": "412nX8BMCBuq"
      }
    },
    {
      "cell_type": "markdown",
      "source": [
        "Next, select the columns you want to proceed with. Make sure to include the target column, `target_5yrs`. Display the first few rows to confirm they are as expected."
      ],
      "metadata": {
        "id": "-y4Ld9JVCQQo"
      }
    },
    {
      "cell_type": "code",
      "source": [
        "# Select the columns to proceed with and save the DataFrame in new variable `selected_data`.\n",
        "# Include the target column, `target_5yrs`.\n",
        "\n",
        "selected_data = data[[\"gp\", \"min\", \"pts\", \"fg\", \"3p\", \"ft\", \"reb\", \"ast\", \"stl\", \"blk\", \"tov\", \"target_5yrs\"]]\n",
        "\n",
        "\n",
        "# Display the first few rows.\n",
        "\n",
        "selected_data.head()"
      ],
      "metadata": {
        "id": "qvEWaeE_CoH9"
      },
      "execution_count": null,
      "outputs": []
    },
    {
      "cell_type": "markdown",
      "source": [
        "### Feature transformation\n",
        "\n",
        "An important aspect of feature transformation is feature encoding. If there are categorical columns that you would want to use as features, those columns should be transformed to be numerical. This technique is also known as feature encoding."
      ],
      "metadata": {
        "id": "Yt7BkX-uCseF"
      }
    },
    {
      "cell_type": "markdown",
      "source": [
        "**Question:** Why is feature transformation important to consider? Are there any transformations necessary for the features you want to use?\n",
        "- Many types of models are designed in a way that requires the data coming in to be numerical. So, transforming categorical features into numerical features is an important step.\n",
        "- In this particular dataset, `name` is the only categorical column and the other columns are numerical (discussed in the exemplar response to Question 2). Given that `name` is not selected as a feature, all of the features that are selected at this point are already numerical and do not require transformation."
      ],
      "metadata": {
        "id": "oXZ7Lp36Cx0_"
      }
    },
    {
      "cell_type": "markdown",
      "source": [
        "### Feature extraction\n"
      ],
      "metadata": {
        "id": "tLGBYuU8CyuE"
      }
    },
    {
      "cell_type": "markdown",
      "source": [
        "Display the first few rows containing containing descriptions of the data for reference. The table is as follows:\n",
        "\n",
        "<center>\n",
        "\n",
        "|Column Name|Column Description|\n",
        "|:---|:-------|\n",
        "|`name`|Name of NBA player|\n",
        "|`gp`|Number of games played|\n",
        "|`min`|Number of minutes played per game|\n",
        "|`pts`|Average number of points per game|\n",
        "|`fgm`|Average number of field goals made per game|\n",
        "|`fga`|Average number of field goal attempts per game|\n",
        "|`fg`|Average percent of field goals made per game|\n",
        "|`3p_made`|Average number of three-point field goals made per game|\n",
        "|`3pa`|Average number of three-point field goal attempts per game|\n",
        "|`3p`|Average percent of three-point field goals made per game|\n",
        "|`ftm`|Average number of free throws made per game|\n",
        "|`fta`|Average number of free throw attempts per game|\n",
        "|`ft`|Average percent of free throws made per game|\n",
        "|`oreb`|Average number of offensive rebounds per game|\n",
        "|`dreb`|Average number of defensive rebounds per game|\n",
        "|`reb`|Average number of rebounds per game|\n",
        "|`ast`|Average number of assists per game|\n",
        "|`stl`|Average number of steals per game|\n",
        "|`blk`|Average number of blocks per game|\n",
        "|`tov`|Average number of turnovers per game|\n",
        "|`target_5yrs`|1 if career duration >= 5 yrs, 0 otherwise|\n",
        "\n",
        "</center>"
      ],
      "metadata": {
        "id": "pY1qNufeDxoi"
      }
    },
    {
      "cell_type": "code",
      "source": [
        "# Display the first few rows of `selected_data` for reference.\n",
        "\n",
        "selected_data.head()"
      ],
      "metadata": {
        "id": "pCnRe2v4DzIm"
      },
      "execution_count": null,
      "outputs": []
    },
    {
      "cell_type": "markdown",
      "source": [
        "**Question:** Which columns lend themselves to feature extraction?\n",
        "\n",
        "- The `gp`, `pts`, `min` columns lend themselves to feature extraction.\n",
        "  - `gp` represents the total number of games a player has played in, and `pts` represents the average number of points the player has earned per game. It might be helpful to combine these columns to get the total number of points the player has earned across the games and use the result as a new feature, which could be added into a new column named `total_points`. The total points earned by a player can reflect their performance and shape their career longevity.\n",
        "  - The `min` column represents the average number of minutes played per game. `total_points` could be combined with `min` and `gp` to extract a new feature: points earned per minute. This can be considered a measure of player efficiency, which could shape career duration. This feature can be added into a column named `efficiency`."
      ],
      "metadata": {
        "id": "BeqPCl2XD4jl"
      }
    },
    {
      "cell_type": "markdown",
      "source": [
        "Extract two features that you think would help predict `target_5yrs`. Then, create a new variable named 'extracted_data' that contains features from 'selected_data', as well as the features being extracted."
      ],
      "metadata": {
        "id": "QSTYkAgjD4g_"
      }
    },
    {
      "cell_type": "code",
      "source": [
        "# Extract two features that would help predict target_5yrs.\n",
        "# Create a new variable named `extracted_data`.\n",
        "\n",
        "# Make a copy of `selected_data`\n",
        "extracted_data = selected_data.copy()\n",
        "\n",
        "# Add a new column named `total_points`;\n",
        "# Calculate total points earned by multiplying the number of games played by the average number of points earned per game\n",
        "extracted_data[\"total_points\"] = extracted_data[\"gp\"] * extracted_data[\"pts\"]\n",
        "\n",
        "# Add a new column named `efficiency`. Calculate efficiency by dividing the total points earned by the total number\n",
        "# of minutes played, which yields points per minute. (Note that `min` represents avg. minutes per game.)\n",
        "extracted_data[\"efficiency\"] = extracted_data[\"total_points\"] / (extracted_data[\"min\"] * extracted_data[\"gp\"])\n",
        "\n",
        "# Display the first few rows of `extracted_data` to confirm that the new columns were added.\n",
        "extracted_data.head()"
      ],
      "metadata": {
        "id": "ZnhWcWMvEBDA"
      },
      "execution_count": null,
      "outputs": []
    },
    {
      "cell_type": "markdown",
      "source": [
        "Now, to prepare for the Naive Bayes model that you will build in a later lab, clean the extracted data and ensure ensure it is concise. Naive Bayes involves an assumption that features are independent of each other given the class. In order to satisfy that criteria, if certain features are aggregated to yield new features, it may be necessary to remove those original features. Therefore, drop the columns that were used to extract new features.\n",
        "\n",
        "**Note:** There are other types of models that do not involve independence assumptions, so this would not be required in those instances. In fact, keeping the original features may be beneficial."
      ],
      "metadata": {
        "id": "f0dgb-m-FTl0"
      }
    },
    {
      "cell_type": "code",
      "source": [
        "# Remove any columns from `extracted_data` that are no longer needed.\n",
        "\n",
        "# Remove `gp`, `pts`, and `min` from `extracted_data`.\n",
        "extracted_data = extracted_data.drop(columns=[\"gp\", \"pts\", \"min\"])\n",
        "\n",
        "# Display the first few rows of `extracted_data` to ensure that column drops took place.\n",
        "\n",
        "extracted_data.head()"
      ],
      "metadata": {
        "id": "aNUyv-qVFdn6"
      },
      "execution_count": null,
      "outputs": []
    },
    {
      "cell_type": "code",
      "source": [
        "# Export the extracted data.\n",
        "\n",
        "extracted_data.to_csv(\"extracted_nba_players_data.csv\", index=0)"
      ],
      "metadata": {
        "id": "U67KcDhiFj2s"
      },
      "execution_count": null,
      "outputs": []
    },
    {
      "cell_type": "markdown",
      "source": [
        "## **Considerations**\n",
        "\n",
        "\n",
        "**What are some key takeaways that you learned during this lab?**\n",
        "- It is important to check for class balance in a dataset, particularly in the context of feature engineering and predictive modeling. If the target column in a dataset has more than 90% of its values belonging to one class, it is recommended to redistribute the data; otherwise, once a model is trained on the imbalanced data and predictions are made, the predictions may be biased.\n",
        "- Feature selection involves choosing features that help predict the target variable and removing columns that may not be helpful for prediction. In this process, and throughout feature engineering, it is important to make ethical considerations.  \n",
        "- Feature transformation involves transforming features so that they are more usable for future modeling purposes, which includes encoding categorical features to turn them into numerical features.\n",
        "- Feature extraction involves combining existing columns meaningfully to construct new features that would help improve prediction.\n",
        "\n",
        "**What summary would you provide to stakeholders? Consider key attributes to be shared from the data, as well as upcoming project plans.**\n",
        "- The following attributes about player performance could help predict their NBA career duration and should be included in a presentation to stakeholders: field goals, three-point field goals, free throws, rebounds, assists, steals, blocks, turnovers, total points, and efficiency as points per minute.\n",
        "- It would be important to explain that these attributes, along with a relevant dataset, will be used in the next stage of the project. At that point, a model will be built to predict a player's career duration. Insights gained will be shared with stakeholders once the project is complete. Stakeholders would also appreciate being provided with a timeline and key deliverables that they can expect to receive."
      ],
      "metadata": {
        "id": "U3K8VHhHFrkw"
      }
    },
    {
      "cell_type": "markdown",
      "source": [
        "# Naive Bayes\n",
        "\n",
        "Throughout the following exercises, you will learn to use Python to construct and test a Naive Bayes model with scikit-learn. Before starting on this programming exercise, we strongly recommend watching the video lecture and completing the IVQ for the associated topics."
      ],
      "metadata": {
        "id": "Vxlq_DMrFtrH"
      }
    },
    {
      "cell_type": "markdown",
      "source": [
        "All the information you need for solving this assignment is in this notebook, and all the code you will be implementing will take place within this notebook.\n",
        "\n",
        "Topics of focus include:\n",
        "\n",
        "* Relevant import statements\n",
        "* Stratification during data splitting\n",
        "* Fitting a Naive Bayes model\n",
        "* Evaluating the model on test data\n",
        "\n",
        "As we move forward, you can find instructions on how to install required libraries as they arise in this notebook."
      ],
      "metadata": {
        "id": "pFRtAx_Yb6MZ"
      }
    },
    {
      "cell_type": "markdown",
      "source": [
        "## Modeling objective\n",
        "\n",
        "The modeling objective is to build and test a Naive Bayes model that uses banking data to predict whether a customer will churn. If a customer churns, it means they left the bank and took their business elsewhere. If we can predict customers who are likely to churn, we can take measures to retain them before they do. These measures could be promotions, discounts, or other incentives to boost customer satisfaction and, therefore, retention."
      ],
      "metadata": {
        "id": "e3sh-632cDPv"
      }
    },
    {
      "cell_type": "markdown",
      "source": [
        "### Target variable\n",
        "\n",
        "Remember, our target variable is called `Exited`. This is a Boolean value that indicates whether or not a customer left the bank (0 = did not leave, 1 = did leave). For each customer, our model will predict whether they should have a 0 or a 1 in the `Exited` column."
      ],
      "metadata": {
        "id": "zEuDdI8KcLA4"
      }
    },
    {
      "cell_type": "markdown",
      "source": [
        "### IMPORTANT: Model design\n",
        "\n",
        "This is a classification task, because we are trying to predict on a binary class. Naive Bayes often works well for this kind of task. However, recall that there are several different implementations of the Naive Bayes algorithm in scikit-learn, and each assumes that all of your predictor variables are of a single type (e.g., Gaussian for continuous variables, Bernoulli for binary variables, etc.).\n",
        "\n",
        "Our data has all different types of predictor variables! As a data professional, one of the first things you'll learn on the job is that real-world data is never perfect. Sometimes the data breaks the assumptions of your model. In practice, you'll have to do the best you can with what you have.\n",
        "\n",
        "In this case, if we wanted to build the best possible Naive Bayes model, we'd treat each variable according to their different types and distributions, and then combine each conditional probability to get the final prediction for each observation. That's advanced data science, and beyond the scope of this course.\n",
        "\n",
        "For this lesson, we're going to use the `GaussianNB` classifier. This implementation assumes that all of your variables are continuous _and_ that they have a Gaussian (i.e., normal) distribution. Our data doesn't perfectly adhere to these assumptions, but a Gaussian model may still yield usable results, even with imperfect data."
      ],
      "metadata": {
        "id": "LYBE8beNcLCy"
      }
    },
    {
      "cell_type": "markdown",
      "source": [
        "## Import statements\n",
        "\n",
        "Before we begin with the exercises and analyzing the data, we need to import all libraries and extensions required for this programming exercise. Throughout the course, we will be using numpy and pandas for operations, and matplotlib for plotting.\n",
        "\n",
        "Notice that we're getting `GaussianNB` from the `sklearn.naive_bayes` module. If you wanted, you could get the other implementations of Naive Bayes from this same module. Refer to the [documentation](https://scikit-learn.org/stable/modules/classes.html#module-sklearn.naive_bayes) for details.\n",
        "\n",
        "We'll also import some evaluation metrics from `sklearn.metrics` and some functions that will help us generate and plot a confusion matrix."
      ],
      "metadata": {
        "id": "IsKtvNZccj9K"
      }
    },
    {
      "cell_type": "code",
      "source": [
        "import numpy as np\n",
        "import pandas as pd\n",
        "import matplotlib.pyplot as plt\n",
        "\n",
        "from sklearn.model_selection import train_test_split\n",
        "from sklearn.naive_bayes import GaussianNB\n",
        "\n",
        "from sklearn.metrics import recall_score, precision_score, f1_score, accuracy_score\n",
        "from sklearn.metrics import confusion_matrix, ConfusionMatrixDisplay"
      ],
      "metadata": {
        "id": "XOR30bSecll9"
      },
      "execution_count": null,
      "outputs": []
    },
    {
      "cell_type": "markdown",
      "source": [
        "## Read in the data\n",
        "\n",
        "We're going to use the prepared dataframe that we made in the previous notebook. Remember, we:\n",
        "\n",
        "* Dropped the `RowNumber`, `CustomerId`, `Surname`, and `Gender` columns\n",
        "* Dummy encoded the `Geography` column to convert categorical to Boolean\n",
        "* Engineered a new feature called `Loyalty`, by dividing each customer's tenure by their age"
      ],
      "metadata": {
        "id": "2zLRR4B8c4Rl"
      }
    },
    {
      "cell_type": "code",
      "source": [
        "churn_df = pd.read_csv('churn_df.csv')\n",
        "churn_df.head()"
      ],
      "metadata": {
        "id": "6wgXgwmYclod"
      },
      "execution_count": null,
      "outputs": []
    },
    {
      "cell_type": "markdown",
      "source": [
        "## Check the class balance\n",
        "\n",
        "Before we begin modeling, let's do a few more things. First, we'll check the class balance of the `Exited` column, our target variable."
      ],
      "metadata": {
        "id": "vonp5QETdHXE"
      }
    },
    {
      "cell_type": "code",
      "source": [
        "# Check class balance\n",
        "churn_df['Exited'].value_counts()"
      ],
      "metadata": {
        "id": "N9fGQLZQdJJy"
      },
      "execution_count": null,
      "outputs": []
    },
    {
      "cell_type": "markdown",
      "source": [
        "The class is split roughly 80/20. In other words, ~20% of the people in this dataset churned. This is an unbalanced dataset, but it's not extreme.\n",
        "\n",
        "Also, remember that the Naive Bayes formula depends on class priors _(P(c))_ to make predictions. Because of this, performing class balancing (e.g., upsampling or downsampling) would change those terms in a way that would no longer reflect the real-world distribution of the data.\n",
        "\n",
        "For these reasons, we'll proceed without altering the class balance of our target variable."
      ],
      "metadata": {
        "id": "Kuwz5K1LdLbJ"
      }
    },
    {
      "cell_type": "markdown",
      "source": [
        "## Drop dependent variables\n",
        "\n",
        "Remember that Naive Bayes models operate best when there's conditional independence between the predictor variables. When we prepared our data, we engineered a feature called `Loyalty` by dividing `Tenure` by `Age`. Because this new feature is just the quotient of two existing variables, it's no longer conditionally independent. Therefore, we'll drop `Tenure` and `Age` to help adhere to the assumptions of our model."
      ],
      "metadata": {
        "id": "SqMz9HEldLdE"
      }
    },
    {
      "cell_type": "code",
      "source": [
        "# Drop Tenure and Age variables\n",
        "churn_df = churn_df.drop(['Tenure', 'Age'], axis=1)\n",
        "churn_df.head()"
      ],
      "metadata": {
        "id": "02e00LWAdbUN"
      },
      "execution_count": null,
      "outputs": []
    },
    {
      "cell_type": "markdown",
      "source": [
        "## Split the data\n",
        "\n",
        "We've prepared our data and we're ready to model. There's one last step before we can begin. We must split the data into features and target variable, and into training data and test data. We do this using the `train_test_split()` function. We'll put 25% of the data into our test set, and use the remaining 75% to train the model.\n",
        "\n",
        "Notice below that we include the argument `stratify=y`. If our master data has a class split of 80/20, stratifying ensures that this proportion is maintained in both the training and test data. `=y` tells the function that it should use the class ratio found in the `y` variable (our target).\n",
        "\n",
        "The less data you have overall, and the greater your class imbalance, the more important it is to stratify when you split the data. If we didn’t stratify, then the function would split the data randomly, and we could get an unlucky split that doesn’t get any of the minority class in the test data, which means we wouldn’t be able to effectively evaluate our model. Worst of all, we might not even realize what went wrong without doing some detective work.\n",
        "\n",
        "Lastly, we set a random seed so we and others can reproduce our work."
      ],
      "metadata": {
        "id": "qWsiU31tdj8G"
      }
    },
    {
      "cell_type": "code",
      "source": [
        "# Define the y (target) variable\n",
        "y = churn_df['Exited']\n",
        "\n",
        "# Define the X (predictor) variables\n",
        "X = churn_df.copy()\n",
        "X = X.drop('Exited', axis=1)\n",
        "\n",
        "# Split into train and test sets\n",
        "X_train, X_test, y_train, y_test = train_test_split(X, y, test_size=0.25, \\\n",
        "                                                    stratify=y, random_state=42)"
      ],
      "metadata": {
        "id": "IVl58veKvKXj"
      },
      "execution_count": null,
      "outputs": []
    },
    {
      "cell_type": "markdown",
      "source": [
        "## Modeling"
      ],
      "metadata": {
        "id": "6dqauHVYv3UB"
      }
    },
    {
      "cell_type": "markdown",
      "source": [
        "### 1. Unscaled data\n",
        "\n",
        "We're finally ready to model! Just as with linear and logistic regression, our modeling process will begin with fitting our model to the training data, and then using the model to make predictions on the test data."
      ],
      "metadata": {
        "id": "TyDLHYtSv4tx"
      }
    },
    {
      "cell_type": "code",
      "source": [
        "# fit the model\n",
        "gnb = GaussianNB()\n",
        "gnb.fit(X_train, y_train)\n",
        "\n",
        "# Get the predictions on test data\n",
        "y_preds = gnb.predict(X_test)"
      ],
      "metadata": {
        "id": "7PKTNpSmv-SS"
      },
      "execution_count": null,
      "outputs": []
    },
    {
      "cell_type": "markdown",
      "source": [
        "Now we can check how our model performs using the evaluation metrics we imported."
      ],
      "metadata": {
        "id": "oEQDN84twT10"
      }
    },
    {
      "cell_type": "code",
      "source": [
        "print('Accuracy:', '%.3f' % accuracy_score(y_test, y_preds))\n",
        "print('Precision:', '%.3f' % precision_score(y_test, y_preds))\n",
        "print('Recall:', '%.3f' % recall_score(y_test, y_preds))\n",
        "print('F1 Score:', '%.3f' % f1_score(y_test, y_preds))"
      ],
      "metadata": {
        "id": "Ph84NjT2wV_e"
      },
      "execution_count": null,
      "outputs": []
    },
    {
      "cell_type": "markdown",
      "source": [
        "Hmm… this isn’t very good. Our precision, recall, and F1 scores are all zero. What’s going on? Well, let’s consider our precision formula:\n",
        "</br>  \n",
        "$$precision = \\frac{\\text{true positives}}{\\text{false positives + true positives}}$$\n",
        "  </br>\n",
        "\n",
        "There are two ways for the model to have a precision of zero. The first is if the numerator is zero, which would mean that our model didn’t predict any true positives.\n",
        "\n",
        "The second is if the denominator is also zero, which would mean that our model didn’t predict any positives at all. Dividing by zero results in an undefined value, but scikit-learn will return a value of zero in this case. Depending on your modeling environment, you may get a warning that tells you there’s a denominator of zero.\n",
        "\n",
        "We don’t have a warning, so let’s check which situation is occurring here. If we call `np.unique()` on the model's predictions and it doesn't return an array containing `[0, 1]`, we'll know it's not predicticting any churned customers."
      ],
      "metadata": {
        "id": "yt7X40c5wh2z"
      }
    },
    {
      "cell_type": "code",
      "source": [
        "# Check unique values in predictions\n",
        "np.unique(y_preds)"
      ],
      "metadata": {
        "id": "t2FQQp-9wlB1"
      },
      "execution_count": null,
      "outputs": []
    },
    {
      "cell_type": "markdown",
      "source": [
        "This confirms that the model predicted 0 (not churned) for every sample in the test data.\n",
        "  \n",
        "Consider why this might be. Perhaps we did something wrong in our modeling process, or maybe using `GaussianNB` on predictor variables of different types and distributions just doesn't make a good model. Maybe there were problems with the data.\n",
        "\n",
        "Before we give up, maybe the data can give us some insight into what might be happening or what further steps we can take. Let's use `describe()` to inspect the X data."
      ],
      "metadata": {
        "id": "dje23uZ1w165"
      }
    },
    {
      "cell_type": "code",
      "source": [
        "# Get descriptive stats for data\n",
        "X.describe()"
      ],
      "metadata": {
        "id": "t9a_yZKEw3H5"
      },
      "execution_count": null,
      "outputs": []
    },
    {
      "cell_type": "markdown",
      "source": [
        "Something that stands out is that the `Loyalty` variable we created is on a vastly different scale than some of the other variables we have, such as `Balance` or `EstimatedSalary`. The maximum value of `Loyalty` is 0.56, while the maximum for `Balance` is over 250,000&mdash;almost six orders of magnitude greater!"
      ],
      "metadata": {
        "id": "kqKBeCkxxQJp"
      }
    },
    {
      "cell_type": "markdown",
      "source": [
        "### 2. Scaled data\n",
        "\n",
        "One thing that you can usually try when modeling is scaling your predictor variables. Some models require you to scale the data in order for them to operate as expected, others don't. Naive Bayes does not require data scaling. However, sometimes packages and libraries need to make assumptions and approximations in their calculations. We're already breaking some of these assumptions by using the `GaussianNB` classifier on this dataset, and it may not be helping that some of our predictor variables are on very different scales. In general, scaling might not improve the model, but it probably won't make it worse. Let's try scaling our data.\n",
        "\n",
        "We'll use a function called `MinMaxScaler`, which we'll import from the `sklearn.preprocessing` module. `MinMaxScaler` normalizes each column so every value falls in the range of [0, 1]. The column's maximum value would scale to 1, and its minimum value would scale to 0. Everything else would fall somewhere between. This is the formula:\n",
        "\n",
        "$${x_{scaled}} = \\frac{x - x_{min}}{x_{max} - x_{min}}$$\n",
        "\n",
        "To use a scaler, you must fit it to the training data, and transform both the training data _and_ the test data using that same scaler.\n",
        "\n",
        "Let's apply this and retrain the model."
      ],
      "metadata": {
        "id": "jEw-rMVuxe7Q"
      }
    },
    {
      "cell_type": "code",
      "source": [
        "# Import the scaler function\n",
        "from sklearn.preprocessing import MinMaxScaler\n",
        "\n",
        "# Instantiate the scaler\n",
        "scaler = MinMaxScaler()\n",
        "\n",
        "# Fit the scaler to the training data\n",
        "scaler.fit(X_train)\n",
        "\n",
        "# Scale the training data\n",
        "X_train = scaler.transform(X_train)\n",
        "\n",
        "# Scale the test data\n",
        "X_test = scaler.transform(X_test)"
      ],
      "metadata": {
        "id": "paNqETxJxsKd"
      },
      "execution_count": null,
      "outputs": []
    },
    {
      "cell_type": "markdown",
      "source": [
        "Now we'll repeat the steps to fit our model, only this time we'll fit it to our new scaled data."
      ],
      "metadata": {
        "id": "rxGdDcK9x7gR"
      }
    },
    {
      "cell_type": "code",
      "source": [
        "# Fit the model\n",
        "gnb_scaled = GaussianNB()\n",
        "gnb_scaled.fit(X_train, y_train)\n",
        "\n",
        "# Get the predictions on test data\n",
        "scaled_preds = gnb_scaled.predict(X_test)"
      ],
      "metadata": {
        "id": "wIyhOoYcx9un"
      },
      "execution_count": null,
      "outputs": []
    },
    {
      "cell_type": "code",
      "source": [
        "print('Accuracy:', '%.3f' % accuracy_score(y_test, scaled_preds))\n",
        "print('Precision:', '%.3f' % precision_score(y_test,scaled_preds))\n",
        "print('Recall:', '%.3f' % recall_score(y_test, scaled_preds))\n",
        "print('F1 Score:', '%.3f' % f1_score(y_test, scaled_preds))"
      ],
      "metadata": {
        "id": "jacJp44Kx_4G"
      },
      "execution_count": null,
      "outputs": []
    },
    {
      "cell_type": "markdown",
      "source": [
        "It works now! The model is far from perfect, but at least it's predicting churned customers now."
      ],
      "metadata": {
        "id": "gx26kWzMyDt_"
      }
    },
    {
      "cell_type": "markdown",
      "source": [
        "## Evaluation\n",
        "\n",
        "Let's examine more closely how our model classified the test data. We'll do this with a confusion matrix. Recall that a confusion matrix is a graphic that shows your models true and false positives, and true and false negatives. We can do this using the `ConfusionMatrixDisplay` and `confusion_matrix` functions that we imported.\n",
        "\n",
        "Here's a helper function that will allow us to plot a confusion matrix for our model."
      ],
      "metadata": {
        "id": "sl4srEkGyEhT"
      }
    },
    {
      "cell_type": "code",
      "source": [
        "def conf_matrix_plot(model, x_data, y_data):\n",
        "    '''\n",
        "    Accepts as argument model object, X data (test or validate), and y data (test or validate).\n",
        "    Return a plot of confusion matrix for predictions on y data.\n",
        "    '''\n",
        "\n",
        "    model_pred = model.predict(x_data)\n",
        "    cm = confusion_matrix(y_data, model_pred, labels=model.classes_)\n",
        "    disp = ConfusionMatrixDisplay(confusion_matrix=cm,\n",
        "                                  display_labels=model.classes_,\n",
        "                                 )\n",
        "\n",
        "    disp.plot(values_format='') # `values_format=''` suppresses scientific notation\n",
        "    plt.show()"
      ],
      "metadata": {
        "id": "6muTgoGyyP1S"
      },
      "execution_count": null,
      "outputs": []
    },
    {
      "cell_type": "code",
      "source": [
        "conf_matrix_plot(gnb_scaled, X_test, y_test)"
      ],
      "metadata": {
        "id": "I2usRbZ9yZxb"
      },
      "execution_count": null,
      "outputs": []
    },
    {
      "cell_type": "markdown",
      "source": [
        "All of our model metrics can be derived from the confusion matrix, and each metric tells its own part of the story. What stands out most in the confusion matrix is that the model misses a lot of customers who will churn. In other words, there are a lot of false negatives&mdash;355, to be exact. This is why our recall score is only 0.303.\n",
        "\n",
        "Would we use this model? It depends. For one thing, we'd certainly want to develop other models to see if they perform better. Later, you'll learn how to develop other classification models. You'll also learn more about evaluating your models, which takes careful decision-making and consideration for your use case."
      ],
      "metadata": {
        "id": "_tfHxlH0ymVC"
      }
    },
    {
      "cell_type": "markdown",
      "source": [
        "# Activity : Build a Naive Bayes model"
      ],
      "metadata": {
        "id": "R6qj5JaTyoKN"
      }
    },
    {
      "cell_type": "markdown",
      "source": [
        "## Introduction\n",
        "\n",
        "In this activity, you will build your own Naive Bayes model. Naive Bayes models can be valuable to use any time you are doing work with predictions because they give you a way to account for new information. In today's world, where data is constantly evolving, modeling with Naive Bayes can help you adapt quickly and make more accurate predictions about what could occur.\n",
        "\n",
        "For this activity, you work for a firm that provides insights for management and coaches in the National Basketball Association (NBA), a professional basketball league in North America. The league is interested in retaining players who can last in the high-pressure environment of professional basketball and help the team be successful over time. In the previous activity, you analyzed a subset of data that contained information about the NBA players and their performance records. You conducted feature engineering to determine which features would most effectively predict a player's career duration. You will now use those insights to build a model that predicts whether a player will have an NBA career lasting five years or more.\n",
        "\n",
        "The data for this activity consists of performance statistics from each player's rookie year. There are 1,341 observations, and each observation in the data represents a different player in the NBA. Your target variable is a Boolean value that indicates whether a given player will last in the league for five years. Since you previously performed feature engineering on this data, it is now ready for modeling.   "
      ],
      "metadata": {
        "id": "W2JmzTnWRUTv"
      }
    },
    {
      "cell_type": "markdown",
      "source": [
        "## Step 1: Imports"
      ],
      "metadata": {
        "id": "mFfcxAbVRaMn"
      }
    },
    {
      "cell_type": "markdown",
      "source": [
        "### Import packages\n",
        "\n",
        "Begin with your import statements. Of particular note here are `pandas` and from `sklearn`, `naive_bayes`, `model_selection`, and `metrics`."
      ],
      "metadata": {
        "id": "ZtrdRH2oRdS8"
      }
    },
    {
      "cell_type": "code",
      "source": [
        "# Import relevant libraries and modules.\n",
        "\n",
        "import pandas as pd\n",
        "from sklearn import naive_bayes\n",
        "from sklearn import model_selection\n",
        "from sklearn import metrics"
      ],
      "metadata": {
        "id": "5sp3JiufReCJ"
      },
      "execution_count": null,
      "outputs": []
    },
    {
      "cell_type": "markdown",
      "source": [
        "### Load the dataset\n",
        "\n",
        "Recall that in the lab about feature engineering, you outputted features for the NBA player dataset along with the target variable ``target_5yrs``. Data was imported as a DataFrame called `extracted_data`. As shown in this cell, the dataset has been automatically loaded in for you. You do not need to download the .csv file, or provide more code, in order to access the dataset and proceed with this lab. Please continue with this activity by completing the following instructions."
      ],
      "metadata": {
        "id": "z2u9RoLsRiFO"
      }
    },
    {
      "cell_type": "code",
      "source": [
        "# RUN THIS CELL TO IMPORT YOUR DATA.\n",
        "# Load extracted_nba_players_data.csv into a DataFrame called extracted_data.\n",
        "\n",
        "extracted_data = pd.read_csv('extracted_nba_players_data.csv')"
      ],
      "metadata": {
        "id": "fnmEHCElRlHc"
      },
      "execution_count": null,
      "outputs": []
    },
    {
      "cell_type": "markdown",
      "source": [
        "### Display the data\n",
        "\n",
        "Review the first 10 rows of data."
      ],
      "metadata": {
        "id": "MIhH5GvkRqA0"
      }
    },
    {
      "cell_type": "code",
      "source": [
        "# Display the first 10 rows of data.\n",
        "\n",
        "extracted_data.head(10)"
      ],
      "metadata": {
        "id": "mbPMiYInRqel"
      },
      "execution_count": null,
      "outputs": []
    },
    {
      "cell_type": "markdown",
      "source": [
        "## Step 2: Model preparation"
      ],
      "metadata": {
        "id": "MecKrruDRtKZ"
      }
    },
    {
      "cell_type": "markdown",
      "source": [
        "### Isolate your target and predictor variables\n",
        "Separately define the target variable (`target_5yrs`) and the features."
      ],
      "metadata": {
        "id": "5xD0A-LoRvG3"
      }
    },
    {
      "cell_type": "code",
      "source": [
        "# Define the y (target) variable.\n",
        "\n",
        "### YOUR CODE HERE ###\n",
        "y = extracted_data['target_5yrs']\n",
        "\n",
        "# Define the X (predictor) variables.\n",
        "\n",
        "### YOUR CODE HERE ###\n",
        "X = extracted_data.drop('target_5yrs', axis = 1)"
      ],
      "metadata": {
        "id": "5jAZYvmhRym0"
      },
      "execution_count": null,
      "outputs": []
    },
    {
      "cell_type": "markdown",
      "source": [
        "### Display the first 10 rows of your target data\n",
        "\n",
        "Display the first 10 rows of your target and predictor variables. This will help you get a sense of how the data is structured."
      ],
      "metadata": {
        "id": "uwzSZ0JZR1GW"
      }
    },
    {
      "cell_type": "code",
      "source": [
        "# Display the first 10 rows of your target data.\n",
        "\n",
        "y.head(10)"
      ],
      "metadata": {
        "id": "0QZgRrmHR3FU"
      },
      "execution_count": null,
      "outputs": []
    },
    {
      "cell_type": "markdown",
      "source": [
        "**Question:** What do you observe about the your target variable?\n",
        "\n",
        "Given that the target variable contains both 1 and 0 indicates that it is binary and requires a model suitable for binary classification."
      ],
      "metadata": {
        "id": "kTvoV8tgR538"
      }
    },
    {
      "cell_type": "code",
      "source": [
        "# Display the first 10 rows of your predictor variables.\n",
        "\n",
        "X.head(10)"
      ],
      "metadata": {
        "id": "s7ezmP67R7KM"
      },
      "execution_count": null,
      "outputs": []
    },
    {
      "cell_type": "markdown",
      "source": [
        "**Question:** What do you observe about the your predictor variables?\n",
        "\n",
        "The data indicates that all of the predictor variables are continuous numerical values, so it is important that the model selected is suitable for continuous features."
      ],
      "metadata": {
        "id": "pOH-wJ8PSBt9"
      }
    },
    {
      "cell_type": "markdown",
      "source": [
        "### Perform a split operation on your data\n",
        "\n",
        "Divide your data into a training set (75% of data) and test set (25% of data). This is an important step in the process, as it allows you to reserve a part of the data that the model has not observed. This tests how well the model generalizes—or performs—on new data."
      ],
      "metadata": {
        "id": "1AKuB5y5SEvi"
      }
    },
    {
      "cell_type": "code",
      "source": [
        "# Perform the split operation on your data.\n",
        "# Assign the outputs as follows: X_train, X_test, y_train, y_test.\n",
        "\n",
        "X_train, X_test, y_train, y_test = model_selection.train_test_split(X, y, test_size=0.25, random_state=0)"
      ],
      "metadata": {
        "id": "WLLPZrf_SDWE"
      },
      "execution_count": null,
      "outputs": []
    },
    {
      "cell_type": "markdown",
      "source": [
        "### Print the shape of each output\n",
        "\n",
        "Print the shape of each output from your train-test split. This will verify that the split operated as expected."
      ],
      "metadata": {
        "id": "lhwIZNIUSI0a"
      }
    },
    {
      "cell_type": "code",
      "source": [
        "# Print the shape (rows, columns) of the output from the train-test split.\n",
        "\n",
        "# Print the shape of X_train.\n",
        "\n",
        "print(X_train.shape)\n",
        "\n",
        "# Print the shape of X_test.\n",
        "\n",
        "print(X_test.shape)\n",
        "\n",
        "# Print the shape of y_train.\n",
        "\n",
        "print(y_train.shape)\n",
        "\n",
        "# Print the shape of y_test.\n",
        "\n",
        "print(y_test.shape)"
      ],
      "metadata": {
        "id": "PVgQUqNCSKNY"
      },
      "execution_count": null,
      "outputs": []
    },
    {
      "cell_type": "markdown",
      "source": [
        "**Question:** How many rows are in each of the outputs?\n",
        "\n",
        "Each training DataFrame contains 1,005 rows, while each test DataFrame contains 335 rows. Additionally, there are 10 columns in each X DataFrame, with only one column in each y DataFrame.\n",
        "\n",
        "**Question:** What was the effect of the train-test split?\n",
        "\n",
        "The effect of the train-test split showed an approximately 75% training and 25% test split."
      ],
      "metadata": {
        "id": "2ODnNex_SOkW"
      }
    },
    {
      "cell_type": "markdown",
      "source": [
        "## Step 3: Model building"
      ],
      "metadata": {
        "id": "3gpI9HSISR-0"
      }
    },
    {
      "cell_type": "markdown",
      "source": [
        "**Question:** Which Naive Bayes algorithm should you use?\n",
        "\n",
        "Using the assumption that your features are normally distributed and continuous, the Gaussian Naive Bayes algorithm is most appropriate for your data. While your data may not perfectly adhere to these assumptions, this model will still yield the most usable and accurate results."
      ],
      "metadata": {
        "id": "fXNMBVtuSTgh"
      }
    },
    {
      "cell_type": "markdown",
      "source": [
        "### Fit your model to your training data and predict on your test data\n",
        "\n",
        "By creating your model, you will be drawing on your feature engineering work by training the classifier on the `X_train` DataFrame. You will use this to predict `target_5yrs` from `y_train`.\n",
        "\n",
        "Start by defining `nb` to be the relevant algorithm from `sklearn`.`naive_bayes`. Then fit your model to your training data. Use this fitted model to create predictions for your test data."
      ],
      "metadata": {
        "id": "pgvCwgQxSVNz"
      }
    },
    {
      "cell_type": "code",
      "source": [
        "# Assign `nb` to be the appropriate implementation of Naive Bayes.\n",
        "\n",
        "nb = naive_bayes.GaussianNB()\n",
        "\n",
        "# Fit the model on your training data.\n",
        "\n",
        "nb.fit(X_train, y_train)\n",
        "\n",
        "# Apply your model to predict on your test data. Call this \"y_pred\".\n",
        "\n",
        "y_pred = nb.predict(X_test)"
      ],
      "metadata": {
        "id": "1aff7dl_SWEr"
      },
      "execution_count": null,
      "outputs": []
    },
    {
      "cell_type": "markdown",
      "source": [
        "## Step 4: Results and evaluation"
      ],
      "metadata": {
        "id": "ssnL4o-WSeRX"
      }
    },
    {
      "cell_type": "markdown",
      "source": [
        "### Leverage metrics to evaluate your model's performance\n",
        "\n",
        "To evaluate the data yielded from your model, you can leverage a series of metrics and evaluation techniques from scikit-learn by examining the actual observed values in the test set relative to your model's prediction. Specifically, print the accuracy score, precision score, recall score, and f1 score associated with your test data and predicted values."
      ],
      "metadata": {
        "id": "6OuIOvwySgji"
      }
    },
    {
      "cell_type": "code",
      "source": [
        "# Print your accuracy score.\n",
        "\n",
        "print('accuracy score:'), print(metrics.accuracy_score(y_test, y_pred))\n",
        "\n",
        "# Print your precision score.\n",
        "\n",
        "print('precision score:'), print(metrics.precision_score(y_test, y_pred))\n",
        "\n",
        "# Print your recall score.\n",
        "\n",
        "print('recall score:'), print(metrics.recall_score(y_test, y_pred))\n",
        "\n",
        "# Print your f1 score.\n",
        "\n",
        "print('f1 score:'), print(metrics.f1_score(y_test, y_pred))"
      ],
      "metadata": {
        "id": "8bLu8PdFSiBt"
      },
      "execution_count": null,
      "outputs": []
    },
    {
      "cell_type": "markdown",
      "source": [
        "**Question:** What is the accuracy score for your model, and what does this tell you about the success of the model's performance?\n",
        "\n",
        "The accuracy score for this model is 0.6896, or 69.0% accurate.\n",
        "\n",
        "**Question:** Can you evaluate the success of your model by using the accuracy score exclusively?\n",
        "\n",
        "In classification problems, accuracy is useful to know but may not be the best metric by which to evaluate this model. While accuracy is often the most intuitive metric, it is a poor evaluation metric in some cases. In particular, if you have imbalanced classes, a model could appear accurate but be poor at balancing false positives and false negatives.\n",
        "\n",
        "**Question:** What are the precision and recall scores for your model, and what do they mean? Is one of these scores more accurate than the other?\n",
        "\n",
        "Precision and recall scores are both useful to evaluate the correct predictive capability of a model because they balance the false positives and false negatives inherent in prediction.\n",
        "\n",
        "The model shows a precision score of 0.8406, suggesting the model is quite good at predicting true positives—meaning the player will play longer than five years—while balancing false positives. The recall score of 0.5859 shows worse performance in predicting true negatives—where the player will not play for five years or more—while balancing false negatives.These two metrics combined can give a better assessment of model performance than accuracy does alone.\n",
        "\n",
        "**Question:** What is the F1 score of your model, and what does this score mean?\n",
        "\n",
        "The F1 score balances the precision and recall performance to give a combined assessment of how well this model delivers predictions. In this case, the F1 score is 0.6905, which suggests reasonable predictive power in this model."
      ],
      "metadata": {
        "id": "j09OdkqwSl3O"
      }
    },
    {
      "cell_type": "markdown",
      "source": [
        "### Gain clarity with the confusion matrix\n",
        "\n",
        "Recall that a confusion matrix is a graphic that shows your model's true and false positives and negatives. It helps to create a visual representation of the components feeding into the metrics.\n",
        "\n",
        "Create a confusion matrix based on your predicted values for the test set."
      ],
      "metadata": {
        "id": "QF_tEFhkSt9o"
      }
    },
    {
      "cell_type": "code",
      "source": [
        "# Construct and display your confusion matrix.\n",
        "\n",
        "# Construct the confusion matrix for your predicted and test values.\n",
        "\n",
        "cm = metrics.confusion_matrix(y_test, y_pred)\n",
        "\n",
        "# Create the display for your confusion matrix.\n",
        "\n",
        "disp = metrics.ConfusionMatrixDisplay(confusion_matrix=cm, display_labels=nb.classes_)\n",
        "\n",
        "# Plot the visual in-line.\n",
        "\n",
        "disp.plot()"
      ],
      "metadata": {
        "id": "9ofQf_UmSvh9"
      },
      "execution_count": null,
      "outputs": []
    },
    {
      "cell_type": "markdown",
      "source": [
        "**Question:** What do you notice when observing your confusion matrix, and does this correlate to any of your other calculations?\n",
        "\n",
        "- The top left to bottom right diagonal in the confusion matrix represents the correct predictions, and the ratio of these squares showcases the accuracy.\n",
        "\n",
        "- The concentration of true positives stands out relative to false positives. This ratio is why the precision score is so high (0.8406).\n",
        "\n",
        "- True negatives and false negatives are closer in number, which explains the worse recall score."
      ],
      "metadata": {
        "id": "p0CLvLzRSzFv"
      }
    },
    {
      "cell_type": "markdown",
      "source": [
        "## Considerations\n",
        "\n",
        "**What are some key takeaways that you learned from this lab?**\n",
        "- The evaluation of the model is important to inform if the model has delivered accurate predictions.\n",
        "- Splitting the data was important for ensuring that there was new data for the model to test its predictive performance.\n",
        "- Each metric provided an evaluation from a different standpoint, and accuracy alone was not a strong way to evaluate the model.\n",
        "- Effective assessments balance the true/false positives versus true/false negatives through the confusion matrix and F1 score.\n",
        "\n",
        "**How would you present your results to your team?**\n",
        "- Showcase the data used to create the prediction and the performance of the model overall.\n",
        "- Review the sample output of the features and the confusion matrix to indicate the model's performance.\n",
        "- Highlight the metric values, emphasizing the F1 score.\n",
        "\n",
        "**How would you summarize your findings to stakeholders?**\n",
        "- The model created provides some value in predicting an NBA player's chances of playing for five years or more.\n",
        "- Notably, the model performed better at predicting true positives than it did at predicting true negatives. In other words, it more accurately identified those players who will likely play for more than five years than it did those who likely will not."
      ],
      "metadata": {
        "id": "lpFtzgdSS0_K"
      }
    },
    {
      "cell_type": "markdown",
      "source": [
        "# Using K-means for color compression"
      ],
      "metadata": {
        "id": "57X6ShvmZxbS"
      }
    },
    {
      "cell_type": "markdown",
      "source": [
        "Note that this notebook is intended as a demonstrative example of how the K-means algorithm works. Its focus is on the theory and results of its application, not on the code itself (which you will learn later). As such, it differs from other notebooks that accompany video lessons.\n",
        "\n",
        "Specifically, some of the steps in the code exceed the scope of what is taught in the lessons. **Pay attention to the cells' output, and not so much to the code that generates it.**\n",
        "\n",
        "This lab will:\n",
        "\n",
        "  * Give you a worked example of K-means on non-synthetic data\n",
        "  * Reinforce your understanding of K-means' underlying theory by demonstrating its affect when applied to a photograph\n",
        "\n",
        "Before starting on this programming exercise, we strongly recommend watching the video lecture and completing the IVQ for the associated topics.\n",
        "\n",
        "As we move forward, you can find instructions on how to install required libraries as they arise in this notebook."
      ],
      "metadata": {
        "id": "TkRSWVzaS1gN"
      }
    },
    {
      "cell_type": "markdown",
      "source": [
        "## Modeling objective\n",
        "\n",
        "We will use K-means to cluster the pixels of a photograph of some tulips based on their encoded color values. We will explore how different values of _k_ affect the clustering of the pixels, and thus the appearance of the photograph. We will also examine what is happening \"under the hood\" as the algorithm executes.\n",
        "\n",
        "**NOTE: This notebook contains interactive plots that must be generated each time the notebook is opened. To ensure that the plots display, navigate to \"Kernel\" in the menu at the top of the notebook and click \"Restart & Run All\" from the dropdown menu.**"
      ],
      "metadata": {
        "id": "jVJGSweAaFKe"
      }
    },
    {
      "cell_type": "markdown",
      "source": [
        "## Import statements\n",
        "\n",
        "We will be using numpy and pandas for operations, and Plotly for 3-D visualization. Of particular note is `Kmeans`, which is scikit-learn's implementation of the K-means algorithm."
      ],
      "metadata": {
        "id": "yS7MpoqxaP0k"
      }
    },
    {
      "cell_type": "code",
      "source": [
        "import numpy as np\n",
        "import pandas as pd\n",
        "\n",
        "%pylab inline\n",
        "import plotly.graph_objects as go\n",
        "\n",
        "from sklearn.cluster import KMeans"
      ],
      "metadata": {
        "id": "AH46q6gPaYb2"
      },
      "execution_count": null,
      "outputs": []
    },
    {
      "cell_type": "markdown",
      "source": [
        "## Read in data\n",
        "\n",
        "The \"data\" in this case is not a pandas dataframe. It's a photograph, which we'll convert into a numerical array."
      ],
      "metadata": {
        "id": "rcfcjzF4aiuO"
      }
    },
    {
      "cell_type": "code",
      "source": [
        "# Read in a photo\n",
        "img = plt.imread('using_kmeans_for_color_compression_tulips_photo.jpg')"
      ],
      "metadata": {
        "id": "QXbxIo-yckTZ"
      },
      "execution_count": null,
      "outputs": []
    },
    {
      "cell_type": "code",
      "source": [
        "# Display the photo and its shape\n",
        "print(img.shape)\n",
        "plt.imshow(img)\n",
        "plt.axis('off');"
      ],
      "metadata": {
        "id": "cItHV9_ockmJ"
      },
      "execution_count": null,
      "outputs": []
    },
    {
      "cell_type": "markdown",
      "source": [
        "Here we have a photograph of some tulips. The shape of the image is 320 x 240 x 3. This can be interpreted as pixel information. Each dot on your screen is a pixel. This photograph has 320 vertical pixels and 240 horizontal pixels.\n",
        "\n",
        "But what is the third dimension of \"3\"? This dimension refers to the values that encode the color of each pixel. Each pixel has 3 parameters: red (R), green (G), and blue (B), also known as its RGB values. For each color—R, G, and B—the encoded value can range from 0-255. This means that there are 256³, or 16,777,216 different combinations of RGB, each resulting in a unique color on your screen.\n",
        "\n",
        "To prepare this data for modeling, we'll reshape it into an array, where each row represents a single pixel's RGB color values."
      ],
      "metadata": {
        "id": "VWlTbRv7coGR"
      }
    },
    {
      "cell_type": "code",
      "source": [
        "# Reshape the image so that each row represents a single pixel\n",
        "# defined by three values: R, G, B\n",
        "img_flat = img.reshape(img.shape[0]*img.shape[1], 3)\n",
        "img_flat[:5, :]"
      ],
      "metadata": {
        "id": "oKxK0ulPcr3U"
      },
      "execution_count": null,
      "outputs": []
    },
    {
      "cell_type": "code",
      "source": [
        "img_flat.shape"
      ],
      "metadata": {
        "id": "26-Dbs6fcyJC"
      },
      "execution_count": null,
      "outputs": []
    },
    {
      "cell_type": "markdown",
      "source": [
        "## Plot the data in 3-D space\n",
        "\n",
        "Now we have an array that is 76,800 x 3. Each row is a single pixel's color values. Because we have only 3 columns, we can visualize this data in 3-dimensional space. Let's create a pandas dataframe to help us understand and visualize our data."
      ],
      "metadata": {
        "id": "uoFvvFxoczOY"
      }
    },
    {
      "cell_type": "code",
      "source": [
        "# Create a pandas df with r, g, and b as columns\n",
        "img_flat_df = pd.DataFrame(img_flat, columns = ['r', 'g', 'b'])\n",
        "img_flat_df.head()"
      ],
      "metadata": {
        "id": "C_aXfi7ec2aJ"
      },
      "execution_count": null,
      "outputs": []
    },
    {
      "cell_type": "markdown",
      "source": [
        "**Note:** The following cell's output is viewable in two ways: You can re-run this cell, or manually convert the notebook to \"Trusted.\""
      ],
      "metadata": {
        "id": "mwFu7UP_c5Hx"
      }
    },
    {
      "cell_type": "code",
      "source": [
        "# Create 3D plot where each pixel in the `img` is displayed in its actual color\n",
        "trace = go.Scatter3d(x = img_flat_df.r,\n",
        "                     y = img_flat_df.g,\n",
        "                     z = img_flat_df.b,\n",
        "                     mode='markers',\n",
        "                     marker=dict(size=1,\n",
        "                                 color=['rgb({},{},{})'.format(r,g,b) for r,g,b\n",
        "                                        in zip(img_flat_df.r.values,\n",
        "                                               img_flat_df.g.values,\n",
        "                                               img_flat_df.b.values)],\n",
        "                                 opacity=0.5))\n",
        "\n",
        "data = [trace]\n",
        "\n",
        "layout = go.Layout(margin=dict(l=0,\n",
        "                               r=0,\n",
        "                               b=0,\n",
        "                               t=0),\n",
        "                               )\n",
        "\n",
        "fig = go.Figure(data=data, layout=layout)\n",
        "fig.update_layout(scene = dict(\n",
        "                    xaxis_title='R',\n",
        "                    yaxis_title='G',\n",
        "                    zaxis_title='B'),\n",
        "                  )\n",
        "fig.show()"
      ],
      "metadata": {
        "id": "sYMEe9YBc7e0"
      },
      "execution_count": null,
      "outputs": []
    },
    {
      "cell_type": "markdown",
      "source": [
        "In this graph, each dot represents a color/pixel that is in our original image of tulips. The more intense the color, the more dots are concentrated in that area. The most-represented colors in the graph are the most abundant colors in the photograph: mostly reds, greens, and yellows. You can click and spin this graph to examine it from different angles. You can also zoom in and out.\n",
        "\n",
        "We can train a K-means model on this data. The algorithm will create _k_ clusters by minimizing the squared distances from each point to its nearest centroid.\n",
        "\n",
        "Let's first do an experiment. What would you expect to happen if we built a K-means model with just a single centroid (_k_ = 1) and replaced each pixel in the photograph with the RGB value of that centroid? What would the photograph look like?\n",
        "\n",
        "Let's try it."
      ],
      "metadata": {
        "id": "0gbqFbf3dBao"
      }
    },
    {
      "cell_type": "markdown",
      "source": [
        "## Cluster the data: _k_ = 1"
      ],
      "metadata": {
        "id": "ohEocx_udG-a"
      }
    },
    {
      "cell_type": "code",
      "source": [
        "# Instantiate the model\n",
        "kmeans = KMeans(n_clusters=1, random_state=42).fit(img_flat)"
      ],
      "metadata": {
        "id": "bM5sssf6c9vb"
      },
      "execution_count": null,
      "outputs": []
    },
    {
      "cell_type": "code",
      "source": [
        "# Copy `img_flat` so we can modify it\n",
        "img_flat1 = img_flat.copy()\n",
        "\n",
        "# Replace each row in the original image with its closest cluster center\n",
        "for i in np.unique(kmeans.labels_):\n",
        "    img_flat1[kmeans.labels_==i,:] = kmeans.cluster_centers_[i]\n",
        "\n",
        "# Reshape the data back to (640, 480, 3)\n",
        "img1 = img_flat1.reshape(img.shape)\n",
        "\n",
        "plt.imshow(img1)\n",
        "plt.axis('off');"
      ],
      "metadata": {
        "id": "L5Vwynm2dIx1"
      },
      "execution_count": null,
      "outputs": []
    },
    {
      "cell_type": "markdown",
      "source": [
        "So what happened? Well, let's run through the K-means steps:\n",
        "\n",
        "1. We randomly placed our centroid in the colorspace.\n",
        "2. We assigned each point to its nearest centroid. Since there was only one centroid, all points were assigned to the same centroid, and thus to the same cluster.\n",
        "3. We updated the centroid's location to the mean location of all of its points. Again, since there is only a single centroid, it updated to the mean location of every point in the image.\n",
        "4. Repeat until the model converges. In this case, it only took one iteration for the model to converge.\n",
        "\n",
        "We then updated each pixel's RGB values to be the same as the centroid's. The result is the image of our tulips when every pixel is replaced with the average color. The average color of this photo was brown⁠—all the colors muddled together.\n",
        "\n",
        "We can verify this for ourselves by manually calculating the average for each column in the flattened array. This will give us the average R value, G value, and B value."
      ],
      "metadata": {
        "id": "_jpmQR-VdL83"
      }
    },
    {
      "cell_type": "code",
      "source": [
        "# Calculate mean of each column in the flattened array\n",
        "column_means = img_flat.mean(axis=0)\n",
        "\n",
        "print('column means: ', column_means)"
      ],
      "metadata": {
        "id": "d5g8hVTedQih"
      },
      "execution_count": null,
      "outputs": []
    },
    {
      "cell_type": "markdown",
      "source": [
        "Now, we can compare this to what the K-means model calculated as the final location of its one centroid."
      ],
      "metadata": {
        "id": "floQCLozdaN9"
      }
    },
    {
      "cell_type": "code",
      "source": [
        "print('cluster centers: ', kmeans.cluster_centers_)"
      ],
      "metadata": {
        "id": "_X0nn6w8dba2"
      },
      "execution_count": null,
      "outputs": []
    },
    {
      "cell_type": "markdown",
      "source": [
        "They're the same! Now, let's return to the 3-D rendering of our data, only this time we'll add the centroid.\n",
        "\n",
        "**Note:** The following cell's output is viewable in two ways: You can re-run this cell, or manually convert the notebook to \"Trusted.\""
      ],
      "metadata": {
        "id": "OvI9r8dSdcdm"
      }
    },
    {
      "cell_type": "code",
      "source": [
        "# Create 3-D plot where each pixel in the `img` is displayed in its actual color\n",
        "trace = go.Scatter3d(x = img_flat_df.r,\n",
        "                     y = img_flat_df.g,\n",
        "                     z = img_flat_df.b,\n",
        "                     mode='markers',\n",
        "                     marker=dict(size=1,\n",
        "                                 color=['rgb({},{},{})'.format(r,g,b) for\n",
        "                                        r,g,b in zip(img_flat_df.r.values,\n",
        "                                                     img_flat_df.g.values,\n",
        "                                                     img_flat_df.b.values)],\n",
        "                                 opacity=0.5))\n",
        "\n",
        "data = [trace]\n",
        "\n",
        "layout = go.Layout(margin=dict(l=0,\n",
        "                               r=0,\n",
        "                               b=0,\n",
        "                               t=0))\n",
        "\n",
        "fig = go.Figure(data=data, layout=layout)\n",
        "\n",
        "\n",
        "# Add centroid to chart\n",
        "centroid = kmeans.cluster_centers_[0].tolist()\n",
        "\n",
        "fig.add_trace(\n",
        "    go.Scatter3d(x = [centroid[0]],\n",
        "                 y = [centroid[1]],\n",
        "                 z = [centroid[2]],\n",
        "                 mode='markers',\n",
        "                 marker=dict(size=7,\n",
        "                             color=['rgb(125.79706706,78.8178776,42.58090169)'],\n",
        "                             opacity=1))\n",
        ")\n",
        "fig.update_layout(scene = dict(\n",
        "                    xaxis_title='R',\n",
        "                    yaxis_title='G',\n",
        "                    zaxis_title='B'),\n",
        "                  )\n",
        "fig.show()"
      ],
      "metadata": {
        "id": "tY8br6g1djsR"
      },
      "execution_count": null,
      "outputs": []
    },
    {
      "cell_type": "markdown",
      "source": [
        "We can see the centroid as a large circle in the middle of the colorspace. (If you can't, just click on the image and spin/zoom it.) Notice that this is the \"center of gravity\" of all the points in the graph.\n",
        "\n",
        "Now let's try something else. Let's refit a K-means model to the data, this time using _k_ = 3. Take a moment to consider what you might expect to result from this. Go through the steps of what the model is doing like we did above. What colors are you likely to see?"
      ],
      "metadata": {
        "id": "Wx7tO53BdpDP"
      }
    },
    {
      "cell_type": "markdown",
      "source": [
        "## Cluster the data: _k_ = 3"
      ],
      "metadata": {
        "id": "M9A9VV11dsv1"
      }
    },
    {
      "cell_type": "code",
      "source": [
        "# Instantiate k-means model for 3 clusters\n",
        "kmeans3 = KMeans(n_clusters=3, random_state=42).fit(img_flat)\n",
        "\n",
        "# Check the unique values of what's returned by the .labels_ attribute\n",
        "np.unique(kmeans3.labels_)"
      ],
      "metadata": {
        "id": "2Y6b4TMsdpvH"
      },
      "execution_count": null,
      "outputs": []
    },
    {
      "cell_type": "markdown",
      "source": [
        "The `.cluster_centers_` attribute returns an array where each element represents the coordinates of a centroid (i.e., their RGB values). We'll use these coordinates as we did previously to generate the colors that are represented by our centroids."
      ],
      "metadata": {
        "id": "GyEQ6rtjdzJT"
      }
    },
    {
      "cell_type": "code",
      "source": [
        "# Assign centroid coordinates to `centers` variable\n",
        "centers = kmeans3.cluster_centers_\n",
        "centers"
      ],
      "metadata": {
        "id": "-XYHxW86d1AZ"
      },
      "execution_count": null,
      "outputs": []
    },
    {
      "cell_type": "markdown",
      "source": [
        "Now we'll create a helper function to easily display RGB values as color swatches, and use it to check the colors of the model's centroids."
      ],
      "metadata": {
        "id": "5BSFz-a9d2hc"
      }
    },
    {
      "cell_type": "code",
      "source": [
        "# Helper function that creates color swatches\n",
        "def show_swatch(RGB_value):\n",
        "    '''\n",
        "    Takes in an RGB value and outputs a color swatch\n",
        "    '''\n",
        "    R, G, B = RGB_value\n",
        "    rgb = [[np.array([R,G,B]).astype('uint8')]]\n",
        "    plt.figure()\n",
        "    plt.imshow(rgb)\n",
        "    plt.axis('off');"
      ],
      "metadata": {
        "id": "nA_AkaWUd4gc"
      },
      "execution_count": null,
      "outputs": []
    },
    {
      "cell_type": "code",
      "source": [
        "# Display the color swatches\n",
        "for pixel in centers:\n",
        "    show_swatch(pixel)"
      ],
      "metadata": {
        "id": "LGlwuIVtd8Dr"
      },
      "execution_count": null,
      "outputs": []
    },
    {
      "cell_type": "markdown",
      "source": [
        "Hopefully, you hypothesized that we'd see similar colors as a result of a 3-cluster model. If you examine the original image of the tulips, it's apparent that there are generally three dominant colors: reds, greens, and golds/yellows, which is very close to what the model returned.\n",
        "\n",
        "Just as before, let's now replace each pixel in the original image with the RGB value of the centroid to which it was assigned."
      ],
      "metadata": {
        "id": "ZL_2kZPFd-NH"
      }
    },
    {
      "cell_type": "code",
      "source": [
        "# Helper function to display our photograph when clustered into k clusters\n",
        "def cluster_image(k, img=img):\n",
        "    '''\n",
        "    Fits a K-means model to a photograph.\n",
        "    Replaces photo's pixels with RGB values of model's centroids.\n",
        "    Displays the updated image.\n",
        "\n",
        "    Args:\n",
        "      k:    (int)          - Your selected K-value\n",
        "      img:  (numpy array)  - Your original image converted to a numpy array\n",
        "\n",
        "    Returns:\n",
        "      The output of plt.imshow(new_img), where new_img is a new numpy array \\\n",
        "      where each row of the original array has been replaced with the \\\n",
        "      coordinates of its nearest centroid.\n",
        "    '''\n",
        "\n",
        "    img_flat = img.reshape(img.shape[0]*img.shape[1], 3)\n",
        "    kmeans = KMeans(n_clusters = k, random_state = 42).fit(img_flat)\n",
        "    new_img = img_flat.copy()\n",
        "\n",
        "    for i in np.unique(kmeans.labels_):\n",
        "        new_img[kmeans.labels_ == i, :] = kmeans.cluster_centers_[i]\n",
        "\n",
        "    new_img = new_img.reshape(img.shape)\n",
        "\n",
        "    return plt.imshow(new_img), plt.axis('off');\n"
      ],
      "metadata": {
        "id": "3XVQe52_eBl2"
      },
      "execution_count": null,
      "outputs": []
    },
    {
      "cell_type": "code",
      "source": [
        "# Generate image when k=3\n",
        "cluster_image(3);"
      ],
      "metadata": {
        "id": "deba5Hu3eDbG"
      },
      "execution_count": null,
      "outputs": []
    },
    {
      "cell_type": "markdown",
      "source": [
        "We now have a photo with just three colors. Each pixel's RGB values correspond to the values of its nearest centroid.\n",
        "\n",
        "We can return once more to our 3-D colorspace. This time, we'll re-color each dot in the colorspace to correspond with the color of its centroid. This will allow us to see how the K-means algorithm clustered our data spatially.\n",
        "\n",
        "Again, don't concern yourself so much with the code. Feel free to skip down to the graph."
      ],
      "metadata": {
        "id": "33G0YSUWeHHV"
      }
    },
    {
      "cell_type": "code",
      "source": [
        "# Just to get an understanding of what the data structures look like\n",
        "\n",
        "print(kmeans3.labels_.shape)\n",
        "print(kmeans3.labels_)\n",
        "print(np.unique(kmeans3.labels_))\n",
        "print(kmeans3.cluster_centers_)"
      ],
      "metadata": {
        "id": "7wsxBe_1eJXw"
      },
      "execution_count": null,
      "outputs": []
    },
    {
      "cell_type": "code",
      "source": [
        "# Create a new column in the df that indicates the cluster number of each row\n",
        "# (as assigned by Kmeans for k=3)\n",
        "img_flat_df['cluster'] = kmeans3.labels_\n",
        "img_flat_df.head()"
      ],
      "metadata": {
        "id": "jVRIJBXoeKKR"
      },
      "execution_count": null,
      "outputs": []
    },
    {
      "cell_type": "code",
      "source": [
        "# Create helper dictionary to map RGB color values to each observation in df\n",
        "series_conversion = {0: 'rgb' +str(tuple(kmeans3.cluster_centers_[0])),\n",
        "                     1: 'rgb' +str(tuple(kmeans3.cluster_centers_[1])),\n",
        "                     2: 'rgb' +str(tuple(kmeans3.cluster_centers_[2])),\n",
        "                     }\n",
        "series_conversion"
      ],
      "metadata": {
        "id": "mTqkXs2QeMyK"
      },
      "execution_count": null,
      "outputs": []
    },
    {
      "cell_type": "code",
      "source": [
        "# Replace the cluster numbers in the 'cluster' col with formatted RGB values\n",
        "# (made ready for plotting)\n",
        "img_flat_df['cluster'] = img_flat_df['cluster'].map(series_conversion)\n",
        "img_flat_df.head()"
      ],
      "metadata": {
        "id": "q2aDsFYReNii"
      },
      "execution_count": null,
      "outputs": []
    },
    {
      "cell_type": "code",
      "source": [
        "# Replot the data, now showing which cluster (i.e., color) it was assigned to by K-means when k=3\n",
        "\n",
        "trace = go.Scatter3d(x = img_flat_df.r,\n",
        "                     y = img_flat_df.g,\n",
        "                     z = img_flat_df.b,\n",
        "                     mode='markers',\n",
        "                     marker=dict(size=1,\n",
        "                                 color=img_flat_df.cluster,\n",
        "                                 opacity=1))\n",
        "\n",
        "data = trace\n",
        "\n",
        "layout = go.Layout(margin=dict(l=0,\n",
        "                               r=0,\n",
        "                               b=0,\n",
        "                               t=0))\n",
        "\n",
        "fig = go.Figure(data=data, layout=layout)\n",
        "fig.show()"
      ],
      "metadata": {
        "id": "JRSEVxU5eUpF"
      },
      "execution_count": null,
      "outputs": []
    },
    {
      "cell_type": "markdown",
      "source": [
        "You may be thinking to yourself that you would have clustered the data differently based on the distribution of points that you saw in the first 3-D plot. For example, why is there a sharp line that separates red and green, when there doesn't appear to be any empty space there in the data?\n",
        "\n",
        "You're not incorrect. Even though there's no such thing as \"wrong\" clustering, some ways can definitely be better than others.\n",
        "\n",
        "You'll notice in the original 3-D rendering that there are long bands—not round balls—of clustered data. K-means works best when the clusters are more circular, because it tries to minimize distance from point to centroid. It may be worth trying a different clustering algorithm if you want to cluster a long, narrow, continuous band of data. (More on these later!)\n",
        "\n",
        "Nonetheless, K-means successfully compresses the colors of this photograph. This process can be applied for any value of _k_. Here's the output of each photo for _k_ = 2–10."
      ],
      "metadata": {
        "id": "7l3nc6-8fZpf"
      }
    },
    {
      "cell_type": "markdown",
      "source": [
        "## Cluster the data: _k_ = 2-10"
      ],
      "metadata": {
        "id": "Wr89SoQnfcbP"
      }
    },
    {
      "cell_type": "code",
      "source": [
        "# Helper function to plot image grid\n",
        "def cluster_image_grid(k, ax, img=img):\n",
        "    '''\n",
        "    Fits a K-means model to a photograph.\n",
        "    Replaces photo's pixels with RGB values of model's centroids.\n",
        "    Displays the updated image on an axis of a figure.\n",
        "\n",
        "    Args:\n",
        "      k:    (int)          - Your selected K-value\n",
        "      ax:   (int)          - Index of the axis of the figure to plot to\n",
        "      img:  (numpy array)  - Your original image converted to a numpy array\n",
        "\n",
        "    Returns:\n",
        "      A new image where each row of img's array has been replaced with the \\\n",
        "      coordinates of its nearest centroid. Image is assigned to an axis that \\\n",
        "      can be used in an image grid figure.\n",
        "    '''\n",
        "    img_flat = img.reshape(img.shape[0]*img.shape[1], 3)\n",
        "    kmeans = KMeans(n_clusters=k, random_state=42).fit(img_flat)\n",
        "    new_img = img_flat.copy()\n",
        "\n",
        "    for i in np.unique(kmeans.labels_):\n",
        "        new_img[kmeans.labels_==i, :] = kmeans.cluster_centers_[i]\n",
        "\n",
        "    new_img = new_img.reshape(img.shape)\n",
        "    ax.imshow(new_img)\n",
        "    ax.axis('off')\n",
        "\n",
        "fig, axs = plt.subplots(3, 3)\n",
        "fig = matplotlib.pyplot.gcf()\n",
        "fig.set_size_inches(9, 12)\n",
        "axs = axs.flatten()\n",
        "k_values = np.arange(2, 11)\n",
        "for i, k in enumerate(k_values):\n",
        "    cluster_image_grid(k, axs[i], img=img)\n",
        "    axs[i].title.set_text('k=' + str(k))"
      ],
      "metadata": {
        "id": "LX7T9C6tffVc"
      },
      "execution_count": null,
      "outputs": []
    },
    {
      "cell_type": "markdown",
      "source": [
        "Notice that it becomes increasingly difficult to see the difference between the images each time a color is added. This is a visual example of something that happens with all clustering models, even if the data is not an image that you can see. As you group the data into more and more clusters, additional clusters beyond a certain point contribute less and less to your understanding of your data.\n",
        "\n",
        "Hopefully, this demonstration has deepened your understanding of how the K-means algorithm works. Soon, we’ll explore methods for numerically determining which _k_ value is best for particular data. As always, feel free to explore the notebook more on your own to keep building your skillset!"
      ],
      "metadata": {
        "id": "q1wljGC0foBI"
      }
    },
    {
      "cell_type": "markdown",
      "source": [
        "# K-means inertia & silhouette score  \n",
        "\n",
        "Throughout the following exercises, you will learn about the process of using inertia and silhouette score in scikit-learn to help determine a _k_ value for a K-means model on higher-dimensional data that cannot easily be visualized in 2-D or 3-D space.  Before starting on this programming exercise, we strongly recommend watching the video lecture and completing the IVQ for the associated topics."
      ],
      "metadata": {
        "id": "_mL_PX4cf5gB"
      }
    },
    {
      "cell_type": "markdown",
      "source": [
        "All the information you need for solving this assignment is in this notebook, and all the code you will be implementing will take place within this notebook.\n",
        "\n",
        "Focus items include:\n",
        "\n",
        "*   Import statements\n",
        "*   Scaling the data using `StandardScaler`\n",
        "*   Instantiating the model\n",
        "*   Fitting the model\n",
        "*   KMeans `labels_` attribute\n",
        "*   KMeans `inertia_` attribute\n",
        "*   Using scikit-learn's `silhouette_score` function\n",
        "*   Determining a value for _k_  \n",
        "\n",
        "\n",
        "As we move forward, you can find instructions on how to install required libraries as they arise in this notebook."
      ],
      "metadata": {
        "id": "cdlM4g_JW3-L"
      }
    },
    {
      "cell_type": "markdown",
      "source": [
        "## Import statements\n",
        "\n",
        "Before we begin with the exercises and analyzing the data, we need to import all libraries and extensions required for this programming exercise. Throughout the course, we will be using numpy and pandas for operations, and seaborn for data visualization.\n",
        "\n",
        "Of particular note here, are the `Kmeans`, `silhouette_score`, and `StandardScaler` statements. These are the elements directly related to the K-means modeling process."
      ],
      "metadata": {
        "id": "2a-VgnnCW8T2"
      }
    },
    {
      "cell_type": "code",
      "source": [
        "# IMPORT STATEMENTS\n",
        "\n",
        "# Standard operational package imports\n",
        "import numpy as np\n",
        "import pandas as pd\n",
        "\n",
        "##################################################\n",
        "###  Important imports for modeling and evaluation\n",
        "from sklearn.cluster import KMeans\n",
        "from sklearn.metrics import silhouette_score\n",
        "from sklearn.preprocessing import StandardScaler\n",
        "##################################################\n",
        "\n",
        "\n",
        "# (To create synthetic data)\n",
        "from sklearn.datasets import make_blobs\n",
        "\n",
        "# Visualization package import\n",
        "import seaborn as sns"
      ],
      "metadata": {
        "id": "RdIRD_7dXAgT"
      },
      "execution_count": null,
      "outputs": []
    },
    {
      "cell_type": "markdown",
      "source": [
        "## Create the data\n",
        "\n",
        "In practice, you'd have a dataset of real data, and you'd read in this data and perform EDA, data cleaning, and other manipulations to prepare it for modeling. For simplicity and to help us focus on the modeling itself, we're going to use synthetic data for this demonstration.\n",
        "\n",
        "We'll start by creating a random number generator. This is to help with the process of creating _reproducible_ synthetic data. We'll use it to create clustered data without us knowing how many clusters there are."
      ],
      "metadata": {
        "id": "0LYUzniqXFGN"
      }
    },
    {
      "cell_type": "code",
      "source": [
        "# Create random number generator\n",
        "rng = np.random.default_rng(seed=44)"
      ],
      "metadata": {
        "id": "dDdy5yzTiDoo"
      },
      "execution_count": null,
      "outputs": []
    },
    {
      "cell_type": "markdown",
      "source": [
        "By calling the random number generator and assigning the result to a variable, we can avoid seeing the true number of clusters our data has. This keeps the \"answer\" a secret, and will let us use inertia and silhouette coefficients to determine it."
      ],
      "metadata": {
        "id": "2XiMjZE_iEWt"
      }
    },
    {
      "cell_type": "code",
      "source": [
        "# Create synthetic data w/ unknown number of clusters\n",
        "centers = rng.integers(low=3, high=7)\n",
        "X, y = make_blobs(n_samples=1000, n_features=6, centers=centers, random_state=42)"
      ],
      "metadata": {
        "id": "SckXfIzciHjD"
      },
      "execution_count": null,
      "outputs": []
    },
    {
      "cell_type": "markdown",
      "source": [
        "The above steps that generated our synthetic data return two things: `X` and `y`. `X` is an array of the values for the synthetic data itself and `y` is an array that contains the cluster assignment for each sample in `X` (represented as an integer).\n",
        "\n",
        "Right now we're concerned with `X`, because it is our mystery data. It's currently an array, but it's usually helpful to view your data as a pandas dataframe. This is often how your data will be organized when modeling real-world data, so we'll convert our data to a pandas df."
      ],
      "metadata": {
        "id": "IlTpcLigiRqY"
      }
    },
    {
      "cell_type": "code",
      "source": [
        "# Create Pandas dataframe from the data\n",
        "X = pd.DataFrame(X)\n",
        "X.head()"
      ],
      "metadata": {
        "id": "YN6nFxf-ifZg"
      },
      "execution_count": null,
      "outputs": []
    },
    {
      "cell_type": "markdown",
      "source": [
        "We see that the data has 6 features (columns). This is too many for us to visualize in 2-D or 3-D space. We can't see how many clusters there are, so we'll need to use our detective skills to determine this."
      ],
      "metadata": {
        "id": "rQBymreuigip"
      }
    },
    {
      "cell_type": "markdown",
      "source": [
        "## Scale the data\n",
        "\n",
        "Since K-means uses distance between observations and centroids as its measure of similarity, it's important to scale your data before modeling, if it's not already scaled. It's important to scale because K-means doesn't know what your unit label is for each variable. Suppose you had data for penguins, and height were measured in meters and weight were measured in grams. Without scaling, significant differences in height would be represented as small numbers, while minor differences in weight would be represented as much larger numbers.\n",
        "\n",
        "To perform scaling, we'll use scikit-learn's [StandardScaler](https://scikit-learn.org/stable/modules/generated/sklearn.preprocessing.StandardScaler.html#). StandardScaler scales each point xᵢ by subtracting the mean value for that feature and dividing by the standard deviation:\n",
        "\n",
        "x-scaled = (xᵢ – mean(x)) / σ\n",
        "\n",
        "This ensures that, after scaling, each feature variable has a mean of 0 and variance/standard deviation of 1. There are a number of scaling techniques available, including `StandardScaler`, `MinMaxScaler`, `Normalizer`, and others, each scaling the data in a particular way. There's no hard rule for determining which method will work best, but with K-means models, using any scaler will almost always result in better results than not scaling at all.\n",
        "\n",
        "You can instantiate StandardScaler and transform your data in a single step by using the `.fit_transform()` method and passing to it your data as an argument.\n",
        "<br />\n",
        "<br />\n",
        "**Tip:** If your computing environment has sufficient resources, it's helpful to keep an unscaled copy of your data to use later. Assign the scaled data to a new variable."
      ],
      "metadata": {
        "id": "QFIHeJm4ijtO"
      }
    },
    {
      "cell_type": "code",
      "source": [
        "# Scale the data\n",
        "X_scaled = StandardScaler().fit_transform(X)\n",
        "X_scaled[:2,:]"
      ],
      "metadata": {
        "id": "zZTwYHwmixm2"
      },
      "execution_count": null,
      "outputs": []
    },
    {
      "cell_type": "markdown",
      "source": [
        "## Instantiate the model\n",
        "\n",
        "Now that the data is scaled, we can start modeling. Since we don't know how many clusters exist in the data, we'll begin by examining the inertia values for different values of k.\n",
        "\n",
        "One thing to note is that, by default, scikit-learn implements an optimized version of the K-means algorithm, called K-means++. This helps to ensure optimal model convergence by initializing centroids far away from each other. Because we're using K-means++, we will not rerun the model multiple times.\n",
        "\n",
        "We'll begin by instantiating the model. If we want to build a model that clusters the data into three clusters, we'd set the `n_clusters` parameter to 3. We'll also set the `random_state` to an arbitrary number. This is only so others can reproduce your results. If you left this value blank, it's possible others could replicate your code exactly and still get different results due to the random initial placement of centroids."
      ],
      "metadata": {
        "id": "XAlEjZMSiyz8"
      }
    },
    {
      "cell_type": "code",
      "source": [
        "# Instantiate model\n",
        "kmeans3 = KMeans(n_clusters=3, random_state=42)"
      ],
      "metadata": {
        "id": "Lv7Tg7GUi2q7"
      },
      "execution_count": null,
      "outputs": []
    },
    {
      "cell_type": "markdown",
      "source": [
        "## Fit the data\n",
        "\n",
        "Now that we've instantiated the model, the next step is to fit it to the data. We do this by using the `.fit()` method and passing to it our scaled data."
      ],
      "metadata": {
        "id": "S93PwD-_i3m4"
      }
    },
    {
      "cell_type": "code",
      "source": [
        "# Fit model to data\n",
        "kmeans3.fit(X_scaled)"
      ],
      "metadata": {
        "id": "GlAoEM-Ji6jO"
      },
      "execution_count": null,
      "outputs": []
    },
    {
      "cell_type": "markdown",
      "source": [
        "This returns a model object that has \"learned\" your data. You can now call its different attributes to see inertia, location of centroids, and class labels, among others. See the [K-means documentation](https://scikit-learn.org/stable/modules/generated/sklearn.cluster.KMeans.html#sklearn.cluster.KMeans) for a full list of available attributes.\n",
        "\n",
        "We can get the cluster assignments by using the `.labels_` attribute. Similarly, we can get the inertia by using the `.inertia_` attribute.\n",
        "\n",
        "Let's see what happens when we check the cluster assignments and inertia for this model."
      ],
      "metadata": {
        "id": "LhGhpX-ii-uL"
      }
    },
    {
      "cell_type": "code",
      "source": [
        "print('Clusters: ', kmeans3.labels_)\n",
        "print('Inertia: ', kmeans3.inertia_)"
      ],
      "metadata": {
        "id": "hfA3pdtCjBUT"
      },
      "execution_count": null,
      "outputs": []
    },
    {
      "cell_type": "markdown",
      "source": [
        "The `.labels_` attribute returns a list of values that is the same length as the training data. Each value corresponds to the number of the cluster to which that point is assigned. Since our K-means model clustered the data into three clusters, the value assigned to each observation will be 0, 1, or 2. (Note that the cluster number itself is arbitrary, and serves only as a label.)  \n",
        "<br/>\n",
        "\n",
        "The `.inertia_` attribute returns the sum of the squared distances of samples from their closest cluster center.\n",
        "\n"
      ],
      "metadata": {
        "id": "wZLYQyucjEYK"
      }
    },
    {
      "cell_type": "markdown",
      "source": [
        "## Evaluate inertia\n",
        "\n",
        "This inertia value isn't helpful by itself. We need to compare the inertias of multiple _k_ values. To do this, we'll create a function that fits a K-means model for multiple values of _k_, calculates the inertia for each _k_ value, and appends it to a list."
      ],
      "metadata": {
        "id": "ceLPqQwUjLPY"
      }
    },
    {
      "cell_type": "code",
      "source": [
        "# Create a list from 2-10.\n",
        "num_clusters = [i for i in range(2, 11)]\n",
        "\n",
        "def kmeans_inertia(num_clusters, x_vals):\n",
        "    '''\n",
        "    Fits a KMeans model for different values of k.\n",
        "    Calculates an inertia score for each k value.\n",
        "\n",
        "    Args:\n",
        "        num_clusters: (list of ints)  - The different k values to try\n",
        "        x_vals:       (array)         - The training data\n",
        "\n",
        "    Returns:\n",
        "        inertia:      (list)          - A list of inertia scores, one for each \\\n",
        "                                      value of k\n",
        "    '''\n",
        "\n",
        "    inertia = []\n",
        "    for num in num_clusters:\n",
        "        kms = KMeans(n_clusters=num, random_state=42)\n",
        "        kms.fit(x_vals)\n",
        "        inertia.append(kms.inertia_)\n",
        "\n",
        "    return inertia"
      ],
      "metadata": {
        "id": "pW7M92ycjWVK"
      },
      "execution_count": null,
      "outputs": []
    },
    {
      "cell_type": "code",
      "source": [
        "# Calculate inertia for k=2-10\n",
        "inertia = kmeans_inertia(num_clusters, X_scaled)\n",
        "inertia"
      ],
      "metadata": {
        "id": "40JHPAN-jYeo"
      },
      "execution_count": null,
      "outputs": []
    },
    {
      "cell_type": "markdown",
      "source": [
        "### Elbow plot\n",
        "\n",
        "Now we can plot these values in a simple line graph, with the _k_ values along the x-axis and inertia on the y-axis. This type of plot is called an elbow plot. The \"elbow\" is usually the part of the curve with the sharpest angle, where the reduction in inertia that occurs when a new cluster is added begins to level off."
      ],
      "metadata": {
        "id": "qpSIt1G_jdub"
      }
    },
    {
      "cell_type": "code",
      "source": [
        "# Create an elbow plot\n",
        "plot = sns.lineplot(x=num_clusters, y=inertia)\n",
        "plot.set_xlabel(\"Number of clusters\");\n",
        "plot.set_ylabel(\"Inertia\");"
      ],
      "metadata": {
        "id": "NzsqvgYVjhgr"
      },
      "execution_count": null,
      "outputs": []
    },
    {
      "cell_type": "markdown",
      "source": [
        "This plot contains an unambiguous elbow at five clusters. Models with more than five clusters don't seem to reduce inertia much at all. Right now, it seems like a 5-cluster model might be optimal.\n",
        "\n",
        "Let's now check silhouette scores. Hopefully the results will corroborate our findings from the assessment of inertia.\n",
        "\n",
        "\n"
      ],
      "metadata": {
        "id": "qe3ltztSjjil"
      }
    },
    {
      "cell_type": "markdown",
      "source": [
        "## Evaluate silhouette score\n",
        "\n",
        "Unlike inertia, silhouette score doesn't have its own attribute that can be called on the model object. To get a silhouette score, we have to use the `silhouette_score()` function that we imported from `sklearn.metrics`. You must pass to it two required parameters: your training data and their assigned cluster labels. Let's see what this looks like for the `kmeans3` model we created earlier."
      ],
      "metadata": {
        "id": "AWaw2ooZjlFZ"
      }
    },
    {
      "cell_type": "code",
      "source": [
        "# Get silhouette score for kmeans3 model\n",
        "kmeans3_sil_score = silhouette_score(X_scaled, kmeans3.labels_)\n",
        "kmeans3_sil_score"
      ],
      "metadata": {
        "id": "ZfDQYRV3jm8x"
      },
      "execution_count": null,
      "outputs": []
    },
    {
      "cell_type": "markdown",
      "source": [
        "It worked! However, this value isn't very useful if we have nothing to compare it to. Just as we did for inertia, we'll write a function that compares the silhouette score of each value of _k_, from 2 through 10."
      ],
      "metadata": {
        "id": "HPAs82DsjrF4"
      }
    },
    {
      "cell_type": "code",
      "source": [
        "def kmeans_sil(num_clusters, x_vals):\n",
        "    '''\n",
        "    Fits a KMeans model for different values of k.\n",
        "    Calculates a silhouette score for each k value\n",
        "\n",
        "    Args:\n",
        "        num_clusters: (list of ints)  - The different k values to try\n",
        "        x_vals:       (array)         - The training data\n",
        "\n",
        "    Returns:\n",
        "        sil_score:    (list)          - A list of silhouette scores, one for each \\\n",
        "                                      value of k\n",
        "    '''\n",
        "\n",
        "    sil_score = []\n",
        "    for num in num_clusters:\n",
        "        kms = KMeans(n_clusters=num, random_state=42)\n",
        "        kms.fit(x_vals)\n",
        "        sil_score.append(silhouette_score(x_vals, kms.labels_))\n",
        "\n",
        "    return sil_score"
      ],
      "metadata": {
        "id": "NnxzLouTjs2g"
      },
      "execution_count": null,
      "outputs": []
    },
    {
      "cell_type": "code",
      "source": [
        "# Calculate silhouette scores for k=2-10\n",
        "sil_score = kmeans_sil(num_clusters, X_scaled)\n",
        "sil_score"
      ],
      "metadata": {
        "id": "u777xifyjvNk"
      },
      "execution_count": null,
      "outputs": []
    },
    {
      "cell_type": "markdown",
      "source": [
        "We can plot the silhouette score for each value of _k_, just as we did for inertia. However, remember that for silhouette score, greater numbers (closest to 1) are better, so we hope to see at least one clear \"peak\" that is close to 1."
      ],
      "metadata": {
        "id": "xZphyTXOjzE5"
      }
    },
    {
      "cell_type": "code",
      "source": [
        "# Create a line plot of silhouette scores\n",
        "plot = sns.lineplot(x=num_clusters, y=sil_score)\n",
        "plot.set_xlabel(\"# of clusters\");\n",
        "plot.set_ylabel(\"Silhouette Score\");"
      ],
      "metadata": {
        "id": "NrdwJ9t0j1H_"
      },
      "execution_count": null,
      "outputs": []
    },
    {
      "cell_type": "markdown",
      "source": [
        "This plot indicates that the silhouette score is closest to 1 when our data is partitioned into five clusters. It confirms what we saw in the inertia analysis, where we noticed an elbow where _k_=5."
      ],
      "metadata": {
        "id": "FQaH49Hhj3nt"
      }
    },
    {
      "cell_type": "markdown",
      "source": [
        "## Conclusion\n",
        "\n",
        "At this point, between our inertia and silhouette score analyses, we can say with a reasonable degree of confidence that it makes the most sense to group our data into five clusters.\n",
        "<br/>  \n",
        "Since we used synthetic data for this activity, we can cheat and check to see how many clusters _actually_ existed in our data. We can do this by calling the `centers` variable, which we created with the random number generator at the beginning of this notebook."
      ],
      "metadata": {
        "id": "hv0GG_mMj561"
      }
    },
    {
      "cell_type": "code",
      "source": [
        "# Verify our findings (only possible when \"correct\" number of clusters exists)\n",
        "centers"
      ],
      "metadata": {
        "id": "1IW_xfrdj7_K"
      },
      "execution_count": null,
      "outputs": []
    },
    {
      "cell_type": "markdown",
      "source": [
        "We were right! Just as we predicted, there are indeed five distinct clusters in our data. We were able to deduce this by using inertia and silhouette score!"
      ],
      "metadata": {
        "id": "sZlwTjDKj_mp"
      }
    },
    {
      "cell_type": "markdown",
      "source": [
        "## Further analysis\n",
        "\n",
        "Although we know that five clusters is the best grouping for the data, the work is far from done. At this point, we'll instantiate a new K-means model with `n_clusters=5` and fit it to our data. (Note that if we had saved all the models that we fit above for different values of _k_, we wouldn't need to refit a model now, we could just call that model from earlier. But since it wasn't saved, we must fit another model.)"
      ],
      "metadata": {
        "id": "ZF2DQtSMkBmS"
      }
    },
    {
      "cell_type": "code",
      "source": [
        "# Fit a 5-cluster model to the data\n",
        "kmeans5 = KMeans(n_clusters=5, random_state=42)\n",
        "kmeans5.fit(X_scaled)"
      ],
      "metadata": {
        "id": "fUaiqJ3NkE84"
      },
      "execution_count": null,
      "outputs": []
    },
    {
      "cell_type": "code",
      "source": [
        "print(kmeans5.labels_[:5])\n",
        "print('Unique labels:', np.unique(kmeans5.labels_))"
      ],
      "metadata": {
        "id": "jU26w7a-kHGF"
      },
      "execution_count": null,
      "outputs": []
    },
    {
      "cell_type": "markdown",
      "source": [
        "Now that we have our labels, it's important to understand what they mean and decide whether this clustering makes sense for our use case. Here's where it helps to keep our unscaled data from the beginning. We can assign a new column to the original _unscaled_ dataframe with the cluster assignment from the final K-means model."
      ],
      "metadata": {
        "id": "RU9Ino2AkKze"
      }
    },
    {
      "cell_type": "code",
      "source": [
        "# Create new column that indicates cluster assignment in original dataframe\n",
        "X['cluster'] = kmeans5.labels_\n",
        "X.head()"
      ],
      "metadata": {
        "id": "vYVNvFF3kMwg"
      },
      "execution_count": null,
      "outputs": []
    },
    {
      "cell_type": "markdown",
      "source": [
        "Now, we can perform analyses on the different clusters to see what makes them different from one another. The reason we'd look at cluster assignments with the unscaled data is because it's easier to relate to the unit measures. This is often a useful technique for analyzing your data, but it may also make sense to look at your cluster assignments on the scaled data, depending on your use case.  \n",
        "\n",
        "Note that in many cases, it's not always clear what differentiates one cluster from another, and it takes a lot of work to determine whether or not it makes sense to cluster your data a given way. This is where expertise and domain knowledge are very valuable.\n",
        "<br/>  \n",
        "Congratulations! You now know about two very important tools to help you evaluate your K-means models, and you know how to implement them in scikit-learn. Soon, you'll apply these skills to real-world data. As always, feel free to refer back to this notebook as you continue learning."
      ],
      "metadata": {
        "id": "0LtiFdMWkXBT"
      }
    },
    {
      "cell_type": "markdown",
      "source": [
        "# Bonus content"
      ],
      "metadata": {
        "id": "j8t5s6OZkfaN"
      }
    },
    {
      "cell_type": "markdown",
      "source": [
        "## Predicting on new data\n",
        "\n",
        "This is not applicable to all clustering tasks, but it's now possible to take in new data and predict a cluster assignment using our final model.\n",
        "\n",
        "To demonstrate this, we'll need a new observation, one that was not contained in our original data. We can create this with the random number generator that we used at the beginning of the notebook."
      ],
      "metadata": {
        "id": "KYXr6VRkkhOF"
      }
    },
    {
      "cell_type": "code",
      "source": [
        "# Create a new observation (for demonstration)\n",
        "new_observation = rng.uniform(low=-10, high=10, size=6).reshape(1, -1)\n",
        "new_observation"
      ],
      "metadata": {
        "id": "R-R0Nf9kkk7q"
      },
      "execution_count": null,
      "outputs": []
    },
    {
      "cell_type": "markdown",
      "source": [
        "Just as before, we must scale this new data the same way we did earlier. This means that we need to subtract the mean _of the training data_ and divide by the standard deviation _of the training data_. If you forgot to scale here you'd get invalid results, because your model would be trained on scaled data while the new data going into it would be unscaled.\n",
        "\n",
        "Here, we must reinstantiate a scaler and fit it to the original data, because we didn't save the scaler object itself when we performed scaling above. We fit and transformed the data in a single line of code, without saving the fit scaler object.\n",
        "\n",
        "Above, if instead of:  \n",
        "`X_scaled = StandardScaler().fit_transform(X)`  \n",
        "\n",
        "we had written:  \n",
        "`scaler = StandardScaler()fit.(X)`  \n",
        "`X_scaled = scaler.transform(X)`\n",
        "\n",
        "then we could have reused `scaler` in this next step without having to assign it."
      ],
      "metadata": {
        "id": "lbYhwiTtknxh"
      }
    },
    {
      "cell_type": "code",
      "source": [
        "# Instantiate the scaler and fit it to the original X data\n",
        "scaler = StandardScaler().fit(X.iloc[:,:-1])\n",
        "\n",
        "# Apply the scaler to the new observation\n",
        "new_observation_scaled = scaler.transform(new_observation)\n",
        "new_observation_scaled"
      ],
      "metadata": {
        "id": "hNzT719fkpt4"
      },
      "execution_count": null,
      "outputs": []
    },
    {
      "cell_type": "markdown",
      "source": [
        "We can use the `.predict()` method of our `kmeans5` model to predict a cluster assignment by passing to it the new observation. In this case, we only have a single observation, but it's also possible to pass an array of new data as an argument, and it would return an array of cluster predictions."
      ],
      "metadata": {
        "id": "Rf-TbxzZktNC"
      }
    },
    {
      "cell_type": "code",
      "source": [
        "# Predict cluster assignment of new_observation\n",
        "new_prediction = kmeans5.predict(new_observation_scaled)\n",
        "new_prediction"
      ],
      "metadata": {
        "id": "_XNhdDlqku7w"
      },
      "execution_count": null,
      "outputs": []
    },
    {
      "cell_type": "markdown",
      "source": [
        "The model has assigned this new observation to cluster 4."
      ],
      "metadata": {
        "id": "pCGQk6Wnkywn"
      }
    },
    {
      "cell_type": "markdown",
      "source": [
        "## Calculating the distance to each centroid\n",
        "\n",
        "The KMeans model also lets us access the distances of observations from _each_ centroid. For new data, we can do this using the `.transform_` method of the fit model object."
      ],
      "metadata": {
        "id": "HNks3JFSk0iy"
      }
    },
    {
      "cell_type": "code",
      "source": [
        "# Calculate distances between new data and each centroid\n",
        "distances = kmeans5.transform(new_observation_scaled)\n",
        "distances"
      ],
      "metadata": {
        "id": "Ww4-ULEBk4HP"
      },
      "execution_count": null,
      "outputs": []
    },
    {
      "cell_type": "markdown",
      "source": [
        "Notice that the `.transform_` method returns an array. In this case, we gave the model a single new data point, and it returned an array of five numbers (because our model has five clusters). Each value in the array represents the distance between `new_observation_scaled` and the centroid of the cluster at that index.\n",
        "\n",
        "So, the distance between `new_observation_scaled` and the centroids of:\n",
        "\n",
        "Cluster 0 = 5.12  \n",
        "Cluster 1 = 4.55  \n",
        "Cluster 2 = 4.15  \n",
        "Cluster 3 = 5.96  \n",
        "Cluster 4 = 3.47  \n",
        "\n",
        "The shortest distance is 3.47—between `new_observation_scaled` and cluster 4's centroid. This is why the point was assigned to cluster 4 when we used the `.predict()` method above."
      ],
      "metadata": {
        "id": "nhKYEvP2k8Fv"
      }
    },
    {
      "cell_type": "markdown",
      "source": [
        "## Why is this useful?\n",
        "\n",
        "One situation for which being able to assign new points to clusters is useful is when you have a deployed model that was trained on huge amounts of data, and it must process new data as it comes in on a case-by-case basis. For example, suppose you have a marketing program that sends out different promotional emails to different customers, depending on their engagement patterns with your brand. When you get a new customer, you could use a clustering model to assign them to an appropriate marketing campaign, so they see promotions that are most appropriate for them.\n",
        "\n",
        "Also, both the cluster predictions and the distance measurements to centroids can be used as new features in supervised learning models. You can take the training data of a supervised learning problem and cluster it, then use either the cluster assignments or the distance matrices as engineered predictive features to improve the predictive power of a supervised learning model."
      ],
      "metadata": {
        "id": "TfHTIDBQk_je"
      }
    },
    {
      "cell_type": "markdown",
      "source": [
        "# Activity : Build a K-means model"
      ],
      "metadata": {
        "id": "dstuOKvClAFV"
      }
    },
    {
      "cell_type": "markdown",
      "source": [
        "## **Introduction**\n",
        "\n",
        "K-means clustering is very effective when segmenting data and attempting to find patterns. Because clustering is used in a broad array of industries, becoming proficient in this process will help you expand your skillset in a widely applicable way.   \n",
        "\n",
        "In this activity, you are a consultant for a scientific organization that works to support and sustain penguin colonies. You are tasked with helping other staff members learn more about penguins in order to achieve this mission.\n",
        "\n",
        "The data for this activity is in a spreadsheet that includes datapoints across a sample size of 345 penguins, such as species, island, and sex. Your will use a K-means clustering model to group this data and identify patterns that provide important insights about penguins.\n",
        "\n",
        "**Note:** Because this lab uses a real dataset, this notebook will first require basic EDA, data cleaning, and other manipulations to prepare the data for modeling."
      ],
      "metadata": {
        "id": "ZZm6yKj4yh0Z"
      }
    },
    {
      "cell_type": "markdown",
      "source": [
        "## Step 1: Imports\n",
        "\n",
        "Import statements including `K-means`, `silhouette_score`, and `StandardScaler`."
      ],
      "metadata": {
        "id": "NXIlBe4Uyls_"
      }
    },
    {
      "cell_type": "markdown",
      "source": [
        "### Import packages."
      ],
      "metadata": {
        "id": "IHSdAiUXyutT"
      }
    },
    {
      "cell_type": "code",
      "source": [
        "# Import standard operational packages.\n",
        "import numpy as np\n",
        "import pandas as pd\n",
        "\n",
        "# Important tools for modeling and evaluation.\n",
        "from sklearn.cluster import KMeans\n",
        "from sklearn.metrics import silhouette_score\n",
        "from sklearn.preprocessing import StandardScaler\n",
        "\n",
        "# Import visualization packages.\n",
        "import matplotlib.pyplot as plt\n",
        "import seaborn as sns"
      ],
      "metadata": {
        "id": "ar24FSayywFs"
      },
      "execution_count": null,
      "outputs": []
    },
    {
      "cell_type": "markdown",
      "source": [
        "`Pandas` is used to load the penguins dataset, which is built into the `seaborn` library. The resulting `pandas` DataFrame is saved in a variable named `penguins`. As shown in this cell, the dataset has been automatically loaded in for you. You do not need to download the .csv file, or provide more code, in order to access the dataset and proceed with this lab. Please continue with this activity by completing the following instructions."
      ],
      "metadata": {
        "id": "itRZ4UJ3y3bH"
      }
    },
    {
      "cell_type": "code",
      "source": [
        "# RUN THIS CELL TO IMPORT YOUR DATA.\n",
        "\n",
        "# Save the `pandas` DataFrame in variable `penguins`.\n",
        "\n",
        "penguins = pd.read_csv(\"penguins.csv\")"
      ],
      "metadata": {
        "id": "5JMyRC58y4k5"
      },
      "execution_count": null,
      "outputs": []
    },
    {
      "cell_type": "code",
      "source": [
        "# Review the first 10 rows.\n",
        "\n",
        "penguins.head(n = 10)"
      ],
      "metadata": {
        "id": "DIDdXJiLzEc0"
      },
      "execution_count": null,
      "outputs": []
    },
    {
      "cell_type": "markdown",
      "source": [
        "## **Step 2: Data exploration**\n",
        "\n",
        "After loading the dataset, the next step is to prepare the data to be suitable for clustering. This includes:\n",
        "\n",
        "*   Exploring data\n",
        "*   Checking for missing values\n",
        "*   Encoding data\n",
        "*   Dropping a column\n",
        "*   Scaling the features using `StandardScaler`"
      ],
      "metadata": {
        "id": "VC8eUf3BzKam"
      }
    },
    {
      "cell_type": "markdown",
      "source": [
        "### Explore data\n",
        "\n",
        "To cluster penguins of multiple different species, determine how many different types of penguin species are in the dataset."
      ],
      "metadata": {
        "id": "QdYovQrhzL24"
      }
    },
    {
      "cell_type": "code",
      "source": [
        "# Find out how many penguin types there are.\n",
        "\n",
        "penguins['species'].unique()"
      ],
      "metadata": {
        "id": "DtcGLV03zOo8"
      },
      "execution_count": null,
      "outputs": []
    },
    {
      "cell_type": "code",
      "source": [
        "# Find the count of each species type.\n",
        "\n",
        "penguins['species'].value_counts(dropna = False)"
      ],
      "metadata": {
        "id": "uNpgkaRkzQll"
      },
      "execution_count": null,
      "outputs": []
    },
    {
      "cell_type": "markdown",
      "source": [
        "**Question:** How many types of species are present in the dataset?\n",
        "\n",
        "There are three types of species. Note the Chinstrap species is less common than the other species. This has a chance to affect K-means clustering as K-means performs best with similar sized groupings.\n",
        "\n",
        "**Question:** Why is it helpful to determine the perfect number of clusters using K-means when you already know how many penguin species the dataset contains?\n",
        "\n",
        "For purposes of clustering, pretend you don't know that there are three different types of species. Then, you can explore whether the algorithm can discover the different species. You might even find other relationships in the data."
      ],
      "metadata": {
        "id": "Y-q7HaAnzWGh"
      }
    },
    {
      "cell_type": "markdown",
      "source": [
        "### Check for missing values\n",
        "\n",
        "An assumption of K-means is that there are no missing values. Check for missing values in the rows of the data."
      ],
      "metadata": {
        "id": "Aa7H0b0bzdwk"
      }
    },
    {
      "cell_type": "code",
      "source": [
        "# Check for missing values.\n",
        "\n",
        "penguins.isnull().sum()"
      ],
      "metadata": {
        "id": "SeYTEJBPzhyJ"
      },
      "execution_count": null,
      "outputs": []
    },
    {
      "cell_type": "markdown",
      "source": [
        "Now, drop the rows with missing values and save the resulting pandas DataFrame in a variable named `penguins_subset`."
      ],
      "metadata": {
        "id": "vBkgkw8azqUr"
      }
    },
    {
      "cell_type": "code",
      "source": [
        "# Drop rows with missing values.\n",
        "# Save DataFrame in variable `penguins_subset`.\n",
        "\n",
        "penguins_subset = penguins.dropna(axis=0).reset_index(drop = True)"
      ],
      "metadata": {
        "id": "I93WvyY8zspm"
      },
      "execution_count": null,
      "outputs": []
    },
    {
      "cell_type": "markdown",
      "source": [
        "Next, check to make sure that `penguins_subset` does not contain any missing values."
      ],
      "metadata": {
        "id": "nRiycV_Qzwcy"
      }
    },
    {
      "cell_type": "code",
      "source": [
        "# Check for missing values.\n",
        "\n",
        "penguins_subset.isna().sum()"
      ],
      "metadata": {
        "id": "Npa8CmBkzyMX"
      },
      "execution_count": null,
      "outputs": []
    },
    {
      "cell_type": "code",
      "source": [
        "# View first 10 rows.\n",
        "\n",
        "penguins_subset.head(10)"
      ],
      "metadata": {
        "id": "LTeFwYh8z01o"
      },
      "execution_count": null,
      "outputs": []
    },
    {
      "cell_type": "markdown",
      "source": [
        "### Encode data\n",
        "\n",
        "Some versions of the penguins dataset have values encoded in the sex column as 'Male' and 'Female' instead of 'MALE' and 'FEMALE'. The code below will make sure all values are ALL CAPS."
      ],
      "metadata": {
        "id": "vtQLIhzIz4Pu"
      }
    },
    {
      "cell_type": "code",
      "source": [
        "penguins_subset['sex'] = penguins_subset['sex'].str.upper()"
      ],
      "metadata": {
        "id": "fcawmi9nz8Lh"
      },
      "execution_count": null,
      "outputs": []
    },
    {
      "cell_type": "markdown",
      "source": [
        "K-means needs numeric columns for clustering. Convert the categorical column `'sex'` into numeric. There is no need to convert the `'species'` column because it isn't being used as a feature in the clustering algorithm."
      ],
      "metadata": {
        "id": "DQxoqYMuz_BW"
      }
    },
    {
      "cell_type": "code",
      "source": [
        "# Convert `sex` column from categorical to numeric.\n",
        "\n",
        "penguins_subset = pd.get_dummies(penguins_subset, drop_first = True, columns=['sex'])"
      ],
      "metadata": {
        "id": "eI5oGT6jz_3L"
      },
      "execution_count": null,
      "outputs": []
    },
    {
      "cell_type": "markdown",
      "source": [
        "### Drop a column\n",
        "\n",
        "Drop the categorical column `island` from the dataset. While it has value, this notebook is trying to confirm if penguins of the same species exhibit different physical characteristics based on sex. This doesn't include location.\n",
        "\n",
        "Note that the `'species'` column is not numeric. Don't drop the `'species'` column for now. It could potentially be used to help understand the clusters later."
      ],
      "metadata": {
        "id": "3NjkG6Dw0D87"
      }
    },
    {
      "cell_type": "code",
      "source": [
        "# Drop the island column.\n",
        "\n",
        "penguins_subset = penguins_subset.drop(['island'], axis=1)"
      ],
      "metadata": {
        "id": "ol-KL-X30IYU"
      },
      "execution_count": null,
      "outputs": []
    },
    {
      "cell_type": "markdown",
      "source": [
        "### Scale the features\n",
        "\n",
        "Because K-means uses distance between observations as its measure of similarity, it's important to scale the data before modeling. Use a third-party tool, such as scikit-learn's `StandardScaler` function. `StandardScaler` scales each point xᵢ by subtracting the mean observed value for that feature and dividing by the standard deviation:\n",
        "\n",
        "x-scaled = (xᵢ – mean(X)) / σ\n",
        "\n",
        "This ensures that all variables have a mean of 0 and variance/standard deviation of 1.\n",
        "\n",
        "**Note:** Because the species column isn't a feature, it doesn't need to be scaled.\n",
        "\n",
        "First, copy all the features except the `'species'` column to a DataFrame `X`."
      ],
      "metadata": {
        "id": "m_S9bSbC0MLF"
      }
    },
    {
      "cell_type": "code",
      "source": [
        "# Exclude `species` variable from X\n",
        "\n",
        "X = penguins_subset.drop(['species'], axis=1)"
      ],
      "metadata": {
        "id": "FkdkB4Lt0OsC"
      },
      "execution_count": null,
      "outputs": []
    },
    {
      "cell_type": "markdown",
      "source": [
        "Scale the features in `X` using `StandardScaler`, and assign the scaled data to a new variable `X_scaled`."
      ],
      "metadata": {
        "id": "xboSU7vJ0SI8"
      }
    },
    {
      "cell_type": "code",
      "source": [
        "#Scale the features.\n",
        "#Assign the scaled data to variable `X_scaled`.\n",
        "\n",
        "X_scaled = StandardScaler().fit_transform(X)"
      ],
      "metadata": {
        "id": "u04LWKVb0UEt"
      },
      "execution_count": null,
      "outputs": []
    },
    {
      "cell_type": "markdown",
      "source": [
        "## **Step 3: Data modeling**\n",
        "\n",
        "Now, fit K-means and evaluate inertia for different values of k. Because you may not know how many clusters exist in the data, start by fitting K-means and examining the inertia values for different values of k. To do this, write a function called `kmeans_inertia` that takes in `num_clusters` and `x_vals` (`X_scaled`) and returns a list of each k-value's inertia.\n",
        "\n",
        "When using K-means inside the function, set the `random_state` to `42`. This way, others can reproduce your results."
      ],
      "metadata": {
        "id": "GcNtSgcp0WxB"
      }
    },
    {
      "cell_type": "code",
      "source": [
        "# Fit K-means and evaluate inertia for different values of k.\n",
        "\n",
        "num_clusters = [i for i in range(2, 11)]\n",
        "\n",
        "def kmeans_inertia(num_clusters, x_vals):\n",
        "    \"\"\"\n",
        "    Accepts as arguments list of ints and data array.\n",
        "    Fits a KMeans model where k = each value in the list of ints.\n",
        "    Returns each k-value's inertia appended to a list.\n",
        "    \"\"\"\n",
        "    inertia = []\n",
        "    for num in num_clusters:\n",
        "        kms = KMeans(n_clusters=num, random_state=42)\n",
        "        kms.fit(x_vals)\n",
        "        inertia.append(kms.inertia_)\n",
        "\n",
        "    return inertia"
      ],
      "metadata": {
        "id": "gqGUIQSb0cCj"
      },
      "execution_count": null,
      "outputs": []
    },
    {
      "cell_type": "markdown",
      "source": [
        "Use the `kmeans_inertia` function to return a list of inertia for k=2 to 10."
      ],
      "metadata": {
        "id": "SoTK5J5L0e_A"
      }
    },
    {
      "cell_type": "code",
      "source": [
        "# Return a list of inertia for k=2 to 10.\n",
        "\n",
        "inertia = kmeans_inertia(num_clusters, X_scaled)\n",
        "inertia"
      ],
      "metadata": {
        "id": "ybaiZQAj0f1t"
      },
      "execution_count": null,
      "outputs": []
    },
    {
      "cell_type": "markdown",
      "source": [
        "Next, create a line plot that shows the relationship between `num_clusters` and `inertia`.\n",
        "Use either seaborn or matplotlib to visualize this relationship."
      ],
      "metadata": {
        "id": "zo6G4fsW0ja_"
      }
    },
    {
      "cell_type": "code",
      "source": [
        "# Create a line plot.\n",
        "\n",
        "plot = sns.lineplot(x=num_clusters, y=inertia, marker = 'o')\n",
        "plot.set_xlabel(\"Number of clusters\");\n",
        "plot.set_ylabel(\"Inertia\");"
      ],
      "metadata": {
        "id": "dppg0GRw0lFB"
      },
      "execution_count": null,
      "outputs": []
    },
    {
      "cell_type": "markdown",
      "source": [
        "**Question:** Where is the elbow in the plot?\n",
        "\n",
        "The plot seems to depict an elbow at six clusters, but there isn't a clear method for confirming that a six-cluster model is optimal. Therefore, the silhouette scores should be checked."
      ],
      "metadata": {
        "id": "hMaeaw_e0pJz"
      }
    },
    {
      "cell_type": "markdown",
      "source": [
        "## **Step 4: Results and evaluation**\n",
        "\n",
        "Now, evaluate the silhouette score using the `silhouette_score()` function. Silhouette scores are used to study the distance between clusters.\n",
        "\n",
        "Then, compare the silhouette score of each value of k, from 2 through 10. To do this, write a function called `kmeans_sil` that takes in `num_clusters` and `x_vals` (`X_scaled`) and returns a list of each k-value's silhouette score."
      ],
      "metadata": {
        "id": "M-mBx71A0p9k"
      }
    },
    {
      "cell_type": "code",
      "source": [
        "# Evaluate silhouette score.\n",
        "# Write a function to return a list of each k-value's score.\n",
        "\n",
        "def kmeans_sil(num_clusters, x_vals):\n",
        "    \"\"\"\n",
        "    Accepts as arguments list of ints and data array.\n",
        "    Fits a KMeans model where k = each value in the list of ints.\n",
        "    Calculates a silhouette score for each k value.\n",
        "    Returns each k-value's silhouette score appended to a list.\n",
        "    \"\"\"\n",
        "    sil_score = []\n",
        "    for num in num_clusters:\n",
        "        kms = KMeans(n_clusters=num, random_state=42)\n",
        "        kms.fit(x_vals)\n",
        "        sil_score.append(silhouette_score(x_vals, kms.labels_))\n",
        "\n",
        "    return sil_score\n",
        "\n",
        "\n",
        "sil_score = kmeans_sil(num_clusters, X_scaled)\n",
        "sil_score"
      ],
      "metadata": {
        "id": "pXeyTAYv0xcO"
      },
      "execution_count": null,
      "outputs": []
    },
    {
      "cell_type": "markdown",
      "source": [
        "Next, create a line plot that shows the relationship between `num_clusters` and `sil_score`.\n",
        "Use either seaborn or matplotlib to visualize this relationship."
      ],
      "metadata": {
        "id": "_DEz94aH00q7"
      }
    },
    {
      "cell_type": "code",
      "source": [
        "# Create a line plot.\n",
        "\n",
        "plot = sns.lineplot(x=num_clusters, y=sil_score, marker = 'o')\n",
        "plot.set_xlabel(\"# of clusters\");\n",
        "plot.set_ylabel(\"Silhouette Score\");"
      ],
      "metadata": {
        "id": "eaYB8ZS_02d_"
      },
      "execution_count": null,
      "outputs": []
    },
    {
      "cell_type": "markdown",
      "source": [
        "**Question:** What does the graph show?\n",
        "\n",
        "Silhouette scores near 1 indicate that samples are far away from neighboring clusters. Scores close to 0 indicate that samples are on or very close to the decision boundary between two neighboring clusters.\n",
        "\n",
        "The plot indicates that the silhouette score is closest to 1 when the data is partitioned into six clusters, although five clusters also yield a relatively good silhouette score."
      ],
      "metadata": {
        "id": "gUxAtCJj055b"
      }
    },
    {
      "cell_type": "markdown",
      "source": [
        "### Optimal k-value\n",
        "\n",
        "To decide on an optimal k-value, fit a six-cluster model to the dataset."
      ],
      "metadata": {
        "id": "AN8aKDwE1QBq"
      }
    },
    {
      "cell_type": "code",
      "source": [
        "# Fit a 6-cluster model.\n",
        "\n",
        "kmeans6 = KMeans(n_clusters=6, random_state=42)\n",
        "kmeans6.fit(X_scaled)"
      ],
      "metadata": {
        "id": "UIhkWY0o1Vce"
      },
      "execution_count": null,
      "outputs": []
    },
    {
      "cell_type": "markdown",
      "source": [
        "Print out the unique labels of the fit model."
      ],
      "metadata": {
        "id": "_VwQTlGm1Xfm"
      }
    },
    {
      "cell_type": "code",
      "source": [
        "# Print unique labels.\n",
        "\n",
        "print('Unique labels:', np.unique(kmeans6.labels_))"
      ],
      "metadata": {
        "id": "9CTJie7M1Zyv"
      },
      "execution_count": null,
      "outputs": []
    },
    {
      "cell_type": "markdown",
      "source": [
        "Now, create a new column `cluster` that indicates cluster assignment in the DataFrame `penguins_subset`. It's important to understand the meaning of each cluster's labels, then decide whether the clustering makes sense.\n",
        "\n",
        "**Note:** This task is done using `penguins_subset` because it is often easier to interpret unscaled data."
      ],
      "metadata": {
        "id": "nWofa50h1cyj"
      }
    },
    {
      "cell_type": "code",
      "source": [
        "# Create a new column `cluster`.\n",
        "\n",
        "penguins_subset['cluster'] = kmeans6.labels_\n",
        "penguins_subset.head()"
      ],
      "metadata": {
        "id": "jZ78Nwwz1e3K"
      },
      "execution_count": null,
      "outputs": []
    },
    {
      "cell_type": "markdown",
      "source": [
        "Use `groupby` to verify if any `'cluster'` can be differentiated by `'species'`."
      ],
      "metadata": {
        "id": "smXKIgdB1iMK"
      }
    },
    {
      "cell_type": "code",
      "source": [
        "# Verify if any `cluster` can be differentiated by `species`.\n",
        "\n",
        "penguins_subset.groupby(by=['cluster', 'species']).size()"
      ],
      "metadata": {
        "id": "pLNCyC1t1kSl"
      },
      "execution_count": null,
      "outputs": []
    },
    {
      "cell_type": "markdown",
      "source": [
        "Next, interpret the groupby outputs. Although the results of the groupby show that each `'cluster'` can be differentiated by `'species'`, it is useful to visualize these results. The graph shows that each `'cluster'` can be differentiated by `'species'`.\n",
        "\n",
        "**Note:** The code for the graph below is outside the scope of this lab."
      ],
      "metadata": {
        "id": "fI_Nl0FS1n_E"
      }
    },
    {
      "cell_type": "code",
      "source": [
        "penguins_subset.groupby(by=['cluster', 'species']).size().plot.bar(title='Clusters differentiated by species',\n",
        "                                                                   figsize=(6, 5),\n",
        "                                                                   ylabel='Size',\n",
        "                                                                   xlabel='(Cluster, Species)');"
      ],
      "metadata": {
        "id": "CXSuWivT1r86"
      },
      "execution_count": null,
      "outputs": []
    },
    {
      "cell_type": "markdown",
      "source": [
        "Use `groupby` to verify if each `'cluster'` can be differentiated by `'species'` AND `'sex_MALE'`."
      ],
      "metadata": {
        "id": "bZUJYcDy1ymN"
      }
    },
    {
      "cell_type": "code",
      "source": [
        "# Verify if each `cluster` can be differentiated by `species` AND `sex_MALE`.\n",
        "\n",
        "penguins_subset.groupby(by=['cluster','species', 'sex_MALE']).size().sort_values(ascending = False)"
      ],
      "metadata": {
        "id": "PtqlhJv010rz"
      },
      "execution_count": null,
      "outputs": []
    },
    {
      "cell_type": "markdown",
      "source": [
        "**Question:** Are the clusters differentiated by `'species'` and `'sex_MALE'`?\n",
        "\n",
        "Even though clusters 1 and 3 weren't all one species or sex, the `groupby` indicates that the algorithm produced clusters mostly differentiated by species and sex.\n",
        "\n",
        "Finally, interpret the groupby outputs and visualize these results. The graph shows that each `'cluster'` can be differentiated by `'species'` and `'sex_MALE'`. Furthermore, each cluster is mostly comprised of one sex and one species.\n",
        "\n",
        "**Note:** The code for the graph below is outside the scope of this lab."
      ],
      "metadata": {
        "id": "HOdNWLb514bx"
      }
    },
    {
      "cell_type": "code",
      "source": [
        "penguins_subset.groupby(by=['cluster','species','sex_MALE']).size().unstack(level = 'species', fill_value=0).plot.bar(title='Clusters differentiated by species and sex',\n",
        "                                                                                                                      figsize=(6, 5),\n",
        "                                                                                                                      ylabel='Size',\n",
        "                                                                                                                      xlabel='(Cluster, Sex)')\n",
        "plt.legend(bbox_to_anchor=(1.3, 1.0))"
      ],
      "metadata": {
        "id": "lmZezqK52MAj"
      },
      "execution_count": null,
      "outputs": []
    },
    {
      "cell_type": "markdown",
      "source": [
        "## **Considerations**\n",
        "\n",
        "**What are some key takeaways that you learned during this lab? Consider the process you used, key tools, and the results of your investigation.**\n",
        "-   Many machine learning workflows are about cleaning, encoding, and scaling data.\n",
        "-   Inertia and silhouette score can be used to find the optimal value of clusters.\n",
        "-   Clusters can find natural groupings in data.\n",
        "-   The clusters in this lab are mostly differentiated by species and sex as shown by the groupby results and corresponding graphs.\n",
        "-   The elbow plot and especially the silhouette scores suggests that 6 clusters are optimal for this data.\n",
        "-   Having 6 clusters makes sense because the study suggests that there is sexual dimorphism (differences between the sexes) for each of the three species (2 sexes * 3 different species = 6 clusters).\n",
        "\n",
        "**What summary would you provide to stakeholders?**\n",
        "*  The K-means clustering enabled this data to be effectively grouped. It helped identify patterns that can educate team members about penguins.\n",
        "*  The success of the cluster results suggests that the organization can apply clustering to other projects and continue augmenting employee education.\n",
        "\n",
        "\n",
        "\n",
        "\n"
      ],
      "metadata": {
        "id": "laU0S_EY2T3M"
      }
    },
    {
      "cell_type": "markdown",
      "source": [
        "# Decision Tree\n",
        "\n",
        "Throughout the following exercises, you will learn to construct and interpret a decision tree model with scikit-learn. Before starting on this programming exercise, we strongly recommend watching the video lecture for the associated topics.\n",
        "\n",
        "This notebook contains the code used in two instructional videos from Week 4: Tree-based modeling. Start from the beginning to follow along with the video, Build a decision tree with Python."
      ],
      "metadata": {
        "id": "phnM0FFo2VdD"
      }
    },
    {
      "cell_type": "markdown",
      "source": [
        "All the information you need for solving this assignment is in this notebook, and all the code you will be implementing will take place within this notebook.\n",
        "\n",
        "Topics of focus include:\n",
        "\n",
        "* Relevant import statements\n",
        "* Selecting an evaluation metric\n",
        "* Encoding of categorical features as dummies\n",
        "* Stratification during data splitting\n",
        "* Fitting a model\n",
        "* Model evaluation using precision, recall, and F1 score\n",
        "* Plotting the decision tree and examining its splits\n",
        "\n",
        "As we move forward, you can find instructions on how to install required libraries as they arise in this notebook."
      ],
      "metadata": {
        "id": "DqS52dif1LBS"
      }
    },
    {
      "cell_type": "markdown",
      "source": [
        "## Modeling objective\n",
        "\n",
        "The modeling objective is to build and test a decision tree model that uses banking data to predict whether a customer will churn. If a customer churns, it means they left the bank and took their business elsewhere. If we can predict customers who are likely to churn, we can take measures to retain them before they do. These measures could be promotions, discounts, or other incentives to boost customer satisfaction and, therefore, retention."
      ],
      "metadata": {
        "id": "CxaIlTm21W19"
      }
    },
    {
      "cell_type": "markdown",
      "source": [
        "### Model design and target variable\n",
        "\n",
        "Our data dictionary shows that there is a column called `Exited`. This is a Boolean value that indicates whether or not a customer left the bank (0 = did not leave, 1 = did leave). This will be our target variable. In other words, for each customer, our model should predict whether they should have a 0 or a 1 in the `Exited` column.\n",
        "\n",
        "This is a classification task because we are trying to predict on a binary class. Therefore, we will use a `DecisionTreeClassifier` model."
      ],
      "metadata": {
        "id": "1HkXF0q91cDS"
      }
    },
    {
      "cell_type": "markdown",
      "source": [
        "### A note on modeling workflow and model selection\n",
        "\n",
        "This notebook is used together with other notebooks in this course that model the same data. Because of this, we will build all of our models across all of these notebooks, and model selection will take place in the final notebook. The champion model will be the one that performs best on the validation data. Only this final model will be evaluated using the test data.\n",
        "\n",
        "This approach has a limitation. We are using the same data to tune the hyperparameters as we are using to perform model selection. This risks potentially overfitting the model to the validation data.\n",
        "\n",
        "Ideally, with enough time and data, we'd tune the models' hyperparameters, then score all the models on _separate_ validation data and perform model selection based on these scores. Finally, the champion model would be scored on the test holdout data to get an estimate of how the model can be expected to perform on new, unseen data."
      ],
      "metadata": {
        "id": "Ii3IcHUp1rfR"
      }
    },
    {
      "cell_type": "markdown",
      "source": [
        "# Build a decision tree with Python\n",
        "\n"
      ],
      "metadata": {
        "id": "JKqwL68_12B4"
      }
    },
    {
      "cell_type": "markdown",
      "source": [
        "## Import statements\n",
        "\n",
        "Before we begin with the exercises and analyzing the data, we need to import all libraries and extensions required for this programming exercise. Throughout the course, we will be using numpy and pandas for operations, and matplotlib for plotting."
      ],
      "metadata": {
        "id": "VbJ_M1Ea142N"
      }
    },
    {
      "cell_type": "code",
      "source": [
        "import numpy as np\n",
        "import pandas as pd\n",
        "import matplotlib.pyplot as plt\n",
        "\n",
        "from sklearn.model_selection import train_test_split\n",
        "from sklearn.tree import DecisionTreeClassifier\n",
        "\n",
        "# This function displays the splits of the tree\n",
        "from sklearn.tree import plot_tree\n",
        "\n",
        "from sklearn.metrics import ConfusionMatrixDisplay, confusion_matrix\n",
        "from sklearn.metrics import recall_score, precision_score, f1_score, accuracy_score"
      ],
      "metadata": {
        "id": "1PhPq75C18aX"
      },
      "execution_count": null,
      "outputs": []
    },
    {
      "cell_type": "markdown",
      "source": [
        "## Read in the data"
      ],
      "metadata": {
        "id": "HU1IX66u2uiO"
      }
    },
    {
      "cell_type": "code",
      "source": [
        "# Read in data\n",
        "file = 'Churn_Modelling.csv'\n",
        "df_original = pd.read_csv(file)\n",
        "df_original.head()"
      ],
      "metadata": {
        "id": "ATzojOMr2tvw"
      },
      "execution_count": null,
      "outputs": []
    },
    {
      "cell_type": "markdown",
      "source": [
        "## Examine the data\n",
        "\n",
        "At this point in a typical data science project, you'd do a thorough exploratory data analysis (EDA) to better understand your data and what it's telling you. For the purposes of this lab, we will skip this.\n",
        "\n",
        "In the steps that follow, we'll perform many of the same steps that we took to build our Naive Bayes model. We'll redo them here to review them for good measure.\n",
        "\n",
        "We'll begin by checking the balance of the classes in our target variable (`Exited`), as this will help us determine how to prepare our data. It will also inform our decision of what evaluation metric to use to select our final model."
      ],
      "metadata": {
        "id": "v2E_cp0G3Wtw"
      }
    },
    {
      "cell_type": "code",
      "source": [
        "# Check class balance\n",
        "df_original['Exited'].value_counts()"
      ],
      "metadata": {
        "id": "x8T5GckX3Vu4"
      },
      "execution_count": null,
      "outputs": []
    },
    {
      "cell_type": "markdown",
      "source": [
        "The class of our target variable is split roughly 80/20. In other words, ~20% of the people in this dataset churned. This is an unbalanced dataset, but it's not extreme. We will preserve this ratio when we model"
      ],
      "metadata": {
        "id": "b-gupZWr3s1k"
      }
    },
    {
      "cell_type": "markdown",
      "source": [
        "## Select an evaluation metric  \n",
        "\n",
        "The data contains 10,000 observations, and the class distribution is approximately 80/20.\n",
        "\n",
        "Since we have some imbalance in our target classes, we know that if we measure model performance by accuracy alone, the model could predict 0 (no churn) 100% of the time and have an accuracy of ~80%. An accuracy of 80% might seem pretty good, but we know in this case it would be meaningless, because our model would fail to identify anybody who churned. Therefore, accuracy is not the best metric to use to evaluate our model's performance.  \n",
        "\n",
        "To determine which evaluation metric might be best, consider how our model might be wrong. There are two possibilities for bad predictions:\n",
        "  \n",
        "  - **False positives:** When the model predicts a customer **will** churn when in fact they won't\n",
        "  - **False negatives:** When the model predicts a customer will **not** churn when in fact they will     \n",
        "\n",
        "As you know, there are a number of performance metrics aside from accuracy to choose from. Some of these include precision, recall, and F1 score. Let's examine these more closely, beginning with _precision:_\n",
        "\n",
        "$$precision = \\frac{\\text{TP}}{\\text{FP+TP}}$$\n",
        "  </br>\n",
        "\n",
        "And _recall:_\n",
        "\n",
        "$$recall = \\frac{\\text{TP}}{\\text{FN+TP}}$$  \n",
        "  </br>\n",
        "  \n",
        "Refer to the confusion matrix for a reminder on what the terms represent."
      ],
      "metadata": {
        "id": "PaCX8c7I3vWT"
      }
    },
    {
      "cell_type": "markdown",
      "source": [
        "![ADA_R-260_notebook_confusion_matrix.png](data:image/png;base64,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)"
      ],
      "metadata": {
        "id": "X3rL7TX34g4o"
      }
    },
    {
      "cell_type": "markdown",
      "source": [
        "`Precision` represents the percentage of all our model's predicted positives that are true positives. This might not be the best metric for us to use, because it disincentivizes predicting someone will churn unless there is a high degree of certainty that they will. This could translate to `a high rate of false negatives`.\n",
        "\n",
        "On the other hand, `recall` represents the percentage of all actual positives that the model identifies as such. This also might not be the best metric to use, because it rewards predicting someone will churn even if the likelihood of their doing so is very small. This could translate to `a high rate of false positives`.\n",
        "\n",
        "So which is `worse`, `false positives` or `false negatives`? Well, we'd first have to define what _worse_ means. This is dependent on the details of the project that you're working on. For the sake of this exercise, let us suppose that we're defining it as the error that would cost the bank more money.\n",
        "\n",
        "We can quickly get an idea of how much money each customer who churns costs the bank by calculating the average balance of all customers who churned."
      ],
      "metadata": {
        "id": "xeYgu-V06PyK"
      }
    },
    {
      "cell_type": "code",
      "source": [
        "# Calculate average balance of customers who churned\n",
        "avg_churned_bal = df_original[df_original['Exited']==1]['Balance'].mean()\n",
        "avg_churned_bal"
      ],
      "metadata": {
        "id": "hU5I_PyE3rMe"
      },
      "execution_count": null,
      "outputs": []
    },
    {
      "cell_type": "markdown",
      "source": [
        "This shows that the customers who churned each took with them €91,108.54, on average. That's a lot of money! This represents the average cost of the model predicting a false negative.\n",
        "\n",
        "What's the cost of predicting a false positive? Well, it's the cost of whatever the incentive might be to convince someone to stay with the bank when they were going to stay regardless of whether or not they were incentived. We don't have a number for this, and even if it's probably less than €91,108.54, it still could be thousands of Euros per customer in lost revenue, depending on the details of the incentive."
      ],
      "metadata": {
        "id": "HIAwfCF74qvH"
      }
    },
    {
      "cell_type": "markdown",
      "source": [
        "Since correctly identifying customers who will churn is potentially very valuable, we *could* select `recall` as our `most important metric`. This might be a perfectly valid approach, depending on the specifics of the campaign. But this could also be problematic. After all, if we select a model based solely on recall, we could select a very biased model that predicts everyone to churn, but then 8,000 people would be given incentives needlessly.  \n",
        "\n",
        "Since we don't know the exact cost of predicting a false negative, we'll make an assumption for this exercise. We'll assume that a metric that balances precision and recall is best. The metric that helps us achieve this balance is _F1 score_, which is defined as the harmonic mean of precision and recall.\n",
        "\n",
        "$${F_{1}} = 2 \\cdot \\frac{precision \\cdot  recall}{precision + recall}$$  \n",
        "</br>\n",
        "Again, there are many metrics to choose from. The important thing is that you make an informed decision that is based on your use case.\n",
        "\n",
        "Now that we've decided on an evaluation metric, let's prepare the data for modeling."
      ],
      "metadata": {
        "id": "KxI5N1AjBRZt"
      }
    },
    {
      "cell_type": "markdown",
      "source": [
        "## Feature engineering"
      ],
      "metadata": {
        "id": "VqOUPM7kBUVc"
      }
    },
    {
      "cell_type": "markdown",
      "source": [
        "### Feature selection\n",
        "\n",
        "In this step, we'll prepare the data for modeling. These are the same steps as what we did for the Naive Bayes model. For more thorough explanation of this process, refer to the [Feature Engineering notebook from Module 3](https://www.coursera.org/learn/the-nuts-and-bolts-of-machine-learning/ungradedLab/5w1w8/annotated-follow-along-resource-feature-engineering-with-python). Note that for time considerations, we won't create any new features.\n",
        "\n",
        "We begin by dropping the columns that we wouldn't expect to offer any predictive signal to the model. These columns include `RowNumber`, `CustomerID`, and `Surname`. We'll drop these columns so they don't introduce noise to our model.  \n",
        "\n",
        "We'll also drop the `Gender` column, because we don't want our model to make predictions based on gender."
      ],
      "metadata": {
        "id": "HsIVGAx-BWkc"
      }
    },
    {
      "cell_type": "code",
      "source": [
        "# Create a new df that drop RowNumber, CustomerId, Gender,\n",
        "churn_df = df_original.drop(['RowNumber','CustomerId','Surname','Gender'],axis=1)"
      ],
      "metadata": {
        "id": "CF5f7oNxDG4R"
      },
      "execution_count": null,
      "outputs": []
    },
    {
      "cell_type": "code",
      "source": [
        "churn_df.head()"
      ],
      "metadata": {
        "id": "hWBOPpCNIK3i"
      },
      "execution_count": null,
      "outputs": []
    },
    {
      "cell_type": "markdown",
      "source": [
        "### Feature transformation\n",
        "\n",
        "Next, we'll dummy encode the `Geography` variable, which is categorical. There are three possible categories captured here: France, Spain, and Germany. When we call `pd.get_dummies()` on this feature, it will replace the `Geography` column with three new Boolean columns--one for each possible category contained in the column being dummied.\n",
        "\n",
        "When we specify `drop_first='True'` in the function call, it means that instead of replacing `Geography` with three new columns, it will instead replace it with two columns. We can do this because no information is lost from this, but the dataset is shorter and simpler.  \n",
        "\n",
        "In this case, we end up with two new columns called `Geography_Germany` and `Geography_Spain`. We don't need a `Geography_France` column. Why not? Because if a customer's values in `Geography_Germany` and `Geography_Spain` are both 0, we'll know they're from France!"
      ],
      "metadata": {
        "id": "yTAOhKYpISTX"
      }
    },
    {
      "cell_type": "code",
      "source": [
        "# Dummy encode categorical variables\n",
        "churn_df = pd.get_dummies(churn_df, drop_first=True,)"
      ],
      "metadata": {
        "id": "buROBeWzL6KG"
      },
      "execution_count": null,
      "outputs": []
    },
    {
      "cell_type": "code",
      "source": [
        "churn_df.head()"
      ],
      "metadata": {
        "id": "UBL5tov3MIlX"
      },
      "execution_count": null,
      "outputs": []
    },
    {
      "cell_type": "markdown",
      "source": [
        "## Split the data\n",
        "\n",
        "It's time to split the data into features and target variable, and into training data and test data. We do this using the `train_test_split()` function. We'll put 25% of the data into our test set, and use the remaining 75% to train the model.\n",
        "\n",
        "Don't forget to include the `stratify=y` parameter, as this is what ensures that the 80/20 class ratio of the target variable is maintained in both the training and test datasets after splitting.\n",
        "\n",
        "Lastly, we set a random seed so we and others can reproduce our work."
      ],
      "metadata": {
        "id": "sK4DCTsqMWSt"
      }
    },
    {
      "cell_type": "code",
      "source": [
        "# Define the y (target) variable\n",
        "y = churn_df['Exited']\n",
        "\n",
        "# Define the X (predictor) variable\n",
        "X = churn_df.copy()\n",
        "X = X.drop('Exited', axis=1)\n",
        "\n",
        "# Split into train and test sets\n",
        "X_train, X_test, y_train, y_test = train_test_split(X, y, test_size=0.25, stratify=y, random_state=42)\n"
      ],
      "metadata": {
        "id": "BA0MWZz4MXna"
      },
      "execution_count": null,
      "outputs": []
    },
    {
      "cell_type": "markdown",
      "source": [
        "## Baseline model\n",
        "\n",
        "We'll first train a baseline model, just to get a sense of how predictive the data is and to give us scores that we can reference later. This will also show the process of instantiating and fitting the model, and then using it to make predictions. We'll predict on the test data.<br>"
      ],
      "metadata": {
        "id": "HPCv4zz8NL9Y"
      }
    },
    {
      "cell_type": "code",
      "source": [
        "# Instantiate the model\n",
        "decision_tree = DecisionTreeClassifier(random_state=0)\n",
        "\n",
        "# Fit the model to training data\n",
        "decision_tree.fit(X_train,y_train)\n",
        "\n",
        "# Make predictions on test data\n",
        "dt_pred = decision_tree.predict(X_test)"
      ],
      "metadata": {
        "id": "KdlqdkYdNQpz"
      },
      "execution_count": null,
      "outputs": []
    },
    {
      "cell_type": "code",
      "source": [
        "# Generate performance metrics\n",
        "print(\"Accuracy: \", \"%.3f\" % accuracy_score(y_test,dt_pred))\n",
        "print(\"Precision: \", \"%.3f\" % precision_score(y_test,dt_pred))\n",
        "print(\"Recall: \", \"%.3f\" % recall_score(y_test,dt_pred))\n",
        "print(\"F1 score: \", \"%.3f\" % f1_score(y_test,dt_pred))"
      ],
      "metadata": {
        "id": "X_kZZAL_Nuas"
      },
      "execution_count": null,
      "outputs": []
    },
    {
      "cell_type": "markdown",
      "source": [
        "A comparison of F1 scores reveals that the decision tree is an improvement to the Naive Bayes model we built earlier. For reference, here are the scores of both models:\n",
        "\n",
        "| Model | F1 | Recall | Precision | Accuracy |\n",
        "| :- | :-: | :-: | :-: | :-: |\n",
        "| Decision Tree | 0.494 | 0.503 | 0.486 | 0.790 |\n",
        "| Naive Bayes | 0.456 | 0.369 | 0.597 | 0.821 |"
      ],
      "metadata": {
        "id": "gAAfBv3lOrqT"
      }
    },
    {
      "cell_type": "markdown",
      "source": [
        "### Analysis of baseline model"
      ],
      "metadata": {
        "id": "r3GDyLUUOtbj"
      }
    },
    {
      "cell_type": "markdown",
      "source": [
        "#### Confusion matrix\n",
        "\n",
        "Let's inspect the confusion matrix of our decision tree's predictions. First, we'll write a short helper function to help us display the matrix."
      ],
      "metadata": {
        "id": "4mUPHvJMO0_7"
      }
    },
    {
      "cell_type": "code",
      "source": [
        "def conf_matrix_plot(model, x_data, y_data):\n",
        "    '''\n",
        "    Accepts as argument model object, X data (test or validate), and y data (test or validate).\n",
        "    Returns a plot of confusion matrix for predictions on y data.\n",
        "    '''\n",
        "\n",
        "    model_pred = model.predict(x_data)\n",
        "    cm = confusion_matrix(y_data, model_pred, labels=model.classes_)\n",
        "    disp = ConfusionMatrixDisplay(confusion_matrix=cm,\n",
        "                             display_labels=model.classes_)\n",
        "\n",
        "    disp.plot(values_format='')  # `values_format=''` suppresses scientific notation\n",
        "    plt.show()"
      ],
      "metadata": {
        "id": "P0i4tHMkO4A2"
      },
      "execution_count": null,
      "outputs": []
    },
    {
      "cell_type": "code",
      "source": [
        "# Generate confusion matrix\n",
        "conf_matrix_plot(decision_tree, X_test, y_test)"
      ],
      "metadata": {
        "id": "JO3YoW93O53D"
      },
      "execution_count": null,
      "outputs": []
    },
    {
      "cell_type": "markdown",
      "source": [
        "Notice from this confusion matrix that the model correctly predicts many `true negatives`. Of course, this is to be expected, given that the dataset is imbalanced in favor of negatives. When the model makes an error, it appears slightly more likely to predict a `false positive` than a `false negative`, but it's generally balanced. This is reflected in the precision and recall scores both being very close to each other."
      ],
      "metadata": {
        "id": "44FY0fmzO-HJ"
      }
    },
    {
      "cell_type": "markdown",
      "source": [
        "#### Plotting the tree\n",
        "\n",
        "Next, let's examine the splits of the tree. We'll do this by using the `plot_tree()` function that we imported. We pass to it our fit model as well as some additional parameters. Note that if we did not set `max_depth=2`, the function would return a plot of the entire tree, all the way down to the leaf nodes. This is intractable and unnecessary. We're most interested in the splits nearest the root, because these tell us the most predictive features.\n",
        "\n",
        "`class_names` displays what the majority class of each node is, and `filled` colors the nodes according to their majority class.\n",
        "\n",
        "Note that this plot represents how the tree grew from the _training data_. To make its predictions on the test data, the tree would simply pass each customer in the test data through its splits, from the root node all the way down to a leaf node."
      ],
      "metadata": {
        "id": "wdboZVsBO_AG"
      }
    },
    {
      "cell_type": "code",
      "source": [
        "# Plot the tree\n",
        "plt.figure(figsize=(15,12))\n",
        "plot_tree(decision_tree, max_depth=2, fontsize=14, feature_names=X.columns,\n",
        "          class_names={0:'stayed', 1:'churned'}, filled=True);\n",
        "plt.show()"
      ],
      "metadata": {
        "id": "LW2lGY_HPrSJ"
      },
      "execution_count": null,
      "outputs": []
    },
    {
      "cell_type": "markdown",
      "source": [
        "How do we read this plot? The first line of information in each node is the feature and split point that the model identified as being most predictive. In other words, this is the question that is being asked at that split. For our root node, the question was: _Is the customer less than or equal to 42.5 years old?_\n",
        "\n",
        "At each node, if the answer to the question it asks is \"yes,\" the sample would move to the child node on the left. If the answer is \"no,\" the sample would go to the child node on the right.\n",
        "\n",
        "`gini` refers to the node's _Gini impurity_. This is a way of measuring how \"pure\" a node is. The value can range from 0 to 0.5. A Gini score of 0 means there is no impurity&mdash;the node is a leaf, and all of its samples are of a single class. A score of 0.5 means the classes are all equally represented in that node.\n",
        "\n",
        "`samples` is simply how many samples are in that node, and `value` indicates how many of each class are in the node. Returning to the root node, we have `value = [5972, 1528]`. Notice that these numbers sum to 7,500, which is the number of samples in the node. This tells us that 5,972 customers in this node stayed (y=0) and 1,528 customers churned (y=1).\n",
        "\n",
        "Lastly, we have `class`. This tells us the majority class of the samples in each node."
      ],
      "metadata": {
        "id": "ZboUH_2YPzYs"
      }
    },
    {
      "cell_type": "markdown",
      "source": [
        "This plot tells us that, if we could only do a single split on a single variable, the one that would most help us predict whether a customer will churn is their age.\n",
        "\n",
        "If we look at the nodes at depth one, we notice that the number of products and whether or not the customer is an active member also are both strong predictors (relative to the features we have) of whether or not they will churn.\n",
        "\n",
        "This is a good indication that it might be worthwhile to return to your EDA and examine these features more closely.\n",
        "\n",
        "Finally, it's worth noting that there is no single question that can be asked&mdash;for any feature&mdash;that would cause a majority of samples in one of the child nodes to be of class \"churned.\" The tree must get to depth two (i.e., two questions must be asked) before this happens.\n",
        "\n",
        "If you have successfully completed the material above, congratulations! You now understand how to use Python to construct and interpret a decision tree model. Going forward, you can start using Python to build decision trees with your own data."
      ],
      "metadata": {
        "id": "TouBAQJhP13A"
      }
    },
    {
      "cell_type": "markdown",
      "source": [
        "# Tune and validate decision trees with Python\n",
        "\n",
        "**Important:** This part of the notebook corresponds with the \"Tune and validate decision trees with Python\" video, but it builds on the code from a previous video. If you have not already done so, run all of the preceding cells. You can do this easily by going to \"Cell\" in the menu at the top of the notebook and clicking \"Run All Above\" in the dropdown menu.\n",
        "\n",
        "Throughout the following exercises, you will learn to use Python to tune and cross-validate a decision tree model with scikit-learn. Before starting on this programming exercise, we strongly recommend watching the video lecture for the associated topics.\n",
        "\n",
        "All the information you need for solving this assignment is in this notebook, and all the code you will be implementing will take place within this notebook.\n",
        "\n",
        "Topics of focus include:\n",
        "\n",
        "* Using `GridSearchCV` to tune the following hyperparameters with cross-validation:\n",
        "  - `max_depth`\n",
        "  - `min_samples_leaf`\n",
        "\n",
        "As we move forward, you can find instructions on how to install required libraries as they arise in this notebook."
      ],
      "metadata": {
        "id": "SR9_rueuP92S"
      }
    },
    {
      "cell_type": "markdown",
      "source": [
        "## A note on modeling workflow and model selection\n",
        "\n",
        "The tuned decision tree model in this notebook will be referenced in the subsequent notebooks for random forest and XGBoost, which model the same data. Because of this, we will build all of our models across all of these notebooks, and model selection will take place in the final notebook. The champion model will be the one that performs best on the validation data. Only this final model will be evaluated using the test data.\n",
        "\n",
        "This approach has a limitation. We are using the same data to tune the hyperparameters as we are using to perform model selection. This risks potentially overfitting the model to the validation data.\n",
        "\n",
        "Ideally, with enough time and data, we'd tune the models' hyperparameters, then score all the models on _separate_ validation data and perform model selection based on these scores. Finally, the champion model would be scored on the test holdout data to get an estimate of how the model can be expected to perform on new, unseen data."
      ],
      "metadata": {
        "id": "S7oCwGY220No"
      }
    },
    {
      "cell_type": "markdown",
      "source": [
        "## Import statements\n",
        "\n",
        "This is a continuation of the notebook for the baseline decision tree model. Refer to the import statements above.\n",
        "\n",
        "The only additional import is `GridSearchCV` from scikit-learn's `model_selection` module. This is what we'll use to perform the grid search to tune the model's hyperparameters."
      ],
      "metadata": {
        "id": "Axh3tZlc3BaW"
      }
    },
    {
      "cell_type": "code",
      "source": [
        "# Import GridSearchCV\n",
        "from sklearn.model_selection import GridSearchCV"
      ],
      "metadata": {
        "id": "bAgyfjfY3FC8"
      },
      "execution_count": null,
      "outputs": []
    },
    {
      "cell_type": "markdown",
      "source": [
        "## Cross-validated hyperparameter tuning\n",
        "\n",
        "Cross-validating a model using GridSearchCV can be done in a number of different ways. If you find notebooks online that other people have written, you'll likely soon discover this for yourself. But all variations must fulfill the same general requirements. (Refer to the [GridSearchCV documentation](https://scikit-learn.org/stable/modules/generated/sklearn.model_selection.GridSearchCV.html#sklearn.model_selection.GridSearchCV) for further reading.)\n",
        "\n",
        "The format presented below is step-wise, making it easier to follow.\n",
        "* Instantiate the classifier (and set the `random_state`)"
      ],
      "metadata": {
        "id": "dgK9d5Hz3KBv"
      }
    },
    {
      "cell_type": "code",
      "source": [
        "# Instantiate the classifier\n",
        "tuned_decision_tree = DecisionTreeClassifier(random_state = 42)"
      ],
      "metadata": {
        "id": "N4TpLCQe3PUZ"
      },
      "execution_count": null,
      "outputs": []
    },
    {
      "cell_type": "markdown",
      "source": [
        "* Create a dictionary of hyperparameters to search over:\n",
        "\n",
        "  - key = name of hyperparameter (string)\n",
        "  - value = values to search over (list)"
      ],
      "metadata": {
        "id": "ifVwBAhQ3TsG"
      }
    },
    {
      "cell_type": "code",
      "source": [
        "# Assign a dictionary of hyperparameters to search over\n",
        "tree_para = {'max_depth':[4,5,6,7,8,9,10,11,12,15,20,30,40,50],\n",
        "             'min_samples_leaf': [2, 5, 10, 20, 50]}"
      ],
      "metadata": {
        "id": "CAFZujdq3Ycp"
      },
      "execution_count": null,
      "outputs": []
    },
    {
      "cell_type": "markdown",
      "source": [
        "* Create a set of scoring metrics to capture. These metrics can be selected from scikit-learn's [built-in options](https://scikit-learn.org/stable/modules/model_evaluation.html#scoring-parameter) or custom-defined. For this exercise, we'll capture accuracy, precision, recall, and F1 score so we can examine all of them. The metrics are entered as strings."
      ],
      "metadata": {
        "id": "VR-WkDkZ3eaU"
      }
    },
    {
      "cell_type": "code",
      "source": [
        "# Assign a set of scoring metrics to capture\n",
        "scoring = {\n",
        "    'accuracy': 'accuracy',\n",
        "    'precision': 'precision',\n",
        "    'recall': 'recall',\n",
        "    'f1': 'f1'\n",
        "}"
      ],
      "metadata": {
        "id": "qz_rq6X93hQz"
      },
      "execution_count": null,
      "outputs": []
    },
    {
      "cell_type": "markdown",
      "source": [
        "* Instantiate the `GridSearchCV` object. Pass as arguments:\n",
        "  - The classifier (`tuned_decision_tree`)\n",
        "  - The dictionary of hyperparameters to search over (`tree_para`)\n",
        "  - The set of scoring metrics (`scoring`)\n",
        "  - The number of cross-validation folds you want (`cv=5`)\n",
        "  - The scoring metric that you want GridSearch to use when it selects the \"best\" model (i.e., the model that performs best on average over all validation folds) (`refit='f1'`*)\n",
        "\n",
        "    \\* The reason it's called `refit` is because once the algorithm finds the combination of hyperparameters that results in the best average score across all validation folds, it will then refit this model to _all_ of the training data. Remember, up until now, with a 5-fold cross-validation, the model has only ever been fit on 80% (4/5) of the training data, because the remaining 20% was held out as a validation fold.\n",
        "    \n",
        "\n",
        "* Fit the data (`X_train`, `y_train`) to the `GridSearchCV` object (`clf`)\n",
        "\n",
        "Depending on the number of different hyperparameters you choose, the number of combinations you search over, the size of your data, and your available computing resources, this could take a long time."
      ],
      "metadata": {
        "id": "zadKj9Kc3iZo"
      }
    },
    {
      "cell_type": "code",
      "source": [
        "%%time\n",
        "# Instantiate the GridSearch\n",
        "clf = GridSearchCV(tuned_decision_tree,\n",
        "                   tree_para,\n",
        "                   scoring = scoring,\n",
        "                   cv=5,\n",
        "                   refit=\"f1\")\n",
        "\n",
        "# Fit the model\n",
        "clf.fit(X_train, y_train)"
      ],
      "metadata": {
        "id": "M-I6oykI3mAv"
      },
      "execution_count": null,
      "outputs": []
    },
    {
      "cell_type": "markdown",
      "source": [
        "Now that the model is fit and cross-validated, we can use the `best_estimator_` attribute to inspect the hyperparameter values that yielded the highest F1 score during cross-validation."
      ],
      "metadata": {
        "id": "hUtvToUN5pbX"
      }
    },
    {
      "cell_type": "code",
      "source": [
        "print(\"Best Avg. Validation Score: \", \"%.4f\" % clf.best_score_)"
      ],
      "metadata": {
        "id": "WKTDkuP06hDc"
      },
      "execution_count": null,
      "outputs": []
    },
    {
      "cell_type": "markdown",
      "source": [
        "Although the F1 score of 0.561 is significantly better than the baseline model's F1 score of 0.494, it's not a fair comparison, because the baseline model was scored on the test data and the tuned model was scored against validation folds that came from the training data.\n",
        "\n",
        "Recall that when we ran our grid search, we specified that we also wanted to capture precision, recall, and accuracy. The reason for doing this is that it's difficult to interpret an F1 score. These other metrics are much more directly interpretable, so they're worth knowing.\n",
        "\n",
        "The following cell defines a helper function that extracts these scores from the fit `GridSearchCV` object and returns a pandas dataframe with all four scores from the model with the best average F1 score during validation. This function will help us later when we want to add the results of other models to the table."
      ],
      "metadata": {
        "id": "tVbfnF9p6jTk"
      }
    },
    {
      "cell_type": "code",
      "source": [
        "def make_results(model_name, model_object):\n",
        "    '''\n",
        "    Accepts as arguments a model name (your choice - string) and\n",
        "    a fit GridSearchCV model object.\n",
        "\n",
        "    Returns a pandas df with the F1, recall, precision, and accuracy scores\n",
        "    for the model with the best mean F1 score across all validation folds.\n",
        "    '''\n",
        "\n",
        "    # Get all the results from the CV and put them in a df\n",
        "    cv_results = pd.DataFrame(model_object.cv_results_)\n",
        "\n",
        "    # Isolate the row of the df with the max(mean f1 score)\n",
        "    best_estimator_results = cv_results.iloc[cv_results['mean_test_f1'].idxmax(), :]\n",
        "\n",
        "    # Extract accuracy, precision, recall, and f1 score from that row\n",
        "    f1 = best_estimator_results.mean_test_f1\n",
        "    recall = best_estimator_results.mean_test_recall\n",
        "    precision = best_estimator_results.mean_test_precision\n",
        "    accuracy = best_estimator_results.mean_test_accuracy\n",
        "\n",
        "    # Create table of results\n",
        "    table = pd.DataFrame()\n",
        "    # Create table of results\n",
        "    table = pd.DataFrame({'Model': [model_name],\n",
        "                          'F1': [f1],\n",
        "                          'Recall': [recall],\n",
        "                          'Precision': [precision],\n",
        "                          'Accuracy': [accuracy]\n",
        "                         }\n",
        "                        )\n",
        "\n",
        "    return table"
      ],
      "metadata": {
        "id": "ySXUZxUU6lSv"
      },
      "execution_count": null,
      "outputs": []
    },
    {
      "cell_type": "code",
      "source": [
        "# Call the function on our model\n",
        "result_table = make_results(\"Tuned Decision Tree\", clf)"
      ],
      "metadata": {
        "id": "1q8zL_tU6ogd"
      },
      "execution_count": null,
      "outputs": []
    },
    {
      "cell_type": "markdown",
      "source": [
        "We can save these results and open them in another notebook if we want to add to them. We'll save as a .csv file using `to_csv()`."
      ],
      "metadata": {
        "id": "gzZYIQdG6rCy"
      }
    },
    {
      "cell_type": "code",
      "source": [
        "# Save table as csv\n",
        "result_table.to_csv(\"Results.csv\")"
      ],
      "metadata": {
        "id": "9Z32e_-J6s2S"
      },
      "execution_count": null,
      "outputs": []
    },
    {
      "cell_type": "code",
      "source": [
        "# View the results\n",
        "result_table"
      ],
      "metadata": {
        "id": "faZYknf86uUd"
      },
      "execution_count": null,
      "outputs": []
    },
    {
      "cell_type": "markdown",
      "source": [
        "# Activity : Build a decision tree"
      ],
      "metadata": {
        "id": "nKAghX86bfq6"
      }
    },
    {
      "cell_type": "markdown",
      "source": [
        "## Introduction\n",
        "\n",
        "In this activity, you’ll build a decision tree model that makes predictions for a target based on multiple features. Because decision trees are used across a wide array of industries, becoming proficient in the process of building one will help you expand your skill set in a widely-applicable way.   \n",
        "\n",
        "For this activity, you work as a consultant for an airline. The airline is interested in predicting whether a future customer would be satisfied with their services given previous customer feedback about their flight experience. The airline would like you to construct and evaluate a model that can accomplish this goal. Specifically, they are interested in knowing which features are most important to customer satisfaction.\n",
        "\n",
        "The data for this activity includes survey responses from 129,880 customers. It includes data points such as class, flight distance, and in-flight entertainment, among others. In a previous activity, you utilized a binomial logistic regression model to help the airline better understand this data. In this activity, your goal will be to utilize a decision tree model to predict whether or not a customer will be satisfied with their flight experience.\n",
        "\n",
        "Because this activity uses a dataset from the industry, you will need to conduct basic EDA, data cleaning, and other manipulations to prepare the data for modeling.\n",
        "\n",
        "In this activity, you’ll practice the following skills:\n",
        "\n",
        "* Importing packages and loading data\n",
        "* Exploring the data and completing the cleaning process\n",
        "* Building a decision tree model\n",
        "* Tuning hyperparameters using `GridSearchCV`\n",
        "* Evaluating a decision tree model using a confusion matrix and various other plots"
      ],
      "metadata": {
        "id": "moyvE3Olbl9j"
      }
    },
    {
      "cell_type": "markdown",
      "source": [
        "## Step 1: Imports\n",
        "\n",
        "Import relevant Python packages. Use `DecisionTreeClassifier`,` plot_tree`, and various imports from `sklearn.metrics` to build, visualize, and evaluate the model."
      ],
      "metadata": {
        "id": "TEq8bG35bpsI"
      }
    },
    {
      "cell_type": "markdown",
      "source": [
        "### Import packages"
      ],
      "metadata": {
        "id": "iGz9FEVKkFI3"
      }
    },
    {
      "cell_type": "code",
      "source": [
        "# Standard operational package imports\n",
        "import numpy as np\n",
        "import pandas as pd\n",
        "\n",
        "# Important imports for modeling and evaluation\n",
        "from sklearn.model_selection import train_test_split\n",
        "from sklearn.model_selection import GridSearchCV\n",
        "from sklearn.tree import DecisionTreeClassifier\n",
        "from sklearn.tree import plot_tree\n",
        "import sklearn.metrics as metrics\n",
        "\n",
        "# Visualization package imports\n",
        "import matplotlib.pyplot as plt\n",
        "import seaborn as sns"
      ],
      "metadata": {
        "id": "efOAd-N0kGwt"
      },
      "execution_count": null,
      "outputs": []
    },
    {
      "cell_type": "markdown",
      "source": [
        "### Load the dataset\n",
        "`Pandas` is used to load the **Invistico_Airline.csv** dataset. The resulting pandas DataFrame is saved in a variable named `df_original`. As shown in this cell, the dataset has been automatically loaded in for you. You do not need to download the .csv file, or provide more code, in order to access the dataset and proceed with this lab. Please continue with this activity by completing the following instructions."
      ],
      "metadata": {
        "id": "vLpKzNAFkKKG"
      }
    },
    {
      "cell_type": "code",
      "source": [
        "# RUN THIS CELL TO IMPORT YOUR DATA.\n",
        "\n",
        "df_original = pd.read_csv(\"Invistico_Airline.csv\")"
      ],
      "metadata": {
        "id": "5TizEod6kPeT"
      },
      "execution_count": null,
      "outputs": []
    },
    {
      "cell_type": "markdown",
      "source": [
        "### Output the first 10 rows of data"
      ],
      "metadata": {
        "id": "Dx2RO1PIkTQB"
      }
    },
    {
      "cell_type": "code",
      "source": [
        "df_original.head(n = 10)"
      ],
      "metadata": {
        "id": "I2h4k0bxkUYT"
      },
      "execution_count": null,
      "outputs": []
    },
    {
      "cell_type": "markdown",
      "source": [
        "## Step 2: Data exploration, data cleaning, and model preparation\n",
        "\n",
        "### Prepare the data\n",
        "\n",
        "After loading the dataset, prepare the data to be suitable for decision tree classifiers. This includes:\n",
        "\n",
        "*   Exploring the data\n",
        "*   Checking for missing values\n",
        "*   Encoding the data\n",
        "*   Renaming a column\n",
        "*   Creating the training and testing data"
      ],
      "metadata": {
        "id": "PO8B4-XskYJz"
      }
    },
    {
      "cell_type": "markdown",
      "source": [
        "### Explore the data\n",
        "\n",
        "Check the data type of each column. Note that decision trees expect numeric data."
      ],
      "metadata": {
        "id": "DNkWkWvrkZxx"
      }
    },
    {
      "cell_type": "code",
      "source": [
        "df_original.dtypes"
      ],
      "metadata": {
        "id": "VQabTFL8kcbS"
      },
      "execution_count": null,
      "outputs": []
    },
    {
      "cell_type": "markdown",
      "source": [
        "### Output unique values\n",
        "\n",
        "The `Class` column is ordinal (meaning there is an inherent order that is significant). For example, airlines typically charge more for 'Business' than 'Eco Plus' and 'Eco'. Output the unique values in the `Class` column."
      ],
      "metadata": {
        "id": "HBzMAikTkd8d"
      }
    },
    {
      "cell_type": "code",
      "source": [
        "df_original[\"Class\"].unique()"
      ],
      "metadata": {
        "id": "CUBgHh3Qkg8J"
      },
      "execution_count": null,
      "outputs": []
    },
    {
      "cell_type": "markdown",
      "source": [
        "### Check the counts of the predicted labels\n",
        "\n",
        "In order to predict customer satisfaction, verify if the dataset is imbalanced. To do this, check the counts of each of the predicted labels."
      ],
      "metadata": {
        "id": "n8BuqVD2kmj-"
      }
    },
    {
      "cell_type": "code",
      "source": [
        "df_original['satisfaction'].value_counts(dropna = False)"
      ],
      "metadata": {
        "id": "5bRegAbmkoAX"
      },
      "execution_count": null,
      "outputs": []
    },
    {
      "cell_type": "markdown",
      "source": [
        "**Question:** How many satisfied and dissatisfied customers were there?\n",
        "\n",
        "There are 71087 satisfied customers and 58793 dissatisfied customers.\n",
        "\n",
        "**Question:** What percentage of customers were satisfied?\n",
        "\n",
        "54.7 percent (71087/129880) of customers were satisfied. This value can be compared to a decision tree's model accuracy."
      ],
      "metadata": {
        "id": "EEk0C7o-ku-6"
      }
    },
    {
      "cell_type": "markdown",
      "source": [
        "### Check for missin values\n",
        "\n",
        "The sklearn decision tree implementation does not support missing values. Check for missing values in the rows of the data."
      ],
      "metadata": {
        "id": "2yewW6RykzEi"
      }
    },
    {
      "cell_type": "code",
      "source": [
        "df_original.isnull().sum()"
      ],
      "metadata": {
        "id": "iSYwI_1Sk3k4"
      },
      "execution_count": null,
      "outputs": []
    },
    {
      "cell_type": "markdown",
      "source": [
        "**Question:** Why is it important to check how many rows and columns there are in the dataset?\n",
        "\n",
        "This is important to check because if there are only a small number of missing values in the dataset, they can more safely be removed."
      ],
      "metadata": {
        "id": "DFdwkkW6k5Ua"
      }
    },
    {
      "cell_type": "markdown",
      "source": [
        "### Check the number of rows and columns in the dataset"
      ],
      "metadata": {
        "id": "kp_DZ0mZlAdO"
      }
    },
    {
      "cell_type": "code",
      "source": [
        "df_original.shape"
      ],
      "metadata": {
        "id": "Ns6fVea2lBOF"
      },
      "execution_count": null,
      "outputs": []
    },
    {
      "cell_type": "markdown",
      "source": [
        "### Drop the rows with missing values\n",
        "\n",
        "Drop the rows with missing values and save the resulting pandas DataFrame in a variable named `df_subset`."
      ],
      "metadata": {
        "id": "WRfpwqbrlDlG"
      }
    },
    {
      "cell_type": "code",
      "source": [
        "df_subset = df_original.dropna(axis=0).reset_index(drop = True)"
      ],
      "metadata": {
        "id": "X-xOJXhWlFuH"
      },
      "execution_count": null,
      "outputs": []
    },
    {
      "cell_type": "markdown",
      "source": [
        "### Check for missing values\n",
        "\n",
        "Check that `df_subset` does not contain any missing values."
      ],
      "metadata": {
        "id": "qx3lWAuGlIjk"
      }
    },
    {
      "cell_type": "code",
      "source": [
        "df_subset.isna().sum()"
      ],
      "metadata": {
        "id": "uWamMCJQlLBC"
      },
      "execution_count": null,
      "outputs": []
    },
    {
      "cell_type": "markdown",
      "source": [
        "### Check the number of rows and columns in the dataset again\n",
        "\n",
        "Check how many rows and columns are remaining in the dataset. You should now have 393 fewer rows of data."
      ],
      "metadata": {
        "id": "2sJuB65XlM-S"
      }
    },
    {
      "cell_type": "code",
      "source": [
        "df_subset.shape"
      ],
      "metadata": {
        "id": "Mr3ikEbylPf6"
      },
      "execution_count": null,
      "outputs": []
    },
    {
      "cell_type": "markdown",
      "source": [
        "### Encode the data\n",
        "\n",
        "Four columns (`satisfaction`, `Customer Type`, `Type of Travel`, `Class`) are the pandas dtype object. Decision trees need numeric columns. Start by converting the ordinal `Class` column into numeric."
      ],
      "metadata": {
        "id": "gph-FX-plRWI"
      }
    },
    {
      "cell_type": "code",
      "source": [
        "df_subset['Class'] = df_subset['Class'].map({\"Business\": 3, \"Eco Plus\": 2, \"Eco\": 1})"
      ],
      "metadata": {
        "id": "elDelYtGlTcM"
      },
      "execution_count": null,
      "outputs": []
    },
    {
      "cell_type": "markdown",
      "source": [
        "### Represent the data in the target variable numerically\n",
        "\n",
        "To represent the data in the target variable numerically, assign `\"satisfied\"` to the label `1` and `\"dissatisfied\"` to the label `0` in the `satisfaction` column."
      ],
      "metadata": {
        "id": "cvIPE2FzlVf5"
      }
    },
    {
      "cell_type": "code",
      "source": [
        "df_subset['satisfaction'] = df_subset['satisfaction'].map({\"satisfied\": 1, \"dissatisfied\": 0})"
      ],
      "metadata": {
        "id": "OyIoH-wIlduY"
      },
      "execution_count": null,
      "outputs": []
    },
    {
      "cell_type": "markdown",
      "source": [
        "### Convert categorical columns into numeric\n",
        "\n",
        "There are other columns in the dataset that are still categorical. Be sure to convert categorical columns in the dataset into numeric."
      ],
      "metadata": {
        "id": "-25Mhyb-lhRo"
      }
    },
    {
      "cell_type": "code",
      "source": [
        "df_subset = pd.get_dummies(df_subset, drop_first = True)"
      ],
      "metadata": {
        "id": "vhm4_G8yljMQ"
      },
      "execution_count": null,
      "outputs": []
    },
    {
      "cell_type": "markdown",
      "source": [
        "### Check column data types\n",
        "\n",
        "Now that you have converted categorical columns into numeric, check your column data types."
      ],
      "metadata": {
        "id": "C-IIugbTlm9y"
      }
    },
    {
      "cell_type": "code",
      "source": [
        "df_subset.dtypes"
      ],
      "metadata": {
        "id": "Arc6s9GAlosX"
      },
      "execution_count": null,
      "outputs": []
    },
    {
      "cell_type": "markdown",
      "source": [
        "### Create the training and testing data\n",
        "\n",
        "Put 75% of the data into a training set and the remaining 25% into a testing set."
      ],
      "metadata": {
        "id": "2h9FDKmllp3y"
      }
    },
    {
      "cell_type": "code",
      "source": [
        "y = df_subset[\"satisfaction\"]\n",
        "\n",
        "X = df_subset.copy()\n",
        "X = X.drop(\"satisfaction\", axis = 1)\n",
        "\n",
        "X_train, X_test, y_train, y_test = train_test_split(X, y, test_size=0.25, random_state=0)"
      ],
      "metadata": {
        "id": "r5-9D4nslrjV"
      },
      "execution_count": null,
      "outputs": []
    },
    {
      "cell_type": "markdown",
      "source": [
        "## Step 3: Model building"
      ],
      "metadata": {
        "id": "nwiOCpJ8lvhf"
      }
    },
    {
      "cell_type": "markdown",
      "source": [
        "### Fit a decision tree classifier model to the data\n",
        "\n",
        "Make a decision tree instance called `decision_tree` and pass in `0` to the `random_state` parameter. This is only so that if other data professionals run this code, they get the same results. Fit the model on the training set, use the `predict()` function on the testing set, and assign those predictions to the variable `dt_pred`."
      ],
      "metadata": {
        "id": "aBimUz3HlxOS"
      }
    },
    {
      "cell_type": "code",
      "source": [
        "\n",
        "decision_tree = DecisionTreeClassifier(random_state=0)\n",
        "\n",
        "decision_tree.fit(X_train, y_train)\n",
        "\n",
        "dt_pred = decision_tree.predict(X_test)"
      ],
      "metadata": {
        "id": "UTOnyqHYlzJK"
      },
      "execution_count": null,
      "outputs": []
    },
    {
      "cell_type": "markdown",
      "source": [
        "**Question:** What are some advantages of using decision trees versus other models you have learned about?\n",
        "\n",
        "Decision trees require no assumptions regarding the distribution of underlying data and don't require scaling of features. This lab uses decision trees because there is no need for additional data processing, unlike some other models."
      ],
      "metadata": {
        "id": "smDJmWfbl1Mo"
      }
    },
    {
      "cell_type": "markdown",
      "source": [
        "## Step 4: Results and evaluation\n",
        "\n",
        "Print out the decision tree model's accuracy, precision, recall, and F1 score."
      ],
      "metadata": {
        "id": "-gTSIIcBl3qv"
      }
    },
    {
      "cell_type": "code",
      "source": [
        "print(\"Decision Tree\")\n",
        "print(\"Accuracy:\", \"%.6f\" % metrics.accuracy_score(y_test, dt_pred))\n",
        "print(\"Precision:\", \"%.6f\" % metrics.precision_score(y_test, dt_pred))\n",
        "print(\"Recall:\", \"%.6f\" % metrics.recall_score(y_test, dt_pred))\n",
        "print(\"F1 Score:\", \"%.6f\" % metrics.f1_score(y_test, dt_pred))"
      ],
      "metadata": {
        "id": "n1vsGF9LmA2M"
      },
      "execution_count": null,
      "outputs": []
    },
    {
      "cell_type": "markdown",
      "source": [
        "**Question:** Are there any additional steps you could take to improve the performance or function of your decision tree?\n",
        "\n",
        "Decision trees can be particularly susceptible to overfitting. Combining hyperparameter tuning and grid search can help ensure this doesn't happen. For instance, setting an appropriate value for max depth could potentially help reduce a decision tree's overfitting problem by limiting how deep a tree can grow."
      ],
      "metadata": {
        "id": "7gDm-qMdmC6q"
      }
    },
    {
      "cell_type": "markdown",
      "source": [
        "### Produce a confusion matrix\n",
        "\n",
        "Data professionals often like to know the types of errors made by an algorithm. To obtain this information, produce a confusion matrix."
      ],
      "metadata": {
        "id": "I5OWZ41mmJX0"
      }
    },
    {
      "cell_type": "code",
      "source": [
        "cm = metrics.confusion_matrix(y_test, dt_pred, labels = decision_tree.classes_)\n",
        "disp = metrics.ConfusionMatrixDisplay(confusion_matrix = cm,display_labels = decision_tree.classes_)\n",
        "disp.plot()"
      ],
      "metadata": {
        "id": "jAwUAhMvmMFt"
      },
      "execution_count": null,
      "outputs": []
    },
    {
      "cell_type": "markdown",
      "source": [
        "**Question:** What patterns can you identify between true positives and true negatives, as well as false positives and false negatives?\n",
        "\n",
        "In the confusion matrix, there are a high proportion of true positives and true negatives (where the matrix accurately predicted that the customer would be satisfied or dissatified, respectively).\n",
        "\n",
        "The matrix also had a relatively low number of false positives and false negatives (where the matrix innacurately predicted that the customer would be satisfied or dissatified, respectively.)"
      ],
      "metadata": {
        "id": "MVxL-225mPyK"
      }
    },
    {
      "cell_type": "markdown",
      "source": [
        "### Plot the decision tree\n",
        "\n",
        "Examine the decision tree. Use `plot_tree` function to produce a visual representation of the tree to pinpoint where the splits in the data are occurring."
      ],
      "metadata": {
        "id": "YSN2-gF5mbeD"
      }
    },
    {
      "cell_type": "code",
      "source": [
        "plt.figure(figsize=(20,12))\n",
        "plot_tree(decision_tree, max_depth=2, fontsize=14, feature_names=X.columns);"
      ],
      "metadata": {
        "id": "2wPyTBQYmdKB"
      },
      "execution_count": null,
      "outputs": []
    },
    {
      "cell_type": "markdown",
      "source": [
        "### BONUS STEP: Calculate feature importance\n",
        "\n",
        "The `DecisionTreeClassifier` class comes with a [`feature_importances_`](https://scikit-learn.org/stable/modules/generated/sklearn.tree.DecisionTreeClassifier.html#sklearn.tree.DecisionTreeClassifier.feature_importances_) attribute that provides access to the features' relative importance in the model. The feature importances are computed when the `fit()` method is called on the `DecisionTreeClassifier` instance. In other words, it's information that is generated during model training. Here's how it works.\n",
        "\n",
        "For each feature used in the tree, the algorithm finds all of the decision nodes that use that particular feature as the split criterion. Then for each of those decision nodes it computes the decrease in Gini impurity (or entropy, or log loss, or whatever metric you select when you fit the model&mdash;default is Gini impurity) that results from that split (so, the decrease from parent to children). Then the algorithm sums up the decreases across all the decisions made using that feature and expresses it as a percentage of the total decrease that resulted from _all_ features.\n",
        "\n",
        "Here is a simple example of how you can calculate feature importance from a tree diagram. This tree splits 10 samples using two features, X<sub>1</sub> and X<sub>2</sub>:\n",
        "\n",
        "![SR-003_build_a_decision_tree_graphic.png](data:image/png;base64,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)\n",
        "\n",
        "Notice that the reduction in Gini impurity is weighted based on how many samples are in each node. Ultimately, the reduction that results from each feature is normalized (i.e., expressed as a percentage), and this percentage represents the importance of a given feature.\n",
        "\n",
        "This can be interpreted as: X<sub>1</sub> is responsible for 64.3% of the overall reduction of Gini impurity in the model, and X<sub>2</sub> is responsible for 35.7% of the overall reduction of Gini impurity in the model.\n",
        "\n",
        "Using the `feature_importances_` attribute to fetch the relative importances of each feature, you can then plot the results."
      ],
      "metadata": {
        "id": "dzcdh4_smhkm"
      }
    },
    {
      "cell_type": "code",
      "source": [
        "importances = decision_tree.feature_importances_\n",
        "\n",
        "forest_importances = pd.Series(importances, index=X.columns).sort_values(ascending=False)\n",
        "\n",
        "fig, ax = plt.subplots()\n",
        "forest_importances.plot.bar(ax=ax);"
      ],
      "metadata": {
        "id": "I5sg9TDgm4O6"
      },
      "execution_count": null,
      "outputs": []
    },
    {
      "cell_type": "markdown",
      "source": [
        "The feature importance graph seems to confirm that `'Inflight entertainment'`, `'Seat comfort'`, and `'Ease of Online booking'` are the most important features for this model."
      ],
      "metadata": {
        "id": "mRfzniiYnAle"
      }
    },
    {
      "cell_type": "markdown",
      "source": [
        "### Hyperparameter tuning\n",
        "\n",
        "Knowing how and when to adjust or tune a model can help a data professional significantly increase performance. In this section, you will find the best values for the hyperparameters `max_depth` and `min_samples_leaf` using grid search and cross validation. Below are some values for the hyperparameters `max_depth` and `min_samples_leaf`.   "
      ],
      "metadata": {
        "id": "0GyOlti_nF3x"
      }
    },
    {
      "cell_type": "code",
      "source": [
        "tree_para = {'max_depth':[1,2,3,4,5,6,7,8,9,10,11,12,13,14,15,16,17,18,19,20,30,40,50],\n",
        "             'min_samples_leaf': [2,3,4,5,6,7,8,9, 10, 15, 20, 50]}\n",
        "\n",
        "scoring = {'accuracy': 'accuracy','precision': 'precision','recall': 'recall','f1': 'f1'}"
      ],
      "metadata": {
        "id": "cL5T0wnenHNN"
      },
      "execution_count": null,
      "outputs": []
    },
    {
      "cell_type": "markdown",
      "source": [
        "### Check combinations of values\n",
        "\n",
        "Check every combination of values to examine which pair has the best evaluation metrics. Make a decision tree instance called `tuned_decision_tree` with `random_state=0`, make a `GridSearchCV` instance called `clf`, make sure to refit the estimator using `\"f1\"`, and fit the model on the training set.\n",
        "\n",
        "**Note:** This cell may take up to 15 minutes to run."
      ],
      "metadata": {
        "id": "ZAwuWmULnIOA"
      }
    },
    {
      "cell_type": "code",
      "source": [
        "tuned_decision_tree = DecisionTreeClassifier(random_state=0)\n",
        "\n",
        "clf = GridSearchCV(tuned_decision_tree,\n",
        "                   tree_para,\n",
        "                   scoring = scoring,\n",
        "                   cv=5,\n",
        "                   refit=\"f1\")\n",
        "\n",
        "clf.fit(X_train, y_train)"
      ],
      "metadata": {
        "id": "YeIH4oeanKWn",
        "colab": {
          "base_uri": "https://localhost:8080/",
          "height": 347
        },
        "outputId": "8d3e0c87-2127-4f6d-e536-61bcf862505f"
      },
      "execution_count": 164,
      "outputs": [
        {
          "output_type": "error",
          "ename": "KeyboardInterrupt",
          "evalue": "",
          "traceback": [
            "\u001b[0;31m---------------------------------------------------------------------------\u001b[0m",
            "\u001b[0;31mKeyboardInterrupt\u001b[0m                         Traceback (most recent call last)",
            "\u001b[0;32m<ipython-input-164-ad644d642818>\u001b[0m in \u001b[0;36m<cell line: 0>\u001b[0;34m()\u001b[0m\n\u001b[1;32m      7\u001b[0m                    refit=\"f1\")\n\u001b[1;32m      8\u001b[0m \u001b[0;34m\u001b[0m\u001b[0m\n\u001b[0;32m----> 9\u001b[0;31m \u001b[0mclf\u001b[0m\u001b[0;34m.\u001b[0m\u001b[0mfit\u001b[0m\u001b[0;34m(\u001b[0m\u001b[0mX_train\u001b[0m\u001b[0;34m,\u001b[0m \u001b[0my_train\u001b[0m\u001b[0;34m)\u001b[0m\u001b[0;34m\u001b[0m\u001b[0;34m\u001b[0m\u001b[0m\n\u001b[0m",
            "\u001b[0;32m/usr/local/lib/python3.11/dist-packages/sklearn/base.py\u001b[0m in \u001b[0;36mwrapper\u001b[0;34m(estimator, *args, **kwargs)\u001b[0m\n\u001b[1;32m   1387\u001b[0m                 )\n\u001b[1;32m   1388\u001b[0m             ):\n\u001b[0;32m-> 1389\u001b[0;31m                 \u001b[0;32mreturn\u001b[0m \u001b[0mfit_method\u001b[0m\u001b[0;34m(\u001b[0m\u001b[0mestimator\u001b[0m\u001b[0;34m,\u001b[0m \u001b[0;34m*\u001b[0m\u001b[0margs\u001b[0m\u001b[0;34m,\u001b[0m \u001b[0;34m**\u001b[0m\u001b[0mkwargs\u001b[0m\u001b[0;34m)\u001b[0m\u001b[0;34m\u001b[0m\u001b[0;34m\u001b[0m\u001b[0m\n\u001b[0m\u001b[1;32m   1390\u001b[0m \u001b[0;34m\u001b[0m\u001b[0m\n\u001b[1;32m   1391\u001b[0m         \u001b[0;32mreturn\u001b[0m \u001b[0mwrapper\u001b[0m\u001b[0;34m\u001b[0m\u001b[0;34m\u001b[0m\u001b[0m\n",
            "\u001b[0;32m/usr/local/lib/python3.11/dist-packages/sklearn/model_selection/_search.py\u001b[0m in \u001b[0;36mfit\u001b[0;34m(self, X, y, **params)\u001b[0m\n\u001b[1;32m   1022\u001b[0m                 \u001b[0;32mreturn\u001b[0m \u001b[0mresults\u001b[0m\u001b[0;34m\u001b[0m\u001b[0;34m\u001b[0m\u001b[0m\n\u001b[1;32m   1023\u001b[0m \u001b[0;34m\u001b[0m\u001b[0m\n\u001b[0;32m-> 1024\u001b[0;31m             \u001b[0mself\u001b[0m\u001b[0;34m.\u001b[0m\u001b[0m_run_search\u001b[0m\u001b[0;34m(\u001b[0m\u001b[0mevaluate_candidates\u001b[0m\u001b[0;34m)\u001b[0m\u001b[0;34m\u001b[0m\u001b[0;34m\u001b[0m\u001b[0m\n\u001b[0m\u001b[1;32m   1025\u001b[0m \u001b[0;34m\u001b[0m\u001b[0m\n\u001b[1;32m   1026\u001b[0m             \u001b[0;31m# multimetric is determined here because in the case of a callable\u001b[0m\u001b[0;34m\u001b[0m\u001b[0;34m\u001b[0m\u001b[0m\n",
            "\u001b[0;32m/usr/local/lib/python3.11/dist-packages/sklearn/model_selection/_search.py\u001b[0m in \u001b[0;36m_run_search\u001b[0;34m(self, evaluate_candidates)\u001b[0m\n\u001b[1;32m   1569\u001b[0m     \u001b[0;32mdef\u001b[0m \u001b[0m_run_search\u001b[0m\u001b[0;34m(\u001b[0m\u001b[0mself\u001b[0m\u001b[0;34m,\u001b[0m \u001b[0mevaluate_candidates\u001b[0m\u001b[0;34m)\u001b[0m\u001b[0;34m:\u001b[0m\u001b[0;34m\u001b[0m\u001b[0;34m\u001b[0m\u001b[0m\n\u001b[1;32m   1570\u001b[0m         \u001b[0;34m\"\"\"Search all candidates in param_grid\"\"\"\u001b[0m\u001b[0;34m\u001b[0m\u001b[0;34m\u001b[0m\u001b[0m\n\u001b[0;32m-> 1571\u001b[0;31m         \u001b[0mevaluate_candidates\u001b[0m\u001b[0;34m(\u001b[0m\u001b[0mParameterGrid\u001b[0m\u001b[0;34m(\u001b[0m\u001b[0mself\u001b[0m\u001b[0;34m.\u001b[0m\u001b[0mparam_grid\u001b[0m\u001b[0;34m)\u001b[0m\u001b[0;34m)\u001b[0m\u001b[0;34m\u001b[0m\u001b[0;34m\u001b[0m\u001b[0m\n\u001b[0m\u001b[1;32m   1572\u001b[0m \u001b[0;34m\u001b[0m\u001b[0m\n\u001b[1;32m   1573\u001b[0m \u001b[0;34m\u001b[0m\u001b[0m\n",
            "\u001b[0;32m/usr/local/lib/python3.11/dist-packages/sklearn/model_selection/_search.py\u001b[0m in \u001b[0;36mevaluate_candidates\u001b[0;34m(candidate_params, cv, more_results)\u001b[0m\n\u001b[1;32m    968\u001b[0m                     )\n\u001b[1;32m    969\u001b[0m \u001b[0;34m\u001b[0m\u001b[0m\n\u001b[0;32m--> 970\u001b[0;31m                 out = parallel(\n\u001b[0m\u001b[1;32m    971\u001b[0m                     delayed(_fit_and_score)(\n\u001b[1;32m    972\u001b[0m                         \u001b[0mclone\u001b[0m\u001b[0;34m(\u001b[0m\u001b[0mbase_estimator\u001b[0m\u001b[0;34m)\u001b[0m\u001b[0;34m,\u001b[0m\u001b[0;34m\u001b[0m\u001b[0;34m\u001b[0m\u001b[0m\n",
            "\u001b[0;32m/usr/local/lib/python3.11/dist-packages/sklearn/utils/parallel.py\u001b[0m in \u001b[0;36m__call__\u001b[0;34m(self, iterable)\u001b[0m\n\u001b[1;32m     75\u001b[0m             \u001b[0;32mfor\u001b[0m \u001b[0mdelayed_func\u001b[0m\u001b[0;34m,\u001b[0m \u001b[0margs\u001b[0m\u001b[0;34m,\u001b[0m \u001b[0mkwargs\u001b[0m \u001b[0;32min\u001b[0m \u001b[0miterable\u001b[0m\u001b[0;34m\u001b[0m\u001b[0;34m\u001b[0m\u001b[0m\n\u001b[1;32m     76\u001b[0m         )\n\u001b[0;32m---> 77\u001b[0;31m         \u001b[0;32mreturn\u001b[0m \u001b[0msuper\u001b[0m\u001b[0;34m(\u001b[0m\u001b[0;34m)\u001b[0m\u001b[0;34m.\u001b[0m\u001b[0m__call__\u001b[0m\u001b[0;34m(\u001b[0m\u001b[0miterable_with_config\u001b[0m\u001b[0;34m)\u001b[0m\u001b[0;34m\u001b[0m\u001b[0;34m\u001b[0m\u001b[0m\n\u001b[0m\u001b[1;32m     78\u001b[0m \u001b[0;34m\u001b[0m\u001b[0m\n\u001b[1;32m     79\u001b[0m \u001b[0;34m\u001b[0m\u001b[0m\n",
            "\u001b[0;32m/usr/local/lib/python3.11/dist-packages/joblib/parallel.py\u001b[0m in \u001b[0;36m__call__\u001b[0;34m(self, iterable)\u001b[0m\n\u001b[1;32m   1984\u001b[0m             \u001b[0moutput\u001b[0m \u001b[0;34m=\u001b[0m \u001b[0mself\u001b[0m\u001b[0;34m.\u001b[0m\u001b[0m_get_sequential_output\u001b[0m\u001b[0;34m(\u001b[0m\u001b[0miterable\u001b[0m\u001b[0;34m)\u001b[0m\u001b[0;34m\u001b[0m\u001b[0;34m\u001b[0m\u001b[0m\n\u001b[1;32m   1985\u001b[0m             \u001b[0mnext\u001b[0m\u001b[0;34m(\u001b[0m\u001b[0moutput\u001b[0m\u001b[0;34m)\u001b[0m\u001b[0;34m\u001b[0m\u001b[0;34m\u001b[0m\u001b[0m\n\u001b[0;32m-> 1986\u001b[0;31m             \u001b[0;32mreturn\u001b[0m \u001b[0moutput\u001b[0m \u001b[0;32mif\u001b[0m \u001b[0mself\u001b[0m\u001b[0;34m.\u001b[0m\u001b[0mreturn_generator\u001b[0m \u001b[0;32melse\u001b[0m \u001b[0mlist\u001b[0m\u001b[0;34m(\u001b[0m\u001b[0moutput\u001b[0m\u001b[0;34m)\u001b[0m\u001b[0;34m\u001b[0m\u001b[0;34m\u001b[0m\u001b[0m\n\u001b[0m\u001b[1;32m   1987\u001b[0m \u001b[0;34m\u001b[0m\u001b[0m\n\u001b[1;32m   1988\u001b[0m         \u001b[0;31m# Let's create an ID that uniquely identifies the current call. If the\u001b[0m\u001b[0;34m\u001b[0m\u001b[0;34m\u001b[0m\u001b[0m\n",
            "\u001b[0;32m/usr/local/lib/python3.11/dist-packages/joblib/parallel.py\u001b[0m in \u001b[0;36m_get_sequential_output\u001b[0;34m(self, iterable)\u001b[0m\n\u001b[1;32m   1912\u001b[0m                 \u001b[0mself\u001b[0m\u001b[0;34m.\u001b[0m\u001b[0mn_dispatched_batches\u001b[0m \u001b[0;34m+=\u001b[0m \u001b[0;36m1\u001b[0m\u001b[0;34m\u001b[0m\u001b[0;34m\u001b[0m\u001b[0m\n\u001b[1;32m   1913\u001b[0m                 \u001b[0mself\u001b[0m\u001b[0;34m.\u001b[0m\u001b[0mn_dispatched_tasks\u001b[0m \u001b[0;34m+=\u001b[0m \u001b[0;36m1\u001b[0m\u001b[0;34m\u001b[0m\u001b[0;34m\u001b[0m\u001b[0m\n\u001b[0;32m-> 1914\u001b[0;31m                 \u001b[0mres\u001b[0m \u001b[0;34m=\u001b[0m \u001b[0mfunc\u001b[0m\u001b[0;34m(\u001b[0m\u001b[0;34m*\u001b[0m\u001b[0margs\u001b[0m\u001b[0;34m,\u001b[0m \u001b[0;34m**\u001b[0m\u001b[0mkwargs\u001b[0m\u001b[0;34m)\u001b[0m\u001b[0;34m\u001b[0m\u001b[0;34m\u001b[0m\u001b[0m\n\u001b[0m\u001b[1;32m   1915\u001b[0m                 \u001b[0mself\u001b[0m\u001b[0;34m.\u001b[0m\u001b[0mn_completed_tasks\u001b[0m \u001b[0;34m+=\u001b[0m \u001b[0;36m1\u001b[0m\u001b[0;34m\u001b[0m\u001b[0;34m\u001b[0m\u001b[0m\n\u001b[1;32m   1916\u001b[0m                 \u001b[0mself\u001b[0m\u001b[0;34m.\u001b[0m\u001b[0mprint_progress\u001b[0m\u001b[0;34m(\u001b[0m\u001b[0;34m)\u001b[0m\u001b[0;34m\u001b[0m\u001b[0;34m\u001b[0m\u001b[0m\n",
            "\u001b[0;32m/usr/local/lib/python3.11/dist-packages/sklearn/utils/parallel.py\u001b[0m in \u001b[0;36m__call__\u001b[0;34m(self, *args, **kwargs)\u001b[0m\n\u001b[1;32m    137\u001b[0m             \u001b[0mconfig\u001b[0m \u001b[0;34m=\u001b[0m \u001b[0;34m{\u001b[0m\u001b[0;34m}\u001b[0m\u001b[0;34m\u001b[0m\u001b[0;34m\u001b[0m\u001b[0m\n\u001b[1;32m    138\u001b[0m         \u001b[0;32mwith\u001b[0m \u001b[0mconfig_context\u001b[0m\u001b[0;34m(\u001b[0m\u001b[0;34m**\u001b[0m\u001b[0mconfig\u001b[0m\u001b[0;34m)\u001b[0m\u001b[0;34m:\u001b[0m\u001b[0;34m\u001b[0m\u001b[0;34m\u001b[0m\u001b[0m\n\u001b[0;32m--> 139\u001b[0;31m             \u001b[0;32mreturn\u001b[0m \u001b[0mself\u001b[0m\u001b[0;34m.\u001b[0m\u001b[0mfunction\u001b[0m\u001b[0;34m(\u001b[0m\u001b[0;34m*\u001b[0m\u001b[0margs\u001b[0m\u001b[0;34m,\u001b[0m \u001b[0;34m**\u001b[0m\u001b[0mkwargs\u001b[0m\u001b[0;34m)\u001b[0m\u001b[0;34m\u001b[0m\u001b[0;34m\u001b[0m\u001b[0m\n\u001b[0m\u001b[1;32m    140\u001b[0m \u001b[0;34m\u001b[0m\u001b[0m\n\u001b[1;32m    141\u001b[0m \u001b[0;34m\u001b[0m\u001b[0m\n",
            "\u001b[0;32m/usr/local/lib/python3.11/dist-packages/sklearn/model_selection/_validation.py\u001b[0m in \u001b[0;36m_fit_and_score\u001b[0;34m(estimator, X, y, scorer, train, test, verbose, parameters, fit_params, score_params, return_train_score, return_parameters, return_n_test_samples, return_times, return_estimator, split_progress, candidate_progress, error_score)\u001b[0m\n\u001b[1;32m    864\u001b[0m             \u001b[0mestimator\u001b[0m\u001b[0;34m.\u001b[0m\u001b[0mfit\u001b[0m\u001b[0;34m(\u001b[0m\u001b[0mX_train\u001b[0m\u001b[0;34m,\u001b[0m \u001b[0;34m**\u001b[0m\u001b[0mfit_params\u001b[0m\u001b[0;34m)\u001b[0m\u001b[0;34m\u001b[0m\u001b[0;34m\u001b[0m\u001b[0m\n\u001b[1;32m    865\u001b[0m         \u001b[0;32melse\u001b[0m\u001b[0;34m:\u001b[0m\u001b[0;34m\u001b[0m\u001b[0;34m\u001b[0m\u001b[0m\n\u001b[0;32m--> 866\u001b[0;31m             \u001b[0mestimator\u001b[0m\u001b[0;34m.\u001b[0m\u001b[0mfit\u001b[0m\u001b[0;34m(\u001b[0m\u001b[0mX_train\u001b[0m\u001b[0;34m,\u001b[0m \u001b[0my_train\u001b[0m\u001b[0;34m,\u001b[0m \u001b[0;34m**\u001b[0m\u001b[0mfit_params\u001b[0m\u001b[0;34m)\u001b[0m\u001b[0;34m\u001b[0m\u001b[0;34m\u001b[0m\u001b[0m\n\u001b[0m\u001b[1;32m    867\u001b[0m \u001b[0;34m\u001b[0m\u001b[0m\n\u001b[1;32m    868\u001b[0m     \u001b[0;32mexcept\u001b[0m \u001b[0mException\u001b[0m\u001b[0;34m:\u001b[0m\u001b[0;34m\u001b[0m\u001b[0;34m\u001b[0m\u001b[0m\n",
            "\u001b[0;32m/usr/local/lib/python3.11/dist-packages/sklearn/base.py\u001b[0m in \u001b[0;36mwrapper\u001b[0;34m(estimator, *args, **kwargs)\u001b[0m\n\u001b[1;32m   1387\u001b[0m                 )\n\u001b[1;32m   1388\u001b[0m             ):\n\u001b[0;32m-> 1389\u001b[0;31m                 \u001b[0;32mreturn\u001b[0m \u001b[0mfit_method\u001b[0m\u001b[0;34m(\u001b[0m\u001b[0mestimator\u001b[0m\u001b[0;34m,\u001b[0m \u001b[0;34m*\u001b[0m\u001b[0margs\u001b[0m\u001b[0;34m,\u001b[0m \u001b[0;34m**\u001b[0m\u001b[0mkwargs\u001b[0m\u001b[0;34m)\u001b[0m\u001b[0;34m\u001b[0m\u001b[0;34m\u001b[0m\u001b[0m\n\u001b[0m\u001b[1;32m   1390\u001b[0m \u001b[0;34m\u001b[0m\u001b[0m\n\u001b[1;32m   1391\u001b[0m         \u001b[0;32mreturn\u001b[0m \u001b[0mwrapper\u001b[0m\u001b[0;34m\u001b[0m\u001b[0;34m\u001b[0m\u001b[0m\n",
            "\u001b[0;32m/usr/local/lib/python3.11/dist-packages/sklearn/tree/_classes.py\u001b[0m in \u001b[0;36mfit\u001b[0;34m(self, X, y, sample_weight, check_input)\u001b[0m\n\u001b[1;32m   1022\u001b[0m         \"\"\"\n\u001b[1;32m   1023\u001b[0m \u001b[0;34m\u001b[0m\u001b[0m\n\u001b[0;32m-> 1024\u001b[0;31m         super()._fit(\n\u001b[0m\u001b[1;32m   1025\u001b[0m             \u001b[0mX\u001b[0m\u001b[0;34m,\u001b[0m\u001b[0;34m\u001b[0m\u001b[0;34m\u001b[0m\u001b[0m\n\u001b[1;32m   1026\u001b[0m             \u001b[0my\u001b[0m\u001b[0;34m,\u001b[0m\u001b[0;34m\u001b[0m\u001b[0;34m\u001b[0m\u001b[0m\n",
            "\u001b[0;32m/usr/local/lib/python3.11/dist-packages/sklearn/tree/_classes.py\u001b[0m in \u001b[0;36m_fit\u001b[0;34m(self, X, y, sample_weight, check_input, missing_values_in_feature_mask)\u001b[0m\n\u001b[1;32m    470\u001b[0m             )\n\u001b[1;32m    471\u001b[0m \u001b[0;34m\u001b[0m\u001b[0m\n\u001b[0;32m--> 472\u001b[0;31m         \u001b[0mbuilder\u001b[0m\u001b[0;34m.\u001b[0m\u001b[0mbuild\u001b[0m\u001b[0;34m(\u001b[0m\u001b[0mself\u001b[0m\u001b[0;34m.\u001b[0m\u001b[0mtree_\u001b[0m\u001b[0;34m,\u001b[0m \u001b[0mX\u001b[0m\u001b[0;34m,\u001b[0m \u001b[0my\u001b[0m\u001b[0;34m,\u001b[0m \u001b[0msample_weight\u001b[0m\u001b[0;34m,\u001b[0m \u001b[0mmissing_values_in_feature_mask\u001b[0m\u001b[0;34m)\u001b[0m\u001b[0;34m\u001b[0m\u001b[0;34m\u001b[0m\u001b[0m\n\u001b[0m\u001b[1;32m    473\u001b[0m \u001b[0;34m\u001b[0m\u001b[0m\n\u001b[1;32m    474\u001b[0m         \u001b[0;32mif\u001b[0m \u001b[0mself\u001b[0m\u001b[0;34m.\u001b[0m\u001b[0mn_outputs_\u001b[0m \u001b[0;34m==\u001b[0m \u001b[0;36m1\u001b[0m \u001b[0;32mand\u001b[0m \u001b[0mis_classifier\u001b[0m\u001b[0;34m(\u001b[0m\u001b[0mself\u001b[0m\u001b[0;34m)\u001b[0m\u001b[0;34m:\u001b[0m\u001b[0;34m\u001b[0m\u001b[0;34m\u001b[0m\u001b[0m\n",
            "\u001b[0;31mKeyboardInterrupt\u001b[0m: "
          ]
        }
      ]
    },
    {
      "cell_type": "markdown",
      "source": [
        "**Question:** How can you determine the best combination of values for the hyperparameters?\n",
        "\n",
        "Use the best estimator tool to help uncover the best pair combination."
      ],
      "metadata": {
        "id": "efABQzxznu5m"
      }
    },
    {
      "cell_type": "markdown",
      "source": [
        "### Compute the best combination of values for the hyperparameters"
      ],
      "metadata": {
        "id": "rf8SLJcenxqe"
      }
    },
    {
      "cell_type": "code",
      "source": [
        "clf.best_estimator_"
      ],
      "metadata": {
        "id": "4XEb6JaPnzvM"
      },
      "execution_count": null,
      "outputs": []
    },
    {
      "cell_type": "markdown",
      "source": [
        "**Question:** What is the best combination of values for the hyperparameters?\n",
        "\n",
        "After running the DecisionTreeClassifier, the maximum depth is 18 and the minimum number of samples is two, meaning this is the best combination of values."
      ],
      "metadata": {
        "id": "4lSmZb6Xn2sh"
      }
    },
    {
      "cell_type": "markdown",
      "source": [
        "### Determine the best average validation score"
      ],
      "metadata": {
        "id": "1K7d7luQn7lN"
      }
    },
    {
      "cell_type": "code",
      "source": [
        "print(\"Best Avg. Validation Score: \", \"%.4f\" % clf.best_score_)"
      ],
      "metadata": {
        "id": "FxC0ZGkon9RS"
      },
      "execution_count": null,
      "outputs": []
    },
    {
      "cell_type": "markdown",
      "source": [
        "**Question:** What is the best average validation score?\n",
        "\n",
        "The best validation score is 0.9454."
      ],
      "metadata": {
        "id": "Fs2HyOv7oBnL"
      }
    },
    {
      "cell_type": "markdown",
      "source": [
        "### Determine the \"best\" decision tree model's accuracy, precision, recall, and F1 score\n",
        "\n",
        "Print out the decision tree model's accuracy, precision, recall, and F1 score. This task can be done in a number of ways."
      ],
      "metadata": {
        "id": "FXSKjsvholAV"
      }
    },
    {
      "cell_type": "code",
      "source": [
        "results = pd.DataFrame(columns=['Model', 'F1', 'Recall', 'Precision', 'Accuracy'])\n",
        "\n",
        "def make_results(model_name, model_object):\n",
        "    \"\"\"\n",
        "    Accepts as arguments a model name (your choice - string) and\n",
        "    a fit GridSearchCV model object.\n",
        "\n",
        "    Returns a pandas df with the F1, recall, precision, and accuracy scores\n",
        "    for the model with the best mean F1 score across all validation folds.\n",
        "    \"\"\"\n",
        "\n",
        "    # Get all the results from the CV and put them in a df.\n",
        "    cv_results = pd.DataFrame(model_object.cv_results_)\n",
        "\n",
        "    # Isolate the row of the df with the max(mean f1 score).\n",
        "    best_estimator_results = cv_results.iloc[cv_results['mean_test_f1'].idxmax(), :]\n",
        "\n",
        "    # Extract accuracy, precision, recall, and f1 score from that row.\n",
        "    f1 = best_estimator_results.mean_test_f1\n",
        "    recall = best_estimator_results.mean_test_recall\n",
        "    precision = best_estimator_results.mean_test_precision\n",
        "    accuracy = best_estimator_results.mean_test_accuracy\n",
        "\n",
        "\n",
        "    # Create table of results\n",
        "    table = pd.DataFrame({'Model': [model_name],\n",
        "                          'F1': [f1],\n",
        "                          'Recall': [recall],\n",
        "                          'Precision': [precision],\n",
        "                          'Accuracy': [accuracy]\n",
        "                         }\n",
        "                        )\n",
        "\n",
        "    return table\n",
        "\n",
        "result_table = make_results(\"Tuned Decision Tree\", clf)\n",
        "\n",
        "result_table"
      ],
      "metadata": {
        "id": "JL4zEeOmomVr"
      },
      "execution_count": null,
      "outputs": []
    },
    {
      "cell_type": "markdown",
      "source": [
        "**Question:** Was the additional performance improvement from hyperparameter tuning worth the computational cost? Why or why not?\n",
        "\n",
        "The F1 score for the decision tree that was not hyperparameter tuned is 0.940940 and the F1 score for the hyperparameter-tuned decision tree is 0.945422. While ensuring that overfitting doesn't occur is necessary for some models, it didn't make a meaningful difference in improving this model."
      ],
      "metadata": {
        "id": "V1TCSqppor2E"
      }
    },
    {
      "cell_type": "markdown",
      "source": [
        "### Plot the \"best\" decision tree\n",
        "\n",
        "Use the `plot_tree` function to produce a representation of the tree to pinpoint where the splits in the data are occurring. This will allow you to review the \"best\" decision tree."
      ],
      "metadata": {
        "id": "7XBTDuQVotd5"
      }
    },
    {
      "cell_type": "code",
      "source": [
        "plt.figure(figsize=(20,12))\n",
        "plot_tree(clf.best_estimator_, max_depth=2, fontsize=14, feature_names=X.columns);"
      ],
      "metadata": {
        "id": "RNxSP4IOowEp"
      },
      "execution_count": null,
      "outputs": []
    },
    {
      "cell_type": "markdown",
      "source": [
        "The plot makes it seem like `'Inflight entertainment'`, `'Seat comfort'`, and `'Ease of Online booking'` are among the most important features. The code below outputs a \"most important\" features graph from the model."
      ],
      "metadata": {
        "id": "x4GzSSOoozq5"
      }
    },
    {
      "cell_type": "markdown",
      "source": [
        "### BONUS STEP: Build another feature importance graph\n",
        "\n",
        "You can build another feature importance graph to validate which features are most important."
      ],
      "metadata": {
        "id": "UmuohX2bo18c"
      }
    },
    {
      "cell_type": "code",
      "source": [
        "importances = clf.best_estimator_.feature_importances_\n",
        "\n",
        "forest_importances = pd.Series(importances, index=X.columns).sort_values(ascending=False)\n",
        "\n",
        "fig, ax = plt.subplots()\n",
        "forest_importances.plot.bar(ax=ax);"
      ],
      "metadata": {
        "id": "D8g8eAOxo3p1"
      },
      "execution_count": null,
      "outputs": []
    },
    {
      "cell_type": "markdown",
      "source": [
        "The feature importance graph seems to confirm that `'Inflight entertainment'`, `'Seat comfort'`, and `'Ease of Online booking'` are the \"most important\" features for this model."
      ],
      "metadata": {
        "id": "8FxM7o46o5Un"
      }
    },
    {
      "cell_type": "markdown",
      "source": [
        "**Question:** What do you think is the most important metric in this business case?\n",
        "\n",
        "Any of the metrics in this business case could be considered important, depending on what the stakeholder or domain expert cares about. The following are reasons why each metric is important:\n",
        "\n",
        "- Accuracy tends to be the metric that the stakeholders can best understand.\n",
        "\n",
        "- Precision measures what proportion of predicted positives is truly positive. For example, if you wanted to not falsely claiming a customer is satisfied, precision would be a good metric. Assuming a customer is happy when they are really not might lead to customer churn.\n",
        "\n",
        "- Recall measures the percentage of actual positives a model correctly identified (true positive). For this dataset, the airline might want to limit false negatives (actually satisfied people who are predicted to be unsatisfied). Assuming a customer is unhappy when the customer is happy can lead to the airline wasting resources trying to improve the customer experience of an already happy customer.\n",
        "\n",
        "- F1 balances precision and recall. It is the harmonic mean of precision and recall, or their product divided by their sum."
      ],
      "metadata": {
        "id": "_IaeaQKao7U8"
      }
    },
    {
      "cell_type": "markdown",
      "source": [
        "## Considerations\n",
        "\n",
        "**What are some key takeaways that you learned from this lab?**\n",
        "*   Machine learning workflows may be used to clean and encode data for machine learning.\n",
        "*   While hyperparameter tuning can lead to an increase in performance, it doesn't always.\n",
        "*   The visualization of the decision tree as well as the feature graph can be used to determine which features are most important for a decision tree.\n",
        "\n",
        "\n",
        "**What findings would you share with others?**\n",
        "*   Decision trees accurately predicted satisfaction over 94 percent of the time.  \n",
        "*   The confusion matrix is useful as it shows a similar number of true positives and true negatives.\n",
        "*   The visualization of the decision tree and the feature importance graph both suggest that `'Inflight entertainment'`, `'Seat comfort'`, and `'Ease of Online booking'` are the most important features in the model.\n",
        "\n",
        "**What would you recommend to stakeholders?**\n",
        "*  Customer satisfaction is highly tied to `'Inflight entertainment'`, `'Seat comfort'`, and `'Ease of Online booking'`. Improving these experiences should lead to better customer satisfaction.\n",
        "*  The success of the model suggests that the airline should invest more effort into model building and model understanding since this model semed to be very good at predicting customer satisfaction."
      ],
      "metadata": {
        "id": "GNwW7Csno8QU"
      }
    },
    {
      "cell_type": "markdown",
      "source": [
        "# Random forest tuning & cross-validation\n",
        "\n",
        "Throughout the following exercises, you will learn to use Python to construct and validate a random forest ensemble model with scikit-learn. Before starting on this programming exercise, we strongly recommend watching the video lecture and completing the IVQ for the associated topics.\n",
        "\n",
        "**Note**: This notebook is divided into two parts, each with its own instructional video. Begin here, or skip ahead to [Part 2](#part_2) if you have already completed the first part.\n",
        "\n",
        "\n"
      ],
      "metadata": {
        "id": "uaI1BNdqpKR8"
      }
    },
    {
      "cell_type": "markdown",
      "source": [
        "All the information you need for solving this assignment is in this notebook, and all the code you will be implementing will take place within this notebook.\n",
        "\n",
        "Topics of focus include:\n",
        "\n",
        "\n",
        "*   Relevant import statements\n",
        "*   Encoding of categorical features as dummies\n",
        "*   Stratification during data splitting\n",
        "*   Fitting a model\n",
        "*   Using `GridSearchCV` to cross-validate the model and tune the following hyperparameters:  \n",
        "    - `max_depth`  \n",
        "    - `max_features`  \n",
        "    - `min_samples_split`\n",
        "    - `n_estimators`  \n",
        "    - `min_samples_leaf`  \n",
        "*   Model evaluation using precision, recall, and f1 score"
      ],
      "metadata": {
        "id": "kVST3g4fR8i9"
      }
    },
    {
      "cell_type": "markdown",
      "source": [
        "## Review\n",
        "\n",
        "This notebook is a continuation of the bank churn project. Below is a recap of the considerations and decisions that we've already made. For detailed discussion of these topics, refer back to the [fully annotated notebook for the decision tree model](https://www.coursera.org/learn/the-nuts-and-bolts-of-machine-learning/ungradedLab/HVyMU/annotated-follow-along-guide-build-a-decision-tree).\n",
        "\n",
        ">  **Modeling objective:** To predict whether a customer will churn&mdash;a binary classification task.\n",
        "\n",
        "\n",
        ">  **Target variable:** `Exited` column&mdash;0 or 1.  \n",
        "\n",
        ">  **Class balance:** The data is imbalanced 80/20 (not churned/churned), but we will not perform class balancing.\n",
        "\n",
        ">  **Primary evaluation metric:** F1 score.\n",
        "\n",
        ">  **Modeling workflow and model selection:** The champion model will be the model with the best validation F1 score. Only the champion model will be used to predict on the test data. See the annotated decision tree notebook for details and limitations of this approach."
      ],
      "metadata": {
        "id": "DpT6Jd6PSQ5Y"
      }
    },
    {
      "cell_type": "markdown",
      "source": [
        "## A note on cross-validation/validation\n",
        "\n",
        "This notebook is for teaching purposes. As such, it includes two approaches to validation: cross-validating the training data and validating using a separate validation dataset. In practice, you generally will only use one or the other for a given project.\n",
        "\n",
        "Cross-validation is more rigorous, because it maximizes the usage of the training data, but if you have a very large dataset or limited computing resources, it may be better to validate with a separate validation dataset."
      ],
      "metadata": {
        "id": "0JNlcalNSUHK"
      }
    },
    {
      "cell_type": "markdown",
      "source": [
        "## Import statements\n",
        "\n",
        "Before we begin with the exercises and analyzing the data, we need to import all libraries and extensions required for this programming exercise. Throughout the course, we will be using numpy and pandas for operations, and matplotlib for plotting."
      ],
      "metadata": {
        "id": "ILNbeXU4Scq7"
      }
    },
    {
      "cell_type": "code",
      "source": [
        "import numpy as np\n",
        "import pandas as pd\n",
        "\n",
        "import matplotlib.pyplot as plt\n",
        "\n",
        "# This lets us see all of the columns, preventing Juptyer from redacting them.\n",
        "pd.set_option('display.max_columns', None)\n",
        "\n",
        "from sklearn.model_selection import GridSearchCV, train_test_split\n",
        "from sklearn.metrics import accuracy_score, precision_score, recall_score,\\\n",
        "f1_score, confusion_matrix, ConfusionMatrixDisplay\n",
        "\n",
        "from sklearn.ensemble import RandomForestClassifier\n",
        "\n",
        "# This module lets us save our models once we fit them.\n",
        "import pickle"
      ],
      "metadata": {
        "id": "dm4ShCXmSkin"
      },
      "execution_count": null,
      "outputs": []
    },
    {
      "cell_type": "markdown",
      "source": [
        "## Read in the data"
      ],
      "metadata": {
        "id": "KF7VeuvwSn-L"
      }
    },
    {
      "cell_type": "code",
      "source": [
        "# Read in data\n",
        "file = 'Churn_Modelling.csv'\n",
        "df_original = pd.read_csv(file)\n",
        "df_original.head()"
      ],
      "metadata": {
        "id": "lAn44THqS7jU"
      },
      "execution_count": null,
      "outputs": []
    },
    {
      "cell_type": "markdown",
      "source": [
        "## Feature engineering"
      ],
      "metadata": {
        "id": "V2H3QFNOS9Q7"
      }
    },
    {
      "cell_type": "markdown",
      "source": [
        "### Feature selection\n",
        "\n",
        "In this step, we'll prepare the data for modeling.  Notice from above that there are a number of columns that we wouldn't expect to offer any predictive signal to the model. These columns include `RowNumber`, `CustomerID`, and `Surname`. We'll drop these columns so they don't introduce noise to our model.  \n",
        "\n",
        "We'll also drop the `Gender` column, because we don't want our model to make predictions based on gender."
      ],
      "metadata": {
        "id": "sq5-bUN2S-wQ"
      }
    },
    {
      "cell_type": "code",
      "source": [
        "# Drop useless and sensitive (Gender) cols\n",
        "churn_df = df_original.drop(['RowNumber', 'CustomerId', 'Surname', 'Gender'], axis=1)\n",
        "churn_df.head()"
      ],
      "metadata": {
        "id": "YZvT4ItZTBb_"
      },
      "execution_count": null,
      "outputs": []
    },
    {
      "cell_type": "markdown",
      "source": [
        "### Feature transformation\n",
        "\n",
        "Next, we'll dummy encode the `Geography` variable, which is categorical. We do this with the `pd.get_dummies()` function and setting `drop_first='True'`, which replaces the `Geography` column with two new Boolean columns called `Geography_Germany` and `Geography_Spain`."
      ],
      "metadata": {
        "id": "2_HM1CA8TGcX"
      }
    },
    {
      "cell_type": "code",
      "source": [
        "# Dummy encode categoricals\n",
        "churn_df2 = pd.get_dummies(churn_df, drop_first='True')\n",
        "churn_df2.head()"
      ],
      "metadata": {
        "id": "E-RWUXbZTIoY"
      },
      "execution_count": null,
      "outputs": []
    },
    {
      "cell_type": "markdown",
      "source": [
        "## Split the data\n",
        "\n",
        "We'll split the data into features and target variable, and into training data and test data using the `train_test_split()` function.\n",
        "\n",
        "Don't forget to include the `stratify=y` parameter, as this is what ensures that the 80/20 class ratio of the target variable is maintained in both the training and test datasets after splitting.\n",
        "\n",
        "Lastly, we set a random seed so we and others can reproduce our work."
      ],
      "metadata": {
        "id": "uGMehk0jTLEY"
      }
    },
    {
      "cell_type": "code",
      "source": [
        "# Define the y (target) variable\n",
        "y = churn_df2[\"Exited\"]\n",
        "\n",
        "# Define the X (predictor) variables\n",
        "X = churn_df2.copy()\n",
        "X = X.drop(\"Exited\", axis = 1)\n",
        "\n",
        "# Split into train and test sets\n",
        "X_train, X_test, y_train, y_test = train_test_split(X, y, test_size=0.25, stratify=y, random_state=42)"
      ],
      "metadata": {
        "id": "Ys3PKhf3TMO3"
      },
      "execution_count": null,
      "outputs": []
    },
    {
      "cell_type": "markdown",
      "source": [
        "## Modeling"
      ],
      "metadata": {
        "id": "AB-mYSF1TPeW"
      }
    },
    {
      "cell_type": "markdown",
      "source": [
        "### Cross-validated hyperparameter tuning\n",
        "\n",
        "The cross-validation process is the same as it was for the decision tree model. The only difference is that we're tuning more hyperparameters now. The steps are included below as a review.\n",
        "\n",
        "For details on cross-validating with `GridSearchCV`, refer back to the decision tree notebook, or to the [GridSearchCV documentation](https://scikit-learn.org/stable/modules/generated/sklearn.model_selection.GridSearchCV.html#sklearn.model_selection.GridSearchCV) in scikit-learn.\n",
        "\n",
        "1. Instantiate the classifier (and set the `random_state`).\n",
        "\n",
        "2. Create a dictionary of hyperparameters to search over.\n",
        "\n",
        "3. Create a set of scoring metrics to capture.\n",
        "\n",
        "4. Instantiate the `GridSearchCV` object. Pass as arguments:\n",
        "  - The classifier (`rf`)\n",
        "  - The dictionary of hyperparameters to search over (`cv_params`)\n",
        "  - The set of scoring metrics (`scoring`)\n",
        "  - The number of cross-validation folds you want (`cv=5`)\n",
        "  - The scoring metric that you want GridSearch to use when it selects the \"best\" model (i.e., the model that performs best on average over all validation folds) (`refit='f1'`)\n",
        "\n",
        "5. Fit the data (`X_train`, `y_train`) to the `GridSearchCV` object (`rf_cv`).\n",
        "\n",
        "Note that we use the `%%time` magic at the top of the cell. This outputs the final runtime of the cell. (Magic commands, often just called \"magics,\" are commands that are built into IPython to simplify common tasks. They begin with `%` or `%%`.)\n",
        "\n"
      ],
      "metadata": {
        "id": "c7TUQ9NRTQIu"
      }
    },
    {
      "cell_type": "code",
      "source": [
        "%%time\n",
        "\n",
        "rf = RandomForestClassifier(random_state=0)\n",
        "\n",
        "cv_params = {'max_depth': [2,3,4,5, None],\n",
        "             'min_samples_leaf': [1,2,3],\n",
        "             'min_samples_split': [2,3,4],\n",
        "             'max_features': [2,3,4],\n",
        "             'n_estimators': [75, 100, 125, 150]\n",
        "             }\n",
        "\n",
        "scoring = {'accuracy': 'accuracy', 'precision': 'precision','recall':'recall','f1':'f1'}\n",
        "\n",
        "rf_cv = GridSearchCV(rf, cv_params, scoring=scoring, cv=5, refit='f1')\n",
        "\n",
        "#rf_cv.fit(X_train, y_train)"
      ],
      "metadata": {
        "id": "KxqTYsuaTTip"
      },
      "execution_count": null,
      "outputs": []
    },
    {
      "cell_type": "markdown",
      "source": [
        "# Random forest validation on separate dataset\n",
        "\n",
        "This is a continuation of the bank churn cross-validated random forest modeling notebook. This section of the notebook will demonstrate how to construct and validate a random forest ensemble model in Python with scikit-learn."
      ],
      "metadata": {
        "id": "Mqx8ksTgTp3u"
      }
    },
    {
      "cell_type": "markdown",
      "source": [
        "Topics of focus include:\n",
        "\n",
        "  * Using `pickle` to save a fit model\n",
        "  * Using a separate dataset to tune hyperparameters and validate your model\n",
        "    * Splitting the training data to create a validation dataset\n",
        "    * Creating a list of split indices to use with `PredefinedSplit` so `GridSearchCV` performs validation on this defined validation set"
      ],
      "metadata": {
        "id": "Oh0Pu84cTtYb"
      }
    },
    {
      "cell_type": "markdown",
      "source": [
        "## Pickle  \n",
        "\n",
        "When models take a long time to fit, you don’t want to have to fit them more than once. If your kernel disconnects or you shut down the notebook and lose the cell’s output, you’ll have to refit the model, which can be frustrating and time-consuming.\n",
        "\n",
        "`pickle` is a tool that saves the fit model object to a specified location, then quickly reads it back in. It also allows you to use models that were fit somewhere else, without having to train them yourself."
      ],
      "metadata": {
        "id": "kxOxtSVFTyEv"
      }
    },
    {
      "cell_type": "code",
      "source": [
        "# Define a path to the folder where you want to save the model\n",
        "path = '/content/pickle'"
      ],
      "metadata": {
        "id": "kGJEPtUET0Z_"
      },
      "execution_count": null,
      "outputs": []
    },
    {
      "cell_type": "markdown",
      "source": [
        "This step will ***W***rite (i.e., save) the model, in ***B***inary (hence, `wb`), to the folder designated by the above path. In this case, the name of the file we're writing is `rf_cv_model.pickle`."
      ],
      "metadata": {
        "id": "kpw7a9BrUKEg"
      }
    },
    {
      "cell_type": "code",
      "source": [
        "# Pickle the model\n",
        "with open(path+'rf_cv_model.pickle', 'wb') as to_write:\n",
        "    pickle.dump(rf_cv, to_write)"
      ],
      "metadata": {
        "id": "tbPyU_ECULXD"
      },
      "execution_count": null,
      "outputs": []
    },
    {
      "cell_type": "markdown",
      "source": [
        "Once we save the model, we'll never have to re-fit it when we run this notebook. Ideally, we could open the notebook, select \"Run all,\" and the cells would run successfully all the way to the end without any model retraining.\n",
        "\n",
        "For this to happen, we'll need to return to the cell where we defined our grid search and comment out the line where we fit the model. Otherwise, when we re-run the notebook, it would refit the model.\n",
        "\n",
        "Similarly, we'll also need to go back to where we saved the model as a pickle and comment out those lines.  \n",
        "\n",
        "Next, we'll add a new cell that reads in the saved model from the folder we already specified. For this, we'll use `rb` (read binary) and be sure to assign the model to the same variable name as we used above, `rf_cv`."
      ],
      "metadata": {
        "id": "9uh2YGuCUawU"
      }
    },
    {
      "cell_type": "code",
      "source": [
        "# Read in pickled model\n",
        "with open(path + 'rf_cv_model.pickle', 'rb') as to_read:\n",
        "    rf_cv = pickle.load(to_read)"
      ],
      "metadata": {
        "id": "ZUh-P1S0UdTq"
      },
      "execution_count": null,
      "outputs": []
    },
    {
      "cell_type": "markdown",
      "source": [
        "Now everything above is ready to run quickly and without refitting. We can continue by using the model's `best_params_` attribute to check the hyperparameters that had the best average F1 score across all the cross-validation folds."
      ],
      "metadata": {
        "id": "o5BzenA4eZu_"
      }
    },
    {
      "cell_type": "code",
      "source": [
        "rf_cv.fit(X_train, y_train)\n",
        "rf_cv.best_params_"
      ],
      "metadata": {
        "id": "8kxS-W0Me0sh"
      },
      "execution_count": null,
      "outputs": []
    },
    {
      "cell_type": "markdown",
      "source": [
        "And to check the best average F1 score of this model on the validation folds, we can use the `best_score_` attribute. Remember, if we had instead set `refit=recall` when we instantiated our `GridSearchCV` object earlier, then calling `best_score_` would return the best recall score, and the best parameters might not be the same as what they are in the above cell, because the model would be optimizing for a different metric."
      ],
      "metadata": {
        "id": "dVeJVCY3fswB"
      }
    },
    {
      "cell_type": "code",
      "source": [
        "rf_cv.best_score_"
      ],
      "metadata": {
        "id": "reJEvoT6fw2S"
      },
      "execution_count": null,
      "outputs": []
    },
    {
      "cell_type": "markdown",
      "source": [
        "Our model had an F1 score of 0.5805&mdash;not terrible. Recall that when we ran our grid search, we specified that we also wanted to capture precision, recall, and accuracy.\n",
        "\n",
        "The reason for doing this is that it's difficult to interpret an F1 score. These other metrics are much more directly interpretable, so they're worth knowing.\n",
        "\n",
        "The following cell defines a helper function that extracts these scores from the fit `GridSearchCV` object and returns a pandas dataframe with all four scores from the model with the best average F1 score during validation."
      ],
      "metadata": {
        "id": "D1ebKiErooBN"
      }
    },
    {
      "cell_type": "code",
      "source": [
        "def make_results(model_name, model_object):\n",
        "    '''\n",
        "    Accepts as arguments a model name (your choice - string) and\n",
        "    a fit GridSearchCV model object.\n",
        "\n",
        "    Returns a pandas df with the F1, recall, precision, and accuracy scores\n",
        "    for the model with the best mean F1 score across all validation folds.\n",
        "    '''\n",
        "\n",
        "    # Get all the results from the CV and put them in a df\n",
        "    cv_results = pd.DataFrame(model_object.cv_results_)\n",
        "\n",
        "    # Isolate the row of the df with the max(mean f1 score)\n",
        "    best_estimator_results = cv_results.iloc[cv_results['mean_test_f1'].idxmax(), :]\n",
        "\n",
        "    # Extract accuracy, precision, recall, and f1 score from that row\n",
        "    f1 = best_estimator_results.mean_test_f1\n",
        "    recall = best_estimator_results.mean_test_recall\n",
        "    precision = best_estimator_results.mean_test_precision\n",
        "    accuracy = best_estimator_results.mean_test_accuracy\n",
        "\n",
        "    # Create table of results\n",
        "    table = pd.DataFrame({'Model': [model_name],\n",
        "                          'F1': [f1],\n",
        "                          'Recall': [recall],\n",
        "                          'Precision': [precision],\n",
        "                          'Accuracy': [accuracy]\n",
        "                         }\n",
        "                        )\n",
        "\n",
        "    return table"
      ],
      "metadata": {
        "id": "nRFEdxr9or8-"
      },
      "execution_count": null,
      "outputs": []
    },
    {
      "cell_type": "code",
      "source": [
        "# Make a results table for the rf_cv model using above function\n",
        "rf_cv_results = make_results('Random Forest CV', rf_cv)\n",
        "rf_cv_results"
      ],
      "metadata": {
        "id": "gns1emdFoydL"
      },
      "execution_count": null,
      "outputs": []
    },
    {
      "cell_type": "markdown",
      "source": [
        "We can concatenate these results to our master results table from when we built the single decision tree model."
      ],
      "metadata": {
        "id": "cwgFyjaWo003"
      }
    },
    {
      "cell_type": "code",
      "source": [
        "# Read in master results table\n",
        "results = pd.read_csv('results1.csv', index_col=0)\n",
        "results"
      ],
      "metadata": {
        "id": "jo3M3m9Tpa-T"
      },
      "execution_count": null,
      "outputs": []
    },
    {
      "cell_type": "code",
      "source": [
        "# Concatenate the random forest results to the master table\n",
        "results = pd.concat([rf_cv_results, results])\n",
        "results"
      ],
      "metadata": {
        "id": "ruR0Gymxpd5X"
      },
      "execution_count": null,
      "outputs": []
    },
    {
      "cell_type": "markdown",
      "source": [
        "The scores in the above table tell us that the random forest model performs better than the single decision tree model on every metric. Nice!\n",
        "\n",
        "Now, let's build another random forest model, only this time we'll tune the hyperparameters using a separate validation dataset.\n",
        "\n",
        "\n"
      ],
      "metadata": {
        "id": "g0vY-DLupfdb"
      }
    },
    {
      "cell_type": "markdown",
      "source": [
        "## Modeling"
      ],
      "metadata": {
        "id": "UC5saBnQph2M"
      }
    },
    {
      "cell_type": "markdown",
      "source": [
        "### Hyperparameters tuned with separate validation set  \n",
        "\n",
        "Begin by splitting the training data to create a validation dataset. Remember, we won't touch the test data at all.  \n",
        "\n",
        "We'll use `train_test_split` to divide `X_train` and `y_train` into 80% training data (`X_tr`, `y_tr`) and 20% validation data (`X_val`, `y_val`). Don't forget to stratify it and set the random state."
      ],
      "metadata": {
        "id": "3ForfkrTpv1U"
      }
    },
    {
      "cell_type": "code",
      "source": [
        "# Create separate validation data\n",
        "X_tr, X_val, y_tr, y_val = train_test_split(X_train, y_train, test_size=0.2,\n",
        "                                            stratify=y_train, random_state=10)"
      ],
      "metadata": {
        "id": "xCiVsMntpmWi"
      },
      "execution_count": null,
      "outputs": []
    },
    {
      "cell_type": "markdown",
      "source": [
        "When we tune hyperparameters with `GridSearchCV` using a separate validation dataset, we have to take a few extra steps. `GridSearchCV` wants to cross-validate the data. In fact, if the `cv` argument were left blank, it would split the data into five folds for cross-validation by default.\n",
        "\n",
        "We don't want it to do this. Instead, we're going to tell it exactly which rows of `X_train` are for training, and which rows are for validation.  \n",
        "\n",
        "To do this, we need to make a list of length `len(X_train)` where each element is either a 0 or -1. A 0 in index _i_ will indicate to `GridSearchCV` that index _i_ of `X_train` is to be held out for validation. A -1 at a given index will indicate that that index of `X_train` is to be used as training data.\n",
        "\n",
        "We'll make this list using a list comprehension that looks at the index number of each row in `X_train`. If that index number is in `X_val`'s list of index numbers, then the list comprehension appends a 0. If it's not, then it appends a -1.\n",
        "\n",
        "So if our training data is:  \n",
        "[A, B, C, D],  \n",
        "and our list is:   \n",
        "[-1, 0, 0, -1],  \n",
        "then `GridSearchCV` will use a training set of [A, D] and validation set of [B, C]."
      ],
      "metadata": {
        "id": "pRNgHZSjp2n6"
      }
    },
    {
      "cell_type": "code",
      "source": [
        "# Create list of split indices\n",
        "split_index = [0 if x in X_val.index else -1 for x in X_train.index]"
      ],
      "metadata": {
        "id": "g9PAT8fkp4kv"
      },
      "execution_count": null,
      "outputs": []
    },
    {
      "cell_type": "markdown",
      "source": [
        "Now that we have this list, we need to import a new function called `PredefinedSplit`. This function is what allows us to pass the list we just made to `GridSearchCV`. (You can read more about this function in the [documentation](https://scikit-learn.org/stable/modules/generated/sklearn.model_selection.PredefinedSplit.html#sklearn.model_selection.PredefinedSplit).)"
      ],
      "metadata": {
        "id": "V3NBmJdRp7Y9"
      }
    },
    {
      "cell_type": "code",
      "source": [
        "from sklearn.model_selection import PredefinedSplit"
      ],
      "metadata": {
        "id": "8dwGOu8Xp9Lm"
      },
      "execution_count": null,
      "outputs": []
    },
    {
      "cell_type": "markdown",
      "source": [
        "Now we can build the model. Everything is the same as when we cross-validated, except this time we pass the `split_index` list to the `PredefinedSplit` function and assign it to a new variable called `custom_split`.\n",
        "\n",
        "Then we'll use this variable for the `cv` argument when we instantiate `GridSearchCV`."
      ],
      "metadata": {
        "id": "sCgsztUgp_3w"
      }
    },
    {
      "cell_type": "code",
      "source": [
        "rf = RandomForestClassifier(random_state=0)\n",
        "\n",
        "cv_params = {'max_depth': [2,3,4,5, None],\n",
        "             'min_samples_leaf': [1,2,3],\n",
        "             'min_samples_split': [2,3,4],\n",
        "             'max_features': [2,3,4],\n",
        "             'n_estimators': [75, 100, 125, 150]\n",
        "             }\n",
        "\n",
        "scoring = {'accuracy', 'precision', 'recall', 'f1'}\n",
        "\n",
        "custom_split = PredefinedSplit(split_index)\n",
        "\n",
        "rf_val = GridSearchCV(rf, cv_params, scoring=scoring, cv=custom_split, refit='f1')"
      ],
      "metadata": {
        "id": "QCx5rv_0qCVI"
      },
      "execution_count": null,
      "outputs": []
    },
    {
      "cell_type": "markdown",
      "source": [
        "### fit the model\n",
        "Now fit the model."
      ],
      "metadata": {
        "id": "WZmjjDDLqEzk"
      }
    },
    {
      "cell_type": "code",
      "source": [
        "rf_val.fit(X_train, y_train)"
      ],
      "metadata": {
        "id": "QxVPi4qmqG21"
      },
      "execution_count": null,
      "outputs": []
    },
    {
      "cell_type": "markdown",
      "source": [
        "Notice that this took less time than when we cross-validated&mdash;about 1/5 of the time. This is because _during cross-validation_ the training data was divided into five folds. An ensemble of trees was grown with a particular combination of hyperparameters on four folds of data, and validated on the fifth fold that was held out. This whole process happened for each of five holdout folds. Then, another ensemble was trained with the next combination of hyperparameters, repeating the whole process. This continued until there were no more combinations of hyperparameters to run.  \n",
        "\n",
        "![cross_validation_diagram.svg](data:image/svg+xml;base64,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)\n",
        "\n",
        "But now that we're _using a separate validation set,_ an ensemble is built for each combination of hyperparameters. Each ensemble is trained on the new training set and validated on the validation set. But this only happens _one time_ for each combination of hyperparameters, instead of _five times_ with cross-validation. That’s why the training time was only a fifth as long.\n",
        "\n",
        "![single_validation_diagram.svg](data:image/svg+xml;base64,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)\n",
        "\n",
        "Let's pickle the model..."
      ],
      "metadata": {
        "id": "4vTHe3CjqOBN"
      }
    },
    {
      "cell_type": "code",
      "source": [
        "# Pickle the model\n",
        "with open(path+'rf_val_model.pickle', 'wb') as to_write:\n",
        "    pickle.dump(rf_val, to_write)"
      ],
      "metadata": {
        "id": "dE-9Rf0-qpkP"
      },
      "execution_count": null,
      "outputs": []
    },
    {
      "cell_type": "markdown",
      "source": [
        "... and comment out where we fit the model and wrote the pickle, then read back in the pickled model."
      ],
      "metadata": {
        "id": "E5bar47Bqm7A"
      }
    },
    {
      "cell_type": "code",
      "source": [
        "# Open pickled model\n",
        "with open(path+'rf_val_model.pickle', 'rb') as to_read:\n",
        "    rf_val = pickle.load(to_read)"
      ],
      "metadata": {
        "id": "S4qU0SkCqsep"
      },
      "execution_count": null,
      "outputs": []
    },
    {
      "cell_type": "markdown",
      "source": [
        "Now check the parameters of the best-performing model on the validation set:"
      ],
      "metadata": {
        "id": "ODlyrlOPquy3"
      }
    },
    {
      "cell_type": "code",
      "source": [
        "rf_val.best_params_"
      ],
      "metadata": {
        "id": "9CpNyRXqqscs"
      },
      "execution_count": null,
      "outputs": []
    },
    {
      "cell_type": "markdown",
      "source": [
        "Notice that the best hyperparameters were slightly different than the cross-validated model.  \n",
        "\n",
        "Now, we'll generate the model results using the `make_results` function, add them to the master table, and then sort them by F1 score in descending order."
      ],
      "metadata": {
        "id": "aMKv1ExpqzVx"
      }
    },
    {
      "cell_type": "code",
      "source": [
        "# Create model results table\n",
        "rf_val_results = make_results('Random Forest Validated', rf_val)\n",
        "\n",
        "# Concatentate model results table with master results table\n",
        "results = pd.concat([rf_val_results, results])\n",
        "\n",
        "# Sort master results by F1 score in descending order\n",
        "results.sort_values(by=['F1'], ascending=False)"
      ],
      "metadata": {
        "id": "DoVMzJQMq1Wp"
      },
      "execution_count": null,
      "outputs": []
    },
    {
      "cell_type": "markdown",
      "source": [
        "We can save the new master table to use later when we build more models."
      ],
      "metadata": {
        "id": "ygz85wyNq3iX"
      }
    },
    {
      "cell_type": "code",
      "source": [
        "# Save the master results table\n",
        "results.to_csv(path+'results2.csv', index=False);"
      ],
      "metadata": {
        "id": "490jOCIqq5Wo"
      },
      "execution_count": null,
      "outputs": []
    },
    {
      "cell_type": "markdown",
      "source": [
        "## Model selection and final results\n",
        "\n",
        "Now we have three models. If we've decided that we're done trying to optimize them, then we can now use our best model to predict on the test holdout data. We'll be using the cross-validated model without the depth limitation, but if we were instead to use the model that was validated against a separate validation dataset, we'd now go back and retrain the model on the full training set (training + validation sets).\n",
        "\n",
        "**Note**: _It might be tempting to see how all models perform on the test holdout data, and then to choose the one that performs best. While this **can** be done, it biases the final model, because you used your test data to go back and make an upstream decision. The test data should represent **unseen** data. In competitions, for example, you must submit your final model before receiving the test data._\n",
        "\n",
        "The results in the table above tell us that the cross-validated random forest model performs a little better than the one trained on a separate validation set.\n",
        "\n",
        "It performs well for precision and accuracy, but the recall is 0.4725. This means that out of all the people in the validation folds who _actually_ left the bank, the model successfully identifies 47% of them.\n",
        "\n",
        "We will not apply the model to the test data yet, because there is still one more model to build. You'll learn about this soon. Once we train that model, we'll use our champion model to predict on the test data."
      ],
      "metadata": {
        "id": "BdZuzPTsq8Ge"
      }
    },
    {
      "cell_type": "markdown",
      "source": [],
      "metadata": {
        "id": "VEZz9tYyq9l_"
      }
    }
  ]
}