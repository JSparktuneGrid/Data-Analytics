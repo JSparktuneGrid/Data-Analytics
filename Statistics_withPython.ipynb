{
  "nbformat": 4,
  "nbformat_minor": 0,
  "metadata": {
    "colab": {
      "provenance": []
    },
    "kernelspec": {
      "name": "python3",
      "display_name": "Python 3"
    },
    "language_info": {
      "name": "python"
    }
  },
  "cells": [
    {
      "cell_type": "markdown",
      "source": [
        "# **Compute descriptive statistics with Python**"
      ],
      "metadata": {
        "id": "gTSN8gSXoxld"
      }
    },
    {
      "cell_type": "markdown",
      "source": [
        "## Import packages and libraries\n",
        "Before getting started, we will need to import all the required libraries and extensions. Throughout the course, we will be using pandas and numpy for operations and matplotlib for plotting."
      ],
      "metadata": {
        "id": "F8KaL1H1oqC6"
      }
    },
    {
      "cell_type": "code",
      "execution_count": null,
      "metadata": {
        "id": "b74mASEooWZj"
      },
      "outputs": [],
      "source": [
        "import numpy as np\n",
        "import pandas as pd\n",
        "import matplotlib.pyplot as plt"
      ]
    },
    {
      "cell_type": "code",
      "source": [
        "education_districtwise = pd.read_csv('education_districtwise.csv')"
      ],
      "metadata": {
        "id": "TY6B9v4xpC3p"
      },
      "execution_count": null,
      "outputs": []
    },
    {
      "cell_type": "markdown",
      "source": [
        "## Explore the data\n",
        "Let's start with the head()function to get a quick overview of the dataset. Recall that head() will return as many rows of data as you input into the variable field."
      ],
      "metadata": {
        "id": "60W4YhBFpIy-"
      }
    },
    {
      "cell_type": "code",
      "source": [
        "education_districtwise.head(10)"
      ],
      "metadata": {
        "colab": {
          "base_uri": "https://localhost:8080/",
          "height": 359
        },
        "id": "ufVmRclbpKyk",
        "outputId": "37d1d8c2-4402-4528-c8af-5488f93ac616"
      },
      "execution_count": null,
      "outputs": [
        {
          "output_type": "execute_result",
          "data": {
            "text/plain": [
              "      DISTNAME STATNAME  BLOCKS  VILLAGES  CLUSTERS  TOTPOPULAT  OVERALL_LI\n",
              "0   DISTRICT32   STATE1      13       391       104    875564.0       66.92\n",
              "1  DISTRICT649   STATE1      18       678       144   1015503.0       66.93\n",
              "2  DISTRICT229   STATE1       8        94        65   1269751.0       71.21\n",
              "3  DISTRICT259   STATE1      13       523       104    735753.0       57.98\n",
              "4  DISTRICT486   STATE1       8       359        64    570060.0       65.00\n",
              "5  DISTRICT323   STATE1      12       523        96   1070144.0       64.32\n",
              "6  DISTRICT114   STATE1       6       110        49    147104.0       80.48\n",
              "7  DISTRICT438   STATE1       7       134        54    143388.0       74.49\n",
              "8  DISTRICT610   STATE1      10       388        80    409576.0       65.97\n",
              "9  DISTRICT476   STATE1      11       361        86    555357.0       69.90"
            ],
            "text/html": [
              "\n",
              "  <div id=\"df-c7e68a89-3cfb-42d0-adfe-3ff74c3ce428\" class=\"colab-df-container\">\n",
              "    <div>\n",
              "<style scoped>\n",
              "    .dataframe tbody tr th:only-of-type {\n",
              "        vertical-align: middle;\n",
              "    }\n",
              "\n",
              "    .dataframe tbody tr th {\n",
              "        vertical-align: top;\n",
              "    }\n",
              "\n",
              "    .dataframe thead th {\n",
              "        text-align: right;\n",
              "    }\n",
              "</style>\n",
              "<table border=\"1\" class=\"dataframe\">\n",
              "  <thead>\n",
              "    <tr style=\"text-align: right;\">\n",
              "      <th></th>\n",
              "      <th>DISTNAME</th>\n",
              "      <th>STATNAME</th>\n",
              "      <th>BLOCKS</th>\n",
              "      <th>VILLAGES</th>\n",
              "      <th>CLUSTERS</th>\n",
              "      <th>TOTPOPULAT</th>\n",
              "      <th>OVERALL_LI</th>\n",
              "    </tr>\n",
              "  </thead>\n",
              "  <tbody>\n",
              "    <tr>\n",
              "      <th>0</th>\n",
              "      <td>DISTRICT32</td>\n",
              "      <td>STATE1</td>\n",
              "      <td>13</td>\n",
              "      <td>391</td>\n",
              "      <td>104</td>\n",
              "      <td>875564.0</td>\n",
              "      <td>66.92</td>\n",
              "    </tr>\n",
              "    <tr>\n",
              "      <th>1</th>\n",
              "      <td>DISTRICT649</td>\n",
              "      <td>STATE1</td>\n",
              "      <td>18</td>\n",
              "      <td>678</td>\n",
              "      <td>144</td>\n",
              "      <td>1015503.0</td>\n",
              "      <td>66.93</td>\n",
              "    </tr>\n",
              "    <tr>\n",
              "      <th>2</th>\n",
              "      <td>DISTRICT229</td>\n",
              "      <td>STATE1</td>\n",
              "      <td>8</td>\n",
              "      <td>94</td>\n",
              "      <td>65</td>\n",
              "      <td>1269751.0</td>\n",
              "      <td>71.21</td>\n",
              "    </tr>\n",
              "    <tr>\n",
              "      <th>3</th>\n",
              "      <td>DISTRICT259</td>\n",
              "      <td>STATE1</td>\n",
              "      <td>13</td>\n",
              "      <td>523</td>\n",
              "      <td>104</td>\n",
              "      <td>735753.0</td>\n",
              "      <td>57.98</td>\n",
              "    </tr>\n",
              "    <tr>\n",
              "      <th>4</th>\n",
              "      <td>DISTRICT486</td>\n",
              "      <td>STATE1</td>\n",
              "      <td>8</td>\n",
              "      <td>359</td>\n",
              "      <td>64</td>\n",
              "      <td>570060.0</td>\n",
              "      <td>65.00</td>\n",
              "    </tr>\n",
              "    <tr>\n",
              "      <th>5</th>\n",
              "      <td>DISTRICT323</td>\n",
              "      <td>STATE1</td>\n",
              "      <td>12</td>\n",
              "      <td>523</td>\n",
              "      <td>96</td>\n",
              "      <td>1070144.0</td>\n",
              "      <td>64.32</td>\n",
              "    </tr>\n",
              "    <tr>\n",
              "      <th>6</th>\n",
              "      <td>DISTRICT114</td>\n",
              "      <td>STATE1</td>\n",
              "      <td>6</td>\n",
              "      <td>110</td>\n",
              "      <td>49</td>\n",
              "      <td>147104.0</td>\n",
              "      <td>80.48</td>\n",
              "    </tr>\n",
              "    <tr>\n",
              "      <th>7</th>\n",
              "      <td>DISTRICT438</td>\n",
              "      <td>STATE1</td>\n",
              "      <td>7</td>\n",
              "      <td>134</td>\n",
              "      <td>54</td>\n",
              "      <td>143388.0</td>\n",
              "      <td>74.49</td>\n",
              "    </tr>\n",
              "    <tr>\n",
              "      <th>8</th>\n",
              "      <td>DISTRICT610</td>\n",
              "      <td>STATE1</td>\n",
              "      <td>10</td>\n",
              "      <td>388</td>\n",
              "      <td>80</td>\n",
              "      <td>409576.0</td>\n",
              "      <td>65.97</td>\n",
              "    </tr>\n",
              "    <tr>\n",
              "      <th>9</th>\n",
              "      <td>DISTRICT476</td>\n",
              "      <td>STATE1</td>\n",
              "      <td>11</td>\n",
              "      <td>361</td>\n",
              "      <td>86</td>\n",
              "      <td>555357.0</td>\n",
              "      <td>69.90</td>\n",
              "    </tr>\n",
              "  </tbody>\n",
              "</table>\n",
              "</div>\n",
              "    <div class=\"colab-df-buttons\">\n",
              "\n",
              "  <div class=\"colab-df-container\">\n",
              "    <button class=\"colab-df-convert\" onclick=\"convertToInteractive('df-c7e68a89-3cfb-42d0-adfe-3ff74c3ce428')\"\n",
              "            title=\"Convert this dataframe to an interactive table.\"\n",
              "            style=\"display:none;\">\n",
              "\n",
              "  <svg xmlns=\"http://www.w3.org/2000/svg\" height=\"24px\" viewBox=\"0 -960 960 960\">\n",
              "    <path d=\"M120-120v-720h720v720H120Zm60-500h600v-160H180v160Zm220 220h160v-160H400v160Zm0 220h160v-160H400v160ZM180-400h160v-160H180v160Zm440 0h160v-160H620v160ZM180-180h160v-160H180v160Zm440 0h160v-160H620v160Z\"/>\n",
              "  </svg>\n",
              "    </button>\n",
              "\n",
              "  <style>\n",
              "    .colab-df-container {\n",
              "      display:flex;\n",
              "      gap: 12px;\n",
              "    }\n",
              "\n",
              "    .colab-df-convert {\n",
              "      background-color: #E8F0FE;\n",
              "      border: none;\n",
              "      border-radius: 50%;\n",
              "      cursor: pointer;\n",
              "      display: none;\n",
              "      fill: #1967D2;\n",
              "      height: 32px;\n",
              "      padding: 0 0 0 0;\n",
              "      width: 32px;\n",
              "    }\n",
              "\n",
              "    .colab-df-convert:hover {\n",
              "      background-color: #E2EBFA;\n",
              "      box-shadow: 0px 1px 2px rgba(60, 64, 67, 0.3), 0px 1px 3px 1px rgba(60, 64, 67, 0.15);\n",
              "      fill: #174EA6;\n",
              "    }\n",
              "\n",
              "    .colab-df-buttons div {\n",
              "      margin-bottom: 4px;\n",
              "    }\n",
              "\n",
              "    [theme=dark] .colab-df-convert {\n",
              "      background-color: #3B4455;\n",
              "      fill: #D2E3FC;\n",
              "    }\n",
              "\n",
              "    [theme=dark] .colab-df-convert:hover {\n",
              "      background-color: #434B5C;\n",
              "      box-shadow: 0px 1px 3px 1px rgba(0, 0, 0, 0.15);\n",
              "      filter: drop-shadow(0px 1px 2px rgba(0, 0, 0, 0.3));\n",
              "      fill: #FFFFFF;\n",
              "    }\n",
              "  </style>\n",
              "\n",
              "    <script>\n",
              "      const buttonEl =\n",
              "        document.querySelector('#df-c7e68a89-3cfb-42d0-adfe-3ff74c3ce428 button.colab-df-convert');\n",
              "      buttonEl.style.display =\n",
              "        google.colab.kernel.accessAllowed ? 'block' : 'none';\n",
              "\n",
              "      async function convertToInteractive(key) {\n",
              "        const element = document.querySelector('#df-c7e68a89-3cfb-42d0-adfe-3ff74c3ce428');\n",
              "        const dataTable =\n",
              "          await google.colab.kernel.invokeFunction('convertToInteractive',\n",
              "                                                    [key], {});\n",
              "        if (!dataTable) return;\n",
              "\n",
              "        const docLinkHtml = 'Like what you see? Visit the ' +\n",
              "          '<a target=\"_blank\" href=https://colab.research.google.com/notebooks/data_table.ipynb>data table notebook</a>'\n",
              "          + ' to learn more about interactive tables.';\n",
              "        element.innerHTML = '';\n",
              "        dataTable['output_type'] = 'display_data';\n",
              "        await google.colab.output.renderOutput(dataTable, element);\n",
              "        const docLink = document.createElement('div');\n",
              "        docLink.innerHTML = docLinkHtml;\n",
              "        element.appendChild(docLink);\n",
              "      }\n",
              "    </script>\n",
              "  </div>\n",
              "\n",
              "\n",
              "<div id=\"df-13594499-936b-4569-9a30-748cd95227bf\">\n",
              "  <button class=\"colab-df-quickchart\" onclick=\"quickchart('df-13594499-936b-4569-9a30-748cd95227bf')\"\n",
              "            title=\"Suggest charts\"\n",
              "            style=\"display:none;\">\n",
              "\n",
              "<svg xmlns=\"http://www.w3.org/2000/svg\" height=\"24px\"viewBox=\"0 0 24 24\"\n",
              "     width=\"24px\">\n",
              "    <g>\n",
              "        <path d=\"M19 3H5c-1.1 0-2 .9-2 2v14c0 1.1.9 2 2 2h14c1.1 0 2-.9 2-2V5c0-1.1-.9-2-2-2zM9 17H7v-7h2v7zm4 0h-2V7h2v10zm4 0h-2v-4h2v4z\"/>\n",
              "    </g>\n",
              "</svg>\n",
              "  </button>\n",
              "\n",
              "<style>\n",
              "  .colab-df-quickchart {\n",
              "      --bg-color: #E8F0FE;\n",
              "      --fill-color: #1967D2;\n",
              "      --hover-bg-color: #E2EBFA;\n",
              "      --hover-fill-color: #174EA6;\n",
              "      --disabled-fill-color: #AAA;\n",
              "      --disabled-bg-color: #DDD;\n",
              "  }\n",
              "\n",
              "  [theme=dark] .colab-df-quickchart {\n",
              "      --bg-color: #3B4455;\n",
              "      --fill-color: #D2E3FC;\n",
              "      --hover-bg-color: #434B5C;\n",
              "      --hover-fill-color: #FFFFFF;\n",
              "      --disabled-bg-color: #3B4455;\n",
              "      --disabled-fill-color: #666;\n",
              "  }\n",
              "\n",
              "  .colab-df-quickchart {\n",
              "    background-color: var(--bg-color);\n",
              "    border: none;\n",
              "    border-radius: 50%;\n",
              "    cursor: pointer;\n",
              "    display: none;\n",
              "    fill: var(--fill-color);\n",
              "    height: 32px;\n",
              "    padding: 0;\n",
              "    width: 32px;\n",
              "  }\n",
              "\n",
              "  .colab-df-quickchart:hover {\n",
              "    background-color: var(--hover-bg-color);\n",
              "    box-shadow: 0 1px 2px rgba(60, 64, 67, 0.3), 0 1px 3px 1px rgba(60, 64, 67, 0.15);\n",
              "    fill: var(--button-hover-fill-color);\n",
              "  }\n",
              "\n",
              "  .colab-df-quickchart-complete:disabled,\n",
              "  .colab-df-quickchart-complete:disabled:hover {\n",
              "    background-color: var(--disabled-bg-color);\n",
              "    fill: var(--disabled-fill-color);\n",
              "    box-shadow: none;\n",
              "  }\n",
              "\n",
              "  .colab-df-spinner {\n",
              "    border: 2px solid var(--fill-color);\n",
              "    border-color: transparent;\n",
              "    border-bottom-color: var(--fill-color);\n",
              "    animation:\n",
              "      spin 1s steps(1) infinite;\n",
              "  }\n",
              "\n",
              "  @keyframes spin {\n",
              "    0% {\n",
              "      border-color: transparent;\n",
              "      border-bottom-color: var(--fill-color);\n",
              "      border-left-color: var(--fill-color);\n",
              "    }\n",
              "    20% {\n",
              "      border-color: transparent;\n",
              "      border-left-color: var(--fill-color);\n",
              "      border-top-color: var(--fill-color);\n",
              "    }\n",
              "    30% {\n",
              "      border-color: transparent;\n",
              "      border-left-color: var(--fill-color);\n",
              "      border-top-color: var(--fill-color);\n",
              "      border-right-color: var(--fill-color);\n",
              "    }\n",
              "    40% {\n",
              "      border-color: transparent;\n",
              "      border-right-color: var(--fill-color);\n",
              "      border-top-color: var(--fill-color);\n",
              "    }\n",
              "    60% {\n",
              "      border-color: transparent;\n",
              "      border-right-color: var(--fill-color);\n",
              "    }\n",
              "    80% {\n",
              "      border-color: transparent;\n",
              "      border-right-color: var(--fill-color);\n",
              "      border-bottom-color: var(--fill-color);\n",
              "    }\n",
              "    90% {\n",
              "      border-color: transparent;\n",
              "      border-bottom-color: var(--fill-color);\n",
              "    }\n",
              "  }\n",
              "</style>\n",
              "\n",
              "  <script>\n",
              "    async function quickchart(key) {\n",
              "      const quickchartButtonEl =\n",
              "        document.querySelector('#' + key + ' button');\n",
              "      quickchartButtonEl.disabled = true;  // To prevent multiple clicks.\n",
              "      quickchartButtonEl.classList.add('colab-df-spinner');\n",
              "      try {\n",
              "        const charts = await google.colab.kernel.invokeFunction(\n",
              "            'suggestCharts', [key], {});\n",
              "      } catch (error) {\n",
              "        console.error('Error during call to suggestCharts:', error);\n",
              "      }\n",
              "      quickchartButtonEl.classList.remove('colab-df-spinner');\n",
              "      quickchartButtonEl.classList.add('colab-df-quickchart-complete');\n",
              "    }\n",
              "    (() => {\n",
              "      let quickchartButtonEl =\n",
              "        document.querySelector('#df-13594499-936b-4569-9a30-748cd95227bf button');\n",
              "      quickchartButtonEl.style.display =\n",
              "        google.colab.kernel.accessAllowed ? 'block' : 'none';\n",
              "    })();\n",
              "  </script>\n",
              "</div>\n",
              "    </div>\n",
              "  </div>\n"
            ],
            "application/vnd.google.colaboratory.intrinsic+json": {
              "type": "dataframe",
              "variable_name": "education_districtwise",
              "summary": "{\n  \"name\": \"education_districtwise\",\n  \"rows\": 680,\n  \"fields\": [\n    {\n      \"column\": \"DISTNAME\",\n      \"properties\": {\n        \"dtype\": \"string\",\n        \"num_unique_values\": 680,\n        \"samples\": [\n          \"DISTRICT117\",\n          \"DISTRICT397\",\n          \"DISTRICT390\"\n        ],\n        \"semantic_type\": \"\",\n        \"description\": \"\"\n      }\n    },\n    {\n      \"column\": \"STATNAME\",\n      \"properties\": {\n        \"dtype\": \"category\",\n        \"num_unique_values\": 36,\n        \"samples\": [\n          \"STATE29\",\n          \"STATE35\",\n          \"STATE17\"\n        ],\n        \"semantic_type\": \"\",\n        \"description\": \"\"\n      }\n    },\n    {\n      \"column\": \"BLOCKS\",\n      \"properties\": {\n        \"dtype\": \"number\",\n        \"std\": 9,\n        \"min\": 1,\n        \"max\": 66,\n        \"num_unique_values\": 49,\n        \"samples\": [\n          20,\n          66,\n          59\n        ],\n        \"semantic_type\": \"\",\n        \"description\": \"\"\n      }\n    },\n    {\n      \"column\": \"VILLAGES\",\n      \"properties\": {\n        \"dtype\": \"number\",\n        \"std\": 622,\n        \"min\": 6,\n        \"max\": 3963,\n        \"num_unique_values\": 576,\n        \"samples\": [\n          2334,\n          1155,\n          1531\n        ],\n        \"semantic_type\": \"\",\n        \"description\": \"\"\n      }\n    },\n    {\n      \"column\": \"CLUSTERS\",\n      \"properties\": {\n        \"dtype\": \"number\",\n        \"std\": 94,\n        \"min\": 1,\n        \"max\": 592,\n        \"num_unique_values\": 267,\n        \"samples\": [\n          152,\n          59,\n          44\n        ],\n        \"semantic_type\": \"\",\n        \"description\": \"\"\n      }\n    },\n    {\n      \"column\": \"TOTPOPULAT\",\n      \"properties\": {\n        \"dtype\": \"number\",\n        \"std\": 1547475.447261244,\n        \"min\": 7948.0,\n        \"max\": 11054131.0,\n        \"num_unique_values\": 634,\n        \"samples\": [\n          612727.0,\n          82839.0,\n          4778610.0\n        ],\n        \"semantic_type\": \"\",\n        \"description\": \"\"\n      }\n    },\n    {\n      \"column\": \"OVERALL_LI\",\n      \"properties\": {\n        \"dtype\": \"number\",\n        \"std\": 10.098460413782469,\n        \"min\": 37.22,\n        \"max\": 98.76,\n        \"num_unique_values\": 574,\n        \"samples\": [\n          70.08,\n          70.56,\n          55.08\n        ],\n        \"semantic_type\": \"\",\n        \"description\": \"\"\n      }\n    }\n  ]\n}"
            }
          },
          "metadata": {},
          "execution_count": 3
        }
      ]
    },
    {
      "cell_type": "markdown",
      "source": [
        "### Use describe() to compute descriptive stats\n",
        "Now that we have a better understanding of the dataset, let's use Python to compute descriptive stats.\n",
        "\n",
        "Our main interest is the literacy rate. This data is contained in the OVERALL_LI column, which shows the literacy rate for each district in the nation. Use the describe() function to reveal key stats about literacy rate."
      ],
      "metadata": {
        "id": "2GJ49Xer566O"
      }
    },
    {
      "cell_type": "code",
      "source": [
        "education_districtwise['OVERALL_LI'].describe()"
      ],
      "metadata": {
        "colab": {
          "base_uri": "https://localhost:8080/",
          "height": 331
        },
        "id": "pMC9HV8f6BXv",
        "outputId": "87312039-f54e-4876-e600-e83102cc73e3"
      },
      "execution_count": null,
      "outputs": [
        {
          "output_type": "execute_result",
          "data": {
            "text/plain": [
              "count    634.000000\n",
              "mean      73.395189\n",
              "std       10.098460\n",
              "min       37.220000\n",
              "25%       66.437500\n",
              "50%       73.490000\n",
              "75%       80.815000\n",
              "max       98.760000\n",
              "Name: OVERALL_LI, dtype: float64"
            ],
            "text/html": [
              "<div>\n",
              "<style scoped>\n",
              "    .dataframe tbody tr th:only-of-type {\n",
              "        vertical-align: middle;\n",
              "    }\n",
              "\n",
              "    .dataframe tbody tr th {\n",
              "        vertical-align: top;\n",
              "    }\n",
              "\n",
              "    .dataframe thead th {\n",
              "        text-align: right;\n",
              "    }\n",
              "</style>\n",
              "<table border=\"1\" class=\"dataframe\">\n",
              "  <thead>\n",
              "    <tr style=\"text-align: right;\">\n",
              "      <th></th>\n",
              "      <th>OVERALL_LI</th>\n",
              "    </tr>\n",
              "  </thead>\n",
              "  <tbody>\n",
              "    <tr>\n",
              "      <th>count</th>\n",
              "      <td>634.000000</td>\n",
              "    </tr>\n",
              "    <tr>\n",
              "      <th>mean</th>\n",
              "      <td>73.395189</td>\n",
              "    </tr>\n",
              "    <tr>\n",
              "      <th>std</th>\n",
              "      <td>10.098460</td>\n",
              "    </tr>\n",
              "    <tr>\n",
              "      <th>min</th>\n",
              "      <td>37.220000</td>\n",
              "    </tr>\n",
              "    <tr>\n",
              "      <th>25%</th>\n",
              "      <td>66.437500</td>\n",
              "    </tr>\n",
              "    <tr>\n",
              "      <th>50%</th>\n",
              "      <td>73.490000</td>\n",
              "    </tr>\n",
              "    <tr>\n",
              "      <th>75%</th>\n",
              "      <td>80.815000</td>\n",
              "    </tr>\n",
              "    <tr>\n",
              "      <th>max</th>\n",
              "      <td>98.760000</td>\n",
              "    </tr>\n",
              "  </tbody>\n",
              "</table>\n",
              "</div><br><label><b>dtype:</b> float64</label>"
            ]
          },
          "metadata": {},
          "execution_count": 4
        }
      ]
    },
    {
      "cell_type": "markdown",
      "source": [
        "### Use describe() with categorical data\n",
        "You can also use the describe() function for a column with categorical data, like the STATNAME column.\n",
        "For a categorical column, describe() gives you the following output:\n",
        "\n",
        "  - count: Number of non-NA/null observations\n",
        "  - unique: Number of unique values\n",
        "  - top: The most common value (the mode)\n",
        "  - freq: The frequency of the most common value"
      ],
      "metadata": {
        "id": "cyegOSsu6hsL"
      }
    },
    {
      "cell_type": "code",
      "source": [
        "education_districtwise['STATNAME'].describe()"
      ],
      "metadata": {
        "colab": {
          "base_uri": "https://localhost:8080/",
          "height": 207
        },
        "id": "57FTBUiv6pLY",
        "outputId": "d79f2d72-b71c-4ffa-ea70-f5670df39ef8"
      },
      "execution_count": null,
      "outputs": [
        {
          "output_type": "execute_result",
          "data": {
            "text/plain": [
              "count         680\n",
              "unique         36\n",
              "top       STATE21\n",
              "freq           75\n",
              "Name: STATNAME, dtype: object"
            ],
            "text/html": [
              "<div>\n",
              "<style scoped>\n",
              "    .dataframe tbody tr th:only-of-type {\n",
              "        vertical-align: middle;\n",
              "    }\n",
              "\n",
              "    .dataframe tbody tr th {\n",
              "        vertical-align: top;\n",
              "    }\n",
              "\n",
              "    .dataframe thead th {\n",
              "        text-align: right;\n",
              "    }\n",
              "</style>\n",
              "<table border=\"1\" class=\"dataframe\">\n",
              "  <thead>\n",
              "    <tr style=\"text-align: right;\">\n",
              "      <th></th>\n",
              "      <th>STATNAME</th>\n",
              "    </tr>\n",
              "  </thead>\n",
              "  <tbody>\n",
              "    <tr>\n",
              "      <th>count</th>\n",
              "      <td>680</td>\n",
              "    </tr>\n",
              "    <tr>\n",
              "      <th>unique</th>\n",
              "      <td>36</td>\n",
              "    </tr>\n",
              "    <tr>\n",
              "      <th>top</th>\n",
              "      <td>STATE21</td>\n",
              "    </tr>\n",
              "    <tr>\n",
              "      <th>freq</th>\n",
              "      <td>75</td>\n",
              "    </tr>\n",
              "  </tbody>\n",
              "</table>\n",
              "</div><br><label><b>dtype:</b> object</label>"
            ]
          },
          "metadata": {},
          "execution_count": 5
        }
      ]
    },
    {
      "cell_type": "markdown",
      "source": [
        "### Use max() and min() to compute range\n",
        "Recall that the range is the difference between the largest and smallest values in a dataset. In other words, range = max - min. You can use max() and min() to compute the range for the literacy rate of all districts in your dataset."
      ],
      "metadata": {
        "id": "vUW1iEEX7L2A"
      }
    },
    {
      "cell_type": "code",
      "source": [
        "range_overall_li = education_districtwise['OVERALL_LI'].max() - education_districtwise['OVERALL_LI'].min()\n",
        "range_overall_li"
      ],
      "metadata": {
        "colab": {
          "base_uri": "https://localhost:8080/"
        },
        "id": "2TKtj3VQ7RYV",
        "outputId": "9cea0433-3b85-4f79-f7f7-29e3a2a68d80"
      },
      "execution_count": null,
      "outputs": [
        {
          "output_type": "execute_result",
          "data": {
            "text/plain": [
              "61.540000000000006"
            ]
          },
          "metadata": {},
          "execution_count": 6
        }
      ]
    },
    {
      "cell_type": "markdown",
      "source": [
        "# Activity : Explore Descriptive Stats"
      ],
      "metadata": {
        "id": "Cwlh4dpp97Q5"
      }
    },
    {
      "cell_type": "markdown",
      "source": [
        "## Step 1: Imports\n",
        "Import the relevant Python libraries pandas and numpy."
      ],
      "metadata": {
        "id": "cPR-0jZwJgJx"
      }
    },
    {
      "cell_type": "code",
      "source": [
        "# Import relevant Python libraries.\n",
        "\n",
        "import pandas as pd\n",
        "import numpy as np"
      ],
      "metadata": {
        "id": "vRtROsTWJWKl"
      },
      "execution_count": null,
      "outputs": []
    },
    {
      "cell_type": "code",
      "source": [
        "# Load data from the .csv file into a DataFrame and save in a variable.\n",
        "\n",
        "### YOUR CODE HERE\n",
        "\n",
        "epa_data = pd.read_csv(\"c4_epa_air_quality.csv\", index_col = 0)"
      ],
      "metadata": {
        "id": "4FUZx5uVJaYh"
      },
      "execution_count": null,
      "outputs": []
    },
    {
      "cell_type": "markdown",
      "source": [
        "## Step 2: Data exploration\n",
        "To understand how the dataset is structured, display the first 10 rows of the data."
      ],
      "metadata": {
        "id": "fp7imz76Jka0"
      }
    },
    {
      "cell_type": "code",
      "source": [
        "# Display first 10 rows of the data.\n",
        "\n",
        "### YOUR CODE HERE\n",
        "\n",
        "epa_data.head(10)"
      ],
      "metadata": {
        "colab": {
          "base_uri": "https://localhost:8080/",
          "height": 447
        },
        "id": "-HDqGSm5JyFm",
        "outputId": "da298a8e-c42b-431f-949f-911469bc6c7e"
      },
      "execution_count": null,
      "outputs": [
        {
          "output_type": "execute_result",
          "data": {
            "text/plain": [
              "   date_local    state_name   county_name      city_name  \\\n",
              "0  2018-01-01       Arizona      Maricopa        Buckeye   \n",
              "1  2018-01-01          Ohio       Belmont      Shadyside   \n",
              "2  2018-01-01       Wyoming         Teton  Not in a city   \n",
              "3  2018-01-01  Pennsylvania  Philadelphia   Philadelphia   \n",
              "4  2018-01-01          Iowa          Polk     Des Moines   \n",
              "5  2018-01-01        Hawaii      Honolulu  Not in a city   \n",
              "6  2018-01-01        Hawaii      Honolulu  Not in a city   \n",
              "7  2018-01-01  Pennsylvania          Erie           Erie   \n",
              "8  2018-01-01        Hawaii      Honolulu       Honolulu   \n",
              "9  2018-01-01      Colorado       Larimer   Fort Collins   \n",
              "\n",
              "                                     local_site_name   parameter_name  \\\n",
              "0                                            BUCKEYE  Carbon monoxide   \n",
              "1                                          Shadyside  Carbon monoxide   \n",
              "2  Yellowstone National Park - Old Faithful Snow ...  Carbon monoxide   \n",
              "3                             North East Waste (NEW)  Carbon monoxide   \n",
              "4                                          CARPENTER  Carbon monoxide   \n",
              "5                                            Kapolei  Carbon monoxide   \n",
              "6                                            Kapolei  Carbon monoxide   \n",
              "7                                                NaN  Carbon monoxide   \n",
              "8                                           Honolulu  Carbon monoxide   \n",
              "9                      Fort Collins - CSU - S. Mason  Carbon monoxide   \n",
              "\n",
              "    units_of_measure  arithmetic_mean  aqi  \n",
              "0  Parts per million         0.473684    7  \n",
              "1  Parts per million         0.263158    5  \n",
              "2  Parts per million         0.111111    2  \n",
              "3  Parts per million         0.300000    3  \n",
              "4  Parts per million         0.215789    3  \n",
              "5  Parts per million         0.994737   14  \n",
              "6  Parts per million         0.200000    2  \n",
              "7  Parts per million         0.200000    2  \n",
              "8  Parts per million         0.400000    5  \n",
              "9  Parts per million         0.300000    6  "
            ],
            "text/html": [
              "\n",
              "  <div id=\"df-52a1b427-d0a9-498c-b442-49b2af62fe76\" class=\"colab-df-container\">\n",
              "    <div>\n",
              "<style scoped>\n",
              "    .dataframe tbody tr th:only-of-type {\n",
              "        vertical-align: middle;\n",
              "    }\n",
              "\n",
              "    .dataframe tbody tr th {\n",
              "        vertical-align: top;\n",
              "    }\n",
              "\n",
              "    .dataframe thead th {\n",
              "        text-align: right;\n",
              "    }\n",
              "</style>\n",
              "<table border=\"1\" class=\"dataframe\">\n",
              "  <thead>\n",
              "    <tr style=\"text-align: right;\">\n",
              "      <th></th>\n",
              "      <th>date_local</th>\n",
              "      <th>state_name</th>\n",
              "      <th>county_name</th>\n",
              "      <th>city_name</th>\n",
              "      <th>local_site_name</th>\n",
              "      <th>parameter_name</th>\n",
              "      <th>units_of_measure</th>\n",
              "      <th>arithmetic_mean</th>\n",
              "      <th>aqi</th>\n",
              "    </tr>\n",
              "  </thead>\n",
              "  <tbody>\n",
              "    <tr>\n",
              "      <th>0</th>\n",
              "      <td>2018-01-01</td>\n",
              "      <td>Arizona</td>\n",
              "      <td>Maricopa</td>\n",
              "      <td>Buckeye</td>\n",
              "      <td>BUCKEYE</td>\n",
              "      <td>Carbon monoxide</td>\n",
              "      <td>Parts per million</td>\n",
              "      <td>0.473684</td>\n",
              "      <td>7</td>\n",
              "    </tr>\n",
              "    <tr>\n",
              "      <th>1</th>\n",
              "      <td>2018-01-01</td>\n",
              "      <td>Ohio</td>\n",
              "      <td>Belmont</td>\n",
              "      <td>Shadyside</td>\n",
              "      <td>Shadyside</td>\n",
              "      <td>Carbon monoxide</td>\n",
              "      <td>Parts per million</td>\n",
              "      <td>0.263158</td>\n",
              "      <td>5</td>\n",
              "    </tr>\n",
              "    <tr>\n",
              "      <th>2</th>\n",
              "      <td>2018-01-01</td>\n",
              "      <td>Wyoming</td>\n",
              "      <td>Teton</td>\n",
              "      <td>Not in a city</td>\n",
              "      <td>Yellowstone National Park - Old Faithful Snow ...</td>\n",
              "      <td>Carbon monoxide</td>\n",
              "      <td>Parts per million</td>\n",
              "      <td>0.111111</td>\n",
              "      <td>2</td>\n",
              "    </tr>\n",
              "    <tr>\n",
              "      <th>3</th>\n",
              "      <td>2018-01-01</td>\n",
              "      <td>Pennsylvania</td>\n",
              "      <td>Philadelphia</td>\n",
              "      <td>Philadelphia</td>\n",
              "      <td>North East Waste (NEW)</td>\n",
              "      <td>Carbon monoxide</td>\n",
              "      <td>Parts per million</td>\n",
              "      <td>0.300000</td>\n",
              "      <td>3</td>\n",
              "    </tr>\n",
              "    <tr>\n",
              "      <th>4</th>\n",
              "      <td>2018-01-01</td>\n",
              "      <td>Iowa</td>\n",
              "      <td>Polk</td>\n",
              "      <td>Des Moines</td>\n",
              "      <td>CARPENTER</td>\n",
              "      <td>Carbon monoxide</td>\n",
              "      <td>Parts per million</td>\n",
              "      <td>0.215789</td>\n",
              "      <td>3</td>\n",
              "    </tr>\n",
              "    <tr>\n",
              "      <th>5</th>\n",
              "      <td>2018-01-01</td>\n",
              "      <td>Hawaii</td>\n",
              "      <td>Honolulu</td>\n",
              "      <td>Not in a city</td>\n",
              "      <td>Kapolei</td>\n",
              "      <td>Carbon monoxide</td>\n",
              "      <td>Parts per million</td>\n",
              "      <td>0.994737</td>\n",
              "      <td>14</td>\n",
              "    </tr>\n",
              "    <tr>\n",
              "      <th>6</th>\n",
              "      <td>2018-01-01</td>\n",
              "      <td>Hawaii</td>\n",
              "      <td>Honolulu</td>\n",
              "      <td>Not in a city</td>\n",
              "      <td>Kapolei</td>\n",
              "      <td>Carbon monoxide</td>\n",
              "      <td>Parts per million</td>\n",
              "      <td>0.200000</td>\n",
              "      <td>2</td>\n",
              "    </tr>\n",
              "    <tr>\n",
              "      <th>7</th>\n",
              "      <td>2018-01-01</td>\n",
              "      <td>Pennsylvania</td>\n",
              "      <td>Erie</td>\n",
              "      <td>Erie</td>\n",
              "      <td>NaN</td>\n",
              "      <td>Carbon monoxide</td>\n",
              "      <td>Parts per million</td>\n",
              "      <td>0.200000</td>\n",
              "      <td>2</td>\n",
              "    </tr>\n",
              "    <tr>\n",
              "      <th>8</th>\n",
              "      <td>2018-01-01</td>\n",
              "      <td>Hawaii</td>\n",
              "      <td>Honolulu</td>\n",
              "      <td>Honolulu</td>\n",
              "      <td>Honolulu</td>\n",
              "      <td>Carbon monoxide</td>\n",
              "      <td>Parts per million</td>\n",
              "      <td>0.400000</td>\n",
              "      <td>5</td>\n",
              "    </tr>\n",
              "    <tr>\n",
              "      <th>9</th>\n",
              "      <td>2018-01-01</td>\n",
              "      <td>Colorado</td>\n",
              "      <td>Larimer</td>\n",
              "      <td>Fort Collins</td>\n",
              "      <td>Fort Collins - CSU - S. Mason</td>\n",
              "      <td>Carbon monoxide</td>\n",
              "      <td>Parts per million</td>\n",
              "      <td>0.300000</td>\n",
              "      <td>6</td>\n",
              "    </tr>\n",
              "  </tbody>\n",
              "</table>\n",
              "</div>\n",
              "    <div class=\"colab-df-buttons\">\n",
              "\n",
              "  <div class=\"colab-df-container\">\n",
              "    <button class=\"colab-df-convert\" onclick=\"convertToInteractive('df-52a1b427-d0a9-498c-b442-49b2af62fe76')\"\n",
              "            title=\"Convert this dataframe to an interactive table.\"\n",
              "            style=\"display:none;\">\n",
              "\n",
              "  <svg xmlns=\"http://www.w3.org/2000/svg\" height=\"24px\" viewBox=\"0 -960 960 960\">\n",
              "    <path d=\"M120-120v-720h720v720H120Zm60-500h600v-160H180v160Zm220 220h160v-160H400v160Zm0 220h160v-160H400v160ZM180-400h160v-160H180v160Zm440 0h160v-160H620v160ZM180-180h160v-160H180v160Zm440 0h160v-160H620v160Z\"/>\n",
              "  </svg>\n",
              "    </button>\n",
              "\n",
              "  <style>\n",
              "    .colab-df-container {\n",
              "      display:flex;\n",
              "      gap: 12px;\n",
              "    }\n",
              "\n",
              "    .colab-df-convert {\n",
              "      background-color: #E8F0FE;\n",
              "      border: none;\n",
              "      border-radius: 50%;\n",
              "      cursor: pointer;\n",
              "      display: none;\n",
              "      fill: #1967D2;\n",
              "      height: 32px;\n",
              "      padding: 0 0 0 0;\n",
              "      width: 32px;\n",
              "    }\n",
              "\n",
              "    .colab-df-convert:hover {\n",
              "      background-color: #E2EBFA;\n",
              "      box-shadow: 0px 1px 2px rgba(60, 64, 67, 0.3), 0px 1px 3px 1px rgba(60, 64, 67, 0.15);\n",
              "      fill: #174EA6;\n",
              "    }\n",
              "\n",
              "    .colab-df-buttons div {\n",
              "      margin-bottom: 4px;\n",
              "    }\n",
              "\n",
              "    [theme=dark] .colab-df-convert {\n",
              "      background-color: #3B4455;\n",
              "      fill: #D2E3FC;\n",
              "    }\n",
              "\n",
              "    [theme=dark] .colab-df-convert:hover {\n",
              "      background-color: #434B5C;\n",
              "      box-shadow: 0px 1px 3px 1px rgba(0, 0, 0, 0.15);\n",
              "      filter: drop-shadow(0px 1px 2px rgba(0, 0, 0, 0.3));\n",
              "      fill: #FFFFFF;\n",
              "    }\n",
              "  </style>\n",
              "\n",
              "    <script>\n",
              "      const buttonEl =\n",
              "        document.querySelector('#df-52a1b427-d0a9-498c-b442-49b2af62fe76 button.colab-df-convert');\n",
              "      buttonEl.style.display =\n",
              "        google.colab.kernel.accessAllowed ? 'block' : 'none';\n",
              "\n",
              "      async function convertToInteractive(key) {\n",
              "        const element = document.querySelector('#df-52a1b427-d0a9-498c-b442-49b2af62fe76');\n",
              "        const dataTable =\n",
              "          await google.colab.kernel.invokeFunction('convertToInteractive',\n",
              "                                                    [key], {});\n",
              "        if (!dataTable) return;\n",
              "\n",
              "        const docLinkHtml = 'Like what you see? Visit the ' +\n",
              "          '<a target=\"_blank\" href=https://colab.research.google.com/notebooks/data_table.ipynb>data table notebook</a>'\n",
              "          + ' to learn more about interactive tables.';\n",
              "        element.innerHTML = '';\n",
              "        dataTable['output_type'] = 'display_data';\n",
              "        await google.colab.output.renderOutput(dataTable, element);\n",
              "        const docLink = document.createElement('div');\n",
              "        docLink.innerHTML = docLinkHtml;\n",
              "        element.appendChild(docLink);\n",
              "      }\n",
              "    </script>\n",
              "  </div>\n",
              "\n",
              "\n",
              "<div id=\"df-3894f3a9-5b40-4a88-a475-1849e552d706\">\n",
              "  <button class=\"colab-df-quickchart\" onclick=\"quickchart('df-3894f3a9-5b40-4a88-a475-1849e552d706')\"\n",
              "            title=\"Suggest charts\"\n",
              "            style=\"display:none;\">\n",
              "\n",
              "<svg xmlns=\"http://www.w3.org/2000/svg\" height=\"24px\"viewBox=\"0 0 24 24\"\n",
              "     width=\"24px\">\n",
              "    <g>\n",
              "        <path d=\"M19 3H5c-1.1 0-2 .9-2 2v14c0 1.1.9 2 2 2h14c1.1 0 2-.9 2-2V5c0-1.1-.9-2-2-2zM9 17H7v-7h2v7zm4 0h-2V7h2v10zm4 0h-2v-4h2v4z\"/>\n",
              "    </g>\n",
              "</svg>\n",
              "  </button>\n",
              "\n",
              "<style>\n",
              "  .colab-df-quickchart {\n",
              "      --bg-color: #E8F0FE;\n",
              "      --fill-color: #1967D2;\n",
              "      --hover-bg-color: #E2EBFA;\n",
              "      --hover-fill-color: #174EA6;\n",
              "      --disabled-fill-color: #AAA;\n",
              "      --disabled-bg-color: #DDD;\n",
              "  }\n",
              "\n",
              "  [theme=dark] .colab-df-quickchart {\n",
              "      --bg-color: #3B4455;\n",
              "      --fill-color: #D2E3FC;\n",
              "      --hover-bg-color: #434B5C;\n",
              "      --hover-fill-color: #FFFFFF;\n",
              "      --disabled-bg-color: #3B4455;\n",
              "      --disabled-fill-color: #666;\n",
              "  }\n",
              "\n",
              "  .colab-df-quickchart {\n",
              "    background-color: var(--bg-color);\n",
              "    border: none;\n",
              "    border-radius: 50%;\n",
              "    cursor: pointer;\n",
              "    display: none;\n",
              "    fill: var(--fill-color);\n",
              "    height: 32px;\n",
              "    padding: 0;\n",
              "    width: 32px;\n",
              "  }\n",
              "\n",
              "  .colab-df-quickchart:hover {\n",
              "    background-color: var(--hover-bg-color);\n",
              "    box-shadow: 0 1px 2px rgba(60, 64, 67, 0.3), 0 1px 3px 1px rgba(60, 64, 67, 0.15);\n",
              "    fill: var(--button-hover-fill-color);\n",
              "  }\n",
              "\n",
              "  .colab-df-quickchart-complete:disabled,\n",
              "  .colab-df-quickchart-complete:disabled:hover {\n",
              "    background-color: var(--disabled-bg-color);\n",
              "    fill: var(--disabled-fill-color);\n",
              "    box-shadow: none;\n",
              "  }\n",
              "\n",
              "  .colab-df-spinner {\n",
              "    border: 2px solid var(--fill-color);\n",
              "    border-color: transparent;\n",
              "    border-bottom-color: var(--fill-color);\n",
              "    animation:\n",
              "      spin 1s steps(1) infinite;\n",
              "  }\n",
              "\n",
              "  @keyframes spin {\n",
              "    0% {\n",
              "      border-color: transparent;\n",
              "      border-bottom-color: var(--fill-color);\n",
              "      border-left-color: var(--fill-color);\n",
              "    }\n",
              "    20% {\n",
              "      border-color: transparent;\n",
              "      border-left-color: var(--fill-color);\n",
              "      border-top-color: var(--fill-color);\n",
              "    }\n",
              "    30% {\n",
              "      border-color: transparent;\n",
              "      border-left-color: var(--fill-color);\n",
              "      border-top-color: var(--fill-color);\n",
              "      border-right-color: var(--fill-color);\n",
              "    }\n",
              "    40% {\n",
              "      border-color: transparent;\n",
              "      border-right-color: var(--fill-color);\n",
              "      border-top-color: var(--fill-color);\n",
              "    }\n",
              "    60% {\n",
              "      border-color: transparent;\n",
              "      border-right-color: var(--fill-color);\n",
              "    }\n",
              "    80% {\n",
              "      border-color: transparent;\n",
              "      border-right-color: var(--fill-color);\n",
              "      border-bottom-color: var(--fill-color);\n",
              "    }\n",
              "    90% {\n",
              "      border-color: transparent;\n",
              "      border-bottom-color: var(--fill-color);\n",
              "    }\n",
              "  }\n",
              "</style>\n",
              "\n",
              "  <script>\n",
              "    async function quickchart(key) {\n",
              "      const quickchartButtonEl =\n",
              "        document.querySelector('#' + key + ' button');\n",
              "      quickchartButtonEl.disabled = true;  // To prevent multiple clicks.\n",
              "      quickchartButtonEl.classList.add('colab-df-spinner');\n",
              "      try {\n",
              "        const charts = await google.colab.kernel.invokeFunction(\n",
              "            'suggestCharts', [key], {});\n",
              "      } catch (error) {\n",
              "        console.error('Error during call to suggestCharts:', error);\n",
              "      }\n",
              "      quickchartButtonEl.classList.remove('colab-df-spinner');\n",
              "      quickchartButtonEl.classList.add('colab-df-quickchart-complete');\n",
              "    }\n",
              "    (() => {\n",
              "      let quickchartButtonEl =\n",
              "        document.querySelector('#df-3894f3a9-5b40-4a88-a475-1849e552d706 button');\n",
              "      quickchartButtonEl.style.display =\n",
              "        google.colab.kernel.accessAllowed ? 'block' : 'none';\n",
              "    })();\n",
              "  </script>\n",
              "</div>\n",
              "    </div>\n",
              "  </div>\n"
            ],
            "application/vnd.google.colaboratory.intrinsic+json": {
              "type": "dataframe",
              "variable_name": "epa_data",
              "summary": "{\n  \"name\": \"epa_data\",\n  \"rows\": 260,\n  \"fields\": [\n    {\n      \"column\": \"date_local\",\n      \"properties\": {\n        \"dtype\": \"object\",\n        \"num_unique_values\": 1,\n        \"samples\": [\n          \"2018-01-01\"\n        ],\n        \"semantic_type\": \"\",\n        \"description\": \"\"\n      }\n    },\n    {\n      \"column\": \"state_name\",\n      \"properties\": {\n        \"dtype\": \"category\",\n        \"num_unique_values\": 52,\n        \"samples\": [\n          \"New Jersey\"\n        ],\n        \"semantic_type\": \"\",\n        \"description\": \"\"\n      }\n    },\n    {\n      \"column\": \"county_name\",\n      \"properties\": {\n        \"dtype\": \"string\",\n        \"num_unique_values\": 149,\n        \"samples\": [\n          \"El Paso\"\n        ],\n        \"semantic_type\": \"\",\n        \"description\": \"\"\n      }\n    },\n    {\n      \"column\": \"city_name\",\n      \"properties\": {\n        \"dtype\": \"string\",\n        \"num_unique_values\": 190,\n        \"samples\": [\n          \"Valrico\"\n        ],\n        \"semantic_type\": \"\",\n        \"description\": \"\"\n      }\n    },\n    {\n      \"column\": \"local_site_name\",\n      \"properties\": {\n        \"dtype\": \"string\",\n        \"num_unique_values\": 253,\n        \"samples\": [\n          \"Los Flores Canyon #1\"\n        ],\n        \"semantic_type\": \"\",\n        \"description\": \"\"\n      }\n    },\n    {\n      \"column\": \"parameter_name\",\n      \"properties\": {\n        \"dtype\": \"category\",\n        \"num_unique_values\": 1,\n        \"samples\": [\n          \"Carbon monoxide\"\n        ],\n        \"semantic_type\": \"\",\n        \"description\": \"\"\n      }\n    },\n    {\n      \"column\": \"units_of_measure\",\n      \"properties\": {\n        \"dtype\": \"category\",\n        \"num_unique_values\": 1,\n        \"samples\": [\n          \"Parts per million\"\n        ],\n        \"semantic_type\": \"\",\n        \"description\": \"\"\n      }\n    },\n    {\n      \"column\": \"arithmetic_mean\",\n      \"properties\": {\n        \"dtype\": \"number\",\n        \"std\": 0.3179017834023353,\n        \"min\": 0.0,\n        \"max\": 1.921053,\n        \"num_unique_values\": 150,\n        \"samples\": [\n          0.131579\n        ],\n        \"semantic_type\": \"\",\n        \"description\": \"\"\n      }\n    },\n    {\n      \"column\": \"aqi\",\n      \"properties\": {\n        \"dtype\": \"number\",\n        \"std\": 7,\n        \"min\": 0,\n        \"max\": 50,\n        \"num_unique_values\": 29,\n        \"samples\": [\n          28\n        ],\n        \"semantic_type\": \"\",\n        \"description\": \"\"\n      }\n    }\n  ]\n}"
            }
          },
          "metadata": {},
          "execution_count": 9
        }
      ]
    },
    {
      "cell_type": "code",
      "source": [
        "# Get descriptive stats.\n",
        "\n",
        "### YOUR CODE HERE\n",
        "\n",
        "epa_data.describe()"
      ],
      "metadata": {
        "colab": {
          "base_uri": "https://localhost:8080/",
          "height": 297
        },
        "id": "ghTPRfUfJ05H",
        "outputId": "0dc0cf78-4bfb-4562-b86d-6f0da23c72bf"
      },
      "execution_count": null,
      "outputs": [
        {
          "output_type": "execute_result",
          "data": {
            "text/plain": [
              "       arithmetic_mean         aqi\n",
              "count       260.000000  260.000000\n",
              "mean          0.403169    6.757692\n",
              "std           0.317902    7.061707\n",
              "min           0.000000    0.000000\n",
              "25%           0.200000    2.000000\n",
              "50%           0.276315    5.000000\n",
              "75%           0.516009    9.000000\n",
              "max           1.921053   50.000000"
            ],
            "text/html": [
              "\n",
              "  <div id=\"df-02f5f311-11bd-438c-953d-71827171dc2e\" class=\"colab-df-container\">\n",
              "    <div>\n",
              "<style scoped>\n",
              "    .dataframe tbody tr th:only-of-type {\n",
              "        vertical-align: middle;\n",
              "    }\n",
              "\n",
              "    .dataframe tbody tr th {\n",
              "        vertical-align: top;\n",
              "    }\n",
              "\n",
              "    .dataframe thead th {\n",
              "        text-align: right;\n",
              "    }\n",
              "</style>\n",
              "<table border=\"1\" class=\"dataframe\">\n",
              "  <thead>\n",
              "    <tr style=\"text-align: right;\">\n",
              "      <th></th>\n",
              "      <th>arithmetic_mean</th>\n",
              "      <th>aqi</th>\n",
              "    </tr>\n",
              "  </thead>\n",
              "  <tbody>\n",
              "    <tr>\n",
              "      <th>count</th>\n",
              "      <td>260.000000</td>\n",
              "      <td>260.000000</td>\n",
              "    </tr>\n",
              "    <tr>\n",
              "      <th>mean</th>\n",
              "      <td>0.403169</td>\n",
              "      <td>6.757692</td>\n",
              "    </tr>\n",
              "    <tr>\n",
              "      <th>std</th>\n",
              "      <td>0.317902</td>\n",
              "      <td>7.061707</td>\n",
              "    </tr>\n",
              "    <tr>\n",
              "      <th>min</th>\n",
              "      <td>0.000000</td>\n",
              "      <td>0.000000</td>\n",
              "    </tr>\n",
              "    <tr>\n",
              "      <th>25%</th>\n",
              "      <td>0.200000</td>\n",
              "      <td>2.000000</td>\n",
              "    </tr>\n",
              "    <tr>\n",
              "      <th>50%</th>\n",
              "      <td>0.276315</td>\n",
              "      <td>5.000000</td>\n",
              "    </tr>\n",
              "    <tr>\n",
              "      <th>75%</th>\n",
              "      <td>0.516009</td>\n",
              "      <td>9.000000</td>\n",
              "    </tr>\n",
              "    <tr>\n",
              "      <th>max</th>\n",
              "      <td>1.921053</td>\n",
              "      <td>50.000000</td>\n",
              "    </tr>\n",
              "  </tbody>\n",
              "</table>\n",
              "</div>\n",
              "    <div class=\"colab-df-buttons\">\n",
              "\n",
              "  <div class=\"colab-df-container\">\n",
              "    <button class=\"colab-df-convert\" onclick=\"convertToInteractive('df-02f5f311-11bd-438c-953d-71827171dc2e')\"\n",
              "            title=\"Convert this dataframe to an interactive table.\"\n",
              "            style=\"display:none;\">\n",
              "\n",
              "  <svg xmlns=\"http://www.w3.org/2000/svg\" height=\"24px\" viewBox=\"0 -960 960 960\">\n",
              "    <path d=\"M120-120v-720h720v720H120Zm60-500h600v-160H180v160Zm220 220h160v-160H400v160Zm0 220h160v-160H400v160ZM180-400h160v-160H180v160Zm440 0h160v-160H620v160ZM180-180h160v-160H180v160Zm440 0h160v-160H620v160Z\"/>\n",
              "  </svg>\n",
              "    </button>\n",
              "\n",
              "  <style>\n",
              "    .colab-df-container {\n",
              "      display:flex;\n",
              "      gap: 12px;\n",
              "    }\n",
              "\n",
              "    .colab-df-convert {\n",
              "      background-color: #E8F0FE;\n",
              "      border: none;\n",
              "      border-radius: 50%;\n",
              "      cursor: pointer;\n",
              "      display: none;\n",
              "      fill: #1967D2;\n",
              "      height: 32px;\n",
              "      padding: 0 0 0 0;\n",
              "      width: 32px;\n",
              "    }\n",
              "\n",
              "    .colab-df-convert:hover {\n",
              "      background-color: #E2EBFA;\n",
              "      box-shadow: 0px 1px 2px rgba(60, 64, 67, 0.3), 0px 1px 3px 1px rgba(60, 64, 67, 0.15);\n",
              "      fill: #174EA6;\n",
              "    }\n",
              "\n",
              "    .colab-df-buttons div {\n",
              "      margin-bottom: 4px;\n",
              "    }\n",
              "\n",
              "    [theme=dark] .colab-df-convert {\n",
              "      background-color: #3B4455;\n",
              "      fill: #D2E3FC;\n",
              "    }\n",
              "\n",
              "    [theme=dark] .colab-df-convert:hover {\n",
              "      background-color: #434B5C;\n",
              "      box-shadow: 0px 1px 3px 1px rgba(0, 0, 0, 0.15);\n",
              "      filter: drop-shadow(0px 1px 2px rgba(0, 0, 0, 0.3));\n",
              "      fill: #FFFFFF;\n",
              "    }\n",
              "  </style>\n",
              "\n",
              "    <script>\n",
              "      const buttonEl =\n",
              "        document.querySelector('#df-02f5f311-11bd-438c-953d-71827171dc2e button.colab-df-convert');\n",
              "      buttonEl.style.display =\n",
              "        google.colab.kernel.accessAllowed ? 'block' : 'none';\n",
              "\n",
              "      async function convertToInteractive(key) {\n",
              "        const element = document.querySelector('#df-02f5f311-11bd-438c-953d-71827171dc2e');\n",
              "        const dataTable =\n",
              "          await google.colab.kernel.invokeFunction('convertToInteractive',\n",
              "                                                    [key], {});\n",
              "        if (!dataTable) return;\n",
              "\n",
              "        const docLinkHtml = 'Like what you see? Visit the ' +\n",
              "          '<a target=\"_blank\" href=https://colab.research.google.com/notebooks/data_table.ipynb>data table notebook</a>'\n",
              "          + ' to learn more about interactive tables.';\n",
              "        element.innerHTML = '';\n",
              "        dataTable['output_type'] = 'display_data';\n",
              "        await google.colab.output.renderOutput(dataTable, element);\n",
              "        const docLink = document.createElement('div');\n",
              "        docLink.innerHTML = docLinkHtml;\n",
              "        element.appendChild(docLink);\n",
              "      }\n",
              "    </script>\n",
              "  </div>\n",
              "\n",
              "\n",
              "<div id=\"df-b29755fc-8b33-4db9-b330-bcced43483aa\">\n",
              "  <button class=\"colab-df-quickchart\" onclick=\"quickchart('df-b29755fc-8b33-4db9-b330-bcced43483aa')\"\n",
              "            title=\"Suggest charts\"\n",
              "            style=\"display:none;\">\n",
              "\n",
              "<svg xmlns=\"http://www.w3.org/2000/svg\" height=\"24px\"viewBox=\"0 0 24 24\"\n",
              "     width=\"24px\">\n",
              "    <g>\n",
              "        <path d=\"M19 3H5c-1.1 0-2 .9-2 2v14c0 1.1.9 2 2 2h14c1.1 0 2-.9 2-2V5c0-1.1-.9-2-2-2zM9 17H7v-7h2v7zm4 0h-2V7h2v10zm4 0h-2v-4h2v4z\"/>\n",
              "    </g>\n",
              "</svg>\n",
              "  </button>\n",
              "\n",
              "<style>\n",
              "  .colab-df-quickchart {\n",
              "      --bg-color: #E8F0FE;\n",
              "      --fill-color: #1967D2;\n",
              "      --hover-bg-color: #E2EBFA;\n",
              "      --hover-fill-color: #174EA6;\n",
              "      --disabled-fill-color: #AAA;\n",
              "      --disabled-bg-color: #DDD;\n",
              "  }\n",
              "\n",
              "  [theme=dark] .colab-df-quickchart {\n",
              "      --bg-color: #3B4455;\n",
              "      --fill-color: #D2E3FC;\n",
              "      --hover-bg-color: #434B5C;\n",
              "      --hover-fill-color: #FFFFFF;\n",
              "      --disabled-bg-color: #3B4455;\n",
              "      --disabled-fill-color: #666;\n",
              "  }\n",
              "\n",
              "  .colab-df-quickchart {\n",
              "    background-color: var(--bg-color);\n",
              "    border: none;\n",
              "    border-radius: 50%;\n",
              "    cursor: pointer;\n",
              "    display: none;\n",
              "    fill: var(--fill-color);\n",
              "    height: 32px;\n",
              "    padding: 0;\n",
              "    width: 32px;\n",
              "  }\n",
              "\n",
              "  .colab-df-quickchart:hover {\n",
              "    background-color: var(--hover-bg-color);\n",
              "    box-shadow: 0 1px 2px rgba(60, 64, 67, 0.3), 0 1px 3px 1px rgba(60, 64, 67, 0.15);\n",
              "    fill: var(--button-hover-fill-color);\n",
              "  }\n",
              "\n",
              "  .colab-df-quickchart-complete:disabled,\n",
              "  .colab-df-quickchart-complete:disabled:hover {\n",
              "    background-color: var(--disabled-bg-color);\n",
              "    fill: var(--disabled-fill-color);\n",
              "    box-shadow: none;\n",
              "  }\n",
              "\n",
              "  .colab-df-spinner {\n",
              "    border: 2px solid var(--fill-color);\n",
              "    border-color: transparent;\n",
              "    border-bottom-color: var(--fill-color);\n",
              "    animation:\n",
              "      spin 1s steps(1) infinite;\n",
              "  }\n",
              "\n",
              "  @keyframes spin {\n",
              "    0% {\n",
              "      border-color: transparent;\n",
              "      border-bottom-color: var(--fill-color);\n",
              "      border-left-color: var(--fill-color);\n",
              "    }\n",
              "    20% {\n",
              "      border-color: transparent;\n",
              "      border-left-color: var(--fill-color);\n",
              "      border-top-color: var(--fill-color);\n",
              "    }\n",
              "    30% {\n",
              "      border-color: transparent;\n",
              "      border-left-color: var(--fill-color);\n",
              "      border-top-color: var(--fill-color);\n",
              "      border-right-color: var(--fill-color);\n",
              "    }\n",
              "    40% {\n",
              "      border-color: transparent;\n",
              "      border-right-color: var(--fill-color);\n",
              "      border-top-color: var(--fill-color);\n",
              "    }\n",
              "    60% {\n",
              "      border-color: transparent;\n",
              "      border-right-color: var(--fill-color);\n",
              "    }\n",
              "    80% {\n",
              "      border-color: transparent;\n",
              "      border-right-color: var(--fill-color);\n",
              "      border-bottom-color: var(--fill-color);\n",
              "    }\n",
              "    90% {\n",
              "      border-color: transparent;\n",
              "      border-bottom-color: var(--fill-color);\n",
              "    }\n",
              "  }\n",
              "</style>\n",
              "\n",
              "  <script>\n",
              "    async function quickchart(key) {\n",
              "      const quickchartButtonEl =\n",
              "        document.querySelector('#' + key + ' button');\n",
              "      quickchartButtonEl.disabled = true;  // To prevent multiple clicks.\n",
              "      quickchartButtonEl.classList.add('colab-df-spinner');\n",
              "      try {\n",
              "        const charts = await google.colab.kernel.invokeFunction(\n",
              "            'suggestCharts', [key], {});\n",
              "      } catch (error) {\n",
              "        console.error('Error during call to suggestCharts:', error);\n",
              "      }\n",
              "      quickchartButtonEl.classList.remove('colab-df-spinner');\n",
              "      quickchartButtonEl.classList.add('colab-df-quickchart-complete');\n",
              "    }\n",
              "    (() => {\n",
              "      let quickchartButtonEl =\n",
              "        document.querySelector('#df-b29755fc-8b33-4db9-b330-bcced43483aa button');\n",
              "      quickchartButtonEl.style.display =\n",
              "        google.colab.kernel.accessAllowed ? 'block' : 'none';\n",
              "    })();\n",
              "  </script>\n",
              "</div>\n",
              "    </div>\n",
              "  </div>\n"
            ],
            "application/vnd.google.colaboratory.intrinsic+json": {
              "type": "dataframe",
              "summary": "{\n  \"name\": \"epa_data\",\n  \"rows\": 8,\n  \"fields\": [\n    {\n      \"column\": \"arithmetic_mean\",\n      \"properties\": {\n        \"dtype\": \"number\",\n        \"std\": 91.74222148046502,\n        \"min\": 0.0,\n        \"max\": 260.0,\n        \"num_unique_values\": 8,\n        \"samples\": [\n          0.40316890769230773,\n          0.2763155,\n          260.0\n        ],\n        \"semantic_type\": \"\",\n        \"description\": \"\"\n      }\n    },\n    {\n      \"column\": \"aqi\",\n      \"properties\": {\n        \"dtype\": \"number\",\n        \"std\": 89.33954580747285,\n        \"min\": 0.0,\n        \"max\": 260.0,\n        \"num_unique_values\": 8,\n        \"samples\": [\n          6.757692307692308,\n          5.0,\n          260.0\n        ],\n        \"semantic_type\": \"\",\n        \"description\": \"\"\n      }\n    }\n  ]\n}"
            }
          },
          "metadata": {},
          "execution_count": 10
        }
      ]
    },
    {
      "cell_type": "markdown",
      "source": [
        "## Step 3: Statistical tests\n",
        "Next, get some descriptive statistics about the states in the data."
      ],
      "metadata": {
        "id": "DvuwfTmjJ5B3"
      }
    },
    {
      "cell_type": "code",
      "source": [
        "# Get descriptive stats about the states in the data.\n",
        "\n",
        "### YOUR CODE HERE\n",
        "\n",
        "epa_data[\"state_name\"].describe()"
      ],
      "metadata": {
        "colab": {
          "base_uri": "https://localhost:8080/",
          "height": 207
        },
        "id": "jnAm-Xr6J85k",
        "outputId": "04f0b685-36cd-43ec-90d0-20d6bf5a9ad2"
      },
      "execution_count": null,
      "outputs": [
        {
          "output_type": "execute_result",
          "data": {
            "text/plain": [
              "count            260\n",
              "unique            52\n",
              "top       California\n",
              "freq              66\n",
              "Name: state_name, dtype: object"
            ],
            "text/html": [
              "<div>\n",
              "<style scoped>\n",
              "    .dataframe tbody tr th:only-of-type {\n",
              "        vertical-align: middle;\n",
              "    }\n",
              "\n",
              "    .dataframe tbody tr th {\n",
              "        vertical-align: top;\n",
              "    }\n",
              "\n",
              "    .dataframe thead th {\n",
              "        text-align: right;\n",
              "    }\n",
              "</style>\n",
              "<table border=\"1\" class=\"dataframe\">\n",
              "  <thead>\n",
              "    <tr style=\"text-align: right;\">\n",
              "      <th></th>\n",
              "      <th>state_name</th>\n",
              "    </tr>\n",
              "  </thead>\n",
              "  <tbody>\n",
              "    <tr>\n",
              "      <th>count</th>\n",
              "      <td>260</td>\n",
              "    </tr>\n",
              "    <tr>\n",
              "      <th>unique</th>\n",
              "      <td>52</td>\n",
              "    </tr>\n",
              "    <tr>\n",
              "      <th>top</th>\n",
              "      <td>California</td>\n",
              "    </tr>\n",
              "    <tr>\n",
              "      <th>freq</th>\n",
              "      <td>66</td>\n",
              "    </tr>\n",
              "  </tbody>\n",
              "</table>\n",
              "</div><br><label><b>dtype:</b> object</label>"
            ]
          },
          "metadata": {},
          "execution_count": 11
        }
      ]
    },
    {
      "cell_type": "markdown",
      "source": [
        "## Step 4. Results and evaluation\n",
        "Now, compute the mean value from the aqi column."
      ],
      "metadata": {
        "id": "jmPXxqiKKABC"
      }
    },
    {
      "cell_type": "code",
      "source": [
        "# Compute the mean value from the aqi column.\n",
        "\n",
        "### YOUR CODE HERE\n",
        "\n",
        "np.mean(epa_data[\"aqi\"])"
      ],
      "metadata": {
        "colab": {
          "base_uri": "https://localhost:8080/"
        },
        "id": "JydddnyMKDPz",
        "outputId": "46f7a66a-1ef8-4ac5-a9b5-cbb2e3385ade"
      },
      "execution_count": null,
      "outputs": [
        {
          "output_type": "execute_result",
          "data": {
            "text/plain": [
              "np.float64(6.757692307692308)"
            ]
          },
          "metadata": {},
          "execution_count": 12
        }
      ]
    },
    {
      "cell_type": "code",
      "source": [
        "# Compute the median value from the aqi column.\n",
        "\n",
        "### YOUR CODE HERE\n",
        "\n",
        "np.median(epa_data[\"aqi\"])"
      ],
      "metadata": {
        "colab": {
          "base_uri": "https://localhost:8080/"
        },
        "id": "-v2CMIK9KGJZ",
        "outputId": "ea4bc754-52a2-4dee-8b04-1364dae3b8e6"
      },
      "execution_count": null,
      "outputs": [
        {
          "output_type": "execute_result",
          "data": {
            "text/plain": [
              "np.float64(5.0)"
            ]
          },
          "metadata": {},
          "execution_count": 13
        }
      ]
    },
    {
      "cell_type": "code",
      "source": [
        "# Identify the minimum value from the aqi column.\n",
        "\n",
        "### YOUR CODE HERE\n",
        "\n",
        "np.min(epa_data[\"aqi\"])"
      ],
      "metadata": {
        "colab": {
          "base_uri": "https://localhost:8080/"
        },
        "id": "Ogtv1-NPKH4_",
        "outputId": "4466fb07-580c-42b3-ee3f-3fd1d3db571d"
      },
      "execution_count": null,
      "outputs": [
        {
          "output_type": "execute_result",
          "data": {
            "text/plain": [
              "0"
            ]
          },
          "metadata": {},
          "execution_count": 14
        }
      ]
    },
    {
      "cell_type": "code",
      "source": [
        "# Identify the maximum value from the aqi column.\n",
        "\n",
        "### YOUR CODE HERE\n",
        "\n",
        "np.max(epa_data[\"aqi\"])"
      ],
      "metadata": {
        "id": "abUnHnJEKKkN",
        "outputId": "1b6b6b47-e45b-4ee4-f82c-f9e3236c059e",
        "colab": {
          "base_uri": "https://localhost:8080/"
        }
      },
      "execution_count": null,
      "outputs": [
        {
          "output_type": "execute_result",
          "data": {
            "text/plain": [
              "50"
            ]
          },
          "metadata": {},
          "execution_count": 15
        }
      ]
    },
    {
      "cell_type": "code",
      "source": [
        "# Compute the standard deviation for the aqi column.\n",
        "\n",
        "### YOUR CODE HERE\n",
        "\n",
        "np.std(epa_data[\"aqi\"], ddof=1)"
      ],
      "metadata": {
        "id": "G55Mkb2eKM7O",
        "outputId": "4ccd31f2-f994-4c56-f626-da039f195825",
        "colab": {
          "base_uri": "https://localhost:8080/"
        }
      },
      "execution_count": null,
      "outputs": [
        {
          "output_type": "execute_result",
          "data": {
            "text/plain": [
              "7.0617066788207215"
            ]
          },
          "metadata": {},
          "execution_count": 16
        }
      ]
    },
    {
      "cell_type": "markdown",
      "source": [
        "# Work with probability distributions in Python"
      ],
      "metadata": {
        "id": "eA7aC0IZ0PNA"
      }
    },
    {
      "cell_type": "markdown",
      "source": [
        "## Import packages and libraries\n",
        "\n",
        "**SciPy** is an open-source software you can use for solving mathematical, scientific, engineering, and technical problems. It allows you to manipulate and visualize data with a wide range of Python commands. SciPy stats is a module designed specifically for statistics.\n"
      ],
      "metadata": {
        "id": "QrsKOQ1z0YYQ"
      }
    },
    {
      "cell_type": "code",
      "source": [
        "import numpy as np\n",
        "import pandas as pd\n",
        "import matplotlib.pyplot as plt\n",
        "from scipy import stats"
      ],
      "metadata": {
        "id": "n2KseUIj0eps"
      },
      "execution_count": null,
      "outputs": []
    },
    {
      "cell_type": "code",
      "source": [
        "education_districtwise = pd.read_csv('education_districtwise.csv')\n",
        "education_districtwise = education_districtwise.dropna()"
      ],
      "metadata": {
        "id": "vmPgJ03M1Cc4"
      },
      "execution_count": null,
      "outputs": []
    },
    {
      "cell_type": "markdown",
      "source": [
        "## Plot a histogram\n",
        "\n",
        "The first step in trying to model your data with a probability distribution is to plot a histogram. This will help you visualize the shape of your data and determine if it resembles the shape of a specific distribution.\n",
        "\n",
        "Let's use **matplotlib**’s histogram function to plot a histogram of the district literacy rate data. Recall that the **OVERALL_LI** column contains this data."
      ],
      "metadata": {
        "id": "L2TPxMDJ1G5K"
      }
    },
    {
      "cell_type": "code",
      "source": [
        "education_districtwise['OVERALL_LI'].hist()"
      ],
      "metadata": {
        "colab": {
          "base_uri": "https://localhost:8080/",
          "height": 447
        },
        "id": "ZlPqDx4O1Wc3",
        "outputId": "ad4ac1d3-6f3a-451b-f3b2-d4b26416e213"
      },
      "execution_count": null,
      "outputs": [
        {
          "output_type": "execute_result",
          "data": {
            "text/plain": [
              "<Axes: >"
            ]
          },
          "metadata": {},
          "execution_count": 3
        },
        {
          "output_type": "display_data",
          "data": {
            "text/plain": [
              "<Figure size 640x480 with 1 Axes>"
            ],
            "image/png": "[encoded data removed]"
          },
          "metadata": {}
        }
      ]
    },
    {
      "cell_type": "code",
      "source": [
        "mean_overall_li = education_districtwise['OVERALL_LI'].mean()\n",
        "mean_overall_li"
      ],
      "metadata": {
        "colab": {
          "base_uri": "https://localhost:8080/"
        },
        "id": "V2qMIXzx1l19",
        "outputId": "8a070b8b-dd76-458f-bb45-45c8a8cdc2c6"
      },
      "execution_count": null,
      "outputs": [
        {
          "output_type": "execute_result",
          "data": {
            "text/plain": [
              "np.float64(73.39518927444796)"
            ]
          },
          "metadata": {},
          "execution_count": 4
        }
      ]
    },
    {
      "cell_type": "code",
      "source": [
        "std_overall_li = education_districtwise['OVERALL_LI'].std()\n",
        "std_overall_li"
      ],
      "metadata": {
        "colab": {
          "base_uri": "https://localhost:8080/"
        },
        "id": "hk9sr9t32CK0",
        "outputId": "7460d9dc-c809-4807-f49f-dc78cc763cc3"
      },
      "execution_count": null,
      "outputs": [
        {
          "output_type": "execute_result",
          "data": {
            "text/plain": [
              "10.098460413782469"
            ]
          },
          "metadata": {},
          "execution_count": 5
        }
      ]
    },
    {
      "cell_type": "code",
      "source": [
        "lower_limit = mean_overall_li - 1 * std_overall_li\n",
        "upper_limit = mean_overall_li + 1 * std_overall_li\n",
        "((education_districtwise['OVERALL_LI'] >= lower_limit) & (education_districtwise['OVERALL_LI'] <= upper_limit)).mean()"
      ],
      "metadata": {
        "colab": {
          "base_uri": "https://localhost:8080/"
        },
        "id": "ewUlMd032Iml",
        "outputId": "6c7c7058-8a38-4b6b-b4af-6bf7342096a3"
      },
      "execution_count": null,
      "outputs": [
        {
          "output_type": "execute_result",
          "data": {
            "text/plain": [
              "np.float64(0.6640378548895899)"
            ]
          },
          "metadata": {},
          "execution_count": 6
        }
      ]
    },
    {
      "cell_type": "code",
      "source": [
        "lower_limit = mean_overall_li - 2 * std_overall_li\n",
        "upper_limit = mean_overall_li + 2 * std_overall_li\n",
        "((education_districtwise['OVERALL_LI'] >= lower_limit) & (education_districtwise['OVERALL_LI'] <= upper_limit)).mean()"
      ],
      "metadata": {
        "colab": {
          "base_uri": "https://localhost:8080/"
        },
        "id": "TUYNifl22jhw",
        "outputId": "db254f44-e38c-4204-8bae-abbe0f844e53"
      },
      "execution_count": null,
      "outputs": [
        {
          "output_type": "execute_result",
          "data": {
            "text/plain": [
              "np.float64(0.9542586750788643)"
            ]
          },
          "metadata": {},
          "execution_count": 7
        }
      ]
    },
    {
      "cell_type": "code",
      "source": [
        "lower_limit = mean_overall_li - 3 * std_overall_li\n",
        "upper_limit = mean_overall_li + 3 * std_overall_li\n",
        "((education_districtwise['OVERALL_LI'] >= lower_limit) & (education_districtwise['OVERALL_LI'] <= upper_limit)).mean()"
      ],
      "metadata": {
        "colab": {
          "base_uri": "https://localhost:8080/"
        },
        "id": "_GwS8CQX2oi0",
        "outputId": "57634da7-173d-4887-9e03-2e12a47c44b7"
      },
      "execution_count": null,
      "outputs": [
        {
          "output_type": "execute_result",
          "data": {
            "text/plain": [
              "np.float64(0.9968454258675079)"
            ]
          },
          "metadata": {},
          "execution_count": 8
        }
      ]
    },
    {
      "cell_type": "markdown",
      "source": [
        "Our values agree quite well with the empirical rule!\n",
        "Our values of 66.4%, 95.4%, and 99.6% are very close to the values the empirical rule suggests: roughly 68%, 95%, and 99.7%.\n",
        "\n",
        "Knowing that your data is normally distributed is useful for analysis because many statistical tests and machine learning models assume a normal distribution. Plus, when your data follows a normal distribution, you can use z-scores to measure the relative position of your values and find outliers in your data."
      ],
      "metadata": {
        "id": "qvo2Hg5s20iN"
      }
    },
    {
      "cell_type": "markdown",
      "source": [
        "## Compute z-scores to find outliers\n",
        "Recall that a z-score is a measure of how many standard deviations below or above the population mean a data point is. A z-score is useful because it tells you where a value lies in a distribution.\n",
        "\n",
        "Data professionals often use z-scores for outlier detection. Typically, they consider observations with a z-score smaller than -3 or larger than +3 as outliers. In other words, these are values that lie more than +/- 3 SDs from the mean.\n",
        "\n",
        "To find outliers in the data, we will first create a new column called Z_SCORE that includes the z-scores for each district literacy rate in your dataset. Recall that the OVERALL_LI column lists all the district literacy rates.\n",
        "\n",
        "Then, we will compute the z-scores using the function **scipy.stats.zscore()**."
      ],
      "metadata": {
        "id": "fD1wNVcx3Dk9"
      }
    },
    {
      "cell_type": "code",
      "source": [
        "education_districtwise['Z_SCORE'] = stats.zscore(education_districtwise['OVERALL_LI'])\n",
        "education_districtwise"
      ],
      "metadata": {
        "colab": {
          "base_uri": "https://localhost:8080/",
          "height": 419
        },
        "id": "jqIRykd23cBX",
        "outputId": "46eb35f4-d8db-47f7-9e9e-b20d116d4ff9"
      },
      "execution_count": null,
      "outputs": [
        {
          "output_type": "execute_result",
          "data": {
            "text/plain": [
              "        DISTNAME STATNAME  BLOCKS  VILLAGES  CLUSTERS  TOTPOPULAT  OVERALL_LI  \\\n",
              "0     DISTRICT32   STATE1      13       391       104    875564.0       66.92   \n",
              "1    DISTRICT649   STATE1      18       678       144   1015503.0       66.93   \n",
              "2    DISTRICT229   STATE1       8        94        65   1269751.0       71.21   \n",
              "3    DISTRICT259   STATE1      13       523       104    735753.0       57.98   \n",
              "4    DISTRICT486   STATE1       8       359        64    570060.0       65.00   \n",
              "..           ...      ...     ...       ...       ...         ...         ...   \n",
              "675  DISTRICT522  STATE29      37       876       137   5296396.0       78.05   \n",
              "676  DISTRICT498  STATE29      64      1458       230   4042191.0       56.06   \n",
              "677  DISTRICT343  STATE29      59      1117       216   3483648.0       65.05   \n",
              "678  DISTRICT130  STATE29      51       993       211   3522644.0       66.16   \n",
              "679  DISTRICT341  STATE29      41       783       185   2798214.0       65.46   \n",
              "\n",
              "      Z_SCORE  \n",
              "0   -0.641712  \n",
              "1   -0.640721  \n",
              "2   -0.216559  \n",
              "3   -1.527694  \n",
              "4   -0.831990  \n",
              "..        ...  \n",
              "675  0.461307  \n",
              "676 -1.717972  \n",
              "677 -0.827035  \n",
              "678 -0.717030  \n",
              "679 -0.786403  \n",
              "\n",
              "[634 rows x 8 columns]"
            ],
            "text/html": [
              "\n",
              "  <div id=\"df-7780e156-3786-4d09-ac69-eb7838abb914\" class=\"colab-df-container\">\n",
              "    <div>\n",
              "<style scoped>\n",
              "    .dataframe tbody tr th:only-of-type {\n",
              "        vertical-align: middle;\n",
              "    }\n",
              "\n",
              "    .dataframe tbody tr th {\n",
              "        vertical-align: top;\n",
              "    }\n",
              "\n",
              "    .dataframe thead th {\n",
              "        text-align: right;\n",
              "    }\n",
              "</style>\n",
              "<table border=\"1\" class=\"dataframe\">\n",
              "  <thead>\n",
              "    <tr style=\"text-align: right;\">\n",
              "      <th></th>\n",
              "      <th>DISTNAME</th>\n",
              "      <th>STATNAME</th>\n",
              "      <th>BLOCKS</th>\n",
              "      <th>VILLAGES</th>\n",
              "      <th>CLUSTERS</th>\n",
              "      <th>TOTPOPULAT</th>\n",
              "      <th>OVERALL_LI</th>\n",
              "      <th>Z_SCORE</th>\n",
              "    </tr>\n",
              "  </thead>\n",
              "  <tbody>\n",
              "    <tr>\n",
              "      <th>0</th>\n",
              "      <td>DISTRICT32</td>\n",
              "      <td>STATE1</td>\n",
              "      <td>13</td>\n",
              "      <td>391</td>\n",
              "      <td>104</td>\n",
              "      <td>875564.0</td>\n",
              "      <td>66.92</td>\n",
              "      <td>-0.641712</td>\n",
              "    </tr>\n",
              "    <tr>\n",
              "      <th>1</th>\n",
              "      <td>DISTRICT649</td>\n",
              "      <td>STATE1</td>\n",
              "      <td>18</td>\n",
              "      <td>678</td>\n",
              "      <td>144</td>\n",
              "      <td>1015503.0</td>\n",
              "      <td>66.93</td>\n",
              "      <td>-0.640721</td>\n",
              "    </tr>\n",
              "    <tr>\n",
              "      <th>2</th>\n",
              "      <td>DISTRICT229</td>\n",
              "      <td>STATE1</td>\n",
              "      <td>8</td>\n",
              "      <td>94</td>\n",
              "      <td>65</td>\n",
              "      <td>1269751.0</td>\n",
              "      <td>71.21</td>\n",
              "      <td>-0.216559</td>\n",
              "    </tr>\n",
              "    <tr>\n",
              "      <th>3</th>\n",
              "      <td>DISTRICT259</td>\n",
              "      <td>STATE1</td>\n",
              "      <td>13</td>\n",
              "      <td>523</td>\n",
              "      <td>104</td>\n",
              "      <td>735753.0</td>\n",
              "      <td>57.98</td>\n",
              "      <td>-1.527694</td>\n",
              "    </tr>\n",
              "    <tr>\n",
              "      <th>4</th>\n",
              "      <td>DISTRICT486</td>\n",
              "      <td>STATE1</td>\n",
              "      <td>8</td>\n",
              "      <td>359</td>\n",
              "      <td>64</td>\n",
              "      <td>570060.0</td>\n",
              "      <td>65.00</td>\n",
              "      <td>-0.831990</td>\n",
              "    </tr>\n",
              "    <tr>\n",
              "      <th>...</th>\n",
              "      <td>...</td>\n",
              "      <td>...</td>\n",
              "      <td>...</td>\n",
              "      <td>...</td>\n",
              "      <td>...</td>\n",
              "      <td>...</td>\n",
              "      <td>...</td>\n",
              "      <td>...</td>\n",
              "    </tr>\n",
              "    <tr>\n",
              "      <th>675</th>\n",
              "      <td>DISTRICT522</td>\n",
              "      <td>STATE29</td>\n",
              "      <td>37</td>\n",
              "      <td>876</td>\n",
              "      <td>137</td>\n",
              "      <td>5296396.0</td>\n",
              "      <td>78.05</td>\n",
              "      <td>0.461307</td>\n",
              "    </tr>\n",
              "    <tr>\n",
              "      <th>676</th>\n",
              "      <td>DISTRICT498</td>\n",
              "      <td>STATE29</td>\n",
              "      <td>64</td>\n",
              "      <td>1458</td>\n",
              "      <td>230</td>\n",
              "      <td>4042191.0</td>\n",
              "      <td>56.06</td>\n",
              "      <td>-1.717972</td>\n",
              "    </tr>\n",
              "    <tr>\n",
              "      <th>677</th>\n",
              "      <td>DISTRICT343</td>\n",
              "      <td>STATE29</td>\n",
              "      <td>59</td>\n",
              "      <td>1117</td>\n",
              "      <td>216</td>\n",
              "      <td>3483648.0</td>\n",
              "      <td>65.05</td>\n",
              "      <td>-0.827035</td>\n",
              "    </tr>\n",
              "    <tr>\n",
              "      <th>678</th>\n",
              "      <td>DISTRICT130</td>\n",
              "      <td>STATE29</td>\n",
              "      <td>51</td>\n",
              "      <td>993</td>\n",
              "      <td>211</td>\n",
              "      <td>3522644.0</td>\n",
              "      <td>66.16</td>\n",
              "      <td>-0.717030</td>\n",
              "    </tr>\n",
              "    <tr>\n",
              "      <th>679</th>\n",
              "      <td>DISTRICT341</td>\n",
              "      <td>STATE29</td>\n",
              "      <td>41</td>\n",
              "      <td>783</td>\n",
              "      <td>185</td>\n",
              "      <td>2798214.0</td>\n",
              "      <td>65.46</td>\n",
              "      <td>-0.786403</td>\n",
              "    </tr>\n",
              "  </tbody>\n",
              "</table>\n",
              "<p>634 rows × 8 columns</p>\n",
              "</div>\n",
              "    <div class=\"colab-df-buttons\">\n",
              "\n",
              "  <div class=\"colab-df-container\">\n",
              "    <button class=\"colab-df-convert\" onclick=\"convertToInteractive('df-7780e156-3786-4d09-ac69-eb7838abb914')\"\n",
              "            title=\"Convert this dataframe to an interactive table.\"\n",
              "            style=\"display:none;\">\n",
              "\n",
              "  <svg xmlns=\"http://www.w3.org/2000/svg\" height=\"24px\" viewBox=\"0 -960 960 960\">\n",
              "    <path d=\"M120-120v-720h720v720H120Zm60-500h600v-160H180v160Zm220 220h160v-160H400v160Zm0 220h160v-160H400v160ZM180-400h160v-160H180v160Zm440 0h160v-160H620v160ZM180-180h160v-160H180v160Zm440 0h160v-160H620v160Z\"/>\n",
              "  </svg>\n",
              "    </button>\n",
              "\n",
              "  <style>\n",
              "    .colab-df-container {\n",
              "      display:flex;\n",
              "      gap: 12px;\n",
              "    }\n",
              "\n",
              "    .colab-df-convert {\n",
              "      background-color: #E8F0FE;\n",
              "      border: none;\n",
              "      border-radius: 50%;\n",
              "      cursor: pointer;\n",
              "      display: none;\n",
              "      fill: #1967D2;\n",
              "      height: 32px;\n",
              "      padding: 0 0 0 0;\n",
              "      width: 32px;\n",
              "    }\n",
              "\n",
              "    .colab-df-convert:hover {\n",
              "      background-color: #E2EBFA;\n",
              "      box-shadow: 0px 1px 2px rgba(60, 64, 67, 0.3), 0px 1px 3px 1px rgba(60, 64, 67, 0.15);\n",
              "      fill: #174EA6;\n",
              "    }\n",
              "\n",
              "    .colab-df-buttons div {\n",
              "      margin-bottom: 4px;\n",
              "    }\n",
              "\n",
              "    [theme=dark] .colab-df-convert {\n",
              "      background-color: #3B4455;\n",
              "      fill: #D2E3FC;\n",
              "    }\n",
              "\n",
              "    [theme=dark] .colab-df-convert:hover {\n",
              "      background-color: #434B5C;\n",
              "      box-shadow: 0px 1px 3px 1px rgba(0, 0, 0, 0.15);\n",
              "      filter: drop-shadow(0px 1px 2px rgba(0, 0, 0, 0.3));\n",
              "      fill: #FFFFFF;\n",
              "    }\n",
              "  </style>\n",
              "\n",
              "    <script>\n",
              "      const buttonEl =\n",
              "        document.querySelector('#df-7780e156-3786-4d09-ac69-eb7838abb914 button.colab-df-convert');\n",
              "      buttonEl.style.display =\n",
              "        google.colab.kernel.accessAllowed ? 'block' : 'none';\n",
              "\n",
              "      async function convertToInteractive(key) {\n",
              "        const element = document.querySelector('#df-7780e156-3786-4d09-ac69-eb7838abb914');\n",
              "        const dataTable =\n",
              "          await google.colab.kernel.invokeFunction('convertToInteractive',\n",
              "                                                    [key], {});\n",
              "        if (!dataTable) return;\n",
              "\n",
              "        const docLinkHtml = 'Like what you see? Visit the ' +\n",
              "          '<a target=\"_blank\" href=https://colab.research.google.com/notebooks/data_table.ipynb>data table notebook</a>'\n",
              "          + ' to learn more about interactive tables.';\n",
              "        element.innerHTML = '';\n",
              "        dataTable['output_type'] = 'display_data';\n",
              "        await google.colab.output.renderOutput(dataTable, element);\n",
              "        const docLink = document.createElement('div');\n",
              "        docLink.innerHTML = docLinkHtml;\n",
              "        element.appendChild(docLink);\n",
              "      }\n",
              "    </script>\n",
              "  </div>\n",
              "\n",
              "\n",
              "<div id=\"df-fe1d1818-3d76-4037-9e46-e7e5d0481b4e\">\n",
              "  <button class=\"colab-df-quickchart\" onclick=\"quickchart('df-fe1d1818-3d76-4037-9e46-e7e5d0481b4e')\"\n",
              "            title=\"Suggest charts\"\n",
              "            style=\"display:none;\">\n",
              "\n",
              "<svg xmlns=\"http://www.w3.org/2000/svg\" height=\"24px\"viewBox=\"0 0 24 24\"\n",
              "     width=\"24px\">\n",
              "    <g>\n",
              "        <path d=\"M19 3H5c-1.1 0-2 .9-2 2v14c0 1.1.9 2 2 2h14c1.1 0 2-.9 2-2V5c0-1.1-.9-2-2-2zM9 17H7v-7h2v7zm4 0h-2V7h2v10zm4 0h-2v-4h2v4z\"/>\n",
              "    </g>\n",
              "</svg>\n",
              "  </button>\n",
              "\n",
              "<style>\n",
              "  .colab-df-quickchart {\n",
              "      --bg-color: #E8F0FE;\n",
              "      --fill-color: #1967D2;\n",
              "      --hover-bg-color: #E2EBFA;\n",
              "      --hover-fill-color: #174EA6;\n",
              "      --disabled-fill-color: #AAA;\n",
              "      --disabled-bg-color: #DDD;\n",
              "  }\n",
              "\n",
              "  [theme=dark] .colab-df-quickchart {\n",
              "      --bg-color: #3B4455;\n",
              "      --fill-color: #D2E3FC;\n",
              "      --hover-bg-color: #434B5C;\n",
              "      --hover-fill-color: #FFFFFF;\n",
              "      --disabled-bg-color: #3B4455;\n",
              "      --disabled-fill-color: #666;\n",
              "  }\n",
              "\n",
              "  .colab-df-quickchart {\n",
              "    background-color: var(--bg-color);\n",
              "    border: none;\n",
              "    border-radius: 50%;\n",
              "    cursor: pointer;\n",
              "    display: none;\n",
              "    fill: var(--fill-color);\n",
              "    height: 32px;\n",
              "    padding: 0;\n",
              "    width: 32px;\n",
              "  }\n",
              "\n",
              "  .colab-df-quickchart:hover {\n",
              "    background-color: var(--hover-bg-color);\n",
              "    box-shadow: 0 1px 2px rgba(60, 64, 67, 0.3), 0 1px 3px 1px rgba(60, 64, 67, 0.15);\n",
              "    fill: var(--button-hover-fill-color);\n",
              "  }\n",
              "\n",
              "  .colab-df-quickchart-complete:disabled,\n",
              "  .colab-df-quickchart-complete:disabled:hover {\n",
              "    background-color: var(--disabled-bg-color);\n",
              "    fill: var(--disabled-fill-color);\n",
              "    box-shadow: none;\n",
              "  }\n",
              "\n",
              "  .colab-df-spinner {\n",
              "    border: 2px solid var(--fill-color);\n",
              "    border-color: transparent;\n",
              "    border-bottom-color: var(--fill-color);\n",
              "    animation:\n",
              "      spin 1s steps(1) infinite;\n",
              "  }\n",
              "\n",
              "  @keyframes spin {\n",
              "    0% {\n",
              "      border-color: transparent;\n",
              "      border-bottom-color: var(--fill-color);\n",
              "      border-left-color: var(--fill-color);\n",
              "    }\n",
              "    20% {\n",
              "      border-color: transparent;\n",
              "      border-left-color: var(--fill-color);\n",
              "      border-top-color: var(--fill-color);\n",
              "    }\n",
              "    30% {\n",
              "      border-color: transparent;\n",
              "      border-left-color: var(--fill-color);\n",
              "      border-top-color: var(--fill-color);\n",
              "      border-right-color: var(--fill-color);\n",
              "    }\n",
              "    40% {\n",
              "      border-color: transparent;\n",
              "      border-right-color: var(--fill-color);\n",
              "      border-top-color: var(--fill-color);\n",
              "    }\n",
              "    60% {\n",
              "      border-color: transparent;\n",
              "      border-right-color: var(--fill-color);\n",
              "    }\n",
              "    80% {\n",
              "      border-color: transparent;\n",
              "      border-right-color: var(--fill-color);\n",
              "      border-bottom-color: var(--fill-color);\n",
              "    }\n",
              "    90% {\n",
              "      border-color: transparent;\n",
              "      border-bottom-color: var(--fill-color);\n",
              "    }\n",
              "  }\n",
              "</style>\n",
              "\n",
              "  <script>\n",
              "    async function quickchart(key) {\n",
              "      const quickchartButtonEl =\n",
              "        document.querySelector('#' + key + ' button');\n",
              "      quickchartButtonEl.disabled = true;  // To prevent multiple clicks.\n",
              "      quickchartButtonEl.classList.add('colab-df-spinner');\n",
              "      try {\n",
              "        const charts = await google.colab.kernel.invokeFunction(\n",
              "            'suggestCharts', [key], {});\n",
              "      } catch (error) {\n",
              "        console.error('Error during call to suggestCharts:', error);\n",
              "      }\n",
              "      quickchartButtonEl.classList.remove('colab-df-spinner');\n",
              "      quickchartButtonEl.classList.add('colab-df-quickchart-complete');\n",
              "    }\n",
              "    (() => {\n",
              "      let quickchartButtonEl =\n",
              "        document.querySelector('#df-fe1d1818-3d76-4037-9e46-e7e5d0481b4e button');\n",
              "      quickchartButtonEl.style.display =\n",
              "        google.colab.kernel.accessAllowed ? 'block' : 'none';\n",
              "    })();\n",
              "  </script>\n",
              "</div>\n",
              "    </div>\n",
              "  </div>\n"
            ],
            "application/vnd.google.colaboratory.intrinsic+json": {
              "type": "dataframe",
              "variable_name": "education_districtwise",
              "summary": "{\n  \"name\": \"education_districtwise\",\n  \"rows\": 634,\n  \"fields\": [\n    {\n      \"column\": \"DISTNAME\",\n      \"properties\": {\n        \"dtype\": \"string\",\n        \"num_unique_values\": 634,\n        \"samples\": [\n          \"DISTRICT471\",\n          \"DISTRICT458\",\n          \"DISTRICT501\"\n        ],\n        \"semantic_type\": \"\",\n        \"description\": \"\"\n      }\n    },\n    {\n      \"column\": \"STATNAME\",\n      \"properties\": {\n        \"dtype\": \"category\",\n        \"num_unique_values\": 36,\n        \"samples\": [\n          \"STATE29\",\n          \"STATE35\",\n          \"STATE17\"\n        ],\n        \"semantic_type\": \"\",\n        \"description\": \"\"\n      }\n    },\n    {\n      \"column\": \"BLOCKS\",\n      \"properties\": {\n        \"dtype\": \"number\",\n        \"std\": 9,\n        \"min\": 1,\n        \"max\": 66,\n        \"num_unique_values\": 49,\n        \"samples\": [\n          20,\n          66,\n          59\n        ],\n        \"semantic_type\": \"\",\n        \"description\": \"\"\n      }\n    },\n    {\n      \"column\": \"VILLAGES\",\n      \"properties\": {\n        \"dtype\": \"number\",\n        \"std\": 632,\n        \"min\": 6,\n        \"max\": 3963,\n        \"num_unique_values\": 545,\n        \"samples\": [\n          3803,\n          351,\n          627\n        ],\n        \"semantic_type\": \"\",\n        \"description\": \"\"\n      }\n    },\n    {\n      \"column\": \"CLUSTERS\",\n      \"properties\": {\n        \"dtype\": \"number\",\n        \"std\": 95,\n        \"min\": 1,\n        \"max\": 592,\n        \"num_unique_values\": 266,\n        \"samples\": [\n          15,\n          208,\n          194\n        ],\n        \"semantic_type\": \"\",\n        \"description\": \"\"\n      }\n    },\n    {\n      \"column\": \"TOTPOPULAT\",\n      \"properties\": {\n        \"dtype\": \"number\",\n        \"std\": 1547475.447261244,\n        \"min\": 7948.0,\n        \"max\": 11054131.0,\n        \"num_unique_values\": 634,\n        \"samples\": [\n          612727.0,\n          82839.0,\n          4778610.0\n        ],\n        \"semantic_type\": \"\",\n        \"description\": \"\"\n      }\n    },\n    {\n      \"column\": \"OVERALL_LI\",\n      \"properties\": {\n        \"dtype\": \"number\",\n        \"std\": 10.098460413782469,\n        \"min\": 37.22,\n        \"max\": 98.76,\n        \"num_unique_values\": 574,\n        \"samples\": [\n          70.08,\n          70.56,\n          55.08\n        ],\n        \"semantic_type\": \"\",\n        \"description\": \"\"\n      }\n    },\n    {\n      \"column\": \"Z_SCORE\",\n      \"properties\": {\n        \"dtype\": \"number\",\n        \"std\": 1.0007895776990101,\n        \"min\": -3.585076428852991,\n        \"max\": 2.513733497414627,\n        \"num_unique_values\": 574,\n        \"samples\": [\n          -0.3285458117396678,\n          -0.28097628355298465,\n          -1.8150935675735038\n        ],\n        \"semantic_type\": \"\",\n        \"description\": \"\"\n      }\n    }\n  ]\n}"
            }
          },
          "metadata": {},
          "execution_count": 9
        }
      ]
    },
    {
      "cell_type": "code",
      "source": [
        "education_districtwise[(education_districtwise['Z_SCORE'] > 3) | (education_districtwise['Z_SCORE'] < -3)]"
      ],
      "metadata": {
        "colab": {
          "base_uri": "https://localhost:8080/",
          "height": 111
        },
        "id": "sYNl89sP3fjl",
        "outputId": "efa752a1-0e31-4926-a122-5bdb993df813"
      },
      "execution_count": null,
      "outputs": [
        {
          "output_type": "execute_result",
          "data": {
            "text/plain": [
              "        DISTNAME STATNAME  BLOCKS  VILLAGES  CLUSTERS  TOTPOPULAT  OVERALL_LI  \\\n",
              "434  DISTRICT461  STATE31       4       360        53    532791.0       42.67   \n",
              "494  DISTRICT429  STATE22       6       612        62    728677.0       37.22   \n",
              "\n",
              "      Z_SCORE  \n",
              "434 -3.044964  \n",
              "494 -3.585076  "
            ],
            "text/html": [
              "\n",
              "  <div id=\"df-252ca533-4f7f-40f6-aae2-6d525923d1fd\" class=\"colab-df-container\">\n",
              "    <div>\n",
              "<style scoped>\n",
              "    .dataframe tbody tr th:only-of-type {\n",
              "        vertical-align: middle;\n",
              "    }\n",
              "\n",
              "    .dataframe tbody tr th {\n",
              "        vertical-align: top;\n",
              "    }\n",
              "\n",
              "    .dataframe thead th {\n",
              "        text-align: right;\n",
              "    }\n",
              "</style>\n",
              "<table border=\"1\" class=\"dataframe\">\n",
              "  <thead>\n",
              "    <tr style=\"text-align: right;\">\n",
              "      <th></th>\n",
              "      <th>DISTNAME</th>\n",
              "      <th>STATNAME</th>\n",
              "      <th>BLOCKS</th>\n",
              "      <th>VILLAGES</th>\n",
              "      <th>CLUSTERS</th>\n",
              "      <th>TOTPOPULAT</th>\n",
              "      <th>OVERALL_LI</th>\n",
              "      <th>Z_SCORE</th>\n",
              "    </tr>\n",
              "  </thead>\n",
              "  <tbody>\n",
              "    <tr>\n",
              "      <th>434</th>\n",
              "      <td>DISTRICT461</td>\n",
              "      <td>STATE31</td>\n",
              "      <td>4</td>\n",
              "      <td>360</td>\n",
              "      <td>53</td>\n",
              "      <td>532791.0</td>\n",
              "      <td>42.67</td>\n",
              "      <td>-3.044964</td>\n",
              "    </tr>\n",
              "    <tr>\n",
              "      <th>494</th>\n",
              "      <td>DISTRICT429</td>\n",
              "      <td>STATE22</td>\n",
              "      <td>6</td>\n",
              "      <td>612</td>\n",
              "      <td>62</td>\n",
              "      <td>728677.0</td>\n",
              "      <td>37.22</td>\n",
              "      <td>-3.585076</td>\n",
              "    </tr>\n",
              "  </tbody>\n",
              "</table>\n",
              "</div>\n",
              "    <div class=\"colab-df-buttons\">\n",
              "\n",
              "  <div class=\"colab-df-container\">\n",
              "    <button class=\"colab-df-convert\" onclick=\"convertToInteractive('df-252ca533-4f7f-40f6-aae2-6d525923d1fd')\"\n",
              "            title=\"Convert this dataframe to an interactive table.\"\n",
              "            style=\"display:none;\">\n",
              "\n",
              "  <svg xmlns=\"http://www.w3.org/2000/svg\" height=\"24px\" viewBox=\"0 -960 960 960\">\n",
              "    <path d=\"M120-120v-720h720v720H120Zm60-500h600v-160H180v160Zm220 220h160v-160H400v160Zm0 220h160v-160H400v160ZM180-400h160v-160H180v160Zm440 0h160v-160H620v160ZM180-180h160v-160H180v160Zm440 0h160v-160H620v160Z\"/>\n",
              "  </svg>\n",
              "    </button>\n",
              "\n",
              "  <style>\n",
              "    .colab-df-container {\n",
              "      display:flex;\n",
              "      gap: 12px;\n",
              "    }\n",
              "\n",
              "    .colab-df-convert {\n",
              "      background-color: #E8F0FE;\n",
              "      border: none;\n",
              "      border-radius: 50%;\n",
              "      cursor: pointer;\n",
              "      display: none;\n",
              "      fill: #1967D2;\n",
              "      height: 32px;\n",
              "      padding: 0 0 0 0;\n",
              "      width: 32px;\n",
              "    }\n",
              "\n",
              "    .colab-df-convert:hover {\n",
              "      background-color: #E2EBFA;\n",
              "      box-shadow: 0px 1px 2px rgba(60, 64, 67, 0.3), 0px 1px 3px 1px rgba(60, 64, 67, 0.15);\n",
              "      fill: #174EA6;\n",
              "    }\n",
              "\n",
              "    .colab-df-buttons div {\n",
              "      margin-bottom: 4px;\n",
              "    }\n",
              "\n",
              "    [theme=dark] .colab-df-convert {\n",
              "      background-color: #3B4455;\n",
              "      fill: #D2E3FC;\n",
              "    }\n",
              "\n",
              "    [theme=dark] .colab-df-convert:hover {\n",
              "      background-color: #434B5C;\n",
              "      box-shadow: 0px 1px 3px 1px rgba(0, 0, 0, 0.15);\n",
              "      filter: drop-shadow(0px 1px 2px rgba(0, 0, 0, 0.3));\n",
              "      fill: #FFFFFF;\n",
              "    }\n",
              "  </style>\n",
              "\n",
              "    <script>\n",
              "      const buttonEl =\n",
              "        document.querySelector('#df-252ca533-4f7f-40f6-aae2-6d525923d1fd button.colab-df-convert');\n",
              "      buttonEl.style.display =\n",
              "        google.colab.kernel.accessAllowed ? 'block' : 'none';\n",
              "\n",
              "      async function convertToInteractive(key) {\n",
              "        const element = document.querySelector('#df-252ca533-4f7f-40f6-aae2-6d525923d1fd');\n",
              "        const dataTable =\n",
              "          await google.colab.kernel.invokeFunction('convertToInteractive',\n",
              "                                                    [key], {});\n",
              "        if (!dataTable) return;\n",
              "\n",
              "        const docLinkHtml = 'Like what you see? Visit the ' +\n",
              "          '<a target=\"_blank\" href=https://colab.research.google.com/notebooks/data_table.ipynb>data table notebook</a>'\n",
              "          + ' to learn more about interactive tables.';\n",
              "        element.innerHTML = '';\n",
              "        dataTable['output_type'] = 'display_data';\n",
              "        await google.colab.output.renderOutput(dataTable, element);\n",
              "        const docLink = document.createElement('div');\n",
              "        docLink.innerHTML = docLinkHtml;\n",
              "        element.appendChild(docLink);\n",
              "      }\n",
              "    </script>\n",
              "  </div>\n",
              "\n",
              "\n",
              "<div id=\"df-02effb5b-8a6d-42c8-991b-1eafcefe6cd7\">\n",
              "  <button class=\"colab-df-quickchart\" onclick=\"quickchart('df-02effb5b-8a6d-42c8-991b-1eafcefe6cd7')\"\n",
              "            title=\"Suggest charts\"\n",
              "            style=\"display:none;\">\n",
              "\n",
              "<svg xmlns=\"http://www.w3.org/2000/svg\" height=\"24px\"viewBox=\"0 0 24 24\"\n",
              "     width=\"24px\">\n",
              "    <g>\n",
              "        <path d=\"M19 3H5c-1.1 0-2 .9-2 2v14c0 1.1.9 2 2 2h14c1.1 0 2-.9 2-2V5c0-1.1-.9-2-2-2zM9 17H7v-7h2v7zm4 0h-2V7h2v10zm4 0h-2v-4h2v4z\"/>\n",
              "    </g>\n",
              "</svg>\n",
              "  </button>\n",
              "\n",
              "<style>\n",
              "  .colab-df-quickchart {\n",
              "      --bg-color: #E8F0FE;\n",
              "      --fill-color: #1967D2;\n",
              "      --hover-bg-color: #E2EBFA;\n",
              "      --hover-fill-color: #174EA6;\n",
              "      --disabled-fill-color: #AAA;\n",
              "      --disabled-bg-color: #DDD;\n",
              "  }\n",
              "\n",
              "  [theme=dark] .colab-df-quickchart {\n",
              "      --bg-color: #3B4455;\n",
              "      --fill-color: #D2E3FC;\n",
              "      --hover-bg-color: #434B5C;\n",
              "      --hover-fill-color: #FFFFFF;\n",
              "      --disabled-bg-color: #3B4455;\n",
              "      --disabled-fill-color: #666;\n",
              "  }\n",
              "\n",
              "  .colab-df-quickchart {\n",
              "    background-color: var(--bg-color);\n",
              "    border: none;\n",
              "    border-radius: 50%;\n",
              "    cursor: pointer;\n",
              "    display: none;\n",
              "    fill: var(--fill-color);\n",
              "    height: 32px;\n",
              "    padding: 0;\n",
              "    width: 32px;\n",
              "  }\n",
              "\n",
              "  .colab-df-quickchart:hover {\n",
              "    background-color: var(--hover-bg-color);\n",
              "    box-shadow: 0 1px 2px rgba(60, 64, 67, 0.3), 0 1px 3px 1px rgba(60, 64, 67, 0.15);\n",
              "    fill: var(--button-hover-fill-color);\n",
              "  }\n",
              "\n",
              "  .colab-df-quickchart-complete:disabled,\n",
              "  .colab-df-quickchart-complete:disabled:hover {\n",
              "    background-color: var(--disabled-bg-color);\n",
              "    fill: var(--disabled-fill-color);\n",
              "    box-shadow: none;\n",
              "  }\n",
              "\n",
              "  .colab-df-spinner {\n",
              "    border: 2px solid var(--fill-color);\n",
              "    border-color: transparent;\n",
              "    border-bottom-color: var(--fill-color);\n",
              "    animation:\n",
              "      spin 1s steps(1) infinite;\n",
              "  }\n",
              "\n",
              "  @keyframes spin {\n",
              "    0% {\n",
              "      border-color: transparent;\n",
              "      border-bottom-color: var(--fill-color);\n",
              "      border-left-color: var(--fill-color);\n",
              "    }\n",
              "    20% {\n",
              "      border-color: transparent;\n",
              "      border-left-color: var(--fill-color);\n",
              "      border-top-color: var(--fill-color);\n",
              "    }\n",
              "    30% {\n",
              "      border-color: transparent;\n",
              "      border-left-color: var(--fill-color);\n",
              "      border-top-color: var(--fill-color);\n",
              "      border-right-color: var(--fill-color);\n",
              "    }\n",
              "    40% {\n",
              "      border-color: transparent;\n",
              "      border-right-color: var(--fill-color);\n",
              "      border-top-color: var(--fill-color);\n",
              "    }\n",
              "    60% {\n",
              "      border-color: transparent;\n",
              "      border-right-color: var(--fill-color);\n",
              "    }\n",
              "    80% {\n",
              "      border-color: transparent;\n",
              "      border-right-color: var(--fill-color);\n",
              "      border-bottom-color: var(--fill-color);\n",
              "    }\n",
              "    90% {\n",
              "      border-color: transparent;\n",
              "      border-bottom-color: var(--fill-color);\n",
              "    }\n",
              "  }\n",
              "</style>\n",
              "\n",
              "  <script>\n",
              "    async function quickchart(key) {\n",
              "      const quickchartButtonEl =\n",
              "        document.querySelector('#' + key + ' button');\n",
              "      quickchartButtonEl.disabled = true;  // To prevent multiple clicks.\n",
              "      quickchartButtonEl.classList.add('colab-df-spinner');\n",
              "      try {\n",
              "        const charts = await google.colab.kernel.invokeFunction(\n",
              "            'suggestCharts', [key], {});\n",
              "      } catch (error) {\n",
              "        console.error('Error during call to suggestCharts:', error);\n",
              "      }\n",
              "      quickchartButtonEl.classList.remove('colab-df-spinner');\n",
              "      quickchartButtonEl.classList.add('colab-df-quickchart-complete');\n",
              "    }\n",
              "    (() => {\n",
              "      let quickchartButtonEl =\n",
              "        document.querySelector('#df-02effb5b-8a6d-42c8-991b-1eafcefe6cd7 button');\n",
              "      quickchartButtonEl.style.display =\n",
              "        google.colab.kernel.accessAllowed ? 'block' : 'none';\n",
              "    })();\n",
              "  </script>\n",
              "</div>\n",
              "    </div>\n",
              "  </div>\n"
            ],
            "application/vnd.google.colaboratory.intrinsic+json": {
              "type": "dataframe",
              "summary": "{\n  \"name\": \"education_districtwise[(education_districtwise['Z_SCORE'] > 3) | (education_districtwise['Z_SCORE'] < -3)]\",\n  \"rows\": 2,\n  \"fields\": [\n    {\n      \"column\": \"DISTNAME\",\n      \"properties\": {\n        \"dtype\": \"string\",\n        \"num_unique_values\": 2,\n        \"samples\": [\n          \"DISTRICT429\",\n          \"DISTRICT461\"\n        ],\n        \"semantic_type\": \"\",\n        \"description\": \"\"\n      }\n    },\n    {\n      \"column\": \"STATNAME\",\n      \"properties\": {\n        \"dtype\": \"string\",\n        \"num_unique_values\": 2,\n        \"samples\": [\n          \"STATE22\",\n          \"STATE31\"\n        ],\n        \"semantic_type\": \"\",\n        \"description\": \"\"\n      }\n    },\n    {\n      \"column\": \"BLOCKS\",\n      \"properties\": {\n        \"dtype\": \"number\",\n        \"std\": 1,\n        \"min\": 4,\n        \"max\": 6,\n        \"num_unique_values\": 2,\n        \"samples\": [\n          6,\n          4\n        ],\n        \"semantic_type\": \"\",\n        \"description\": \"\"\n      }\n    },\n    {\n      \"column\": \"VILLAGES\",\n      \"properties\": {\n        \"dtype\": \"number\",\n        \"std\": 178,\n        \"min\": 360,\n        \"max\": 612,\n        \"num_unique_values\": 2,\n        \"samples\": [\n          612,\n          360\n        ],\n        \"semantic_type\": \"\",\n        \"description\": \"\"\n      }\n    },\n    {\n      \"column\": \"CLUSTERS\",\n      \"properties\": {\n        \"dtype\": \"number\",\n        \"std\": 6,\n        \"min\": 53,\n        \"max\": 62,\n        \"num_unique_values\": 2,\n        \"samples\": [\n          62,\n          53\n        ],\n        \"semantic_type\": \"\",\n        \"description\": \"\"\n      }\n    },\n    {\n      \"column\": \"TOTPOPULAT\",\n      \"properties\": {\n        \"dtype\": \"number\",\n        \"std\": 138512.31893950806,\n        \"min\": 532791.0,\n        \"max\": 728677.0,\n        \"num_unique_values\": 2,\n        \"samples\": [\n          728677.0,\n          532791.0\n        ],\n        \"semantic_type\": \"\",\n        \"description\": \"\"\n      }\n    },\n    {\n      \"column\": \"OVERALL_LI\",\n      \"properties\": {\n        \"dtype\": \"number\",\n        \"std\": 3.853731957466686,\n        \"min\": 37.22,\n        \"max\": 42.67,\n        \"num_unique_values\": 2,\n        \"samples\": [\n          37.22,\n          42.67\n        ],\n        \"semantic_type\": \"\",\n        \"description\": \"\"\n      }\n    },\n    {\n      \"column\": \"Z_SCORE\",\n      \"properties\": {\n        \"dtype\": \"number\",\n        \"std\": 0.3819171061971492,\n        \"min\": -3.585076428852991,\n        \"max\": -3.044964077566697,\n        \"num_unique_values\": 2,\n        \"samples\": [\n          -3.585076428852991,\n          -3.044964077566697\n        ],\n        \"semantic_type\": \"\",\n        \"description\": \"\"\n      }\n    }\n  ]\n}"
            }
          },
          "metadata": {},
          "execution_count": 10
        }
      ]
    },
    {
      "cell_type": "markdown",
      "source": [
        "Using z-scores, we can identify two outlying districts that have unusually low literacy rates: DISTRICT461 and DISTRICT429. The literacy rates in these two districts are more than 3 SDs below the overall mean literacy rate.\n",
        "\n",
        "Our analysis gives us important information to share. The government may want to provide more funding and resources to these two districts in the hopes of significantly improving literacy."
      ],
      "metadata": {
        "id": "mNNMDALQ3kdj"
      }
    },
    {
      "cell_type": "markdown",
      "source": [
        "# Activity : Explore probability distributions"
      ],
      "metadata": {
        "id": "U3YeSbo93pDy"
      }
    },
    {
      "cell_type": "markdown",
      "source": [
        "## Step 1 : Import"
      ],
      "metadata": {
        "id": "FmvXEcpFCVsF"
      }
    },
    {
      "cell_type": "code",
      "source": [
        "# Import relevant libraries, packages, and modules.\n",
        "\n",
        "import numpy as np\n",
        "import pandas as pd\n",
        "import matplotlib.pyplot as plt\n",
        "import statsmodels.api as sm\n",
        "from scipy import stats"
      ],
      "metadata": {
        "id": "72cWURbICXbZ"
      },
      "execution_count": null,
      "outputs": []
    },
    {
      "cell_type": "code",
      "source": [
        "# Load data into a DataFrame and save in a variable.\n",
        "\n",
        "\n",
        "data = pd.read_csv(\"modified_c4_epa_air_quality.csv\")"
      ],
      "metadata": {
        "id": "ME6m3QjJCc5-"
      },
      "execution_count": null,
      "outputs": []
    },
    {
      "cell_type": "markdown",
      "source": [
        "## Step 2: Data exploration"
      ],
      "metadata": {
        "id": "9D2hAoyECktu"
      }
    },
    {
      "cell_type": "code",
      "source": [
        "# Display first 10 rows of the data.\n",
        "\n",
        "data.head(10)"
      ],
      "metadata": {
        "colab": {
          "base_uri": "https://localhost:8080/",
          "height": 376
        },
        "id": "4rrzDFtqChn5",
        "outputId": "8c1aef77-a398-475f-b671-24d39afdb5b9"
      },
      "execution_count": null,
      "outputs": [
        {
          "output_type": "execute_result",
          "data": {
            "text/plain": [
              "   date_local    state_name   county_name      city_name  \\\n",
              "0  2018-01-01       Arizona      Maricopa        Buckeye   \n",
              "1  2018-01-01          Ohio       Belmont      Shadyside   \n",
              "2  2018-01-01       Wyoming         Teton  Not in a city   \n",
              "3  2018-01-01  Pennsylvania  Philadelphia   Philadelphia   \n",
              "4  2018-01-01          Iowa          Polk     Des Moines   \n",
              "5  2018-01-01        Hawaii      Honolulu  Not in a city   \n",
              "6  2018-01-01        Hawaii      Honolulu  Not in a city   \n",
              "7  2018-01-01  Pennsylvania          Erie           Erie   \n",
              "8  2018-01-01        Hawaii      Honolulu       Honolulu   \n",
              "9  2018-01-01      Colorado       Larimer   Fort Collins   \n",
              "\n",
              "                                     local_site_name   parameter_name  \\\n",
              "0                                            BUCKEYE  Carbon monoxide   \n",
              "1                                          Shadyside  Carbon monoxide   \n",
              "2  Yellowstone National Park - Old Faithful Snow ...  Carbon monoxide   \n",
              "3                             North East Waste (NEW)  Carbon monoxide   \n",
              "4                                          CARPENTER  Carbon monoxide   \n",
              "5                                            Kapolei  Carbon monoxide   \n",
              "6                                            Kapolei  Carbon monoxide   \n",
              "7                                                NaN  Carbon monoxide   \n",
              "8                                           Honolulu  Carbon monoxide   \n",
              "9                      Fort Collins - CSU - S. Mason  Carbon monoxide   \n",
              "\n",
              "    units_of_measure   aqi_log  \n",
              "0  Parts per million  2.079442  \n",
              "1  Parts per million  1.791759  \n",
              "2  Parts per million  1.098612  \n",
              "3  Parts per million  1.386294  \n",
              "4  Parts per million  1.386294  \n",
              "5  Parts per million  2.708050  \n",
              "6  Parts per million  1.098612  \n",
              "7  Parts per million  1.098612  \n",
              "8  Parts per million  1.791759  \n",
              "9  Parts per million  1.945910  "
            ],
            "text/html": [
              "\n",
              "  <div id=\"df-a3fdaf4f-e1cc-43c0-a6b0-07a61ba088b2\" class=\"colab-df-container\">\n",
              "    <div>\n",
              "<style scoped>\n",
              "    .dataframe tbody tr th:only-of-type {\n",
              "        vertical-align: middle;\n",
              "    }\n",
              "\n",
              "    .dataframe tbody tr th {\n",
              "        vertical-align: top;\n",
              "    }\n",
              "\n",
              "    .dataframe thead th {\n",
              "        text-align: right;\n",
              "    }\n",
              "</style>\n",
              "<table border=\"1\" class=\"dataframe\">\n",
              "  <thead>\n",
              "    <tr style=\"text-align: right;\">\n",
              "      <th></th>\n",
              "      <th>date_local</th>\n",
              "      <th>state_name</th>\n",
              "      <th>county_name</th>\n",
              "      <th>city_name</th>\n",
              "      <th>local_site_name</th>\n",
              "      <th>parameter_name</th>\n",
              "      <th>units_of_measure</th>\n",
              "      <th>aqi_log</th>\n",
              "    </tr>\n",
              "  </thead>\n",
              "  <tbody>\n",
              "    <tr>\n",
              "      <th>0</th>\n",
              "      <td>2018-01-01</td>\n",
              "      <td>Arizona</td>\n",
              "      <td>Maricopa</td>\n",
              "      <td>Buckeye</td>\n",
              "      <td>BUCKEYE</td>\n",
              "      <td>Carbon monoxide</td>\n",
              "      <td>Parts per million</td>\n",
              "      <td>2.079442</td>\n",
              "    </tr>\n",
              "    <tr>\n",
              "      <th>1</th>\n",
              "      <td>2018-01-01</td>\n",
              "      <td>Ohio</td>\n",
              "      <td>Belmont</td>\n",
              "      <td>Shadyside</td>\n",
              "      <td>Shadyside</td>\n",
              "      <td>Carbon monoxide</td>\n",
              "      <td>Parts per million</td>\n",
              "      <td>1.791759</td>\n",
              "    </tr>\n",
              "    <tr>\n",
              "      <th>2</th>\n",
              "      <td>2018-01-01</td>\n",
              "      <td>Wyoming</td>\n",
              "      <td>Teton</td>\n",
              "      <td>Not in a city</td>\n",
              "      <td>Yellowstone National Park - Old Faithful Snow ...</td>\n",
              "      <td>Carbon monoxide</td>\n",
              "      <td>Parts per million</td>\n",
              "      <td>1.098612</td>\n",
              "    </tr>\n",
              "    <tr>\n",
              "      <th>3</th>\n",
              "      <td>2018-01-01</td>\n",
              "      <td>Pennsylvania</td>\n",
              "      <td>Philadelphia</td>\n",
              "      <td>Philadelphia</td>\n",
              "      <td>North East Waste (NEW)</td>\n",
              "      <td>Carbon monoxide</td>\n",
              "      <td>Parts per million</td>\n",
              "      <td>1.386294</td>\n",
              "    </tr>\n",
              "    <tr>\n",
              "      <th>4</th>\n",
              "      <td>2018-01-01</td>\n",
              "      <td>Iowa</td>\n",
              "      <td>Polk</td>\n",
              "      <td>Des Moines</td>\n",
              "      <td>CARPENTER</td>\n",
              "      <td>Carbon monoxide</td>\n",
              "      <td>Parts per million</td>\n",
              "      <td>1.386294</td>\n",
              "    </tr>\n",
              "    <tr>\n",
              "      <th>5</th>\n",
              "      <td>2018-01-01</td>\n",
              "      <td>Hawaii</td>\n",
              "      <td>Honolulu</td>\n",
              "      <td>Not in a city</td>\n",
              "      <td>Kapolei</td>\n",
              "      <td>Carbon monoxide</td>\n",
              "      <td>Parts per million</td>\n",
              "      <td>2.708050</td>\n",
              "    </tr>\n",
              "    <tr>\n",
              "      <th>6</th>\n",
              "      <td>2018-01-01</td>\n",
              "      <td>Hawaii</td>\n",
              "      <td>Honolulu</td>\n",
              "      <td>Not in a city</td>\n",
              "      <td>Kapolei</td>\n",
              "      <td>Carbon monoxide</td>\n",
              "      <td>Parts per million</td>\n",
              "      <td>1.098612</td>\n",
              "    </tr>\n",
              "    <tr>\n",
              "      <th>7</th>\n",
              "      <td>2018-01-01</td>\n",
              "      <td>Pennsylvania</td>\n",
              "      <td>Erie</td>\n",
              "      <td>Erie</td>\n",
              "      <td>NaN</td>\n",
              "      <td>Carbon monoxide</td>\n",
              "      <td>Parts per million</td>\n",
              "      <td>1.098612</td>\n",
              "    </tr>\n",
              "    <tr>\n",
              "      <th>8</th>\n",
              "      <td>2018-01-01</td>\n",
              "      <td>Hawaii</td>\n",
              "      <td>Honolulu</td>\n",
              "      <td>Honolulu</td>\n",
              "      <td>Honolulu</td>\n",
              "      <td>Carbon monoxide</td>\n",
              "      <td>Parts per million</td>\n",
              "      <td>1.791759</td>\n",
              "    </tr>\n",
              "    <tr>\n",
              "      <th>9</th>\n",
              "      <td>2018-01-01</td>\n",
              "      <td>Colorado</td>\n",
              "      <td>Larimer</td>\n",
              "      <td>Fort Collins</td>\n",
              "      <td>Fort Collins - CSU - S. Mason</td>\n",
              "      <td>Carbon monoxide</td>\n",
              "      <td>Parts per million</td>\n",
              "      <td>1.945910</td>\n",
              "    </tr>\n",
              "  </tbody>\n",
              "</table>\n",
              "</div>\n",
              "    <div class=\"colab-df-buttons\">\n",
              "\n",
              "  <div class=\"colab-df-container\">\n",
              "    <button class=\"colab-df-convert\" onclick=\"convertToInteractive('df-a3fdaf4f-e1cc-43c0-a6b0-07a61ba088b2')\"\n",
              "            title=\"Convert this dataframe to an interactive table.\"\n",
              "            style=\"display:none;\">\n",
              "\n",
              "  <svg xmlns=\"http://www.w3.org/2000/svg\" height=\"24px\" viewBox=\"0 -960 960 960\">\n",
              "    <path d=\"M120-120v-720h720v720H120Zm60-500h600v-160H180v160Zm220 220h160v-160H400v160Zm0 220h160v-160H400v160ZM180-400h160v-160H180v160Zm440 0h160v-160H620v160ZM180-180h160v-160H180v160Zm440 0h160v-160H620v160Z\"/>\n",
              "  </svg>\n",
              "    </button>\n",
              "\n",
              "  <style>\n",
              "    .colab-df-container {\n",
              "      display:flex;\n",
              "      gap: 12px;\n",
              "    }\n",
              "\n",
              "    .colab-df-convert {\n",
              "      background-color: #E8F0FE;\n",
              "      border: none;\n",
              "      border-radius: 50%;\n",
              "      cursor: pointer;\n",
              "      display: none;\n",
              "      fill: #1967D2;\n",
              "      height: 32px;\n",
              "      padding: 0 0 0 0;\n",
              "      width: 32px;\n",
              "    }\n",
              "\n",
              "    .colab-df-convert:hover {\n",
              "      background-color: #E2EBFA;\n",
              "      box-shadow: 0px 1px 2px rgba(60, 64, 67, 0.3), 0px 1px 3px 1px rgba(60, 64, 67, 0.15);\n",
              "      fill: #174EA6;\n",
              "    }\n",
              "\n",
              "    .colab-df-buttons div {\n",
              "      margin-bottom: 4px;\n",
              "    }\n",
              "\n",
              "    [theme=dark] .colab-df-convert {\n",
              "      background-color: #3B4455;\n",
              "      fill: #D2E3FC;\n",
              "    }\n",
              "\n",
              "    [theme=dark] .colab-df-convert:hover {\n",
              "      background-color: #434B5C;\n",
              "      box-shadow: 0px 1px 3px 1px rgba(0, 0, 0, 0.15);\n",
              "      filter: drop-shadow(0px 1px 2px rgba(0, 0, 0, 0.3));\n",
              "      fill: #FFFFFF;\n",
              "    }\n",
              "  </style>\n",
              "\n",
              "    <script>\n",
              "      const buttonEl =\n",
              "        document.querySelector('#df-a3fdaf4f-e1cc-43c0-a6b0-07a61ba088b2 button.colab-df-convert');\n",
              "      buttonEl.style.display =\n",
              "        google.colab.kernel.accessAllowed ? 'block' : 'none';\n",
              "\n",
              "      async function convertToInteractive(key) {\n",
              "        const element = document.querySelector('#df-a3fdaf4f-e1cc-43c0-a6b0-07a61ba088b2');\n",
              "        const dataTable =\n",
              "          await google.colab.kernel.invokeFunction('convertToInteractive',\n",
              "                                                    [key], {});\n",
              "        if (!dataTable) return;\n",
              "\n",
              "        const docLinkHtml = 'Like what you see? Visit the ' +\n",
              "          '<a target=\"_blank\" href=https://colab.research.google.com/notebooks/data_table.ipynb>data table notebook</a>'\n",
              "          + ' to learn more about interactive tables.';\n",
              "        element.innerHTML = '';\n",
              "        dataTable['output_type'] = 'display_data';\n",
              "        await google.colab.output.renderOutput(dataTable, element);\n",
              "        const docLink = document.createElement('div');\n",
              "        docLink.innerHTML = docLinkHtml;\n",
              "        element.appendChild(docLink);\n",
              "      }\n",
              "    </script>\n",
              "  </div>\n",
              "\n",
              "\n",
              "<div id=\"df-7921a397-c432-4cba-943c-c55570951e85\">\n",
              "  <button class=\"colab-df-quickchart\" onclick=\"quickchart('df-7921a397-c432-4cba-943c-c55570951e85')\"\n",
              "            title=\"Suggest charts\"\n",
              "            style=\"display:none;\">\n",
              "\n",
              "<svg xmlns=\"http://www.w3.org/2000/svg\" height=\"24px\"viewBox=\"0 0 24 24\"\n",
              "     width=\"24px\">\n",
              "    <g>\n",
              "        <path d=\"M19 3H5c-1.1 0-2 .9-2 2v14c0 1.1.9 2 2 2h14c1.1 0 2-.9 2-2V5c0-1.1-.9-2-2-2zM9 17H7v-7h2v7zm4 0h-2V7h2v10zm4 0h-2v-4h2v4z\"/>\n",
              "    </g>\n",
              "</svg>\n",
              "  </button>\n",
              "\n",
              "<style>\n",
              "  .colab-df-quickchart {\n",
              "      --bg-color: #E8F0FE;\n",
              "      --fill-color: #1967D2;\n",
              "      --hover-bg-color: #E2EBFA;\n",
              "      --hover-fill-color: #174EA6;\n",
              "      --disabled-fill-color: #AAA;\n",
              "      --disabled-bg-color: #DDD;\n",
              "  }\n",
              "\n",
              "  [theme=dark] .colab-df-quickchart {\n",
              "      --bg-color: #3B4455;\n",
              "      --fill-color: #D2E3FC;\n",
              "      --hover-bg-color: #434B5C;\n",
              "      --hover-fill-color: #FFFFFF;\n",
              "      --disabled-bg-color: #3B4455;\n",
              "      --disabled-fill-color: #666;\n",
              "  }\n",
              "\n",
              "  .colab-df-quickchart {\n",
              "    background-color: var(--bg-color);\n",
              "    border: none;\n",
              "    border-radius: 50%;\n",
              "    cursor: pointer;\n",
              "    display: none;\n",
              "    fill: var(--fill-color);\n",
              "    height: 32px;\n",
              "    padding: 0;\n",
              "    width: 32px;\n",
              "  }\n",
              "\n",
              "  .colab-df-quickchart:hover {\n",
              "    background-color: var(--hover-bg-color);\n",
              "    box-shadow: 0 1px 2px rgba(60, 64, 67, 0.3), 0 1px 3px 1px rgba(60, 64, 67, 0.15);\n",
              "    fill: var(--button-hover-fill-color);\n",
              "  }\n",
              "\n",
              "  .colab-df-quickchart-complete:disabled,\n",
              "  .colab-df-quickchart-complete:disabled:hover {\n",
              "    background-color: var(--disabled-bg-color);\n",
              "    fill: var(--disabled-fill-color);\n",
              "    box-shadow: none;\n",
              "  }\n",
              "\n",
              "  .colab-df-spinner {\n",
              "    border: 2px solid var(--fill-color);\n",
              "    border-color: transparent;\n",
              "    border-bottom-color: var(--fill-color);\n",
              "    animation:\n",
              "      spin 1s steps(1) infinite;\n",
              "  }\n",
              "\n",
              "  @keyframes spin {\n",
              "    0% {\n",
              "      border-color: transparent;\n",
              "      border-bottom-color: var(--fill-color);\n",
              "      border-left-color: var(--fill-color);\n",
              "    }\n",
              "    20% {\n",
              "      border-color: transparent;\n",
              "      border-left-color: var(--fill-color);\n",
              "      border-top-color: var(--fill-color);\n",
              "    }\n",
              "    30% {\n",
              "      border-color: transparent;\n",
              "      border-left-color: var(--fill-color);\n",
              "      border-top-color: var(--fill-color);\n",
              "      border-right-color: var(--fill-color);\n",
              "    }\n",
              "    40% {\n",
              "      border-color: transparent;\n",
              "      border-right-color: var(--fill-color);\n",
              "      border-top-color: var(--fill-color);\n",
              "    }\n",
              "    60% {\n",
              "      border-color: transparent;\n",
              "      border-right-color: var(--fill-color);\n",
              "    }\n",
              "    80% {\n",
              "      border-color: transparent;\n",
              "      border-right-color: var(--fill-color);\n",
              "      border-bottom-color: var(--fill-color);\n",
              "    }\n",
              "    90% {\n",
              "      border-color: transparent;\n",
              "      border-bottom-color: var(--fill-color);\n",
              "    }\n",
              "  }\n",
              "</style>\n",
              "\n",
              "  <script>\n",
              "    async function quickchart(key) {\n",
              "      const quickchartButtonEl =\n",
              "        document.querySelector('#' + key + ' button');\n",
              "      quickchartButtonEl.disabled = true;  // To prevent multiple clicks.\n",
              "      quickchartButtonEl.classList.add('colab-df-spinner');\n",
              "      try {\n",
              "        const charts = await google.colab.kernel.invokeFunction(\n",
              "            'suggestCharts', [key], {});\n",
              "      } catch (error) {\n",
              "        console.error('Error during call to suggestCharts:', error);\n",
              "      }\n",
              "      quickchartButtonEl.classList.remove('colab-df-spinner');\n",
              "      quickchartButtonEl.classList.add('colab-df-quickchart-complete');\n",
              "    }\n",
              "    (() => {\n",
              "      let quickchartButtonEl =\n",
              "        document.querySelector('#df-7921a397-c432-4cba-943c-c55570951e85 button');\n",
              "      quickchartButtonEl.style.display =\n",
              "        google.colab.kernel.accessAllowed ? 'block' : 'none';\n",
              "    })();\n",
              "  </script>\n",
              "</div>\n",
              "    </div>\n",
              "  </div>\n"
            ],
            "application/vnd.google.colaboratory.intrinsic+json": {
              "type": "dataframe",
              "variable_name": "data",
              "summary": "{\n  \"name\": \"data\",\n  \"rows\": 260,\n  \"fields\": [\n    {\n      \"column\": \"date_local\",\n      \"properties\": {\n        \"dtype\": \"object\",\n        \"num_unique_values\": 1,\n        \"samples\": [\n          \"2018-01-01\"\n        ],\n        \"semantic_type\": \"\",\n        \"description\": \"\"\n      }\n    },\n    {\n      \"column\": \"state_name\",\n      \"properties\": {\n        \"dtype\": \"category\",\n        \"num_unique_values\": 52,\n        \"samples\": [\n          \"New Jersey\"\n        ],\n        \"semantic_type\": \"\",\n        \"description\": \"\"\n      }\n    },\n    {\n      \"column\": \"county_name\",\n      \"properties\": {\n        \"dtype\": \"string\",\n        \"num_unique_values\": 149,\n        \"samples\": [\n          \"El Paso\"\n        ],\n        \"semantic_type\": \"\",\n        \"description\": \"\"\n      }\n    },\n    {\n      \"column\": \"city_name\",\n      \"properties\": {\n        \"dtype\": \"string\",\n        \"num_unique_values\": 190,\n        \"samples\": [\n          \"Valrico\"\n        ],\n        \"semantic_type\": \"\",\n        \"description\": \"\"\n      }\n    },\n    {\n      \"column\": \"local_site_name\",\n      \"properties\": {\n        \"dtype\": \"string\",\n        \"num_unique_values\": 253,\n        \"samples\": [\n          \"Los Flores Canyon #1\"\n        ],\n        \"semantic_type\": \"\",\n        \"description\": \"\"\n      }\n    },\n    {\n      \"column\": \"parameter_name\",\n      \"properties\": {\n        \"dtype\": \"category\",\n        \"num_unique_values\": 1,\n        \"samples\": [\n          \"Carbon monoxide\"\n        ],\n        \"semantic_type\": \"\",\n        \"description\": \"\"\n      }\n    },\n    {\n      \"column\": \"units_of_measure\",\n      \"properties\": {\n        \"dtype\": \"category\",\n        \"num_unique_values\": 1,\n        \"samples\": [\n          \"Parts per million\"\n        ],\n        \"semantic_type\": \"\",\n        \"description\": \"\"\n      }\n    },\n    {\n      \"column\": \"aqi_log\",\n      \"properties\": {\n        \"dtype\": \"number\",\n        \"std\": 0.7147155520223721,\n        \"min\": 0.0,\n        \"max\": 3.9318256327243257,\n        \"num_unique_values\": 29,\n        \"samples\": [\n          3.367295829986474\n        ],\n        \"semantic_type\": \"\",\n        \"description\": \"\"\n      }\n    }\n  ]\n}"
            }
          },
          "metadata": {},
          "execution_count": 13
        }
      ]
    },
    {
      "cell_type": "markdown",
      "source": [
        "The **aqi_log** column represents AQI readings that were transformed logarithmically to suit the objectives of this lab."
      ],
      "metadata": {
        "id": "qUfsvuEBCy4m"
      }
    },
    {
      "cell_type": "code",
      "source": [
        "# Display number of rows, number of columns.\n",
        "\n",
        "data.shape"
      ],
      "metadata": {
        "colab": {
          "base_uri": "https://localhost:8080/"
        },
        "id": "P6LmBiguCo1k",
        "outputId": "faf8624d-1e8d-4105-ba53-ce8e0e28645d"
      },
      "execution_count": null,
      "outputs": [
        {
          "output_type": "execute_result",
          "data": {
            "text/plain": [
              "(260, 8)"
            ]
          },
          "metadata": {},
          "execution_count": 14
        }
      ]
    },
    {
      "cell_type": "code",
      "source": [
        "# Create a histogram to visualize distribution of aqi_log.\n",
        "\n",
        "data[\"aqi_log\"].hist();"
      ],
      "metadata": {
        "colab": {
          "base_uri": "https://localhost:8080/",
          "height": 430
        },
        "id": "U1XLLJybC3Ko",
        "outputId": "ff349e64-5540-499f-c7c3-5bf43710d4f1"
      },
      "execution_count": null,
      "outputs": [
        {
          "output_type": "display_data",
          "data": {
            "text/plain": [
              "<Figure size 640x480 with 1 Axes>"
            ],
            "image/png": "[encoded data removed]"
          },
          "metadata": {}
        }
      ]
    },
    {
      "cell_type": "markdown",
      "source": [
        "## Step 3: Statistical tests\n",
        "Use the empirical rule to observe the data, then test and verify that it is normally distributed.\n",
        "\n",
        "As you have learned, the empirical rule states that, for every normal distribution:\n",
        "\n",
        "  - 68% of the data fall within 1 standard deviation of the mean\n",
        "  - 95% of the data fall within 2 standard deviations of the mean\n",
        "  - 99.7% of the data fall within 3 standard deviations of the mean"
      ],
      "metadata": {
        "id": "pdGPQg-UDBiE"
      }
    },
    {
      "cell_type": "code",
      "source": [
        "# Define variable for aqi_log mean.\n",
        "\n",
        "mean_aqi_log = data[\"aqi_log\"].mean()\n",
        "\n",
        "\n",
        "# Print out the mean.\n",
        "\n",
        "print(mean_aqi_log)"
      ],
      "metadata": {
        "colab": {
          "base_uri": "https://localhost:8080/"
        },
        "id": "M5EBEgBeDHpx",
        "outputId": "061bee42-b6f2-4734-fead-dd100fa30016"
      },
      "execution_count": null,
      "outputs": [
        {
          "output_type": "stream",
          "name": "stdout",
          "text": [
            "1.7669210929985582\n"
          ]
        }
      ]
    },
    {
      "cell_type": "code",
      "source": [
        "# Define variable for aqi_log standard deviation.\n",
        "\n",
        "std_aqi_log = data[\"aqi_log\"].std()\n",
        "\n",
        "\n",
        "# Print out the standard deviation.\n",
        "\n",
        "print(std_aqi_log)"
      ],
      "metadata": {
        "colab": {
          "base_uri": "https://localhost:8080/"
        },
        "id": "euPzoL9yDMsP",
        "outputId": "1c6ccbff-7d0b-4cea-bf48-f4fecf94d705"
      },
      "execution_count": null,
      "outputs": [
        {
          "output_type": "stream",
          "name": "stdout",
          "text": [
            "0.7147155520223721\n"
          ]
        }
      ]
    },
    {
      "cell_type": "markdown",
      "source": [
        "### Consider 1st part of the emprical rule\n",
        "Now, check the first part of the empirical rule: whether 68% of the aqi_log data falls within 1 standard deviation of the mean."
      ],
      "metadata": {
        "id": "tGn9is5ZDWY8"
      }
    },
    {
      "cell_type": "code",
      "source": [
        "# Define variable for lower limit, 1 standard deviation below the mean.\n",
        "\n",
        "lower_limit = mean_aqi_log - 1 * std_aqi_log\n",
        "\n",
        "\n",
        "# Define variable for upper limit, 1 standard deviation above the mean.\n",
        "\n",
        "upper_limit = mean_aqi_log + 1 * std_aqi_log\n",
        "\n",
        "\n",
        "# Display lower_limit, upper_limit.\n",
        "\n",
        "print(lower_limit, upper_limit)"
      ],
      "metadata": {
        "colab": {
          "base_uri": "https://localhost:8080/"
        },
        "id": "-mGEZLwSDXDA",
        "outputId": "30a721e9-6351-486b-b3dd-12cb1de804df"
      },
      "execution_count": null,
      "outputs": [
        {
          "output_type": "stream",
          "name": "stdout",
          "text": [
            "1.052205540976186 2.4816366450209304\n"
          ]
        }
      ]
    },
    {
      "cell_type": "code",
      "source": [
        "# Display the actual percentage of data that falls within 1 standard deviation of the mean.\n",
        "\n",
        "((data[\"aqi_log\"] >= lower_limit) & (data[\"aqi_log\"] <= upper_limit)).mean() * 100"
      ],
      "metadata": {
        "colab": {
          "base_uri": "https://localhost:8080/"
        },
        "id": "Whk6j855Dcgr",
        "outputId": "ac289327-8031-475e-aafc-72a8cdc8ff9e"
      },
      "execution_count": null,
      "outputs": [
        {
          "output_type": "execute_result",
          "data": {
            "text/plain": [
              "np.float64(76.15384615384615)"
            ]
          },
          "metadata": {},
          "execution_count": 19
        }
      ]
    },
    {
      "cell_type": "markdown",
      "source": [
        "### Consider 2nd part of the emprical rule\n",
        "Now, consider the second part of the empirical rule: whether 95% of the aqi_log data falls within 2 standard deviations of the mean."
      ],
      "metadata": {
        "id": "hfdkwsidDgaT"
      }
    },
    {
      "cell_type": "code",
      "source": [
        "# Define variable for lower limit, 2 standard deviations below the mean.\n",
        "\n",
        "lower_limit = mean_aqi_log - 2 * std_aqi_log\n",
        "\n",
        "\n",
        "# Define variable for upper limit, 2 standard deviations below the mean.\n",
        "\n",
        "upper_limit = mean_aqi_log + 2 * std_aqi_log\n",
        "\n",
        "\n",
        "# Display lower_limit, upper_limit.\n",
        "\n",
        "print(lower_limit, upper_limit)"
      ],
      "metadata": {
        "colab": {
          "base_uri": "https://localhost:8080/"
        },
        "id": "G2qJSm8eDd49",
        "outputId": "e8a958b3-8b09-417a-e95b-9a3873588d83"
      },
      "execution_count": null,
      "outputs": [
        {
          "output_type": "stream",
          "name": "stdout",
          "text": [
            "0.3374899889538139 3.1963521970433026\n"
          ]
        }
      ]
    },
    {
      "cell_type": "code",
      "source": [
        "# Display the actual percentage of data that falls within 2 standard deviations of the mean.\n",
        "\n",
        "\n",
        "((data[\"aqi_log\"] >= lower_limit) & (data[\"aqi_log\"] <= upper_limit)).mean() * 100"
      ],
      "metadata": {
        "colab": {
          "base_uri": "https://localhost:8080/"
        },
        "id": "R326B_n9Do98",
        "outputId": "3a3686c2-a47e-46a1-e5be-31cc6f8b9fad"
      },
      "execution_count": null,
      "outputs": [
        {
          "output_type": "execute_result",
          "data": {
            "text/plain": [
              "np.float64(95.76923076923077)"
            ]
          },
          "metadata": {},
          "execution_count": 22
        }
      ]
    },
    {
      "cell_type": "markdown",
      "source": [
        "### Consider 3nd part of the emprical rule\n",
        "Now, consider the third part of the empirical rule:whether 99.7% of the aqi_log data falls within 3 standard deviations of the mean."
      ],
      "metadata": {
        "id": "A9joS2seDuLI"
      }
    },
    {
      "cell_type": "code",
      "source": [
        "# Define variable for lower limit, 3 standard deviations below the mean.\n",
        "\n",
        "lower_limit = mean_aqi_log - 3 * std_aqi_log\n",
        "\n",
        "\n",
        "# Define variable for upper limit, 3 standard deviations above the mean.\n",
        "\n",
        "\n",
        "upper_limit = mean_aqi_log + 3 * std_aqi_log\n",
        "\n",
        "\n",
        "# Display lower_limit, upper_limit.\n",
        "\n",
        "print(lower_limit, upper_limit)"
      ],
      "metadata": {
        "colab": {
          "base_uri": "https://localhost:8080/"
        },
        "id": "odOTMg4oDu7T",
        "outputId": "56dbc090-fcab-44c6-892e-14da9d9b3acf"
      },
      "execution_count": null,
      "outputs": [
        {
          "output_type": "stream",
          "name": "stdout",
          "text": [
            "-0.37722556306855815 3.9110677490656744\n"
          ]
        }
      ]
    },
    {
      "cell_type": "code",
      "source": [
        "# Display the actual percentage of data that falls within 3 standard deviations of the mean.\n",
        "\n",
        "((data[\"aqi_log\"] >= lower_limit) & (data[\"aqi_log\"] <= upper_limit)).mean() * 100"
      ],
      "metadata": {
        "colab": {
          "base_uri": "https://localhost:8080/"
        },
        "id": "tSXGkRw5D0om",
        "outputId": "d0fbf7f6-4225-491f-95b6-6c86fea7383a"
      },
      "execution_count": null,
      "outputs": [
        {
          "output_type": "execute_result",
          "data": {
            "text/plain": [
              "np.float64(99.61538461538461)"
            ]
          },
          "metadata": {},
          "execution_count": 24
        }
      ]
    },
    {
      "cell_type": "markdown",
      "source": [
        "## Step 4: Results and evaluation\n",
        "\n",
        "**Question: What results did you attain by applying the empirical rule?**\n",
        "  - About 76.15% of the data falls within 1 standard deviation of the mean.\n",
        "\n",
        "  - About 95.77% of the data falls within 2 standard deviation of the mean.\n",
        "  - About 99.62% of the data falls within 3 standard deviations of the mean.\n",
        "\n",
        "The 95.77% is very close to 95%, and the 99.62% is very close to 99.7%. The 76.15% is not as close to 68%, but relatively close. Overall, from applying the empirical rule, the data appears to be not exactly normal, but could be considered approximately normal.\n",
        "\n",
        "**Question: How would you use z-score to find outliers?**\n",
        "\n",
        "  - Since z-score indicates the relative position of values (for instance, z-score measures how many standard deviations below or above the mean a data point is), it can be used to detect outliers.\n",
        "\n",
        "  Z-score could be used to identify values that lie more than 3 standard deviations below or above the mean. These values may be considered outliers."
      ],
      "metadata": {
        "id": "hB7CYNEvD7T4"
      }
    },
    {
      "cell_type": "markdown",
      "source": [
        "Compute the z-score for every aqi_log value. Then, add a column named z_score in the data to store those results."
      ],
      "metadata": {
        "id": "7piBxouYEv3R"
      }
    },
    {
      "cell_type": "code",
      "source": [
        "# Compute the z-score for every aqi_log value, and add a column named z_score in the data to store those results.\n",
        "\n",
        "data[\"z_score\"] = stats.zscore(data[\"aqi_log\"], ddof=1) # ddof=degrees of freedom correction (sample vs. population)\n",
        "\n",
        "\n",
        "# Display the first 5 rows to ensure that the new column was added.\n",
        "\n",
        "data.head()"
      ],
      "metadata": {
        "colab": {
          "base_uri": "https://localhost:8080/",
          "height": 275
        },
        "id": "zka7XZVpEyGr",
        "outputId": "70d38fea-a326-41d4-abbf-64cfa2b8afb3"
      },
      "execution_count": null,
      "outputs": [
        {
          "output_type": "execute_result",
          "data": {
            "text/plain": [
              "   date_local    state_name   county_name      city_name  \\\n",
              "0  2018-01-01       Arizona      Maricopa        Buckeye   \n",
              "1  2018-01-01          Ohio       Belmont      Shadyside   \n",
              "2  2018-01-01       Wyoming         Teton  Not in a city   \n",
              "3  2018-01-01  Pennsylvania  Philadelphia   Philadelphia   \n",
              "4  2018-01-01          Iowa          Polk     Des Moines   \n",
              "\n",
              "                                     local_site_name   parameter_name  \\\n",
              "0                                            BUCKEYE  Carbon monoxide   \n",
              "1                                          Shadyside  Carbon monoxide   \n",
              "2  Yellowstone National Park - Old Faithful Snow ...  Carbon monoxide   \n",
              "3                             North East Waste (NEW)  Carbon monoxide   \n",
              "4                                          CARPENTER  Carbon monoxide   \n",
              "\n",
              "    units_of_measure   aqi_log   z_score  \n",
              "0  Parts per million  2.079442  0.437265  \n",
              "1  Parts per million  1.791759  0.034753  \n",
              "2  Parts per million  1.098612 -0.935070  \n",
              "3  Parts per million  1.386294 -0.532557  \n",
              "4  Parts per million  1.386294 -0.532557  "
            ],
            "text/html": [
              "\n",
              "  <div id=\"df-705c961c-0b12-496c-95fa-a1dc428d342f\" class=\"colab-df-container\">\n",
              "    <div>\n",
              "<style scoped>\n",
              "    .dataframe tbody tr th:only-of-type {\n",
              "        vertical-align: middle;\n",
              "    }\n",
              "\n",
              "    .dataframe tbody tr th {\n",
              "        vertical-align: top;\n",
              "    }\n",
              "\n",
              "    .dataframe thead th {\n",
              "        text-align: right;\n",
              "    }\n",
              "</style>\n",
              "<table border=\"1\" class=\"dataframe\">\n",
              "  <thead>\n",
              "    <tr style=\"text-align: right;\">\n",
              "      <th></th>\n",
              "      <th>date_local</th>\n",
              "      <th>state_name</th>\n",
              "      <th>county_name</th>\n",
              "      <th>city_name</th>\n",
              "      <th>local_site_name</th>\n",
              "      <th>parameter_name</th>\n",
              "      <th>units_of_measure</th>\n",
              "      <th>aqi_log</th>\n",
              "      <th>z_score</th>\n",
              "    </tr>\n",
              "  </thead>\n",
              "  <tbody>\n",
              "    <tr>\n",
              "      <th>0</th>\n",
              "      <td>2018-01-01</td>\n",
              "      <td>Arizona</td>\n",
              "      <td>Maricopa</td>\n",
              "      <td>Buckeye</td>\n",
              "      <td>BUCKEYE</td>\n",
              "      <td>Carbon monoxide</td>\n",
              "      <td>Parts per million</td>\n",
              "      <td>2.079442</td>\n",
              "      <td>0.437265</td>\n",
              "    </tr>\n",
              "    <tr>\n",
              "      <th>1</th>\n",
              "      <td>2018-01-01</td>\n",
              "      <td>Ohio</td>\n",
              "      <td>Belmont</td>\n",
              "      <td>Shadyside</td>\n",
              "      <td>Shadyside</td>\n",
              "      <td>Carbon monoxide</td>\n",
              "      <td>Parts per million</td>\n",
              "      <td>1.791759</td>\n",
              "      <td>0.034753</td>\n",
              "    </tr>\n",
              "    <tr>\n",
              "      <th>2</th>\n",
              "      <td>2018-01-01</td>\n",
              "      <td>Wyoming</td>\n",
              "      <td>Teton</td>\n",
              "      <td>Not in a city</td>\n",
              "      <td>Yellowstone National Park - Old Faithful Snow ...</td>\n",
              "      <td>Carbon monoxide</td>\n",
              "      <td>Parts per million</td>\n",
              "      <td>1.098612</td>\n",
              "      <td>-0.935070</td>\n",
              "    </tr>\n",
              "    <tr>\n",
              "      <th>3</th>\n",
              "      <td>2018-01-01</td>\n",
              "      <td>Pennsylvania</td>\n",
              "      <td>Philadelphia</td>\n",
              "      <td>Philadelphia</td>\n",
              "      <td>North East Waste (NEW)</td>\n",
              "      <td>Carbon monoxide</td>\n",
              "      <td>Parts per million</td>\n",
              "      <td>1.386294</td>\n",
              "      <td>-0.532557</td>\n",
              "    </tr>\n",
              "    <tr>\n",
              "      <th>4</th>\n",
              "      <td>2018-01-01</td>\n",
              "      <td>Iowa</td>\n",
              "      <td>Polk</td>\n",
              "      <td>Des Moines</td>\n",
              "      <td>CARPENTER</td>\n",
              "      <td>Carbon monoxide</td>\n",
              "      <td>Parts per million</td>\n",
              "      <td>1.386294</td>\n",
              "      <td>-0.532557</td>\n",
              "    </tr>\n",
              "  </tbody>\n",
              "</table>\n",
              "</div>\n",
              "    <div class=\"colab-df-buttons\">\n",
              "\n",
              "  <div class=\"colab-df-container\">\n",
              "    <button class=\"colab-df-convert\" onclick=\"convertToInteractive('df-705c961c-0b12-496c-95fa-a1dc428d342f')\"\n",
              "            title=\"Convert this dataframe to an interactive table.\"\n",
              "            style=\"display:none;\">\n",
              "\n",
              "  <svg xmlns=\"http://www.w3.org/2000/svg\" height=\"24px\" viewBox=\"0 -960 960 960\">\n",
              "    <path d=\"M120-120v-720h720v720H120Zm60-500h600v-160H180v160Zm220 220h160v-160H400v160Zm0 220h160v-160H400v160ZM180-400h160v-160H180v160Zm440 0h160v-160H620v160ZM180-180h160v-160H180v160Zm440 0h160v-160H620v160Z\"/>\n",
              "  </svg>\n",
              "    </button>\n",
              "\n",
              "  <style>\n",
              "    .colab-df-container {\n",
              "      display:flex;\n",
              "      gap: 12px;\n",
              "    }\n",
              "\n",
              "    .colab-df-convert {\n",
              "      background-color: #E8F0FE;\n",
              "      border: none;\n",
              "      border-radius: 50%;\n",
              "      cursor: pointer;\n",
              "      display: none;\n",
              "      fill: #1967D2;\n",
              "      height: 32px;\n",
              "      padding: 0 0 0 0;\n",
              "      width: 32px;\n",
              "    }\n",
              "\n",
              "    .colab-df-convert:hover {\n",
              "      background-color: #E2EBFA;\n",
              "      box-shadow: 0px 1px 2px rgba(60, 64, 67, 0.3), 0px 1px 3px 1px rgba(60, 64, 67, 0.15);\n",
              "      fill: #174EA6;\n",
              "    }\n",
              "\n",
              "    .colab-df-buttons div {\n",
              "      margin-bottom: 4px;\n",
              "    }\n",
              "\n",
              "    [theme=dark] .colab-df-convert {\n",
              "      background-color: #3B4455;\n",
              "      fill: #D2E3FC;\n",
              "    }\n",
              "\n",
              "    [theme=dark] .colab-df-convert:hover {\n",
              "      background-color: #434B5C;\n",
              "      box-shadow: 0px 1px 3px 1px rgba(0, 0, 0, 0.15);\n",
              "      filter: drop-shadow(0px 1px 2px rgba(0, 0, 0, 0.3));\n",
              "      fill: #FFFFFF;\n",
              "    }\n",
              "  </style>\n",
              "\n",
              "    <script>\n",
              "      const buttonEl =\n",
              "        document.querySelector('#df-705c961c-0b12-496c-95fa-a1dc428d342f button.colab-df-convert');\n",
              "      buttonEl.style.display =\n",
              "        google.colab.kernel.accessAllowed ? 'block' : 'none';\n",
              "\n",
              "      async function convertToInteractive(key) {\n",
              "        const element = document.querySelector('#df-705c961c-0b12-496c-95fa-a1dc428d342f');\n",
              "        const dataTable =\n",
              "          await google.colab.kernel.invokeFunction('convertToInteractive',\n",
              "                                                    [key], {});\n",
              "        if (!dataTable) return;\n",
              "\n",
              "        const docLinkHtml = 'Like what you see? Visit the ' +\n",
              "          '<a target=\"_blank\" href=https://colab.research.google.com/notebooks/data_table.ipynb>data table notebook</a>'\n",
              "          + ' to learn more about interactive tables.';\n",
              "        element.innerHTML = '';\n",
              "        dataTable['output_type'] = 'display_data';\n",
              "        await google.colab.output.renderOutput(dataTable, element);\n",
              "        const docLink = document.createElement('div');\n",
              "        docLink.innerHTML = docLinkHtml;\n",
              "        element.appendChild(docLink);\n",
              "      }\n",
              "    </script>\n",
              "  </div>\n",
              "\n",
              "\n",
              "<div id=\"df-1c68ec55-4082-4c8f-bec3-3b6ea74704c6\">\n",
              "  <button class=\"colab-df-quickchart\" onclick=\"quickchart('df-1c68ec55-4082-4c8f-bec3-3b6ea74704c6')\"\n",
              "            title=\"Suggest charts\"\n",
              "            style=\"display:none;\">\n",
              "\n",
              "<svg xmlns=\"http://www.w3.org/2000/svg\" height=\"24px\"viewBox=\"0 0 24 24\"\n",
              "     width=\"24px\">\n",
              "    <g>\n",
              "        <path d=\"M19 3H5c-1.1 0-2 .9-2 2v14c0 1.1.9 2 2 2h14c1.1 0 2-.9 2-2V5c0-1.1-.9-2-2-2zM9 17H7v-7h2v7zm4 0h-2V7h2v10zm4 0h-2v-4h2v4z\"/>\n",
              "    </g>\n",
              "</svg>\n",
              "  </button>\n",
              "\n",
              "<style>\n",
              "  .colab-df-quickchart {\n",
              "      --bg-color: #E8F0FE;\n",
              "      --fill-color: #1967D2;\n",
              "      --hover-bg-color: #E2EBFA;\n",
              "      --hover-fill-color: #174EA6;\n",
              "      --disabled-fill-color: #AAA;\n",
              "      --disabled-bg-color: #DDD;\n",
              "  }\n",
              "\n",
              "  [theme=dark] .colab-df-quickchart {\n",
              "      --bg-color: #3B4455;\n",
              "      --fill-color: #D2E3FC;\n",
              "      --hover-bg-color: #434B5C;\n",
              "      --hover-fill-color: #FFFFFF;\n",
              "      --disabled-bg-color: #3B4455;\n",
              "      --disabled-fill-color: #666;\n",
              "  }\n",
              "\n",
              "  .colab-df-quickchart {\n",
              "    background-color: var(--bg-color);\n",
              "    border: none;\n",
              "    border-radius: 50%;\n",
              "    cursor: pointer;\n",
              "    display: none;\n",
              "    fill: var(--fill-color);\n",
              "    height: 32px;\n",
              "    padding: 0;\n",
              "    width: 32px;\n",
              "  }\n",
              "\n",
              "  .colab-df-quickchart:hover {\n",
              "    background-color: var(--hover-bg-color);\n",
              "    box-shadow: 0 1px 2px rgba(60, 64, 67, 0.3), 0 1px 3px 1px rgba(60, 64, 67, 0.15);\n",
              "    fill: var(--button-hover-fill-color);\n",
              "  }\n",
              "\n",
              "  .colab-df-quickchart-complete:disabled,\n",
              "  .colab-df-quickchart-complete:disabled:hover {\n",
              "    background-color: var(--disabled-bg-color);\n",
              "    fill: var(--disabled-fill-color);\n",
              "    box-shadow: none;\n",
              "  }\n",
              "\n",
              "  .colab-df-spinner {\n",
              "    border: 2px solid var(--fill-color);\n",
              "    border-color: transparent;\n",
              "    border-bottom-color: var(--fill-color);\n",
              "    animation:\n",
              "      spin 1s steps(1) infinite;\n",
              "  }\n",
              "\n",
              "  @keyframes spin {\n",
              "    0% {\n",
              "      border-color: transparent;\n",
              "      border-bottom-color: var(--fill-color);\n",
              "      border-left-color: var(--fill-color);\n",
              "    }\n",
              "    20% {\n",
              "      border-color: transparent;\n",
              "      border-left-color: var(--fill-color);\n",
              "      border-top-color: var(--fill-color);\n",
              "    }\n",
              "    30% {\n",
              "      border-color: transparent;\n",
              "      border-left-color: var(--fill-color);\n",
              "      border-top-color: var(--fill-color);\n",
              "      border-right-color: var(--fill-color);\n",
              "    }\n",
              "    40% {\n",
              "      border-color: transparent;\n",
              "      border-right-color: var(--fill-color);\n",
              "      border-top-color: var(--fill-color);\n",
              "    }\n",
              "    60% {\n",
              "      border-color: transparent;\n",
              "      border-right-color: var(--fill-color);\n",
              "    }\n",
              "    80% {\n",
              "      border-color: transparent;\n",
              "      border-right-color: var(--fill-color);\n",
              "      border-bottom-color: var(--fill-color);\n",
              "    }\n",
              "    90% {\n",
              "      border-color: transparent;\n",
              "      border-bottom-color: var(--fill-color);\n",
              "    }\n",
              "  }\n",
              "</style>\n",
              "\n",
              "  <script>\n",
              "    async function quickchart(key) {\n",
              "      const quickchartButtonEl =\n",
              "        document.querySelector('#' + key + ' button');\n",
              "      quickchartButtonEl.disabled = true;  // To prevent multiple clicks.\n",
              "      quickchartButtonEl.classList.add('colab-df-spinner');\n",
              "      try {\n",
              "        const charts = await google.colab.kernel.invokeFunction(\n",
              "            'suggestCharts', [key], {});\n",
              "      } catch (error) {\n",
              "        console.error('Error during call to suggestCharts:', error);\n",
              "      }\n",
              "      quickchartButtonEl.classList.remove('colab-df-spinner');\n",
              "      quickchartButtonEl.classList.add('colab-df-quickchart-complete');\n",
              "    }\n",
              "    (() => {\n",
              "      let quickchartButtonEl =\n",
              "        document.querySelector('#df-1c68ec55-4082-4c8f-bec3-3b6ea74704c6 button');\n",
              "      quickchartButtonEl.style.display =\n",
              "        google.colab.kernel.accessAllowed ? 'block' : 'none';\n",
              "    })();\n",
              "  </script>\n",
              "</div>\n",
              "    </div>\n",
              "  </div>\n"
            ],
            "application/vnd.google.colaboratory.intrinsic+json": {
              "type": "dataframe",
              "variable_name": "data",
              "summary": "{\n  \"name\": \"data\",\n  \"rows\": 260,\n  \"fields\": [\n    {\n      \"column\": \"date_local\",\n      \"properties\": {\n        \"dtype\": \"object\",\n        \"num_unique_values\": 1,\n        \"samples\": [\n          \"2018-01-01\"\n        ],\n        \"semantic_type\": \"\",\n        \"description\": \"\"\n      }\n    },\n    {\n      \"column\": \"state_name\",\n      \"properties\": {\n        \"dtype\": \"category\",\n        \"num_unique_values\": 52,\n        \"samples\": [\n          \"New Jersey\"\n        ],\n        \"semantic_type\": \"\",\n        \"description\": \"\"\n      }\n    },\n    {\n      \"column\": \"county_name\",\n      \"properties\": {\n        \"dtype\": \"string\",\n        \"num_unique_values\": 149,\n        \"samples\": [\n          \"El Paso\"\n        ],\n        \"semantic_type\": \"\",\n        \"description\": \"\"\n      }\n    },\n    {\n      \"column\": \"city_name\",\n      \"properties\": {\n        \"dtype\": \"string\",\n        \"num_unique_values\": 190,\n        \"samples\": [\n          \"Valrico\"\n        ],\n        \"semantic_type\": \"\",\n        \"description\": \"\"\n      }\n    },\n    {\n      \"column\": \"local_site_name\",\n      \"properties\": {\n        \"dtype\": \"string\",\n        \"num_unique_values\": 253,\n        \"samples\": [\n          \"Los Flores Canyon #1\"\n        ],\n        \"semantic_type\": \"\",\n        \"description\": \"\"\n      }\n    },\n    {\n      \"column\": \"parameter_name\",\n      \"properties\": {\n        \"dtype\": \"category\",\n        \"num_unique_values\": 1,\n        \"samples\": [\n          \"Carbon monoxide\"\n        ],\n        \"semantic_type\": \"\",\n        \"description\": \"\"\n      }\n    },\n    {\n      \"column\": \"units_of_measure\",\n      \"properties\": {\n        \"dtype\": \"category\",\n        \"num_unique_values\": 1,\n        \"samples\": [\n          \"Parts per million\"\n        ],\n        \"semantic_type\": \"\",\n        \"description\": \"\"\n      }\n    },\n    {\n      \"column\": \"aqi_log\",\n      \"properties\": {\n        \"dtype\": \"number\",\n        \"std\": 0.7147155520223721,\n        \"min\": 0.0,\n        \"max\": 3.9318256327243257,\n        \"num_unique_values\": 29,\n        \"samples\": [\n          3.367295829986474\n        ],\n        \"semantic_type\": \"\",\n        \"description\": \"\"\n      }\n    },\n    {\n      \"column\": \"z_score\",\n      \"properties\": {\n        \"dtype\": \"number\",\n        \"std\": 0.9999999999999999,\n        \"min\": -2.4722018263053687,\n        \"max\": 3.0290435594970813,\n        \"num_unique_values\": 29,\n        \"samples\": [\n          2.2391771558062037\n        ],\n        \"semantic_type\": \"\",\n        \"description\": \"\"\n      }\n    }\n  ]\n}"
            }
          },
          "metadata": {},
          "execution_count": 25
        }
      ]
    },
    {
      "cell_type": "markdown",
      "source": [
        "### Identify outliers\n",
        "Identify the parts of the data where aqi_log is above or below 3 standard deviations of the mean."
      ],
      "metadata": {
        "id": "hYyI6MNXE2dq"
      }
    },
    {
      "cell_type": "code",
      "source": [
        "# Display data where `aqi_log` is above or below 3 standard deviations of the mean\n",
        "\n",
        "data[(data[\"z_score\"] > 3) | (data[\"z_score\"] < -3)]"
      ],
      "metadata": {
        "colab": {
          "base_uri": "https://localhost:8080/",
          "height": 100
        },
        "id": "LTMn9ANeE9MH",
        "outputId": "1c6c5dae-ffa8-4465-e8c4-2110d2ca91d6"
      },
      "execution_count": null,
      "outputs": [
        {
          "output_type": "execute_result",
          "data": {
            "text/plain": [
              "     date_local state_name county_name city_name local_site_name  \\\n",
              "244  2018-01-01    Arizona    Maricopa   Phoenix    WEST PHOENIX   \n",
              "\n",
              "      parameter_name   units_of_measure   aqi_log   z_score  \n",
              "244  Carbon monoxide  Parts per million  3.931826  3.029044  "
            ],
            "text/html": [
              "\n",
              "  <div id=\"df-6bacd98e-af25-417d-9a56-6cc7ce857ee5\" class=\"colab-df-container\">\n",
              "    <div>\n",
              "<style scoped>\n",
              "    .dataframe tbody tr th:only-of-type {\n",
              "        vertical-align: middle;\n",
              "    }\n",
              "\n",
              "    .dataframe tbody tr th {\n",
              "        vertical-align: top;\n",
              "    }\n",
              "\n",
              "    .dataframe thead th {\n",
              "        text-align: right;\n",
              "    }\n",
              "</style>\n",
              "<table border=\"1\" class=\"dataframe\">\n",
              "  <thead>\n",
              "    <tr style=\"text-align: right;\">\n",
              "      <th></th>\n",
              "      <th>date_local</th>\n",
              "      <th>state_name</th>\n",
              "      <th>county_name</th>\n",
              "      <th>city_name</th>\n",
              "      <th>local_site_name</th>\n",
              "      <th>parameter_name</th>\n",
              "      <th>units_of_measure</th>\n",
              "      <th>aqi_log</th>\n",
              "      <th>z_score</th>\n",
              "    </tr>\n",
              "  </thead>\n",
              "  <tbody>\n",
              "    <tr>\n",
              "      <th>244</th>\n",
              "      <td>2018-01-01</td>\n",
              "      <td>Arizona</td>\n",
              "      <td>Maricopa</td>\n",
              "      <td>Phoenix</td>\n",
              "      <td>WEST PHOENIX</td>\n",
              "      <td>Carbon monoxide</td>\n",
              "      <td>Parts per million</td>\n",
              "      <td>3.931826</td>\n",
              "      <td>3.029044</td>\n",
              "    </tr>\n",
              "  </tbody>\n",
              "</table>\n",
              "</div>\n",
              "    <div class=\"colab-df-buttons\">\n",
              "\n",
              "  <div class=\"colab-df-container\">\n",
              "    <button class=\"colab-df-convert\" onclick=\"convertToInteractive('df-6bacd98e-af25-417d-9a56-6cc7ce857ee5')\"\n",
              "            title=\"Convert this dataframe to an interactive table.\"\n",
              "            style=\"display:none;\">\n",
              "\n",
              "  <svg xmlns=\"http://www.w3.org/2000/svg\" height=\"24px\" viewBox=\"0 -960 960 960\">\n",
              "    <path d=\"M120-120v-720h720v720H120Zm60-500h600v-160H180v160Zm220 220h160v-160H400v160Zm0 220h160v-160H400v160ZM180-400h160v-160H180v160Zm440 0h160v-160H620v160ZM180-180h160v-160H180v160Zm440 0h160v-160H620v160Z\"/>\n",
              "  </svg>\n",
              "    </button>\n",
              "\n",
              "  <style>\n",
              "    .colab-df-container {\n",
              "      display:flex;\n",
              "      gap: 12px;\n",
              "    }\n",
              "\n",
              "    .colab-df-convert {\n",
              "      background-color: #E8F0FE;\n",
              "      border: none;\n",
              "      border-radius: 50%;\n",
              "      cursor: pointer;\n",
              "      display: none;\n",
              "      fill: #1967D2;\n",
              "      height: 32px;\n",
              "      padding: 0 0 0 0;\n",
              "      width: 32px;\n",
              "    }\n",
              "\n",
              "    .colab-df-convert:hover {\n",
              "      background-color: #E2EBFA;\n",
              "      box-shadow: 0px 1px 2px rgba(60, 64, 67, 0.3), 0px 1px 3px 1px rgba(60, 64, 67, 0.15);\n",
              "      fill: #174EA6;\n",
              "    }\n",
              "\n",
              "    .colab-df-buttons div {\n",
              "      margin-bottom: 4px;\n",
              "    }\n",
              "\n",
              "    [theme=dark] .colab-df-convert {\n",
              "      background-color: #3B4455;\n",
              "      fill: #D2E3FC;\n",
              "    }\n",
              "\n",
              "    [theme=dark] .colab-df-convert:hover {\n",
              "      background-color: #434B5C;\n",
              "      box-shadow: 0px 1px 3px 1px rgba(0, 0, 0, 0.15);\n",
              "      filter: drop-shadow(0px 1px 2px rgba(0, 0, 0, 0.3));\n",
              "      fill: #FFFFFF;\n",
              "    }\n",
              "  </style>\n",
              "\n",
              "    <script>\n",
              "      const buttonEl =\n",
              "        document.querySelector('#df-6bacd98e-af25-417d-9a56-6cc7ce857ee5 button.colab-df-convert');\n",
              "      buttonEl.style.display =\n",
              "        google.colab.kernel.accessAllowed ? 'block' : 'none';\n",
              "\n",
              "      async function convertToInteractive(key) {\n",
              "        const element = document.querySelector('#df-6bacd98e-af25-417d-9a56-6cc7ce857ee5');\n",
              "        const dataTable =\n",
              "          await google.colab.kernel.invokeFunction('convertToInteractive',\n",
              "                                                    [key], {});\n",
              "        if (!dataTable) return;\n",
              "\n",
              "        const docLinkHtml = 'Like what you see? Visit the ' +\n",
              "          '<a target=\"_blank\" href=https://colab.research.google.com/notebooks/data_table.ipynb>data table notebook</a>'\n",
              "          + ' to learn more about interactive tables.';\n",
              "        element.innerHTML = '';\n",
              "        dataTable['output_type'] = 'display_data';\n",
              "        await google.colab.output.renderOutput(dataTable, element);\n",
              "        const docLink = document.createElement('div');\n",
              "        docLink.innerHTML = docLinkHtml;\n",
              "        element.appendChild(docLink);\n",
              "      }\n",
              "    </script>\n",
              "  </div>\n",
              "\n",
              "    </div>\n",
              "  </div>\n"
            ],
            "application/vnd.google.colaboratory.intrinsic+json": {
              "type": "dataframe",
              "repr_error": "0"
            }
          },
          "metadata": {},
          "execution_count": 26
        }
      ]
    },
    {
      "cell_type": "markdown",
      "source": [
        "**Question: Why is outlier detection an important part of this project?**\n",
        "\n",
        "  - Detecting outliers is important because they can reveal two important things, depending on the context: First, they can identify measurements that were taken incorrectly. Second, they can highlight parts of the data that can be focused on to make improvements."
      ],
      "metadata": {
        "id": "9DHO-axxFDBg"
      }
    },
    {
      "cell_type": "markdown",
      "source": [
        "# Sampling with Python"
      ],
      "metadata": {
        "id": "7391sqKkZ8NA"
      }
    },
    {
      "cell_type": "code",
      "source": [
        "import numpy as np\n",
        "import pandas as pd\n",
        "import matplotlib.pyplot as plt\n",
        "from scipy import stats\n",
        "import statsmodels.api as sm"
      ],
      "metadata": {
        "id": "1TTJYcN_Z-P2"
      },
      "execution_count": null,
      "outputs": []
    },
    {
      "cell_type": "code",
      "source": [
        "education_districtwise = pd.read_csv('education_districtwise.csv')\n",
        "education_districtwise = education_districtwise.dropna()"
      ],
      "metadata": {
        "id": "ojdRPPO2asGX"
      },
      "execution_count": null,
      "outputs": []
    },
    {
      "cell_type": "markdown",
      "source": [
        "## Simulate random sampling\n",
        "You can use Python to simulate taking a random sample of 50 districts from your dataset.\n",
        "\n",
        "To do this, use **pandas.DataFrame.sample()**. The following arguments in the **sample()** function will help you simulate random sampling:\n",
        "\n",
        "  - n: Refers to the desired sample size\n",
        "  - replace: Indicates whether you are sampling with or without replacement\n",
        "  - random_state: Refers to the seed of the random number\n",
        "\n",
        "**Note**: A random seed is a starting point for generating random numbers. You can use any arbitrary number to fix the random seed, and give the random number generator a starting point. Also, going forward, you can use the same random seed to generate the same set of numbers."
      ],
      "metadata": {
        "id": "Eg45ryO8bI8q"
      }
    },
    {
      "cell_type": "markdown",
      "source": [
        "Now you’re ready to write your code. First, name a new variable **sampled_data**. Then, set the arguments for the **sample()** function:\n",
        "\n",
        "  - **n**: You're sampling from **50** districts, so your sample size is 50.\n",
        "  - **replace**: For the purpose of our example, you'll sample with replacement. **True** indicates sampling with replacement.\n",
        "  - **random_state**: Choose an arbitrary number for your random seed. Say, **31208**."
      ],
      "metadata": {
        "id": "QBgBhuxrb7d8"
      }
    },
    {
      "cell_type": "code",
      "source": [
        "sampled_data = education_districtwise.sample(n=50, replace=True, random_state=31208)\n",
        "sampled_data"
      ],
      "metadata": {
        "colab": {
          "base_uri": "https://localhost:8080/",
          "height": 1000
        },
        "id": "BE8HHFifcTh0",
        "outputId": "a0d2a227-1e9e-4905-a3b0-fced92b3c60c"
      },
      "execution_count": null,
      "outputs": [
        {
          "output_type": "execute_result",
          "data": {
            "text/plain": [
              "        DISTNAME STATNAME  BLOCKS  VILLAGES  CLUSTERS  TOTPOPULAT  OVERALL_LI\n",
              "661  DISTRICT528   STATE6       9       112        89   1863174.0       92.14\n",
              "216  DISTRICT291  STATE28      14      1188       165   3273127.0       52.49\n",
              "367   DISTRICT66  STATE23      12      1169       116   1042304.0       62.14\n",
              "254  DISTRICT458   STATE3       3       157        19     82839.0       76.33\n",
              "286  DISTRICT636  STATE35       3       187        44    514683.0       86.70\n",
              "369  DISTRICT512  STATE23       6       589        30    717169.0       68.35\n",
              "258  DISTRICT156   STATE3       6        80         9     35289.0       59.94\n",
              "10   DISTRICT412   STATE1      11       187        95    476820.0       68.69\n",
              "512  DISTRICT277   STATE9      10       558       179   2298934.0       84.31\n",
              "144  DISTRICT133  STATE21      14      1672       136   3673849.0       69.61\n",
              "325    DISTRICT1  STATE33       4       534        98    957853.0       69.37\n",
              "227  DISTRICT159  STATE28      18       870       134   2954367.0       66.23\n",
              "86   DISTRICT667  STATE25       5       396        75    896129.0       82.23\n",
              "425  DISTRICT144  STATE31       7      1064       108   2662077.0       71.59\n",
              "260  DISTRICT305   STATE3       2        62         6    145538.0       69.88\n",
              "281  DISTRICT385  STATE35       6       531        30    354972.0       75.00\n",
              "262  DISTRICT552   STATE3       3       103         4    111997.0       52.23\n",
              "253  DISTRICT168   STATE3       5       312        16    176385.0       82.14\n",
              "301  DISTRICT551  STATE14       9       103        63    693281.0       88.29\n",
              "356  DISTRICT494  STATE34      25      2179       223   3596292.0       70.95\n",
              "165  DISTRICT196  STATE21      10      1354       119   1795092.0       77.52\n",
              "565  DISTRICT308  STATE17       8       721       144    848868.0       86.54\n",
              "388  DISTRICT281  STATE23       6       392        58    949159.0       73.92\n",
              "461  DISTRICT619  STATE22       5       859        57   1064989.0       68.36\n",
              "384  DISTRICT455  STATE23       9      1217        55   1063458.0       68.85\n",
              "590   DISTRICT70  STATE20       7       427        84   1846993.0       80.30\n",
              "343  DISTRICT354  STATE33       2       192        46   1260419.0       88.66\n",
              "539  DISTRICT440  STATE17      15      1465       167   2887826.0       88.23\n",
              "459  DISTRICT431  STATE22       9      1778       143   2363744.0       73.42\n",
              "667  DISTRICT123  STATE11       3        80        16    237586.0       88.49\n",
              "387  DISTRICT231  STATE23       6       657        63    530299.0       64.51\n",
              "306   DISTRICT37   STATE4       7      1083        92    642923.0       68.38\n",
              "213  DISTRICT347  STATE28      11       623        94   2228397.0       59.65\n",
              "97    DISTRICT22   STATE2       7       182         7   2531583.0       87.12\n",
              "78   DISTRICT247  STATE25       7       314        60   1332042.0       72.73\n",
              "394  DISTRICT640  STATE24      17      1857       191   1802777.0       69.00\n",
              "184  DISTRICT596  STATE21      11      1281       108   2149066.0       51.76\n",
              "147  DISTRICT335  STATE21      17      1945       138   4380793.0       69.44\n",
              "542  DISTRICT489  STATE17       7       749        63   1198810.0       85.14\n",
              "105  DISTRICT157  STATE13      14      1994       508   3671999.0       71.68\n",
              "254  DISTRICT458   STATE3       3       157        19     82839.0       76.33\n",
              "109  DISTRICT158  STATE13       6       769       211   1338114.0       66.19\n",
              "609   DISTRICT17  STATE20       4       359        59   9588910.0       88.48\n",
              "53   DISTRICT126  STATE26       3       197        21    596294.0       68.90\n",
              "81    DISTRICT45  STATE25       9       351       130   1742815.0       73.24\n",
              "516  DISTRICT300   STATE9       5       651        84    590379.0       73.29\n",
              "641  DISTRICT484   STATE6      15       333        83   1721179.0       74.92\n",
              "650  DISTRICT145   STATE6      11       489       100   1614069.0       84.09\n",
              "70    DISTRICT99  STATE25       4       279        43    558890.0       83.44\n",
              "163  DISTRICT366  STATE21       9      1330        86   1579160.0       79.99"
            ],
            "text/html": [
              "\n",
              "  <div id=\"df-a55ca5e9-4728-4f13-aee1-a7fd91b90c69\" class=\"colab-df-container\">\n",
              "    <div>\n",
              "<style scoped>\n",
              "    .dataframe tbody tr th:only-of-type {\n",
              "        vertical-align: middle;\n",
              "    }\n",
              "\n",
              "    .dataframe tbody tr th {\n",
              "        vertical-align: top;\n",
              "    }\n",
              "\n",
              "    .dataframe thead th {\n",
              "        text-align: right;\n",
              "    }\n",
              "</style>\n",
              "<table border=\"1\" class=\"dataframe\">\n",
              "  <thead>\n",
              "    <tr style=\"text-align: right;\">\n",
              "      <th></th>\n",
              "      <th>DISTNAME</th>\n",
              "      <th>STATNAME</th>\n",
              "      <th>BLOCKS</th>\n",
              "      <th>VILLAGES</th>\n",
              "      <th>CLUSTERS</th>\n",
              "      <th>TOTPOPULAT</th>\n",
              "      <th>OVERALL_LI</th>\n",
              "    </tr>\n",
              "  </thead>\n",
              "  <tbody>\n",
              "    <tr>\n",
              "      <th>661</th>\n",
              "      <td>DISTRICT528</td>\n",
              "      <td>STATE6</td>\n",
              "      <td>9</td>\n",
              "      <td>112</td>\n",
              "      <td>89</td>\n",
              "      <td>1863174.0</td>\n",
              "      <td>92.14</td>\n",
              "    </tr>\n",
              "    <tr>\n",
              "      <th>216</th>\n",
              "      <td>DISTRICT291</td>\n",
              "      <td>STATE28</td>\n",
              "      <td>14</td>\n",
              "      <td>1188</td>\n",
              "      <td>165</td>\n",
              "      <td>3273127.0</td>\n",
              "      <td>52.49</td>\n",
              "    </tr>\n",
              "    <tr>\n",
              "      <th>367</th>\n",
              "      <td>DISTRICT66</td>\n",
              "      <td>STATE23</td>\n",
              "      <td>12</td>\n",
              "      <td>1169</td>\n",
              "      <td>116</td>\n",
              "      <td>1042304.0</td>\n",
              "      <td>62.14</td>\n",
              "    </tr>\n",
              "    <tr>\n",
              "      <th>254</th>\n",
              "      <td>DISTRICT458</td>\n",
              "      <td>STATE3</td>\n",
              "      <td>3</td>\n",
              "      <td>157</td>\n",
              "      <td>19</td>\n",
              "      <td>82839.0</td>\n",
              "      <td>76.33</td>\n",
              "    </tr>\n",
              "    <tr>\n",
              "      <th>286</th>\n",
              "      <td>DISTRICT636</td>\n",
              "      <td>STATE35</td>\n",
              "      <td>3</td>\n",
              "      <td>187</td>\n",
              "      <td>44</td>\n",
              "      <td>514683.0</td>\n",
              "      <td>86.70</td>\n",
              "    </tr>\n",
              "    <tr>\n",
              "      <th>369</th>\n",
              "      <td>DISTRICT512</td>\n",
              "      <td>STATE23</td>\n",
              "      <td>6</td>\n",
              "      <td>589</td>\n",
              "      <td>30</td>\n",
              "      <td>717169.0</td>\n",
              "      <td>68.35</td>\n",
              "    </tr>\n",
              "    <tr>\n",
              "      <th>258</th>\n",
              "      <td>DISTRICT156</td>\n",
              "      <td>STATE3</td>\n",
              "      <td>6</td>\n",
              "      <td>80</td>\n",
              "      <td>9</td>\n",
              "      <td>35289.0</td>\n",
              "      <td>59.94</td>\n",
              "    </tr>\n",
              "    <tr>\n",
              "      <th>10</th>\n",
              "      <td>DISTRICT412</td>\n",
              "      <td>STATE1</td>\n",
              "      <td>11</td>\n",
              "      <td>187</td>\n",
              "      <td>95</td>\n",
              "      <td>476820.0</td>\n",
              "      <td>68.69</td>\n",
              "    </tr>\n",
              "    <tr>\n",
              "      <th>512</th>\n",
              "      <td>DISTRICT277</td>\n",
              "      <td>STATE9</td>\n",
              "      <td>10</td>\n",
              "      <td>558</td>\n",
              "      <td>179</td>\n",
              "      <td>2298934.0</td>\n",
              "      <td>84.31</td>\n",
              "    </tr>\n",
              "    <tr>\n",
              "      <th>144</th>\n",
              "      <td>DISTRICT133</td>\n",
              "      <td>STATE21</td>\n",
              "      <td>14</td>\n",
              "      <td>1672</td>\n",
              "      <td>136</td>\n",
              "      <td>3673849.0</td>\n",
              "      <td>69.61</td>\n",
              "    </tr>\n",
              "    <tr>\n",
              "      <th>325</th>\n",
              "      <td>DISTRICT1</td>\n",
              "      <td>STATE33</td>\n",
              "      <td>4</td>\n",
              "      <td>534</td>\n",
              "      <td>98</td>\n",
              "      <td>957853.0</td>\n",
              "      <td>69.37</td>\n",
              "    </tr>\n",
              "    <tr>\n",
              "      <th>227</th>\n",
              "      <td>DISTRICT159</td>\n",
              "      <td>STATE28</td>\n",
              "      <td>18</td>\n",
              "      <td>870</td>\n",
              "      <td>134</td>\n",
              "      <td>2954367.0</td>\n",
              "      <td>66.23</td>\n",
              "    </tr>\n",
              "    <tr>\n",
              "      <th>86</th>\n",
              "      <td>DISTRICT667</td>\n",
              "      <td>STATE25</td>\n",
              "      <td>5</td>\n",
              "      <td>396</td>\n",
              "      <td>75</td>\n",
              "      <td>896129.0</td>\n",
              "      <td>82.23</td>\n",
              "    </tr>\n",
              "    <tr>\n",
              "      <th>425</th>\n",
              "      <td>DISTRICT144</td>\n",
              "      <td>STATE31</td>\n",
              "      <td>7</td>\n",
              "      <td>1064</td>\n",
              "      <td>108</td>\n",
              "      <td>2662077.0</td>\n",
              "      <td>71.59</td>\n",
              "    </tr>\n",
              "    <tr>\n",
              "      <th>260</th>\n",
              "      <td>DISTRICT305</td>\n",
              "      <td>STATE3</td>\n",
              "      <td>2</td>\n",
              "      <td>62</td>\n",
              "      <td>6</td>\n",
              "      <td>145538.0</td>\n",
              "      <td>69.88</td>\n",
              "    </tr>\n",
              "    <tr>\n",
              "      <th>281</th>\n",
              "      <td>DISTRICT385</td>\n",
              "      <td>STATE35</td>\n",
              "      <td>6</td>\n",
              "      <td>531</td>\n",
              "      <td>30</td>\n",
              "      <td>354972.0</td>\n",
              "      <td>75.00</td>\n",
              "    </tr>\n",
              "    <tr>\n",
              "      <th>262</th>\n",
              "      <td>DISTRICT552</td>\n",
              "      <td>STATE3</td>\n",
              "      <td>3</td>\n",
              "      <td>103</td>\n",
              "      <td>4</td>\n",
              "      <td>111997.0</td>\n",
              "      <td>52.23</td>\n",
              "    </tr>\n",
              "    <tr>\n",
              "      <th>253</th>\n",
              "      <td>DISTRICT168</td>\n",
              "      <td>STATE3</td>\n",
              "      <td>5</td>\n",
              "      <td>312</td>\n",
              "      <td>16</td>\n",
              "      <td>176385.0</td>\n",
              "      <td>82.14</td>\n",
              "    </tr>\n",
              "    <tr>\n",
              "      <th>301</th>\n",
              "      <td>DISTRICT551</td>\n",
              "      <td>STATE14</td>\n",
              "      <td>9</td>\n",
              "      <td>103</td>\n",
              "      <td>63</td>\n",
              "      <td>693281.0</td>\n",
              "      <td>88.29</td>\n",
              "    </tr>\n",
              "    <tr>\n",
              "      <th>356</th>\n",
              "      <td>DISTRICT494</td>\n",
              "      <td>STATE34</td>\n",
              "      <td>25</td>\n",
              "      <td>2179</td>\n",
              "      <td>223</td>\n",
              "      <td>3596292.0</td>\n",
              "      <td>70.95</td>\n",
              "    </tr>\n",
              "    <tr>\n",
              "      <th>165</th>\n",
              "      <td>DISTRICT196</td>\n",
              "      <td>STATE21</td>\n",
              "      <td>10</td>\n",
              "      <td>1354</td>\n",
              "      <td>119</td>\n",
              "      <td>1795092.0</td>\n",
              "      <td>77.52</td>\n",
              "    </tr>\n",
              "    <tr>\n",
              "      <th>565</th>\n",
              "      <td>DISTRICT308</td>\n",
              "      <td>STATE17</td>\n",
              "      <td>8</td>\n",
              "      <td>721</td>\n",
              "      <td>144</td>\n",
              "      <td>848868.0</td>\n",
              "      <td>86.54</td>\n",
              "    </tr>\n",
              "    <tr>\n",
              "      <th>388</th>\n",
              "      <td>DISTRICT281</td>\n",
              "      <td>STATE23</td>\n",
              "      <td>6</td>\n",
              "      <td>392</td>\n",
              "      <td>58</td>\n",
              "      <td>949159.0</td>\n",
              "      <td>73.92</td>\n",
              "    </tr>\n",
              "    <tr>\n",
              "      <th>461</th>\n",
              "      <td>DISTRICT619</td>\n",
              "      <td>STATE22</td>\n",
              "      <td>5</td>\n",
              "      <td>859</td>\n",
              "      <td>57</td>\n",
              "      <td>1064989.0</td>\n",
              "      <td>68.36</td>\n",
              "    </tr>\n",
              "    <tr>\n",
              "      <th>384</th>\n",
              "      <td>DISTRICT455</td>\n",
              "      <td>STATE23</td>\n",
              "      <td>9</td>\n",
              "      <td>1217</td>\n",
              "      <td>55</td>\n",
              "      <td>1063458.0</td>\n",
              "      <td>68.85</td>\n",
              "    </tr>\n",
              "    <tr>\n",
              "      <th>590</th>\n",
              "      <td>DISTRICT70</td>\n",
              "      <td>STATE20</td>\n",
              "      <td>7</td>\n",
              "      <td>427</td>\n",
              "      <td>84</td>\n",
              "      <td>1846993.0</td>\n",
              "      <td>80.30</td>\n",
              "    </tr>\n",
              "    <tr>\n",
              "      <th>343</th>\n",
              "      <td>DISTRICT354</td>\n",
              "      <td>STATE33</td>\n",
              "      <td>2</td>\n",
              "      <td>192</td>\n",
              "      <td>46</td>\n",
              "      <td>1260419.0</td>\n",
              "      <td>88.66</td>\n",
              "    </tr>\n",
              "    <tr>\n",
              "      <th>539</th>\n",
              "      <td>DISTRICT440</td>\n",
              "      <td>STATE17</td>\n",
              "      <td>15</td>\n",
              "      <td>1465</td>\n",
              "      <td>167</td>\n",
              "      <td>2887826.0</td>\n",
              "      <td>88.23</td>\n",
              "    </tr>\n",
              "    <tr>\n",
              "      <th>459</th>\n",
              "      <td>DISTRICT431</td>\n",
              "      <td>STATE22</td>\n",
              "      <td>9</td>\n",
              "      <td>1778</td>\n",
              "      <td>143</td>\n",
              "      <td>2363744.0</td>\n",
              "      <td>73.42</td>\n",
              "    </tr>\n",
              "    <tr>\n",
              "      <th>667</th>\n",
              "      <td>DISTRICT123</td>\n",
              "      <td>STATE11</td>\n",
              "      <td>3</td>\n",
              "      <td>80</td>\n",
              "      <td>16</td>\n",
              "      <td>237586.0</td>\n",
              "      <td>88.49</td>\n",
              "    </tr>\n",
              "    <tr>\n",
              "      <th>387</th>\n",
              "      <td>DISTRICT231</td>\n",
              "      <td>STATE23</td>\n",
              "      <td>6</td>\n",
              "      <td>657</td>\n",
              "      <td>63</td>\n",
              "      <td>530299.0</td>\n",
              "      <td>64.51</td>\n",
              "    </tr>\n",
              "    <tr>\n",
              "      <th>306</th>\n",
              "      <td>DISTRICT37</td>\n",
              "      <td>STATE4</td>\n",
              "      <td>7</td>\n",
              "      <td>1083</td>\n",
              "      <td>92</td>\n",
              "      <td>642923.0</td>\n",
              "      <td>68.38</td>\n",
              "    </tr>\n",
              "    <tr>\n",
              "      <th>213</th>\n",
              "      <td>DISTRICT347</td>\n",
              "      <td>STATE28</td>\n",
              "      <td>11</td>\n",
              "      <td>623</td>\n",
              "      <td>94</td>\n",
              "      <td>2228397.0</td>\n",
              "      <td>59.65</td>\n",
              "    </tr>\n",
              "    <tr>\n",
              "      <th>97</th>\n",
              "      <td>DISTRICT22</td>\n",
              "      <td>STATE2</td>\n",
              "      <td>7</td>\n",
              "      <td>182</td>\n",
              "      <td>7</td>\n",
              "      <td>2531583.0</td>\n",
              "      <td>87.12</td>\n",
              "    </tr>\n",
              "    <tr>\n",
              "      <th>78</th>\n",
              "      <td>DISTRICT247</td>\n",
              "      <td>STATE25</td>\n",
              "      <td>7</td>\n",
              "      <td>314</td>\n",
              "      <td>60</td>\n",
              "      <td>1332042.0</td>\n",
              "      <td>72.73</td>\n",
              "    </tr>\n",
              "    <tr>\n",
              "      <th>394</th>\n",
              "      <td>DISTRICT640</td>\n",
              "      <td>STATE24</td>\n",
              "      <td>17</td>\n",
              "      <td>1857</td>\n",
              "      <td>191</td>\n",
              "      <td>1802777.0</td>\n",
              "      <td>69.00</td>\n",
              "    </tr>\n",
              "    <tr>\n",
              "      <th>184</th>\n",
              "      <td>DISTRICT596</td>\n",
              "      <td>STATE21</td>\n",
              "      <td>11</td>\n",
              "      <td>1281</td>\n",
              "      <td>108</td>\n",
              "      <td>2149066.0</td>\n",
              "      <td>51.76</td>\n",
              "    </tr>\n",
              "    <tr>\n",
              "      <th>147</th>\n",
              "      <td>DISTRICT335</td>\n",
              "      <td>STATE21</td>\n",
              "      <td>17</td>\n",
              "      <td>1945</td>\n",
              "      <td>138</td>\n",
              "      <td>4380793.0</td>\n",
              "      <td>69.44</td>\n",
              "    </tr>\n",
              "    <tr>\n",
              "      <th>542</th>\n",
              "      <td>DISTRICT489</td>\n",
              "      <td>STATE17</td>\n",
              "      <td>7</td>\n",
              "      <td>749</td>\n",
              "      <td>63</td>\n",
              "      <td>1198810.0</td>\n",
              "      <td>85.14</td>\n",
              "    </tr>\n",
              "    <tr>\n",
              "      <th>105</th>\n",
              "      <td>DISTRICT157</td>\n",
              "      <td>STATE13</td>\n",
              "      <td>14</td>\n",
              "      <td>1994</td>\n",
              "      <td>508</td>\n",
              "      <td>3671999.0</td>\n",
              "      <td>71.68</td>\n",
              "    </tr>\n",
              "    <tr>\n",
              "      <th>254</th>\n",
              "      <td>DISTRICT458</td>\n",
              "      <td>STATE3</td>\n",
              "      <td>3</td>\n",
              "      <td>157</td>\n",
              "      <td>19</td>\n",
              "      <td>82839.0</td>\n",
              "      <td>76.33</td>\n",
              "    </tr>\n",
              "    <tr>\n",
              "      <th>109</th>\n",
              "      <td>DISTRICT158</td>\n",
              "      <td>STATE13</td>\n",
              "      <td>6</td>\n",
              "      <td>769</td>\n",
              "      <td>211</td>\n",
              "      <td>1338114.0</td>\n",
              "      <td>66.19</td>\n",
              "    </tr>\n",
              "    <tr>\n",
              "      <th>609</th>\n",
              "      <td>DISTRICT17</td>\n",
              "      <td>STATE20</td>\n",
              "      <td>4</td>\n",
              "      <td>359</td>\n",
              "      <td>59</td>\n",
              "      <td>9588910.0</td>\n",
              "      <td>88.48</td>\n",
              "    </tr>\n",
              "    <tr>\n",
              "      <th>53</th>\n",
              "      <td>DISTRICT126</td>\n",
              "      <td>STATE26</td>\n",
              "      <td>3</td>\n",
              "      <td>197</td>\n",
              "      <td>21</td>\n",
              "      <td>596294.0</td>\n",
              "      <td>68.90</td>\n",
              "    </tr>\n",
              "    <tr>\n",
              "      <th>81</th>\n",
              "      <td>DISTRICT45</td>\n",
              "      <td>STATE25</td>\n",
              "      <td>9</td>\n",
              "      <td>351</td>\n",
              "      <td>130</td>\n",
              "      <td>1742815.0</td>\n",
              "      <td>73.24</td>\n",
              "    </tr>\n",
              "    <tr>\n",
              "      <th>516</th>\n",
              "      <td>DISTRICT300</td>\n",
              "      <td>STATE9</td>\n",
              "      <td>5</td>\n",
              "      <td>651</td>\n",
              "      <td>84</td>\n",
              "      <td>590379.0</td>\n",
              "      <td>73.29</td>\n",
              "    </tr>\n",
              "    <tr>\n",
              "      <th>641</th>\n",
              "      <td>DISTRICT484</td>\n",
              "      <td>STATE6</td>\n",
              "      <td>15</td>\n",
              "      <td>333</td>\n",
              "      <td>83</td>\n",
              "      <td>1721179.0</td>\n",
              "      <td>74.92</td>\n",
              "    </tr>\n",
              "    <tr>\n",
              "      <th>650</th>\n",
              "      <td>DISTRICT145</td>\n",
              "      <td>STATE6</td>\n",
              "      <td>11</td>\n",
              "      <td>489</td>\n",
              "      <td>100</td>\n",
              "      <td>1614069.0</td>\n",
              "      <td>84.09</td>\n",
              "    </tr>\n",
              "    <tr>\n",
              "      <th>70</th>\n",
              "      <td>DISTRICT99</td>\n",
              "      <td>STATE25</td>\n",
              "      <td>4</td>\n",
              "      <td>279</td>\n",
              "      <td>43</td>\n",
              "      <td>558890.0</td>\n",
              "      <td>83.44</td>\n",
              "    </tr>\n",
              "    <tr>\n",
              "      <th>163</th>\n",
              "      <td>DISTRICT366</td>\n",
              "      <td>STATE21</td>\n",
              "      <td>9</td>\n",
              "      <td>1330</td>\n",
              "      <td>86</td>\n",
              "      <td>1579160.0</td>\n",
              "      <td>79.99</td>\n",
              "    </tr>\n",
              "  </tbody>\n",
              "</table>\n",
              "</div>\n",
              "    <div class=\"colab-df-buttons\">\n",
              "\n",
              "  <div class=\"colab-df-container\">\n",
              "    <button class=\"colab-df-convert\" onclick=\"convertToInteractive('df-a55ca5e9-4728-4f13-aee1-a7fd91b90c69')\"\n",
              "            title=\"Convert this dataframe to an interactive table.\"\n",
              "            style=\"display:none;\">\n",
              "\n",
              "  <svg xmlns=\"http://www.w3.org/2000/svg\" height=\"24px\" viewBox=\"0 -960 960 960\">\n",
              "    <path d=\"M120-120v-720h720v720H120Zm60-500h600v-160H180v160Zm220 220h160v-160H400v160Zm0 220h160v-160H400v160ZM180-400h160v-160H180v160Zm440 0h160v-160H620v160ZM180-180h160v-160H180v160Zm440 0h160v-160H620v160Z\"/>\n",
              "  </svg>\n",
              "    </button>\n",
              "\n",
              "  <style>\n",
              "    .colab-df-container {\n",
              "      display:flex;\n",
              "      gap: 12px;\n",
              "    }\n",
              "\n",
              "    .colab-df-convert {\n",
              "      background-color: #E8F0FE;\n",
              "      border: none;\n",
              "      border-radius: 50%;\n",
              "      cursor: pointer;\n",
              "      display: none;\n",
              "      fill: #1967D2;\n",
              "      height: 32px;\n",
              "      padding: 0 0 0 0;\n",
              "      width: 32px;\n",
              "    }\n",
              "\n",
              "    .colab-df-convert:hover {\n",
              "      background-color: #E2EBFA;\n",
              "      box-shadow: 0px 1px 2px rgba(60, 64, 67, 0.3), 0px 1px 3px 1px rgba(60, 64, 67, 0.15);\n",
              "      fill: #174EA6;\n",
              "    }\n",
              "\n",
              "    .colab-df-buttons div {\n",
              "      margin-bottom: 4px;\n",
              "    }\n",
              "\n",
              "    [theme=dark] .colab-df-convert {\n",
              "      background-color: #3B4455;\n",
              "      fill: #D2E3FC;\n",
              "    }\n",
              "\n",
              "    [theme=dark] .colab-df-convert:hover {\n",
              "      background-color: #434B5C;\n",
              "      box-shadow: 0px 1px 3px 1px rgba(0, 0, 0, 0.15);\n",
              "      filter: drop-shadow(0px 1px 2px rgba(0, 0, 0, 0.3));\n",
              "      fill: #FFFFFF;\n",
              "    }\n",
              "  </style>\n",
              "\n",
              "    <script>\n",
              "      const buttonEl =\n",
              "        document.querySelector('#df-a55ca5e9-4728-4f13-aee1-a7fd91b90c69 button.colab-df-convert');\n",
              "      buttonEl.style.display =\n",
              "        google.colab.kernel.accessAllowed ? 'block' : 'none';\n",
              "\n",
              "      async function convertToInteractive(key) {\n",
              "        const element = document.querySelector('#df-a55ca5e9-4728-4f13-aee1-a7fd91b90c69');\n",
              "        const dataTable =\n",
              "          await google.colab.kernel.invokeFunction('convertToInteractive',\n",
              "                                                    [key], {});\n",
              "        if (!dataTable) return;\n",
              "\n",
              "        const docLinkHtml = 'Like what you see? Visit the ' +\n",
              "          '<a target=\"_blank\" href=https://colab.research.google.com/notebooks/data_table.ipynb>data table notebook</a>'\n",
              "          + ' to learn more about interactive tables.';\n",
              "        element.innerHTML = '';\n",
              "        dataTable['output_type'] = 'display_data';\n",
              "        await google.colab.output.renderOutput(dataTable, element);\n",
              "        const docLink = document.createElement('div');\n",
              "        docLink.innerHTML = docLinkHtml;\n",
              "        element.appendChild(docLink);\n",
              "      }\n",
              "    </script>\n",
              "  </div>\n",
              "\n",
              "\n",
              "<div id=\"df-df0da082-34ad-496d-8e7b-1ecf9c78b0f3\">\n",
              "  <button class=\"colab-df-quickchart\" onclick=\"quickchart('df-df0da082-34ad-496d-8e7b-1ecf9c78b0f3')\"\n",
              "            title=\"Suggest charts\"\n",
              "            style=\"display:none;\">\n",
              "\n",
              "<svg xmlns=\"http://www.w3.org/2000/svg\" height=\"24px\"viewBox=\"0 0 24 24\"\n",
              "     width=\"24px\">\n",
              "    <g>\n",
              "        <path d=\"M19 3H5c-1.1 0-2 .9-2 2v14c0 1.1.9 2 2 2h14c1.1 0 2-.9 2-2V5c0-1.1-.9-2-2-2zM9 17H7v-7h2v7zm4 0h-2V7h2v10zm4 0h-2v-4h2v4z\"/>\n",
              "    </g>\n",
              "</svg>\n",
              "  </button>\n",
              "\n",
              "<style>\n",
              "  .colab-df-quickchart {\n",
              "      --bg-color: #E8F0FE;\n",
              "      --fill-color: #1967D2;\n",
              "      --hover-bg-color: #E2EBFA;\n",
              "      --hover-fill-color: #174EA6;\n",
              "      --disabled-fill-color: #AAA;\n",
              "      --disabled-bg-color: #DDD;\n",
              "  }\n",
              "\n",
              "  [theme=dark] .colab-df-quickchart {\n",
              "      --bg-color: #3B4455;\n",
              "      --fill-color: #D2E3FC;\n",
              "      --hover-bg-color: #434B5C;\n",
              "      --hover-fill-color: #FFFFFF;\n",
              "      --disabled-bg-color: #3B4455;\n",
              "      --disabled-fill-color: #666;\n",
              "  }\n",
              "\n",
              "  .colab-df-quickchart {\n",
              "    background-color: var(--bg-color);\n",
              "    border: none;\n",
              "    border-radius: 50%;\n",
              "    cursor: pointer;\n",
              "    display: none;\n",
              "    fill: var(--fill-color);\n",
              "    height: 32px;\n",
              "    padding: 0;\n",
              "    width: 32px;\n",
              "  }\n",
              "\n",
              "  .colab-df-quickchart:hover {\n",
              "    background-color: var(--hover-bg-color);\n",
              "    box-shadow: 0 1px 2px rgba(60, 64, 67, 0.3), 0 1px 3px 1px rgba(60, 64, 67, 0.15);\n",
              "    fill: var(--button-hover-fill-color);\n",
              "  }\n",
              "\n",
              "  .colab-df-quickchart-complete:disabled,\n",
              "  .colab-df-quickchart-complete:disabled:hover {\n",
              "    background-color: var(--disabled-bg-color);\n",
              "    fill: var(--disabled-fill-color);\n",
              "    box-shadow: none;\n",
              "  }\n",
              "\n",
              "  .colab-df-spinner {\n",
              "    border: 2px solid var(--fill-color);\n",
              "    border-color: transparent;\n",
              "    border-bottom-color: var(--fill-color);\n",
              "    animation:\n",
              "      spin 1s steps(1) infinite;\n",
              "  }\n",
              "\n",
              "  @keyframes spin {\n",
              "    0% {\n",
              "      border-color: transparent;\n",
              "      border-bottom-color: var(--fill-color);\n",
              "      border-left-color: var(--fill-color);\n",
              "    }\n",
              "    20% {\n",
              "      border-color: transparent;\n",
              "      border-left-color: var(--fill-color);\n",
              "      border-top-color: var(--fill-color);\n",
              "    }\n",
              "    30% {\n",
              "      border-color: transparent;\n",
              "      border-left-color: var(--fill-color);\n",
              "      border-top-color: var(--fill-color);\n",
              "      border-right-color: var(--fill-color);\n",
              "    }\n",
              "    40% {\n",
              "      border-color: transparent;\n",
              "      border-right-color: var(--fill-color);\n",
              "      border-top-color: var(--fill-color);\n",
              "    }\n",
              "    60% {\n",
              "      border-color: transparent;\n",
              "      border-right-color: var(--fill-color);\n",
              "    }\n",
              "    80% {\n",
              "      border-color: transparent;\n",
              "      border-right-color: var(--fill-color);\n",
              "      border-bottom-color: var(--fill-color);\n",
              "    }\n",
              "    90% {\n",
              "      border-color: transparent;\n",
              "      border-bottom-color: var(--fill-color);\n",
              "    }\n",
              "  }\n",
              "</style>\n",
              "\n",
              "  <script>\n",
              "    async function quickchart(key) {\n",
              "      const quickchartButtonEl =\n",
              "        document.querySelector('#' + key + ' button');\n",
              "      quickchartButtonEl.disabled = true;  // To prevent multiple clicks.\n",
              "      quickchartButtonEl.classList.add('colab-df-spinner');\n",
              "      try {\n",
              "        const charts = await google.colab.kernel.invokeFunction(\n",
              "            'suggestCharts', [key], {});\n",
              "      } catch (error) {\n",
              "        console.error('Error during call to suggestCharts:', error);\n",
              "      }\n",
              "      quickchartButtonEl.classList.remove('colab-df-spinner');\n",
              "      quickchartButtonEl.classList.add('colab-df-quickchart-complete');\n",
              "    }\n",
              "    (() => {\n",
              "      let quickchartButtonEl =\n",
              "        document.querySelector('#df-df0da082-34ad-496d-8e7b-1ecf9c78b0f3 button');\n",
              "      quickchartButtonEl.style.display =\n",
              "        google.colab.kernel.accessAllowed ? 'block' : 'none';\n",
              "    })();\n",
              "  </script>\n",
              "</div>\n",
              "\n",
              "  <div id=\"id_9a7a3b57-8b82-47de-873b-05f462a55a91\">\n",
              "    <style>\n",
              "      .colab-df-generate {\n",
              "        background-color: #E8F0FE;\n",
              "        border: none;\n",
              "        border-radius: 50%;\n",
              "        cursor: pointer;\n",
              "        display: none;\n",
              "        fill: #1967D2;\n",
              "        height: 32px;\n",
              "        padding: 0 0 0 0;\n",
              "        width: 32px;\n",
              "      }\n",
              "\n",
              "      .colab-df-generate:hover {\n",
              "        background-color: #E2EBFA;\n",
              "        box-shadow: 0px 1px 2px rgba(60, 64, 67, 0.3), 0px 1px 3px 1px rgba(60, 64, 67, 0.15);\n",
              "        fill: #174EA6;\n",
              "      }\n",
              "\n",
              "      [theme=dark] .colab-df-generate {\n",
              "        background-color: #3B4455;\n",
              "        fill: #D2E3FC;\n",
              "      }\n",
              "\n",
              "      [theme=dark] .colab-df-generate:hover {\n",
              "        background-color: #434B5C;\n",
              "        box-shadow: 0px 1px 3px 1px rgba(0, 0, 0, 0.15);\n",
              "        filter: drop-shadow(0px 1px 2px rgba(0, 0, 0, 0.3));\n",
              "        fill: #FFFFFF;\n",
              "      }\n",
              "    </style>\n",
              "    <button class=\"colab-df-generate\" onclick=\"generateWithVariable('sampled_data')\"\n",
              "            title=\"Generate code using this dataframe.\"\n",
              "            style=\"display:none;\">\n",
              "\n",
              "  <svg xmlns=\"http://www.w3.org/2000/svg\" height=\"24px\"viewBox=\"0 0 24 24\"\n",
              "       width=\"24px\">\n",
              "    <path d=\"M7,19H8.4L18.45,9,17,7.55,7,17.6ZM5,21V16.75L18.45,3.32a2,2,0,0,1,2.83,0l1.4,1.43a1.91,1.91,0,0,1,.58,1.4,1.91,1.91,0,0,1-.58,1.4L9.25,21ZM18.45,9,17,7.55Zm-12,3A5.31,5.31,0,0,0,4.9,8.1,5.31,5.31,0,0,0,1,6.5,5.31,5.31,0,0,0,4.9,4.9,5.31,5.31,0,0,0,6.5,1,5.31,5.31,0,0,0,8.1,4.9,5.31,5.31,0,0,0,12,6.5,5.46,5.46,0,0,0,6.5,12Z\"/>\n",
              "  </svg>\n",
              "    </button>\n",
              "    <script>\n",
              "      (() => {\n",
              "      const buttonEl =\n",
              "        document.querySelector('#id_9a7a3b57-8b82-47de-873b-05f462a55a91 button.colab-df-generate');\n",
              "      buttonEl.style.display =\n",
              "        google.colab.kernel.accessAllowed ? 'block' : 'none';\n",
              "\n",
              "      buttonEl.onclick = () => {\n",
              "        google.colab.notebook.generateWithVariable('sampled_data');\n",
              "      }\n",
              "      })();\n",
              "    </script>\n",
              "  </div>\n",
              "\n",
              "    </div>\n",
              "  </div>\n"
            ],
            "application/vnd.google.colaboratory.intrinsic+json": {
              "type": "dataframe",
              "variable_name": "sampled_data",
              "summary": "{\n  \"name\": \"sampled_data\",\n  \"rows\": 50,\n  \"fields\": [\n    {\n      \"column\": \"DISTNAME\",\n      \"properties\": {\n        \"dtype\": \"string\",\n        \"num_unique_values\": 49,\n        \"samples\": [\n          \"DISTRICT144\",\n          \"DISTRICT484\",\n          \"DISTRICT99\"\n        ],\n        \"semantic_type\": \"\",\n        \"description\": \"\"\n      }\n    },\n    {\n      \"column\": \"STATNAME\",\n      \"properties\": {\n        \"dtype\": \"category\",\n        \"num_unique_values\": 22,\n        \"samples\": [\n          \"STATE6\",\n          \"STATE17\",\n          \"STATE33\"\n        ],\n        \"semantic_type\": \"\",\n        \"description\": \"\"\n      }\n    },\n    {\n      \"column\": \"BLOCKS\",\n      \"properties\": {\n        \"dtype\": \"number\",\n        \"std\": 4,\n        \"min\": 2,\n        \"max\": 25,\n        \"num_unique_values\": 16,\n        \"samples\": [\n          9,\n          14,\n          11\n        ],\n        \"semantic_type\": \"\",\n        \"description\": \"\"\n      }\n    },\n    {\n      \"column\": \"VILLAGES\",\n      \"properties\": {\n        \"dtype\": \"number\",\n        \"std\": 589,\n        \"min\": 62,\n        \"max\": 2179,\n        \"num_unique_values\": 46,\n        \"samples\": [\n          197,\n          1465,\n          1778\n        ],\n        \"semantic_type\": \"\",\n        \"description\": \"\"\n      }\n    },\n    {\n      \"column\": \"CLUSTERS\",\n      \"properties\": {\n        \"dtype\": \"number\",\n        \"std\": 81,\n        \"min\": 4,\n        \"max\": 508,\n        \"num_unique_values\": 43,\n        \"samples\": [\n          21,\n          84,\n          46\n        ],\n        \"semantic_type\": \"\",\n        \"description\": \"\"\n      }\n    },\n    {\n      \"column\": \"TOTPOPULAT\",\n      \"properties\": {\n        \"dtype\": \"number\",\n        \"std\": 1588538.027299373,\n        \"min\": 35289.0,\n        \"max\": 9588910.0,\n        \"num_unique_values\": 49,\n        \"samples\": [\n          2662077.0,\n          1721179.0,\n          558890.0\n        ],\n        \"semantic_type\": \"\",\n        \"description\": \"\"\n      }\n    },\n    {\n      \"column\": \"OVERALL_LI\",\n      \"properties\": {\n        \"dtype\": \"number\",\n        \"std\": 10.106000795647736,\n        \"min\": 51.76,\n        \"max\": 92.14,\n        \"num_unique_values\": 49,\n        \"samples\": [\n          71.59,\n          74.92,\n          83.44\n        ],\n        \"semantic_type\": \"\",\n        \"description\": \"\"\n      }\n    }\n  ]\n}"
            }
          },
          "metadata": {},
          "execution_count": 3
        }
      ]
    },
    {
      "cell_type": "markdown",
      "source": [
        "The output shows 50 districts selected randomly from your dataset. Each has a different literacy rate, but note that row 254 was sampled twice, which is possible because you sampled with replacement."
      ],
      "metadata": {
        "id": "OMRGyZO7c7WP"
      }
    },
    {
      "cell_type": "markdown",
      "source": [
        "### Compute the sample mean\n",
        "Now that you have your random sample, use the mean function to compute the sample mean. First, name a new variable **estimate1**. Next, use **mean()** to compute the mean for your sample data."
      ],
      "metadata": {
        "id": "K-Phu5_Dc-FQ"
      }
    },
    {
      "cell_type": "code",
      "source": [
        "estimate1 = sampled_data['OVERALL_LI'].mean()\n",
        "estimate1"
      ],
      "metadata": {
        "colab": {
          "base_uri": "https://localhost:8080/"
        },
        "id": "GDnbXwjjdKWa",
        "outputId": "c2f01095-4315-4d4e-9fab-17f3c273bd83"
      },
      "execution_count": null,
      "outputs": [
        {
          "output_type": "execute_result",
          "data": {
            "text/plain": [
              "np.float64(74.22359999999999)"
            ]
          },
          "metadata": {},
          "execution_count": 4
        }
      ]
    },
    {
      "cell_type": "markdown",
      "source": [
        "The sample mean for district literacy rate is about **74.22%**. This is a point estimate of the population mean based on your random sample of 50 districts. Remember that the population mean is the literacy rate for *all* districts. Due to sampling variability, the sample mean is usually not exactly the same as the population mean.\n",
        "\n",
        "Next, let’s find out what will happen if you compute the sample mean based on another random sample of 50 districts."
      ],
      "metadata": {
        "id": "wX-nAKEGdjaD"
      }
    },
    {
      "cell_type": "code",
      "source": [
        "estimate2 = education_districtwise['OVERALL_LI'].sample(n=50, replace=True, random_state=56810).mean()\n",
        "estimate2"
      ],
      "metadata": {
        "colab": {
          "base_uri": "https://localhost:8080/"
        },
        "id": "HP0FAVGzeA_v",
        "outputId": "9510c48f-ec9b-4086-c7a8-54254ca43370"
      },
      "execution_count": null,
      "outputs": [
        {
          "output_type": "execute_result",
          "data": {
            "text/plain": [
              "np.float64(74.2478)"
            ]
          },
          "metadata": {},
          "execution_count": 5
        }
      ]
    },
    {
      "cell_type": "markdown",
      "source": [
        "For your second estimate, the sample mean for district literacy rate is about 74.25%.\n",
        "\n",
        "Due to sampling variability, this sample mean is different from the sample mean of your previous estimate, 74.22% – but they’re really close."
      ],
      "metadata": {
        "id": "XY1Gvgj_ehSB"
      }
    },
    {
      "cell_type": "markdown",
      "source": [
        "## The Central Limit Theorem\n",
        "Recall that the **central limit theorem** tells you that when the sample size is large enough, the sample mean approaches a normal distribution. And, as you sample more observations from a population, the sample mean gets closer to the population mean. The larger your sample size, the more accurate your estimate of the population mean is likely to be.\n",
        "\n",
        "In this case, the population mean is the overall literacy rate for all districts in the nation. Earlier, you found that the population mean literacy rate is 73.39%. Based on sampling, your first estimated sample mean was 74.22%, and your second estimate was 74.24%. Each estimate is relatively close to the population mean.\n"
      ],
      "metadata": {
        "id": "BGcO5EYYej07"
      }
    },
    {
      "cell_type": "markdown",
      "source": [
        "### Compute the mean of a sampling distribution with 10,000 samples\n",
        "Now, imagine you repeat the study 10,000 times and obtain 10,000 point estimates of the mean. In other words, you take 10,000 random samples of 50 districts, and compute the mean for each sample. According to the central limit theorem, the mean of your sampling distribution will be roughly equal to the population mean.\n",
        "\n",
        "You can use Python to compute the mean of the sampling distribution with 10,000 samples."
      ],
      "metadata": {
        "id": "ouhsVD2xfC6z"
      }
    },
    {
      "cell_type": "markdown",
      "source": [
        "Let’s go over the code step by step:\n",
        "\n",
        "  1. Create an empty list to store the sample mean from each sample. Name this **estimate_list**.\n",
        "\n",
        "  2. Set up a for-loop with the **range()**function. The **range()** function generates a sequence of numbers from 1 to 10,000. The loop will run 10,000 times, and iterate over each number in the sequence.\n",
        "\n",
        "  3. Specify what you want to do in each iteration of the loop. The **sample()** function tells the computer to take a random sample of 50 districts with replacement–the argument n equals 50, and the argument **replace** equals **True**. The **append()**function adds a single item to an existing list. In this case, it appends the value of the sample mean to each item in the list. Your code generates a list of 10,000 values, each of which is the sample mean from a random sample.\n",
        "\n",
        "  4. Create a new data frame for your list of 10,000 estimates. Name a new variable **estimate_df** to store your data frame."
      ],
      "metadata": {
        "id": "z9WOCZOzfRN_"
      }
    },
    {
      "cell_type": "code",
      "source": [
        "estimate_list = []\n",
        "for i in range(10000):\n",
        "  estimate_list.append(education_districtwise['OVERALL_LI'].sample(n=50, replace=True).mean())\n",
        "  estimate_df = pd.DataFrame(data={'estimate': estimate_list})"
      ],
      "metadata": {
        "id": "C5e3nEjVgltw"
      },
      "execution_count": null,
      "outputs": []
    },
    {
      "cell_type": "markdown",
      "source": [],
      "metadata": {
        "id": "DAKz0rBfid2M"
      }
    },
    {
      "cell_type": "markdown",
      "source": [
        "Note that, because you didn't specify a random seed for each loop iteration, by default the rows sampled will be different each time.\n",
        "\n",
        "Now, name a new variable **mean_sample_means** and compute the mean for your sampling distribution of 10,000 random samples."
      ],
      "metadata": {
        "id": "r3w86MeFhRok"
      }
    },
    {
      "cell_type": "code",
      "source": [
        "mean_sample_means = estimate_df['estimate'].mean()\n",
        "mean_sample_means"
      ],
      "metadata": {
        "colab": {
          "base_uri": "https://localhost:8080/"
        },
        "id": "TUs7NhmLiL1Z",
        "outputId": "d8e24d13-93cd-4852-93a8-614a27e8aad7"
      },
      "execution_count": null,
      "outputs": [
        {
          "output_type": "execute_result",
          "data": {
            "text/plain": [
              "np.float64(73.38926132)"
            ]
          },
          "metadata": {},
          "execution_count": 8
        }
      ]
    },
    {
      "cell_type": "markdown",
      "source": [
        "The mean of your sampling distribution is about 73.4%.\n",
        "\n",
        "Compare this with the population mean of your complete dataset:"
      ],
      "metadata": {
        "id": "ncSLG3bIift7"
      }
    },
    {
      "cell_type": "code",
      "source": [
        "population_mean = education_districtwise['OVERALL_LI'].mean()\n",
        "population_mean"
      ],
      "metadata": {
        "colab": {
          "base_uri": "https://localhost:8080/"
        },
        "id": "9tiIF1v2iWkp",
        "outputId": "39f978b8-06f4-4d98-f7fe-8b8b29b89254"
      },
      "execution_count": null,
      "outputs": [
        {
          "output_type": "execute_result",
          "data": {
            "text/plain": [
              "np.float64(73.39518927444796)"
            ]
          },
          "metadata": {},
          "execution_count": 9
        }
      ]
    },
    {
      "cell_type": "markdown",
      "source": [
        "The mean of your sampling distribution is essentially identical to the population mean, which is also about 73.4%!"
      ],
      "metadata": {
        "id": "IEpP86feil1D"
      }
    },
    {
      "cell_type": "markdown",
      "source": [
        "## Visualize your data\n",
        "To visualize the relationship between your sampling distribution of 10,000 estimates and the normal distribution, we can plot both at the same time."
      ],
      "metadata": {
        "id": "Z0pFKgCLio27"
      }
    },
    {
      "cell_type": "markdown",
      "source": [],
      "metadata": {
        "id": "rczvheQO3f-m"
      }
    },
    {
      "cell_type": "code",
      "source": [
        "plt.hist(estimate_df['estimate'], bins=25, density=True, alpha=0.4, label = \"histogram of sample means of 10000 random samples\")\n",
        "xmin, xmax = plt.xlim()\n",
        "x = np.linspace(xmin, xmax, 100) # generate a grid of 100 values from xmin to xmax.\n",
        "p = stats.norm.pdf(x, mean_sample_means, stats.tstd(estimate_df['estimate']))\n",
        "plt.plot(x, p,'k', linewidth=2, label = 'normal curve from central limit theorem')\n",
        "plt.axvline(x=population_mean, color='g', linestyle = 'solid', label = 'population mean')\n",
        "plt.axvline(x=estimate1, color='r', linestyle = '--', label = 'sample mean of the first random sample')\n",
        "plt.axvline(x=mean_sample_means, color='b', linestyle = ':', label = 'mean of sample means of 10000 random samples')\n",
        "plt.title(\"Sampling distribution of sample mean\")\n",
        "plt.xlabel('sample mean')\n",
        "plt.ylabel('density')\n",
        "plt.legend(bbox_to_anchor=(1.04,1))\n",
        "plt.show()"
      ],
      "metadata": {
        "colab": {
          "base_uri": "https://localhost:8080/",
          "height": 294
        },
        "id": "EdCVmfPxivUC",
        "outputId": "8fe60054-eba6-489b-edd3-11bb77a0ba0c"
      },
      "execution_count": null,
      "outputs": [
        {
          "output_type": "display_data",
          "data": {
            "text/plain": [
              "<Figure size 640x480 with 1 Axes>"
            ],
            "image/png": "[encoded data removed]"
          },
          "metadata": {}
        }
      ]
    },
    {
      "cell_type": "markdown",
      "source": [
        "There are three key takeaways from this graph:\n",
        "\n",
        "  1. As the central limit theorem predicts, the histogram of the sampling distribution is well approximated by the normal distribution. The outline of the histogram closely follows the normal curve.\n",
        "\n",
        "  2. The mean of the sampling distribution, the blue dotted line, overlaps with the population mean, the green solid line. This shows that the two means are essentially equal to each other.\n",
        "\n",
        "  3. The sample mean of your first estimate of 50 districts, the red dashed line, is farther away from the center. This is due to sampling variability.\n",
        "\n",
        "The central limit theorem shows that as you increase the sample size, your estimate becomes more accurate. For a large enough sample, the sample mean closely follows a normal distribution.\n",
        "\n",
        "Your first sample of 50 districts estimated the mean district literacy rate as 74.22%, which is relatively\n",
        "close to the population mean of 73.4%.\n",
        "\n",
        "To ensure your estimate will be useful to the government, you can compare the nation’s literacy rate to other benchmarks, such as the global literacy rate, or the literacy rate of peer nations. If the nation’s literacy rate is below these benchmarks, this may help convince the government to devote more resources to improving literacy across the country."
      ],
      "metadata": {
        "id": "Rq9gebGqi8t8"
      }
    },
    {
      "cell_type": "markdown",
      "source": [
        "# Activity : Explore Sampling\n",
        "\n",
        "For this activity, you are a member of an analytics team for the Environmental Protection Agency. You are assigned to analyze data on air quality with respect to carbon monoxide—a major air pollutant—and report your findings. The data utilized in this activity includes information from over 200 sites, identified by their state name, county name, city name, and local site name. You will use effective sampling within this dataset."
      ],
      "metadata": {
        "id": "s2rOq4vr3h_k"
      }
    },
    {
      "cell_type": "markdown",
      "source": [
        "## Step 1 : imports"
      ],
      "metadata": {
        "id": "olWe9BuM3rg8"
      }
    },
    {
      "cell_type": "code",
      "source": [
        "import numpy as np\n",
        "import pandas as pd\n",
        "import matplotlib.pyplot as plt\n",
        "import statsmodels.api as sm\n",
        "from scipy import stats"
      ],
      "metadata": {
        "id": "8VkQOpGt3yYt"
      },
      "execution_count": null,
      "outputs": []
    },
    {
      "cell_type": "code",
      "source": [
        "# Load data\n",
        "\n",
        "epa_data = pd.read_csv(\"c4_epa_air_quality.csv\", index_col = 0)"
      ],
      "metadata": {
        "id": "hvAeR1ps31b1"
      },
      "execution_count": null,
      "outputs": []
    },
    {
      "cell_type": "markdown",
      "source": [],
      "metadata": {
        "id": "WLIsrIRb37Op"
      }
    },
    {
      "cell_type": "markdown",
      "source": [
        "## Step 2 : Data exploration"
      ],
      "metadata": {
        "id": "HpBHm2OF37Ru"
      }
    },
    {
      "cell_type": "markdown",
      "source": [
        "### Examine the data\n",
        "To understand how the dataset is structured, examine the first 10 rows of the data."
      ],
      "metadata": {
        "id": "FI8ajm7d4FB6"
      }
    },
    {
      "cell_type": "code",
      "source": [
        "# First 10 rows of the data\n",
        "\n",
        "\n",
        "epa_data.head(10)"
      ],
      "metadata": {
        "colab": {
          "base_uri": "https://localhost:8080/",
          "height": 447
        },
        "id": "zuczHk1W3_g1",
        "outputId": "4efff261-3442-438b-8b79-68963c29dba6"
      },
      "execution_count": null,
      "outputs": [
        {
          "output_type": "execute_result",
          "data": {
            "text/plain": [
              "   date_local    state_name   county_name      city_name  \\\n",
              "0  2018-01-01       Arizona      Maricopa        Buckeye   \n",
              "1  2018-01-01          Ohio       Belmont      Shadyside   \n",
              "2  2018-01-01       Wyoming         Teton  Not in a city   \n",
              "3  2018-01-01  Pennsylvania  Philadelphia   Philadelphia   \n",
              "4  2018-01-01          Iowa          Polk     Des Moines   \n",
              "5  2018-01-01        Hawaii      Honolulu  Not in a city   \n",
              "6  2018-01-01        Hawaii      Honolulu  Not in a city   \n",
              "7  2018-01-01  Pennsylvania          Erie           Erie   \n",
              "8  2018-01-01        Hawaii      Honolulu       Honolulu   \n",
              "9  2018-01-01      Colorado       Larimer   Fort Collins   \n",
              "\n",
              "                                     local_site_name   parameter_name  \\\n",
              "0                                            BUCKEYE  Carbon monoxide   \n",
              "1                                          Shadyside  Carbon monoxide   \n",
              "2  Yellowstone National Park - Old Faithful Snow ...  Carbon monoxide   \n",
              "3                             North East Waste (NEW)  Carbon monoxide   \n",
              "4                                          CARPENTER  Carbon monoxide   \n",
              "5                                            Kapolei  Carbon monoxide   \n",
              "6                                            Kapolei  Carbon monoxide   \n",
              "7                                                NaN  Carbon monoxide   \n",
              "8                                           Honolulu  Carbon monoxide   \n",
              "9                      Fort Collins - CSU - S. Mason  Carbon monoxide   \n",
              "\n",
              "    units_of_measure  arithmetic_mean  aqi  \n",
              "0  Parts per million         0.473684    7  \n",
              "1  Parts per million         0.263158    5  \n",
              "2  Parts per million         0.111111    2  \n",
              "3  Parts per million         0.300000    3  \n",
              "4  Parts per million         0.215789    3  \n",
              "5  Parts per million         0.994737   14  \n",
              "6  Parts per million         0.200000    2  \n",
              "7  Parts per million         0.200000    2  \n",
              "8  Parts per million         0.400000    5  \n",
              "9  Parts per million         0.300000    6  "
            ],
            "text/html": [
              "\n",
              "  <div id=\"df-f816b670-35b2-4071-ae8c-86c10b3e527a\" class=\"colab-df-container\">\n",
              "    <div>\n",
              "<style scoped>\n",
              "    .dataframe tbody tr th:only-of-type {\n",
              "        vertical-align: middle;\n",
              "    }\n",
              "\n",
              "    .dataframe tbody tr th {\n",
              "        vertical-align: top;\n",
              "    }\n",
              "\n",
              "    .dataframe thead th {\n",
              "        text-align: right;\n",
              "    }\n",
              "</style>\n",
              "<table border=\"1\" class=\"dataframe\">\n",
              "  <thead>\n",
              "    <tr style=\"text-align: right;\">\n",
              "      <th></th>\n",
              "      <th>date_local</th>\n",
              "      <th>state_name</th>\n",
              "      <th>county_name</th>\n",
              "      <th>city_name</th>\n",
              "      <th>local_site_name</th>\n",
              "      <th>parameter_name</th>\n",
              "      <th>units_of_measure</th>\n",
              "      <th>arithmetic_mean</th>\n",
              "      <th>aqi</th>\n",
              "    </tr>\n",
              "  </thead>\n",
              "  <tbody>\n",
              "    <tr>\n",
              "      <th>0</th>\n",
              "      <td>2018-01-01</td>\n",
              "      <td>Arizona</td>\n",
              "      <td>Maricopa</td>\n",
              "      <td>Buckeye</td>\n",
              "      <td>BUCKEYE</td>\n",
              "      <td>Carbon monoxide</td>\n",
              "      <td>Parts per million</td>\n",
              "      <td>0.473684</td>\n",
              "      <td>7</td>\n",
              "    </tr>\n",
              "    <tr>\n",
              "      <th>1</th>\n",
              "      <td>2018-01-01</td>\n",
              "      <td>Ohio</td>\n",
              "      <td>Belmont</td>\n",
              "      <td>Shadyside</td>\n",
              "      <td>Shadyside</td>\n",
              "      <td>Carbon monoxide</td>\n",
              "      <td>Parts per million</td>\n",
              "      <td>0.263158</td>\n",
              "      <td>5</td>\n",
              "    </tr>\n",
              "    <tr>\n",
              "      <th>2</th>\n",
              "      <td>2018-01-01</td>\n",
              "      <td>Wyoming</td>\n",
              "      <td>Teton</td>\n",
              "      <td>Not in a city</td>\n",
              "      <td>Yellowstone National Park - Old Faithful Snow ...</td>\n",
              "      <td>Carbon monoxide</td>\n",
              "      <td>Parts per million</td>\n",
              "      <td>0.111111</td>\n",
              "      <td>2</td>\n",
              "    </tr>\n",
              "    <tr>\n",
              "      <th>3</th>\n",
              "      <td>2018-01-01</td>\n",
              "      <td>Pennsylvania</td>\n",
              "      <td>Philadelphia</td>\n",
              "      <td>Philadelphia</td>\n",
              "      <td>North East Waste (NEW)</td>\n",
              "      <td>Carbon monoxide</td>\n",
              "      <td>Parts per million</td>\n",
              "      <td>0.300000</td>\n",
              "      <td>3</td>\n",
              "    </tr>\n",
              "    <tr>\n",
              "      <th>4</th>\n",
              "      <td>2018-01-01</td>\n",
              "      <td>Iowa</td>\n",
              "      <td>Polk</td>\n",
              "      <td>Des Moines</td>\n",
              "      <td>CARPENTER</td>\n",
              "      <td>Carbon monoxide</td>\n",
              "      <td>Parts per million</td>\n",
              "      <td>0.215789</td>\n",
              "      <td>3</td>\n",
              "    </tr>\n",
              "    <tr>\n",
              "      <th>5</th>\n",
              "      <td>2018-01-01</td>\n",
              "      <td>Hawaii</td>\n",
              "      <td>Honolulu</td>\n",
              "      <td>Not in a city</td>\n",
              "      <td>Kapolei</td>\n",
              "      <td>Carbon monoxide</td>\n",
              "      <td>Parts per million</td>\n",
              "      <td>0.994737</td>\n",
              "      <td>14</td>\n",
              "    </tr>\n",
              "    <tr>\n",
              "      <th>6</th>\n",
              "      <td>2018-01-01</td>\n",
              "      <td>Hawaii</td>\n",
              "      <td>Honolulu</td>\n",
              "      <td>Not in a city</td>\n",
              "      <td>Kapolei</td>\n",
              "      <td>Carbon monoxide</td>\n",
              "      <td>Parts per million</td>\n",
              "      <td>0.200000</td>\n",
              "      <td>2</td>\n",
              "    </tr>\n",
              "    <tr>\n",
              "      <th>7</th>\n",
              "      <td>2018-01-01</td>\n",
              "      <td>Pennsylvania</td>\n",
              "      <td>Erie</td>\n",
              "      <td>Erie</td>\n",
              "      <td>NaN</td>\n",
              "      <td>Carbon monoxide</td>\n",
              "      <td>Parts per million</td>\n",
              "      <td>0.200000</td>\n",
              "      <td>2</td>\n",
              "    </tr>\n",
              "    <tr>\n",
              "      <th>8</th>\n",
              "      <td>2018-01-01</td>\n",
              "      <td>Hawaii</td>\n",
              "      <td>Honolulu</td>\n",
              "      <td>Honolulu</td>\n",
              "      <td>Honolulu</td>\n",
              "      <td>Carbon monoxide</td>\n",
              "      <td>Parts per million</td>\n",
              "      <td>0.400000</td>\n",
              "      <td>5</td>\n",
              "    </tr>\n",
              "    <tr>\n",
              "      <th>9</th>\n",
              "      <td>2018-01-01</td>\n",
              "      <td>Colorado</td>\n",
              "      <td>Larimer</td>\n",
              "      <td>Fort Collins</td>\n",
              "      <td>Fort Collins - CSU - S. Mason</td>\n",
              "      <td>Carbon monoxide</td>\n",
              "      <td>Parts per million</td>\n",
              "      <td>0.300000</td>\n",
              "      <td>6</td>\n",
              "    </tr>\n",
              "  </tbody>\n",
              "</table>\n",
              "</div>\n",
              "    <div class=\"colab-df-buttons\">\n",
              "\n",
              "  <div class=\"colab-df-container\">\n",
              "    <button class=\"colab-df-convert\" onclick=\"convertToInteractive('df-f816b670-35b2-4071-ae8c-86c10b3e527a')\"\n",
              "            title=\"Convert this dataframe to an interactive table.\"\n",
              "            style=\"display:none;\">\n",
              "\n",
              "  <svg xmlns=\"http://www.w3.org/2000/svg\" height=\"24px\" viewBox=\"0 -960 960 960\">\n",
              "    <path d=\"M120-120v-720h720v720H120Zm60-500h600v-160H180v160Zm220 220h160v-160H400v160Zm0 220h160v-160H400v160ZM180-400h160v-160H180v160Zm440 0h160v-160H620v160ZM180-180h160v-160H180v160Zm440 0h160v-160H620v160Z\"/>\n",
              "  </svg>\n",
              "    </button>\n",
              "\n",
              "  <style>\n",
              "    .colab-df-container {\n",
              "      display:flex;\n",
              "      gap: 12px;\n",
              "    }\n",
              "\n",
              "    .colab-df-convert {\n",
              "      background-color: #E8F0FE;\n",
              "      border: none;\n",
              "      border-radius: 50%;\n",
              "      cursor: pointer;\n",
              "      display: none;\n",
              "      fill: #1967D2;\n",
              "      height: 32px;\n",
              "      padding: 0 0 0 0;\n",
              "      width: 32px;\n",
              "    }\n",
              "\n",
              "    .colab-df-convert:hover {\n",
              "      background-color: #E2EBFA;\n",
              "      box-shadow: 0px 1px 2px rgba(60, 64, 67, 0.3), 0px 1px 3px 1px rgba(60, 64, 67, 0.15);\n",
              "      fill: #174EA6;\n",
              "    }\n",
              "\n",
              "    .colab-df-buttons div {\n",
              "      margin-bottom: 4px;\n",
              "    }\n",
              "\n",
              "    [theme=dark] .colab-df-convert {\n",
              "      background-color: #3B4455;\n",
              "      fill: #D2E3FC;\n",
              "    }\n",
              "\n",
              "    [theme=dark] .colab-df-convert:hover {\n",
              "      background-color: #434B5C;\n",
              "      box-shadow: 0px 1px 3px 1px rgba(0, 0, 0, 0.15);\n",
              "      filter: drop-shadow(0px 1px 2px rgba(0, 0, 0, 0.3));\n",
              "      fill: #FFFFFF;\n",
              "    }\n",
              "  </style>\n",
              "\n",
              "    <script>\n",
              "      const buttonEl =\n",
              "        document.querySelector('#df-f816b670-35b2-4071-ae8c-86c10b3e527a button.colab-df-convert');\n",
              "      buttonEl.style.display =\n",
              "        google.colab.kernel.accessAllowed ? 'block' : 'none';\n",
              "\n",
              "      async function convertToInteractive(key) {\n",
              "        const element = document.querySelector('#df-f816b670-35b2-4071-ae8c-86c10b3e527a');\n",
              "        const dataTable =\n",
              "          await google.colab.kernel.invokeFunction('convertToInteractive',\n",
              "                                                    [key], {});\n",
              "        if (!dataTable) return;\n",
              "\n",
              "        const docLinkHtml = 'Like what you see? Visit the ' +\n",
              "          '<a target=\"_blank\" href=https://colab.research.google.com/notebooks/data_table.ipynb>data table notebook</a>'\n",
              "          + ' to learn more about interactive tables.';\n",
              "        element.innerHTML = '';\n",
              "        dataTable['output_type'] = 'display_data';\n",
              "        await google.colab.output.renderOutput(dataTable, element);\n",
              "        const docLink = document.createElement('div');\n",
              "        docLink.innerHTML = docLinkHtml;\n",
              "        element.appendChild(docLink);\n",
              "      }\n",
              "    </script>\n",
              "  </div>\n",
              "\n",
              "\n",
              "<div id=\"df-a14064a4-89fb-41c4-afff-66a7e4b0ae6f\">\n",
              "  <button class=\"colab-df-quickchart\" onclick=\"quickchart('df-a14064a4-89fb-41c4-afff-66a7e4b0ae6f')\"\n",
              "            title=\"Suggest charts\"\n",
              "            style=\"display:none;\">\n",
              "\n",
              "<svg xmlns=\"http://www.w3.org/2000/svg\" height=\"24px\"viewBox=\"0 0 24 24\"\n",
              "     width=\"24px\">\n",
              "    <g>\n",
              "        <path d=\"M19 3H5c-1.1 0-2 .9-2 2v14c0 1.1.9 2 2 2h14c1.1 0 2-.9 2-2V5c0-1.1-.9-2-2-2zM9 17H7v-7h2v7zm4 0h-2V7h2v10zm4 0h-2v-4h2v4z\"/>\n",
              "    </g>\n",
              "</svg>\n",
              "  </button>\n",
              "\n",
              "<style>\n",
              "  .colab-df-quickchart {\n",
              "      --bg-color: #E8F0FE;\n",
              "      --fill-color: #1967D2;\n",
              "      --hover-bg-color: #E2EBFA;\n",
              "      --hover-fill-color: #174EA6;\n",
              "      --disabled-fill-color: #AAA;\n",
              "      --disabled-bg-color: #DDD;\n",
              "  }\n",
              "\n",
              "  [theme=dark] .colab-df-quickchart {\n",
              "      --bg-color: #3B4455;\n",
              "      --fill-color: #D2E3FC;\n",
              "      --hover-bg-color: #434B5C;\n",
              "      --hover-fill-color: #FFFFFF;\n",
              "      --disabled-bg-color: #3B4455;\n",
              "      --disabled-fill-color: #666;\n",
              "  }\n",
              "\n",
              "  .colab-df-quickchart {\n",
              "    background-color: var(--bg-color);\n",
              "    border: none;\n",
              "    border-radius: 50%;\n",
              "    cursor: pointer;\n",
              "    display: none;\n",
              "    fill: var(--fill-color);\n",
              "    height: 32px;\n",
              "    padding: 0;\n",
              "    width: 32px;\n",
              "  }\n",
              "\n",
              "  .colab-df-quickchart:hover {\n",
              "    background-color: var(--hover-bg-color);\n",
              "    box-shadow: 0 1px 2px rgba(60, 64, 67, 0.3), 0 1px 3px 1px rgba(60, 64, 67, 0.15);\n",
              "    fill: var(--button-hover-fill-color);\n",
              "  }\n",
              "\n",
              "  .colab-df-quickchart-complete:disabled,\n",
              "  .colab-df-quickchart-complete:disabled:hover {\n",
              "    background-color: var(--disabled-bg-color);\n",
              "    fill: var(--disabled-fill-color);\n",
              "    box-shadow: none;\n",
              "  }\n",
              "\n",
              "  .colab-df-spinner {\n",
              "    border: 2px solid var(--fill-color);\n",
              "    border-color: transparent;\n",
              "    border-bottom-color: var(--fill-color);\n",
              "    animation:\n",
              "      spin 1s steps(1) infinite;\n",
              "  }\n",
              "\n",
              "  @keyframes spin {\n",
              "    0% {\n",
              "      border-color: transparent;\n",
              "      border-bottom-color: var(--fill-color);\n",
              "      border-left-color: var(--fill-color);\n",
              "    }\n",
              "    20% {\n",
              "      border-color: transparent;\n",
              "      border-left-color: var(--fill-color);\n",
              "      border-top-color: var(--fill-color);\n",
              "    }\n",
              "    30% {\n",
              "      border-color: transparent;\n",
              "      border-left-color: var(--fill-color);\n",
              "      border-top-color: var(--fill-color);\n",
              "      border-right-color: var(--fill-color);\n",
              "    }\n",
              "    40% {\n",
              "      border-color: transparent;\n",
              "      border-right-color: var(--fill-color);\n",
              "      border-top-color: var(--fill-color);\n",
              "    }\n",
              "    60% {\n",
              "      border-color: transparent;\n",
              "      border-right-color: var(--fill-color);\n",
              "    }\n",
              "    80% {\n",
              "      border-color: transparent;\n",
              "      border-right-color: var(--fill-color);\n",
              "      border-bottom-color: var(--fill-color);\n",
              "    }\n",
              "    90% {\n",
              "      border-color: transparent;\n",
              "      border-bottom-color: var(--fill-color);\n",
              "    }\n",
              "  }\n",
              "</style>\n",
              "\n",
              "  <script>\n",
              "    async function quickchart(key) {\n",
              "      const quickchartButtonEl =\n",
              "        document.querySelector('#' + key + ' button');\n",
              "      quickchartButtonEl.disabled = true;  // To prevent multiple clicks.\n",
              "      quickchartButtonEl.classList.add('colab-df-spinner');\n",
              "      try {\n",
              "        const charts = await google.colab.kernel.invokeFunction(\n",
              "            'suggestCharts', [key], {});\n",
              "      } catch (error) {\n",
              "        console.error('Error during call to suggestCharts:', error);\n",
              "      }\n",
              "      quickchartButtonEl.classList.remove('colab-df-spinner');\n",
              "      quickchartButtonEl.classList.add('colab-df-quickchart-complete');\n",
              "    }\n",
              "    (() => {\n",
              "      let quickchartButtonEl =\n",
              "        document.querySelector('#df-a14064a4-89fb-41c4-afff-66a7e4b0ae6f button');\n",
              "      quickchartButtonEl.style.display =\n",
              "        google.colab.kernel.accessAllowed ? 'block' : 'none';\n",
              "    })();\n",
              "  </script>\n",
              "</div>\n",
              "\n",
              "    </div>\n",
              "  </div>\n"
            ],
            "application/vnd.google.colaboratory.intrinsic+json": {
              "type": "dataframe",
              "variable_name": "epa_data",
              "summary": "{\n  \"name\": \"epa_data\",\n  \"rows\": 260,\n  \"fields\": [\n    {\n      \"column\": \"date_local\",\n      \"properties\": {\n        \"dtype\": \"object\",\n        \"num_unique_values\": 1,\n        \"samples\": [\n          \"2018-01-01\"\n        ],\n        \"semantic_type\": \"\",\n        \"description\": \"\"\n      }\n    },\n    {\n      \"column\": \"state_name\",\n      \"properties\": {\n        \"dtype\": \"category\",\n        \"num_unique_values\": 52,\n        \"samples\": [\n          \"New Jersey\"\n        ],\n        \"semantic_type\": \"\",\n        \"description\": \"\"\n      }\n    },\n    {\n      \"column\": \"county_name\",\n      \"properties\": {\n        \"dtype\": \"string\",\n        \"num_unique_values\": 149,\n        \"samples\": [\n          \"El Paso\"\n        ],\n        \"semantic_type\": \"\",\n        \"description\": \"\"\n      }\n    },\n    {\n      \"column\": \"city_name\",\n      \"properties\": {\n        \"dtype\": \"string\",\n        \"num_unique_values\": 190,\n        \"samples\": [\n          \"Valrico\"\n        ],\n        \"semantic_type\": \"\",\n        \"description\": \"\"\n      }\n    },\n    {\n      \"column\": \"local_site_name\",\n      \"properties\": {\n        \"dtype\": \"string\",\n        \"num_unique_values\": 253,\n        \"samples\": [\n          \"Los Flores Canyon #1\"\n        ],\n        \"semantic_type\": \"\",\n        \"description\": \"\"\n      }\n    },\n    {\n      \"column\": \"parameter_name\",\n      \"properties\": {\n        \"dtype\": \"category\",\n        \"num_unique_values\": 1,\n        \"samples\": [\n          \"Carbon monoxide\"\n        ],\n        \"semantic_type\": \"\",\n        \"description\": \"\"\n      }\n    },\n    {\n      \"column\": \"units_of_measure\",\n      \"properties\": {\n        \"dtype\": \"category\",\n        \"num_unique_values\": 1,\n        \"samples\": [\n          \"Parts per million\"\n        ],\n        \"semantic_type\": \"\",\n        \"description\": \"\"\n      }\n    },\n    {\n      \"column\": \"arithmetic_mean\",\n      \"properties\": {\n        \"dtype\": \"number\",\n        \"std\": 0.3179017834023353,\n        \"min\": 0.0,\n        \"max\": 1.921053,\n        \"num_unique_values\": 150,\n        \"samples\": [\n          0.131579\n        ],\n        \"semantic_type\": \"\",\n        \"description\": \"\"\n      }\n    },\n    {\n      \"column\": \"aqi\",\n      \"properties\": {\n        \"dtype\": \"number\",\n        \"std\": 7,\n        \"min\": 0,\n        \"max\": 50,\n        \"num_unique_values\": 29,\n        \"samples\": [\n          28\n        ],\n        \"semantic_type\": \"\",\n        \"description\": \"\"\n      }\n    }\n  ]\n}"
            }
          },
          "metadata": {},
          "execution_count": 16
        }
      ]
    },
    {
      "cell_type": "markdown",
      "source": [
        "### Generate a table of descriptive statistics\n",
        "\n",
        "Generate a table of some descriptive statistics about the data. Specify that all columns of the input be included in the output."
      ],
      "metadata": {
        "id": "9zpkQDNr4Ji0"
      }
    },
    {
      "cell_type": "code",
      "source": [
        "epa_data.describe(include='all')"
      ],
      "metadata": {
        "colab": {
          "base_uri": "https://localhost:8080/",
          "height": 410
        },
        "id": "mMOLf1ct4NV1",
        "outputId": "6821dee7-2132-462b-f07b-1fa03a994d60"
      },
      "execution_count": null,
      "outputs": [
        {
          "output_type": "execute_result",
          "data": {
            "text/plain": [
              "        date_local  state_name  county_name      city_name local_site_name  \\\n",
              "count          260         260          260            260             257   \n",
              "unique           1          52          149            190             253   \n",
              "top     2018-01-01  California  Los Angeles  Not in a city         Kapolei   \n",
              "freq           260          66           14             21               2   \n",
              "mean           NaN         NaN          NaN            NaN             NaN   \n",
              "std            NaN         NaN          NaN            NaN             NaN   \n",
              "min            NaN         NaN          NaN            NaN             NaN   \n",
              "25%            NaN         NaN          NaN            NaN             NaN   \n",
              "50%            NaN         NaN          NaN            NaN             NaN   \n",
              "75%            NaN         NaN          NaN            NaN             NaN   \n",
              "max            NaN         NaN          NaN            NaN             NaN   \n",
              "\n",
              "         parameter_name   units_of_measure  arithmetic_mean         aqi  \n",
              "count               260                260       260.000000  260.000000  \n",
              "unique                1                  1              NaN         NaN  \n",
              "top     Carbon monoxide  Parts per million              NaN         NaN  \n",
              "freq                260                260              NaN         NaN  \n",
              "mean                NaN                NaN         0.403169    6.757692  \n",
              "std                 NaN                NaN         0.317902    7.061707  \n",
              "min                 NaN                NaN         0.000000    0.000000  \n",
              "25%                 NaN                NaN         0.200000    2.000000  \n",
              "50%                 NaN                NaN         0.276315    5.000000  \n",
              "75%                 NaN                NaN         0.516009    9.000000  \n",
              "max                 NaN                NaN         1.921053   50.000000  "
            ],
            "text/html": [
              "\n",
              "  <div id=\"df-f1458760-6ec7-4455-886e-a48d4b70207c\" class=\"colab-df-container\">\n",
              "    <div>\n",
              "<style scoped>\n",
              "    .dataframe tbody tr th:only-of-type {\n",
              "        vertical-align: middle;\n",
              "    }\n",
              "\n",
              "    .dataframe tbody tr th {\n",
              "        vertical-align: top;\n",
              "    }\n",
              "\n",
              "    .dataframe thead th {\n",
              "        text-align: right;\n",
              "    }\n",
              "</style>\n",
              "<table border=\"1\" class=\"dataframe\">\n",
              "  <thead>\n",
              "    <tr style=\"text-align: right;\">\n",
              "      <th></th>\n",
              "      <th>date_local</th>\n",
              "      <th>state_name</th>\n",
              "      <th>county_name</th>\n",
              "      <th>city_name</th>\n",
              "      <th>local_site_name</th>\n",
              "      <th>parameter_name</th>\n",
              "      <th>units_of_measure</th>\n",
              "      <th>arithmetic_mean</th>\n",
              "      <th>aqi</th>\n",
              "    </tr>\n",
              "  </thead>\n",
              "  <tbody>\n",
              "    <tr>\n",
              "      <th>count</th>\n",
              "      <td>260</td>\n",
              "      <td>260</td>\n",
              "      <td>260</td>\n",
              "      <td>260</td>\n",
              "      <td>257</td>\n",
              "      <td>260</td>\n",
              "      <td>260</td>\n",
              "      <td>260.000000</td>\n",
              "      <td>260.000000</td>\n",
              "    </tr>\n",
              "    <tr>\n",
              "      <th>unique</th>\n",
              "      <td>1</td>\n",
              "      <td>52</td>\n",
              "      <td>149</td>\n",
              "      <td>190</td>\n",
              "      <td>253</td>\n",
              "      <td>1</td>\n",
              "      <td>1</td>\n",
              "      <td>NaN</td>\n",
              "      <td>NaN</td>\n",
              "    </tr>\n",
              "    <tr>\n",
              "      <th>top</th>\n",
              "      <td>2018-01-01</td>\n",
              "      <td>California</td>\n",
              "      <td>Los Angeles</td>\n",
              "      <td>Not in a city</td>\n",
              "      <td>Kapolei</td>\n",
              "      <td>Carbon monoxide</td>\n",
              "      <td>Parts per million</td>\n",
              "      <td>NaN</td>\n",
              "      <td>NaN</td>\n",
              "    </tr>\n",
              "    <tr>\n",
              "      <th>freq</th>\n",
              "      <td>260</td>\n",
              "      <td>66</td>\n",
              "      <td>14</td>\n",
              "      <td>21</td>\n",
              "      <td>2</td>\n",
              "      <td>260</td>\n",
              "      <td>260</td>\n",
              "      <td>NaN</td>\n",
              "      <td>NaN</td>\n",
              "    </tr>\n",
              "    <tr>\n",
              "      <th>mean</th>\n",
              "      <td>NaN</td>\n",
              "      <td>NaN</td>\n",
              "      <td>NaN</td>\n",
              "      <td>NaN</td>\n",
              "      <td>NaN</td>\n",
              "      <td>NaN</td>\n",
              "      <td>NaN</td>\n",
              "      <td>0.403169</td>\n",
              "      <td>6.757692</td>\n",
              "    </tr>\n",
              "    <tr>\n",
              "      <th>std</th>\n",
              "      <td>NaN</td>\n",
              "      <td>NaN</td>\n",
              "      <td>NaN</td>\n",
              "      <td>NaN</td>\n",
              "      <td>NaN</td>\n",
              "      <td>NaN</td>\n",
              "      <td>NaN</td>\n",
              "      <td>0.317902</td>\n",
              "      <td>7.061707</td>\n",
              "    </tr>\n",
              "    <tr>\n",
              "      <th>min</th>\n",
              "      <td>NaN</td>\n",
              "      <td>NaN</td>\n",
              "      <td>NaN</td>\n",
              "      <td>NaN</td>\n",
              "      <td>NaN</td>\n",
              "      <td>NaN</td>\n",
              "      <td>NaN</td>\n",
              "      <td>0.000000</td>\n",
              "      <td>0.000000</td>\n",
              "    </tr>\n",
              "    <tr>\n",
              "      <th>25%</th>\n",
              "      <td>NaN</td>\n",
              "      <td>NaN</td>\n",
              "      <td>NaN</td>\n",
              "      <td>NaN</td>\n",
              "      <td>NaN</td>\n",
              "      <td>NaN</td>\n",
              "      <td>NaN</td>\n",
              "      <td>0.200000</td>\n",
              "      <td>2.000000</td>\n",
              "    </tr>\n",
              "    <tr>\n",
              "      <th>50%</th>\n",
              "      <td>NaN</td>\n",
              "      <td>NaN</td>\n",
              "      <td>NaN</td>\n",
              "      <td>NaN</td>\n",
              "      <td>NaN</td>\n",
              "      <td>NaN</td>\n",
              "      <td>NaN</td>\n",
              "      <td>0.276315</td>\n",
              "      <td>5.000000</td>\n",
              "    </tr>\n",
              "    <tr>\n",
              "      <th>75%</th>\n",
              "      <td>NaN</td>\n",
              "      <td>NaN</td>\n",
              "      <td>NaN</td>\n",
              "      <td>NaN</td>\n",
              "      <td>NaN</td>\n",
              "      <td>NaN</td>\n",
              "      <td>NaN</td>\n",
              "      <td>0.516009</td>\n",
              "      <td>9.000000</td>\n",
              "    </tr>\n",
              "    <tr>\n",
              "      <th>max</th>\n",
              "      <td>NaN</td>\n",
              "      <td>NaN</td>\n",
              "      <td>NaN</td>\n",
              "      <td>NaN</td>\n",
              "      <td>NaN</td>\n",
              "      <td>NaN</td>\n",
              "      <td>NaN</td>\n",
              "      <td>1.921053</td>\n",
              "      <td>50.000000</td>\n",
              "    </tr>\n",
              "  </tbody>\n",
              "</table>\n",
              "</div>\n",
              "    <div class=\"colab-df-buttons\">\n",
              "\n",
              "  <div class=\"colab-df-container\">\n",
              "    <button class=\"colab-df-convert\" onclick=\"convertToInteractive('df-f1458760-6ec7-4455-886e-a48d4b70207c')\"\n",
              "            title=\"Convert this dataframe to an interactive table.\"\n",
              "            style=\"display:none;\">\n",
              "\n",
              "  <svg xmlns=\"http://www.w3.org/2000/svg\" height=\"24px\" viewBox=\"0 -960 960 960\">\n",
              "    <path d=\"M120-120v-720h720v720H120Zm60-500h600v-160H180v160Zm220 220h160v-160H400v160Zm0 220h160v-160H400v160ZM180-400h160v-160H180v160Zm440 0h160v-160H620v160ZM180-180h160v-160H180v160Zm440 0h160v-160H620v160Z\"/>\n",
              "  </svg>\n",
              "    </button>\n",
              "\n",
              "  <style>\n",
              "    .colab-df-container {\n",
              "      display:flex;\n",
              "      gap: 12px;\n",
              "    }\n",
              "\n",
              "    .colab-df-convert {\n",
              "      background-color: #E8F0FE;\n",
              "      border: none;\n",
              "      border-radius: 50%;\n",
              "      cursor: pointer;\n",
              "      display: none;\n",
              "      fill: #1967D2;\n",
              "      height: 32px;\n",
              "      padding: 0 0 0 0;\n",
              "      width: 32px;\n",
              "    }\n",
              "\n",
              "    .colab-df-convert:hover {\n",
              "      background-color: #E2EBFA;\n",
              "      box-shadow: 0px 1px 2px rgba(60, 64, 67, 0.3), 0px 1px 3px 1px rgba(60, 64, 67, 0.15);\n",
              "      fill: #174EA6;\n",
              "    }\n",
              "\n",
              "    .colab-df-buttons div {\n",
              "      margin-bottom: 4px;\n",
              "    }\n",
              "\n",
              "    [theme=dark] .colab-df-convert {\n",
              "      background-color: #3B4455;\n",
              "      fill: #D2E3FC;\n",
              "    }\n",
              "\n",
              "    [theme=dark] .colab-df-convert:hover {\n",
              "      background-color: #434B5C;\n",
              "      box-shadow: 0px 1px 3px 1px rgba(0, 0, 0, 0.15);\n",
              "      filter: drop-shadow(0px 1px 2px rgba(0, 0, 0, 0.3));\n",
              "      fill: #FFFFFF;\n",
              "    }\n",
              "  </style>\n",
              "\n",
              "    <script>\n",
              "      const buttonEl =\n",
              "        document.querySelector('#df-f1458760-6ec7-4455-886e-a48d4b70207c button.colab-df-convert');\n",
              "      buttonEl.style.display =\n",
              "        google.colab.kernel.accessAllowed ? 'block' : 'none';\n",
              "\n",
              "      async function convertToInteractive(key) {\n",
              "        const element = document.querySelector('#df-f1458760-6ec7-4455-886e-a48d4b70207c');\n",
              "        const dataTable =\n",
              "          await google.colab.kernel.invokeFunction('convertToInteractive',\n",
              "                                                    [key], {});\n",
              "        if (!dataTable) return;\n",
              "\n",
              "        const docLinkHtml = 'Like what you see? Visit the ' +\n",
              "          '<a target=\"_blank\" href=https://colab.research.google.com/notebooks/data_table.ipynb>data table notebook</a>'\n",
              "          + ' to learn more about interactive tables.';\n",
              "        element.innerHTML = '';\n",
              "        dataTable['output_type'] = 'display_data';\n",
              "        await google.colab.output.renderOutput(dataTable, element);\n",
              "        const docLink = document.createElement('div');\n",
              "        docLink.innerHTML = docLinkHtml;\n",
              "        element.appendChild(docLink);\n",
              "      }\n",
              "    </script>\n",
              "  </div>\n",
              "\n",
              "\n",
              "<div id=\"df-8ecb1304-d2ae-4ed8-958c-1c2022fc5f08\">\n",
              "  <button class=\"colab-df-quickchart\" onclick=\"quickchart('df-8ecb1304-d2ae-4ed8-958c-1c2022fc5f08')\"\n",
              "            title=\"Suggest charts\"\n",
              "            style=\"display:none;\">\n",
              "\n",
              "<svg xmlns=\"http://www.w3.org/2000/svg\" height=\"24px\"viewBox=\"0 0 24 24\"\n",
              "     width=\"24px\">\n",
              "    <g>\n",
              "        <path d=\"M19 3H5c-1.1 0-2 .9-2 2v14c0 1.1.9 2 2 2h14c1.1 0 2-.9 2-2V5c0-1.1-.9-2-2-2zM9 17H7v-7h2v7zm4 0h-2V7h2v10zm4 0h-2v-4h2v4z\"/>\n",
              "    </g>\n",
              "</svg>\n",
              "  </button>\n",
              "\n",
              "<style>\n",
              "  .colab-df-quickchart {\n",
              "      --bg-color: #E8F0FE;\n",
              "      --fill-color: #1967D2;\n",
              "      --hover-bg-color: #E2EBFA;\n",
              "      --hover-fill-color: #174EA6;\n",
              "      --disabled-fill-color: #AAA;\n",
              "      --disabled-bg-color: #DDD;\n",
              "  }\n",
              "\n",
              "  [theme=dark] .colab-df-quickchart {\n",
              "      --bg-color: #3B4455;\n",
              "      --fill-color: #D2E3FC;\n",
              "      --hover-bg-color: #434B5C;\n",
              "      --hover-fill-color: #FFFFFF;\n",
              "      --disabled-bg-color: #3B4455;\n",
              "      --disabled-fill-color: #666;\n",
              "  }\n",
              "\n",
              "  .colab-df-quickchart {\n",
              "    background-color: var(--bg-color);\n",
              "    border: none;\n",
              "    border-radius: 50%;\n",
              "    cursor: pointer;\n",
              "    display: none;\n",
              "    fill: var(--fill-color);\n",
              "    height: 32px;\n",
              "    padding: 0;\n",
              "    width: 32px;\n",
              "  }\n",
              "\n",
              "  .colab-df-quickchart:hover {\n",
              "    background-color: var(--hover-bg-color);\n",
              "    box-shadow: 0 1px 2px rgba(60, 64, 67, 0.3), 0 1px 3px 1px rgba(60, 64, 67, 0.15);\n",
              "    fill: var(--button-hover-fill-color);\n",
              "  }\n",
              "\n",
              "  .colab-df-quickchart-complete:disabled,\n",
              "  .colab-df-quickchart-complete:disabled:hover {\n",
              "    background-color: var(--disabled-bg-color);\n",
              "    fill: var(--disabled-fill-color);\n",
              "    box-shadow: none;\n",
              "  }\n",
              "\n",
              "  .colab-df-spinner {\n",
              "    border: 2px solid var(--fill-color);\n",
              "    border-color: transparent;\n",
              "    border-bottom-color: var(--fill-color);\n",
              "    animation:\n",
              "      spin 1s steps(1) infinite;\n",
              "  }\n",
              "\n",
              "  @keyframes spin {\n",
              "    0% {\n",
              "      border-color: transparent;\n",
              "      border-bottom-color: var(--fill-color);\n",
              "      border-left-color: var(--fill-color);\n",
              "    }\n",
              "    20% {\n",
              "      border-color: transparent;\n",
              "      border-left-color: var(--fill-color);\n",
              "      border-top-color: var(--fill-color);\n",
              "    }\n",
              "    30% {\n",
              "      border-color: transparent;\n",
              "      border-left-color: var(--fill-color);\n",
              "      border-top-color: var(--fill-color);\n",
              "      border-right-color: var(--fill-color);\n",
              "    }\n",
              "    40% {\n",
              "      border-color: transparent;\n",
              "      border-right-color: var(--fill-color);\n",
              "      border-top-color: var(--fill-color);\n",
              "    }\n",
              "    60% {\n",
              "      border-color: transparent;\n",
              "      border-right-color: var(--fill-color);\n",
              "    }\n",
              "    80% {\n",
              "      border-color: transparent;\n",
              "      border-right-color: var(--fill-color);\n",
              "      border-bottom-color: var(--fill-color);\n",
              "    }\n",
              "    90% {\n",
              "      border-color: transparent;\n",
              "      border-bottom-color: var(--fill-color);\n",
              "    }\n",
              "  }\n",
              "</style>\n",
              "\n",
              "  <script>\n",
              "    async function quickchart(key) {\n",
              "      const quickchartButtonEl =\n",
              "        document.querySelector('#' + key + ' button');\n",
              "      quickchartButtonEl.disabled = true;  // To prevent multiple clicks.\n",
              "      quickchartButtonEl.classList.add('colab-df-spinner');\n",
              "      try {\n",
              "        const charts = await google.colab.kernel.invokeFunction(\n",
              "            'suggestCharts', [key], {});\n",
              "      } catch (error) {\n",
              "        console.error('Error during call to suggestCharts:', error);\n",
              "      }\n",
              "      quickchartButtonEl.classList.remove('colab-df-spinner');\n",
              "      quickchartButtonEl.classList.add('colab-df-quickchart-complete');\n",
              "    }\n",
              "    (() => {\n",
              "      let quickchartButtonEl =\n",
              "        document.querySelector('#df-8ecb1304-d2ae-4ed8-958c-1c2022fc5f08 button');\n",
              "      quickchartButtonEl.style.display =\n",
              "        google.colab.kernel.accessAllowed ? 'block' : 'none';\n",
              "    })();\n",
              "  </script>\n",
              "</div>\n",
              "\n",
              "    </div>\n",
              "  </div>\n"
            ],
            "application/vnd.google.colaboratory.intrinsic+json": {
              "type": "dataframe",
              "summary": "{\n  \"name\": \"epa_data\",\n  \"rows\": 11,\n  \"fields\": [\n    {\n      \"column\": \"date_local\",\n      \"properties\": {\n        \"dtype\": \"date\",\n        \"min\": \"1970-01-01 00:00:00.000000001\",\n        \"max\": \"2018-01-01 00:00:00\",\n        \"num_unique_values\": 3,\n        \"samples\": [\n          \"260\",\n          1,\n          \"2018-01-01\"\n        ],\n        \"semantic_type\": \"\",\n        \"description\": \"\"\n      }\n    },\n    {\n      \"column\": \"state_name\",\n      \"properties\": {\n        \"dtype\": \"category\",\n        \"num_unique_values\": 4,\n        \"samples\": [\n          52,\n          \"66\",\n          \"260\"\n        ],\n        \"semantic_type\": \"\",\n        \"description\": \"\"\n      }\n    },\n    {\n      \"column\": \"county_name\",\n      \"properties\": {\n        \"dtype\": \"category\",\n        \"num_unique_values\": 4,\n        \"samples\": [\n          149,\n          \"14\",\n          \"260\"\n        ],\n        \"semantic_type\": \"\",\n        \"description\": \"\"\n      }\n    },\n    {\n      \"column\": \"city_name\",\n      \"properties\": {\n        \"dtype\": \"category\",\n        \"num_unique_values\": 4,\n        \"samples\": [\n          190,\n          \"21\",\n          \"260\"\n        ],\n        \"semantic_type\": \"\",\n        \"description\": \"\"\n      }\n    },\n    {\n      \"column\": \"local_site_name\",\n      \"properties\": {\n        \"dtype\": \"category\",\n        \"num_unique_values\": 4,\n        \"samples\": [\n          253,\n          \"2\",\n          \"257\"\n        ],\n        \"semantic_type\": \"\",\n        \"description\": \"\"\n      }\n    },\n    {\n      \"column\": \"parameter_name\",\n      \"properties\": {\n        \"dtype\": \"category\",\n        \"num_unique_values\": 3,\n        \"samples\": [\n          \"260\",\n          1,\n          \"Carbon monoxide\"\n        ],\n        \"semantic_type\": \"\",\n        \"description\": \"\"\n      }\n    },\n    {\n      \"column\": \"units_of_measure\",\n      \"properties\": {\n        \"dtype\": \"category\",\n        \"num_unique_values\": 3,\n        \"samples\": [\n          \"260\",\n          1,\n          \"Parts per million\"\n        ],\n        \"semantic_type\": \"\",\n        \"description\": \"\"\n      }\n    },\n    {\n      \"column\": \"arithmetic_mean\",\n      \"properties\": {\n        \"dtype\": \"number\",\n        \"std\": 91.74222148046502,\n        \"min\": 0.0,\n        \"max\": 260.0,\n        \"num_unique_values\": 8,\n        \"samples\": [\n          0.40316890769230773,\n          0.2763155,\n          260.0\n        ],\n        \"semantic_type\": \"\",\n        \"description\": \"\"\n      }\n    },\n    {\n      \"column\": \"aqi\",\n      \"properties\": {\n        \"dtype\": \"number\",\n        \"std\": 89.33954580747285,\n        \"min\": 0.0,\n        \"max\": 260.0,\n        \"num_unique_values\": 8,\n        \"samples\": [\n          6.757692307692308,\n          5.0,\n          260.0\n        ],\n        \"semantic_type\": \"\",\n        \"description\": \"\"\n      }\n    }\n  ]\n}"
            }
          },
          "metadata": {},
          "execution_count": 17
        }
      ]
    },
    {
      "cell_type": "code",
      "source": [],
      "metadata": {
        "id": "vOXdYgce4Pv6"
      },
      "execution_count": null,
      "outputs": []
    },
    {
      "cell_type": "markdown",
      "source": [
        "### Use the mean() function on the aqi column\n",
        "\n",
        "Now, use the mean() function on the aqi column and assign the value to a variable population_mean. The value should be the same as the one generated by the describe() method in the above table."
      ],
      "metadata": {
        "id": "P0jI1o0e4Ttr"
      }
    },
    {
      "cell_type": "code",
      "source": [
        "population_mean = epa_data['aqi'].mean()\n",
        "population_mean"
      ],
      "metadata": {
        "colab": {
          "base_uri": "https://localhost:8080/"
        },
        "id": "ArD_8yUX4YK5",
        "outputId": "1efa6304-1e23-4827-ca20-ca62b583bbba"
      },
      "execution_count": null,
      "outputs": [
        {
          "output_type": "execute_result",
          "data": {
            "text/plain": [
              "np.float64(6.757692307692308)"
            ]
          },
          "metadata": {},
          "execution_count": 18
        }
      ]
    },
    {
      "cell_type": "markdown",
      "source": [
        "## Step 3: Statistical tests"
      ],
      "metadata": {
        "id": "9m5PRerQ4c0i"
      }
    },
    {
      "cell_type": "markdown",
      "source": [
        "### Sample with replacement\n",
        "First, name a new variable sampled_data. Then, use the sample() dataframe method to draw 50 samples from epa_data. Set replace equal to 'True' to specify sampling with replacement. For random_state, choose an arbitrary number for random seed. Make that arbitrary number 42."
      ],
      "metadata": {
        "id": "PwC5Argx4hB7"
      }
    },
    {
      "cell_type": "code",
      "source": [
        "sampled_data = epa_data.sample(n=50, replace=True, random_state=42)"
      ],
      "metadata": {
        "id": "IoQgABUq4Z_K"
      },
      "execution_count": null,
      "outputs": []
    },
    {
      "cell_type": "code",
      "source": [
        "sampled_data.head(10)"
      ],
      "metadata": {
        "colab": {
          "base_uri": "https://localhost:8080/",
          "height": 464
        },
        "id": "vV2yHclD4nvB",
        "outputId": "3a295e5c-9f46-446d-ac5e-a09ce5dc9f63"
      },
      "execution_count": null,
      "outputs": [
        {
          "output_type": "execute_result",
          "data": {
            "text/plain": [
              "     date_local      state_name    county_name   city_name  \\\n",
              "102  2018-01-01           Texas         Harris     Houston   \n",
              "106  2018-01-01      California       Imperial    Calexico   \n",
              "71   2018-01-01         Alabama      Jefferson  Birmingham   \n",
              "188  2018-01-01         Arizona       Maricopa       Tempe   \n",
              "20   2018-01-01        Virginia        Roanoke      Vinton   \n",
              "102  2018-01-01           Texas         Harris     Houston   \n",
              "121  2018-01-01  North Carolina    Mecklenburg   Charlotte   \n",
              "214  2018-01-01         Florida        Broward       Davie   \n",
              "87   2018-01-01      California       Humboldt      Eureka   \n",
              "99   2018-01-01      California  Santa Barbara      Goleta   \n",
              "\n",
              "                   local_site_name   parameter_name   units_of_measure  \\\n",
              "102                        Clinton  Carbon monoxide  Parts per million   \n",
              "106          Calexico-Ethel Street  Carbon monoxide  Parts per million   \n",
              "71           Arkadelphia/Near Road  Carbon monoxide  Parts per million   \n",
              "188                         Diablo  Carbon monoxide  Parts per million   \n",
              "20   East Vinton Elementary School  Carbon monoxide  Parts per million   \n",
              "102                        Clinton  Carbon monoxide  Parts per million   \n",
              "121           Garinger High School  Carbon monoxide  Parts per million   \n",
              "214             Daniela Banu NCORE  Carbon monoxide  Parts per million   \n",
              "87                          Jacobs  Carbon monoxide  Parts per million   \n",
              "99                          Goleta  Carbon monoxide  Parts per million   \n",
              "\n",
              "     arithmetic_mean  aqi  \n",
              "102         0.157895    2  \n",
              "106         1.183333   26  \n",
              "71          0.200000    2  \n",
              "188         0.542105   10  \n",
              "20          0.100000    1  \n",
              "102         0.157895    2  \n",
              "121         0.200000    2  \n",
              "214         0.273684    5  \n",
              "87          0.393750    5  \n",
              "99          0.222222    3  "
            ],
            "text/html": [
              "\n",
              "  <div id=\"df-1cb8ce91-3e16-47c3-bb9e-f453755a618c\" class=\"colab-df-container\">\n",
              "    <div>\n",
              "<style scoped>\n",
              "    .dataframe tbody tr th:only-of-type {\n",
              "        vertical-align: middle;\n",
              "    }\n",
              "\n",
              "    .dataframe tbody tr th {\n",
              "        vertical-align: top;\n",
              "    }\n",
              "\n",
              "    .dataframe thead th {\n",
              "        text-align: right;\n",
              "    }\n",
              "</style>\n",
              "<table border=\"1\" class=\"dataframe\">\n",
              "  <thead>\n",
              "    <tr style=\"text-align: right;\">\n",
              "      <th></th>\n",
              "      <th>date_local</th>\n",
              "      <th>state_name</th>\n",
              "      <th>county_name</th>\n",
              "      <th>city_name</th>\n",
              "      <th>local_site_name</th>\n",
              "      <th>parameter_name</th>\n",
              "      <th>units_of_measure</th>\n",
              "      <th>arithmetic_mean</th>\n",
              "      <th>aqi</th>\n",
              "    </tr>\n",
              "  </thead>\n",
              "  <tbody>\n",
              "    <tr>\n",
              "      <th>102</th>\n",
              "      <td>2018-01-01</td>\n",
              "      <td>Texas</td>\n",
              "      <td>Harris</td>\n",
              "      <td>Houston</td>\n",
              "      <td>Clinton</td>\n",
              "      <td>Carbon monoxide</td>\n",
              "      <td>Parts per million</td>\n",
              "      <td>0.157895</td>\n",
              "      <td>2</td>\n",
              "    </tr>\n",
              "    <tr>\n",
              "      <th>106</th>\n",
              "      <td>2018-01-01</td>\n",
              "      <td>California</td>\n",
              "      <td>Imperial</td>\n",
              "      <td>Calexico</td>\n",
              "      <td>Calexico-Ethel Street</td>\n",
              "      <td>Carbon monoxide</td>\n",
              "      <td>Parts per million</td>\n",
              "      <td>1.183333</td>\n",
              "      <td>26</td>\n",
              "    </tr>\n",
              "    <tr>\n",
              "      <th>71</th>\n",
              "      <td>2018-01-01</td>\n",
              "      <td>Alabama</td>\n",
              "      <td>Jefferson</td>\n",
              "      <td>Birmingham</td>\n",
              "      <td>Arkadelphia/Near Road</td>\n",
              "      <td>Carbon monoxide</td>\n",
              "      <td>Parts per million</td>\n",
              "      <td>0.200000</td>\n",
              "      <td>2</td>\n",
              "    </tr>\n",
              "    <tr>\n",
              "      <th>188</th>\n",
              "      <td>2018-01-01</td>\n",
              "      <td>Arizona</td>\n",
              "      <td>Maricopa</td>\n",
              "      <td>Tempe</td>\n",
              "      <td>Diablo</td>\n",
              "      <td>Carbon monoxide</td>\n",
              "      <td>Parts per million</td>\n",
              "      <td>0.542105</td>\n",
              "      <td>10</td>\n",
              "    </tr>\n",
              "    <tr>\n",
              "      <th>20</th>\n",
              "      <td>2018-01-01</td>\n",
              "      <td>Virginia</td>\n",
              "      <td>Roanoke</td>\n",
              "      <td>Vinton</td>\n",
              "      <td>East Vinton Elementary School</td>\n",
              "      <td>Carbon monoxide</td>\n",
              "      <td>Parts per million</td>\n",
              "      <td>0.100000</td>\n",
              "      <td>1</td>\n",
              "    </tr>\n",
              "    <tr>\n",
              "      <th>102</th>\n",
              "      <td>2018-01-01</td>\n",
              "      <td>Texas</td>\n",
              "      <td>Harris</td>\n",
              "      <td>Houston</td>\n",
              "      <td>Clinton</td>\n",
              "      <td>Carbon monoxide</td>\n",
              "      <td>Parts per million</td>\n",
              "      <td>0.157895</td>\n",
              "      <td>2</td>\n",
              "    </tr>\n",
              "    <tr>\n",
              "      <th>121</th>\n",
              "      <td>2018-01-01</td>\n",
              "      <td>North Carolina</td>\n",
              "      <td>Mecklenburg</td>\n",
              "      <td>Charlotte</td>\n",
              "      <td>Garinger High School</td>\n",
              "      <td>Carbon monoxide</td>\n",
              "      <td>Parts per million</td>\n",
              "      <td>0.200000</td>\n",
              "      <td>2</td>\n",
              "    </tr>\n",
              "    <tr>\n",
              "      <th>214</th>\n",
              "      <td>2018-01-01</td>\n",
              "      <td>Florida</td>\n",
              "      <td>Broward</td>\n",
              "      <td>Davie</td>\n",
              "      <td>Daniela Banu NCORE</td>\n",
              "      <td>Carbon monoxide</td>\n",
              "      <td>Parts per million</td>\n",
              "      <td>0.273684</td>\n",
              "      <td>5</td>\n",
              "    </tr>\n",
              "    <tr>\n",
              "      <th>87</th>\n",
              "      <td>2018-01-01</td>\n",
              "      <td>California</td>\n",
              "      <td>Humboldt</td>\n",
              "      <td>Eureka</td>\n",
              "      <td>Jacobs</td>\n",
              "      <td>Carbon monoxide</td>\n",
              "      <td>Parts per million</td>\n",
              "      <td>0.393750</td>\n",
              "      <td>5</td>\n",
              "    </tr>\n",
              "    <tr>\n",
              "      <th>99</th>\n",
              "      <td>2018-01-01</td>\n",
              "      <td>California</td>\n",
              "      <td>Santa Barbara</td>\n",
              "      <td>Goleta</td>\n",
              "      <td>Goleta</td>\n",
              "      <td>Carbon monoxide</td>\n",
              "      <td>Parts per million</td>\n",
              "      <td>0.222222</td>\n",
              "      <td>3</td>\n",
              "    </tr>\n",
              "  </tbody>\n",
              "</table>\n",
              "</div>\n",
              "    <div class=\"colab-df-buttons\">\n",
              "\n",
              "  <div class=\"colab-df-container\">\n",
              "    <button class=\"colab-df-convert\" onclick=\"convertToInteractive('df-1cb8ce91-3e16-47c3-bb9e-f453755a618c')\"\n",
              "            title=\"Convert this dataframe to an interactive table.\"\n",
              "            style=\"display:none;\">\n",
              "\n",
              "  <svg xmlns=\"http://www.w3.org/2000/svg\" height=\"24px\" viewBox=\"0 -960 960 960\">\n",
              "    <path d=\"M120-120v-720h720v720H120Zm60-500h600v-160H180v160Zm220 220h160v-160H400v160Zm0 220h160v-160H400v160ZM180-400h160v-160H180v160Zm440 0h160v-160H620v160ZM180-180h160v-160H180v160Zm440 0h160v-160H620v160Z\"/>\n",
              "  </svg>\n",
              "    </button>\n",
              "\n",
              "  <style>\n",
              "    .colab-df-container {\n",
              "      display:flex;\n",
              "      gap: 12px;\n",
              "    }\n",
              "\n",
              "    .colab-df-convert {\n",
              "      background-color: #E8F0FE;\n",
              "      border: none;\n",
              "      border-radius: 50%;\n",
              "      cursor: pointer;\n",
              "      display: none;\n",
              "      fill: #1967D2;\n",
              "      height: 32px;\n",
              "      padding: 0 0 0 0;\n",
              "      width: 32px;\n",
              "    }\n",
              "\n",
              "    .colab-df-convert:hover {\n",
              "      background-color: #E2EBFA;\n",
              "      box-shadow: 0px 1px 2px rgba(60, 64, 67, 0.3), 0px 1px 3px 1px rgba(60, 64, 67, 0.15);\n",
              "      fill: #174EA6;\n",
              "    }\n",
              "\n",
              "    .colab-df-buttons div {\n",
              "      margin-bottom: 4px;\n",
              "    }\n",
              "\n",
              "    [theme=dark] .colab-df-convert {\n",
              "      background-color: #3B4455;\n",
              "      fill: #D2E3FC;\n",
              "    }\n",
              "\n",
              "    [theme=dark] .colab-df-convert:hover {\n",
              "      background-color: #434B5C;\n",
              "      box-shadow: 0px 1px 3px 1px rgba(0, 0, 0, 0.15);\n",
              "      filter: drop-shadow(0px 1px 2px rgba(0, 0, 0, 0.3));\n",
              "      fill: #FFFFFF;\n",
              "    }\n",
              "  </style>\n",
              "\n",
              "    <script>\n",
              "      const buttonEl =\n",
              "        document.querySelector('#df-1cb8ce91-3e16-47c3-bb9e-f453755a618c button.colab-df-convert');\n",
              "      buttonEl.style.display =\n",
              "        google.colab.kernel.accessAllowed ? 'block' : 'none';\n",
              "\n",
              "      async function convertToInteractive(key) {\n",
              "        const element = document.querySelector('#df-1cb8ce91-3e16-47c3-bb9e-f453755a618c');\n",
              "        const dataTable =\n",
              "          await google.colab.kernel.invokeFunction('convertToInteractive',\n",
              "                                                    [key], {});\n",
              "        if (!dataTable) return;\n",
              "\n",
              "        const docLinkHtml = 'Like what you see? Visit the ' +\n",
              "          '<a target=\"_blank\" href=https://colab.research.google.com/notebooks/data_table.ipynb>data table notebook</a>'\n",
              "          + ' to learn more about interactive tables.';\n",
              "        element.innerHTML = '';\n",
              "        dataTable['output_type'] = 'display_data';\n",
              "        await google.colab.output.renderOutput(dataTable, element);\n",
              "        const docLink = document.createElement('div');\n",
              "        docLink.innerHTML = docLinkHtml;\n",
              "        element.appendChild(docLink);\n",
              "      }\n",
              "    </script>\n",
              "  </div>\n",
              "\n",
              "\n",
              "<div id=\"df-f6a3ceb2-2bbf-49ee-8b41-5ab325f9df11\">\n",
              "  <button class=\"colab-df-quickchart\" onclick=\"quickchart('df-f6a3ceb2-2bbf-49ee-8b41-5ab325f9df11')\"\n",
              "            title=\"Suggest charts\"\n",
              "            style=\"display:none;\">\n",
              "\n",
              "<svg xmlns=\"http://www.w3.org/2000/svg\" height=\"24px\"viewBox=\"0 0 24 24\"\n",
              "     width=\"24px\">\n",
              "    <g>\n",
              "        <path d=\"M19 3H5c-1.1 0-2 .9-2 2v14c0 1.1.9 2 2 2h14c1.1 0 2-.9 2-2V5c0-1.1-.9-2-2-2zM9 17H7v-7h2v7zm4 0h-2V7h2v10zm4 0h-2v-4h2v4z\"/>\n",
              "    </g>\n",
              "</svg>\n",
              "  </button>\n",
              "\n",
              "<style>\n",
              "  .colab-df-quickchart {\n",
              "      --bg-color: #E8F0FE;\n",
              "      --fill-color: #1967D2;\n",
              "      --hover-bg-color: #E2EBFA;\n",
              "      --hover-fill-color: #174EA6;\n",
              "      --disabled-fill-color: #AAA;\n",
              "      --disabled-bg-color: #DDD;\n",
              "  }\n",
              "\n",
              "  [theme=dark] .colab-df-quickchart {\n",
              "      --bg-color: #3B4455;\n",
              "      --fill-color: #D2E3FC;\n",
              "      --hover-bg-color: #434B5C;\n",
              "      --hover-fill-color: #FFFFFF;\n",
              "      --disabled-bg-color: #3B4455;\n",
              "      --disabled-fill-color: #666;\n",
              "  }\n",
              "\n",
              "  .colab-df-quickchart {\n",
              "    background-color: var(--bg-color);\n",
              "    border: none;\n",
              "    border-radius: 50%;\n",
              "    cursor: pointer;\n",
              "    display: none;\n",
              "    fill: var(--fill-color);\n",
              "    height: 32px;\n",
              "    padding: 0;\n",
              "    width: 32px;\n",
              "  }\n",
              "\n",
              "  .colab-df-quickchart:hover {\n",
              "    background-color: var(--hover-bg-color);\n",
              "    box-shadow: 0 1px 2px rgba(60, 64, 67, 0.3), 0 1px 3px 1px rgba(60, 64, 67, 0.15);\n",
              "    fill: var(--button-hover-fill-color);\n",
              "  }\n",
              "\n",
              "  .colab-df-quickchart-complete:disabled,\n",
              "  .colab-df-quickchart-complete:disabled:hover {\n",
              "    background-color: var(--disabled-bg-color);\n",
              "    fill: var(--disabled-fill-color);\n",
              "    box-shadow: none;\n",
              "  }\n",
              "\n",
              "  .colab-df-spinner {\n",
              "    border: 2px solid var(--fill-color);\n",
              "    border-color: transparent;\n",
              "    border-bottom-color: var(--fill-color);\n",
              "    animation:\n",
              "      spin 1s steps(1) infinite;\n",
              "  }\n",
              "\n",
              "  @keyframes spin {\n",
              "    0% {\n",
              "      border-color: transparent;\n",
              "      border-bottom-color: var(--fill-color);\n",
              "      border-left-color: var(--fill-color);\n",
              "    }\n",
              "    20% {\n",
              "      border-color: transparent;\n",
              "      border-left-color: var(--fill-color);\n",
              "      border-top-color: var(--fill-color);\n",
              "    }\n",
              "    30% {\n",
              "      border-color: transparent;\n",
              "      border-left-color: var(--fill-color);\n",
              "      border-top-color: var(--fill-color);\n",
              "      border-right-color: var(--fill-color);\n",
              "    }\n",
              "    40% {\n",
              "      border-color: transparent;\n",
              "      border-right-color: var(--fill-color);\n",
              "      border-top-color: var(--fill-color);\n",
              "    }\n",
              "    60% {\n",
              "      border-color: transparent;\n",
              "      border-right-color: var(--fill-color);\n",
              "    }\n",
              "    80% {\n",
              "      border-color: transparent;\n",
              "      border-right-color: var(--fill-color);\n",
              "      border-bottom-color: var(--fill-color);\n",
              "    }\n",
              "    90% {\n",
              "      border-color: transparent;\n",
              "      border-bottom-color: var(--fill-color);\n",
              "    }\n",
              "  }\n",
              "</style>\n",
              "\n",
              "  <script>\n",
              "    async function quickchart(key) {\n",
              "      const quickchartButtonEl =\n",
              "        document.querySelector('#' + key + ' button');\n",
              "      quickchartButtonEl.disabled = true;  // To prevent multiple clicks.\n",
              "      quickchartButtonEl.classList.add('colab-df-spinner');\n",
              "      try {\n",
              "        const charts = await google.colab.kernel.invokeFunction(\n",
              "            'suggestCharts', [key], {});\n",
              "      } catch (error) {\n",
              "        console.error('Error during call to suggestCharts:', error);\n",
              "      }\n",
              "      quickchartButtonEl.classList.remove('colab-df-spinner');\n",
              "      quickchartButtonEl.classList.add('colab-df-quickchart-complete');\n",
              "    }\n",
              "    (() => {\n",
              "      let quickchartButtonEl =\n",
              "        document.querySelector('#df-f6a3ceb2-2bbf-49ee-8b41-5ab325f9df11 button');\n",
              "      quickchartButtonEl.style.display =\n",
              "        google.colab.kernel.accessAllowed ? 'block' : 'none';\n",
              "    })();\n",
              "  </script>\n",
              "</div>\n",
              "\n",
              "    </div>\n",
              "  </div>\n"
            ],
            "application/vnd.google.colaboratory.intrinsic+json": {
              "type": "dataframe",
              "variable_name": "sampled_data",
              "repr_error": "0"
            }
          },
          "metadata": {},
          "execution_count": 20
        }
      ]
    },
    {
      "cell_type": "markdown",
      "source": [
        "### Compute the mean value from the aqi column\n",
        "Compute the mean value from the aqi column in sampled_data and assign the value to the variable sample_mean."
      ],
      "metadata": {
        "id": "0Jo9M-Bs6PFF"
      }
    },
    {
      "cell_type": "code",
      "source": [
        "sample_mean = sampled_data['aqi'].mean()\n",
        "sample_mean"
      ],
      "metadata": {
        "colab": {
          "base_uri": "https://localhost:8080/"
        },
        "id": "T1DenDRz6R3J",
        "outputId": "6438fa9b-971c-4c63-990a-041a15af515f"
      },
      "execution_count": null,
      "outputs": [
        {
          "output_type": "execute_result",
          "data": {
            "text/plain": [
              "np.float64(5.54)"
            ]
          },
          "metadata": {},
          "execution_count": 28
        }
      ]
    },
    {
      "cell_type": "markdown",
      "source": [
        "### Apply the central limit theorem\n",
        "Imagine repeating the the earlier sample with replacement 10,000 times and obtaining 10,000 point estimates of the mean. In other words, imagine taking 10,000 random samples of 50 AQI values and computing the mean for each sample. According to the **central limit theorem**, the mean of a sampling distribution should be roughly equal to the population mean. Complete the following steps to compute the mean of the sampling distribution with 10,000 samples.\n",
        "\n",
        "  - Create an empty list and assign it to a variable called estimate_list.\n",
        "\n",
        "  - Iterate through a for loop 10,000 times. To do this, make sure to utilize the range() function to generate a sequence of numbers from 0 to 9,999.\n",
        "\n",
        "  - In each iteration of the loop, use the sample() function to take a random sample (with replacement) of 50 AQI values from the population. Do not set random_state to a value.\n",
        "  \n",
        "  - Use the list append() function to add the value of the sample mean to each item in the list."
      ],
      "metadata": {
        "id": "n5_opaKq4sra"
      }
    },
    {
      "cell_type": "code",
      "source": [
        "estimate_list = []\n",
        "for i in range(10000):\n",
        "    estimate_list.append(epa_data['aqi'].sample(n=50,replace=True).mean())"
      ],
      "metadata": {
        "id": "t_-xF4m-4oZy"
      },
      "execution_count": null,
      "outputs": []
    },
    {
      "cell_type": "markdown",
      "source": [
        "### Create a new DataFrame\n",
        "Next, create a new DataFrame from the list of 10,000 estimates. Name the new variable estimate_df."
      ],
      "metadata": {
        "id": "pEgFtLNg488j"
      }
    },
    {
      "cell_type": "code",
      "source": [
        "\n",
        "estimate_df = pd.DataFrame(data={'estimate': estimate_list})\n",
        "estimate_df"
      ],
      "metadata": {
        "colab": {
          "base_uri": "https://localhost:8080/",
          "height": 419
        },
        "id": "h_JJvasa46vw",
        "outputId": "25b7a8c1-77f7-42da-9c4e-2b82d870047b"
      },
      "execution_count": null,
      "outputs": [
        {
          "output_type": "execute_result",
          "data": {
            "text/plain": [
              "      estimate\n",
              "0         6.72\n",
              "1         7.92\n",
              "2         8.76\n",
              "3         7.48\n",
              "4         6.54\n",
              "...        ...\n",
              "9995      7.38\n",
              "9996      5.20\n",
              "9997      4.78\n",
              "9998      8.62\n",
              "9999      8.60\n",
              "\n",
              "[10000 rows x 1 columns]"
            ],
            "text/html": [
              "\n",
              "  <div id=\"df-1a3b933e-56d0-464a-ac17-6268f033142e\" class=\"colab-df-container\">\n",
              "    <div>\n",
              "<style scoped>\n",
              "    .dataframe tbody tr th:only-of-type {\n",
              "        vertical-align: middle;\n",
              "    }\n",
              "\n",
              "    .dataframe tbody tr th {\n",
              "        vertical-align: top;\n",
              "    }\n",
              "\n",
              "    .dataframe thead th {\n",
              "        text-align: right;\n",
              "    }\n",
              "</style>\n",
              "<table border=\"1\" class=\"dataframe\">\n",
              "  <thead>\n",
              "    <tr style=\"text-align: right;\">\n",
              "      <th></th>\n",
              "      <th>estimate</th>\n",
              "    </tr>\n",
              "  </thead>\n",
              "  <tbody>\n",
              "    <tr>\n",
              "      <th>0</th>\n",
              "      <td>6.72</td>\n",
              "    </tr>\n",
              "    <tr>\n",
              "      <th>1</th>\n",
              "      <td>7.92</td>\n",
              "    </tr>\n",
              "    <tr>\n",
              "      <th>2</th>\n",
              "      <td>8.76</td>\n",
              "    </tr>\n",
              "    <tr>\n",
              "      <th>3</th>\n",
              "      <td>7.48</td>\n",
              "    </tr>\n",
              "    <tr>\n",
              "      <th>4</th>\n",
              "      <td>6.54</td>\n",
              "    </tr>\n",
              "    <tr>\n",
              "      <th>...</th>\n",
              "      <td>...</td>\n",
              "    </tr>\n",
              "    <tr>\n",
              "      <th>9995</th>\n",
              "      <td>7.38</td>\n",
              "    </tr>\n",
              "    <tr>\n",
              "      <th>9996</th>\n",
              "      <td>5.20</td>\n",
              "    </tr>\n",
              "    <tr>\n",
              "      <th>9997</th>\n",
              "      <td>4.78</td>\n",
              "    </tr>\n",
              "    <tr>\n",
              "      <th>9998</th>\n",
              "      <td>8.62</td>\n",
              "    </tr>\n",
              "    <tr>\n",
              "      <th>9999</th>\n",
              "      <td>8.60</td>\n",
              "    </tr>\n",
              "  </tbody>\n",
              "</table>\n",
              "<p>10000 rows × 1 columns</p>\n",
              "</div>\n",
              "    <div class=\"colab-df-buttons\">\n",
              "\n",
              "  <div class=\"colab-df-container\">\n",
              "    <button class=\"colab-df-convert\" onclick=\"convertToInteractive('df-1a3b933e-56d0-464a-ac17-6268f033142e')\"\n",
              "            title=\"Convert this dataframe to an interactive table.\"\n",
              "            style=\"display:none;\">\n",
              "\n",
              "  <svg xmlns=\"http://www.w3.org/2000/svg\" height=\"24px\" viewBox=\"0 -960 960 960\">\n",
              "    <path d=\"M120-120v-720h720v720H120Zm60-500h600v-160H180v160Zm220 220h160v-160H400v160Zm0 220h160v-160H400v160ZM180-400h160v-160H180v160Zm440 0h160v-160H620v160ZM180-180h160v-160H180v160Zm440 0h160v-160H620v160Z\"/>\n",
              "  </svg>\n",
              "    </button>\n",
              "\n",
              "  <style>\n",
              "    .colab-df-container {\n",
              "      display:flex;\n",
              "      gap: 12px;\n",
              "    }\n",
              "\n",
              "    .colab-df-convert {\n",
              "      background-color: #E8F0FE;\n",
              "      border: none;\n",
              "      border-radius: 50%;\n",
              "      cursor: pointer;\n",
              "      display: none;\n",
              "      fill: #1967D2;\n",
              "      height: 32px;\n",
              "      padding: 0 0 0 0;\n",
              "      width: 32px;\n",
              "    }\n",
              "\n",
              "    .colab-df-convert:hover {\n",
              "      background-color: #E2EBFA;\n",
              "      box-shadow: 0px 1px 2px rgba(60, 64, 67, 0.3), 0px 1px 3px 1px rgba(60, 64, 67, 0.15);\n",
              "      fill: #174EA6;\n",
              "    }\n",
              "\n",
              "    .colab-df-buttons div {\n",
              "      margin-bottom: 4px;\n",
              "    }\n",
              "\n",
              "    [theme=dark] .colab-df-convert {\n",
              "      background-color: #3B4455;\n",
              "      fill: #D2E3FC;\n",
              "    }\n",
              "\n",
              "    [theme=dark] .colab-df-convert:hover {\n",
              "      background-color: #434B5C;\n",
              "      box-shadow: 0px 1px 3px 1px rgba(0, 0, 0, 0.15);\n",
              "      filter: drop-shadow(0px 1px 2px rgba(0, 0, 0, 0.3));\n",
              "      fill: #FFFFFF;\n",
              "    }\n",
              "  </style>\n",
              "\n",
              "    <script>\n",
              "      const buttonEl =\n",
              "        document.querySelector('#df-1a3b933e-56d0-464a-ac17-6268f033142e button.colab-df-convert');\n",
              "      buttonEl.style.display =\n",
              "        google.colab.kernel.accessAllowed ? 'block' : 'none';\n",
              "\n",
              "      async function convertToInteractive(key) {\n",
              "        const element = document.querySelector('#df-1a3b933e-56d0-464a-ac17-6268f033142e');\n",
              "        const dataTable =\n",
              "          await google.colab.kernel.invokeFunction('convertToInteractive',\n",
              "                                                    [key], {});\n",
              "        if (!dataTable) return;\n",
              "\n",
              "        const docLinkHtml = 'Like what you see? Visit the ' +\n",
              "          '<a target=\"_blank\" href=https://colab.research.google.com/notebooks/data_table.ipynb>data table notebook</a>'\n",
              "          + ' to learn more about interactive tables.';\n",
              "        element.innerHTML = '';\n",
              "        dataTable['output_type'] = 'display_data';\n",
              "        await google.colab.output.renderOutput(dataTable, element);\n",
              "        const docLink = document.createElement('div');\n",
              "        docLink.innerHTML = docLinkHtml;\n",
              "        element.appendChild(docLink);\n",
              "      }\n",
              "    </script>\n",
              "  </div>\n",
              "\n",
              "\n",
              "<div id=\"df-6bc40f60-d670-4655-a9b6-5383e2edf213\">\n",
              "  <button class=\"colab-df-quickchart\" onclick=\"quickchart('df-6bc40f60-d670-4655-a9b6-5383e2edf213')\"\n",
              "            title=\"Suggest charts\"\n",
              "            style=\"display:none;\">\n",
              "\n",
              "<svg xmlns=\"http://www.w3.org/2000/svg\" height=\"24px\"viewBox=\"0 0 24 24\"\n",
              "     width=\"24px\">\n",
              "    <g>\n",
              "        <path d=\"M19 3H5c-1.1 0-2 .9-2 2v14c0 1.1.9 2 2 2h14c1.1 0 2-.9 2-2V5c0-1.1-.9-2-2-2zM9 17H7v-7h2v7zm4 0h-2V7h2v10zm4 0h-2v-4h2v4z\"/>\n",
              "    </g>\n",
              "</svg>\n",
              "  </button>\n",
              "\n",
              "<style>\n",
              "  .colab-df-quickchart {\n",
              "      --bg-color: #E8F0FE;\n",
              "      --fill-color: #1967D2;\n",
              "      --hover-bg-color: #E2EBFA;\n",
              "      --hover-fill-color: #174EA6;\n",
              "      --disabled-fill-color: #AAA;\n",
              "      --disabled-bg-color: #DDD;\n",
              "  }\n",
              "\n",
              "  [theme=dark] .colab-df-quickchart {\n",
              "      --bg-color: #3B4455;\n",
              "      --fill-color: #D2E3FC;\n",
              "      --hover-bg-color: #434B5C;\n",
              "      --hover-fill-color: #FFFFFF;\n",
              "      --disabled-bg-color: #3B4455;\n",
              "      --disabled-fill-color: #666;\n",
              "  }\n",
              "\n",
              "  .colab-df-quickchart {\n",
              "    background-color: var(--bg-color);\n",
              "    border: none;\n",
              "    border-radius: 50%;\n",
              "    cursor: pointer;\n",
              "    display: none;\n",
              "    fill: var(--fill-color);\n",
              "    height: 32px;\n",
              "    padding: 0;\n",
              "    width: 32px;\n",
              "  }\n",
              "\n",
              "  .colab-df-quickchart:hover {\n",
              "    background-color: var(--hover-bg-color);\n",
              "    box-shadow: 0 1px 2px rgba(60, 64, 67, 0.3), 0 1px 3px 1px rgba(60, 64, 67, 0.15);\n",
              "    fill: var(--button-hover-fill-color);\n",
              "  }\n",
              "\n",
              "  .colab-df-quickchart-complete:disabled,\n",
              "  .colab-df-quickchart-complete:disabled:hover {\n",
              "    background-color: var(--disabled-bg-color);\n",
              "    fill: var(--disabled-fill-color);\n",
              "    box-shadow: none;\n",
              "  }\n",
              "\n",
              "  .colab-df-spinner {\n",
              "    border: 2px solid var(--fill-color);\n",
              "    border-color: transparent;\n",
              "    border-bottom-color: var(--fill-color);\n",
              "    animation:\n",
              "      spin 1s steps(1) infinite;\n",
              "  }\n",
              "\n",
              "  @keyframes spin {\n",
              "    0% {\n",
              "      border-color: transparent;\n",
              "      border-bottom-color: var(--fill-color);\n",
              "      border-left-color: var(--fill-color);\n",
              "    }\n",
              "    20% {\n",
              "      border-color: transparent;\n",
              "      border-left-color: var(--fill-color);\n",
              "      border-top-color: var(--fill-color);\n",
              "    }\n",
              "    30% {\n",
              "      border-color: transparent;\n",
              "      border-left-color: var(--fill-color);\n",
              "      border-top-color: var(--fill-color);\n",
              "      border-right-color: var(--fill-color);\n",
              "    }\n",
              "    40% {\n",
              "      border-color: transparent;\n",
              "      border-right-color: var(--fill-color);\n",
              "      border-top-color: var(--fill-color);\n",
              "    }\n",
              "    60% {\n",
              "      border-color: transparent;\n",
              "      border-right-color: var(--fill-color);\n",
              "    }\n",
              "    80% {\n",
              "      border-color: transparent;\n",
              "      border-right-color: var(--fill-color);\n",
              "      border-bottom-color: var(--fill-color);\n",
              "    }\n",
              "    90% {\n",
              "      border-color: transparent;\n",
              "      border-bottom-color: var(--fill-color);\n",
              "    }\n",
              "  }\n",
              "</style>\n",
              "\n",
              "  <script>\n",
              "    async function quickchart(key) {\n",
              "      const quickchartButtonEl =\n",
              "        document.querySelector('#' + key + ' button');\n",
              "      quickchartButtonEl.disabled = true;  // To prevent multiple clicks.\n",
              "      quickchartButtonEl.classList.add('colab-df-spinner');\n",
              "      try {\n",
              "        const charts = await google.colab.kernel.invokeFunction(\n",
              "            'suggestCharts', [key], {});\n",
              "      } catch (error) {\n",
              "        console.error('Error during call to suggestCharts:', error);\n",
              "      }\n",
              "      quickchartButtonEl.classList.remove('colab-df-spinner');\n",
              "      quickchartButtonEl.classList.add('colab-df-quickchart-complete');\n",
              "    }\n",
              "    (() => {\n",
              "      let quickchartButtonEl =\n",
              "        document.querySelector('#df-6bc40f60-d670-4655-a9b6-5383e2edf213 button');\n",
              "      quickchartButtonEl.style.display =\n",
              "        google.colab.kernel.accessAllowed ? 'block' : 'none';\n",
              "    })();\n",
              "  </script>\n",
              "</div>\n",
              "\n",
              "  <div id=\"id_5499f942-e2a3-4a99-a1ce-e5c0229a8f6f\">\n",
              "    <style>\n",
              "      .colab-df-generate {\n",
              "        background-color: #E8F0FE;\n",
              "        border: none;\n",
              "        border-radius: 50%;\n",
              "        cursor: pointer;\n",
              "        display: none;\n",
              "        fill: #1967D2;\n",
              "        height: 32px;\n",
              "        padding: 0 0 0 0;\n",
              "        width: 32px;\n",
              "      }\n",
              "\n",
              "      .colab-df-generate:hover {\n",
              "        background-color: #E2EBFA;\n",
              "        box-shadow: 0px 1px 2px rgba(60, 64, 67, 0.3), 0px 1px 3px 1px rgba(60, 64, 67, 0.15);\n",
              "        fill: #174EA6;\n",
              "      }\n",
              "\n",
              "      [theme=dark] .colab-df-generate {\n",
              "        background-color: #3B4455;\n",
              "        fill: #D2E3FC;\n",
              "      }\n",
              "\n",
              "      [theme=dark] .colab-df-generate:hover {\n",
              "        background-color: #434B5C;\n",
              "        box-shadow: 0px 1px 3px 1px rgba(0, 0, 0, 0.15);\n",
              "        filter: drop-shadow(0px 1px 2px rgba(0, 0, 0, 0.3));\n",
              "        fill: #FFFFFF;\n",
              "      }\n",
              "    </style>\n",
              "    <button class=\"colab-df-generate\" onclick=\"generateWithVariable('estimate_df')\"\n",
              "            title=\"Generate code using this dataframe.\"\n",
              "            style=\"display:none;\">\n",
              "\n",
              "  <svg xmlns=\"http://www.w3.org/2000/svg\" height=\"24px\"viewBox=\"0 0 24 24\"\n",
              "       width=\"24px\">\n",
              "    <path d=\"M7,19H8.4L18.45,9,17,7.55,7,17.6ZM5,21V16.75L18.45,3.32a2,2,0,0,1,2.83,0l1.4,1.43a1.91,1.91,0,0,1,.58,1.4,1.91,1.91,0,0,1-.58,1.4L9.25,21ZM18.45,9,17,7.55Zm-12,3A5.31,5.31,0,0,0,4.9,8.1,5.31,5.31,0,0,0,1,6.5,5.31,5.31,0,0,0,4.9,4.9,5.31,5.31,0,0,0,6.5,1,5.31,5.31,0,0,0,8.1,4.9,5.31,5.31,0,0,0,12,6.5,5.46,5.46,0,0,0,6.5,12Z\"/>\n",
              "  </svg>\n",
              "    </button>\n",
              "    <script>\n",
              "      (() => {\n",
              "      const buttonEl =\n",
              "        document.querySelector('#id_5499f942-e2a3-4a99-a1ce-e5c0229a8f6f button.colab-df-generate');\n",
              "      buttonEl.style.display =\n",
              "        google.colab.kernel.accessAllowed ? 'block' : 'none';\n",
              "\n",
              "      buttonEl.onclick = () => {\n",
              "        google.colab.notebook.generateWithVariable('estimate_df');\n",
              "      }\n",
              "      })();\n",
              "    </script>\n",
              "  </div>\n",
              "\n",
              "    </div>\n",
              "  </div>\n"
            ],
            "application/vnd.google.colaboratory.intrinsic+json": {
              "type": "dataframe",
              "variable_name": "estimate_df",
              "summary": "{\n  \"name\": \"estimate_df\",\n  \"rows\": 10000,\n  \"fields\": [\n    {\n      \"column\": \"estimate\",\n      \"properties\": {\n        \"dtype\": \"number\",\n        \"std\": 0.9892603110972927,\n        \"min\": 3.64,\n        \"max\": 11.18,\n        \"num_unique_values\": 309,\n        \"samples\": [\n          8.98,\n          5.08,\n          5.22\n        ],\n        \"semantic_type\": \"\",\n        \"description\": \"\"\n      }\n    }\n  ]\n}"
            }
          },
          "metadata": {},
          "execution_count": 22
        }
      ]
    },
    {
      "cell_type": "markdown",
      "source": [
        "### Compute the mean() of the sampling distribution\n",
        "\n",
        "Next, compute the mean() of the sampling distribution of 10,000 random samples and store the result in a new variable mean_sample_means."
      ],
      "metadata": {
        "id": "i8xVZuN85Diy"
      }
    },
    {
      "cell_type": "code",
      "source": [
        "mean_sample_means = estimate_df['estimate'].mean()\n",
        "mean_sample_means"
      ],
      "metadata": {
        "colab": {
          "base_uri": "https://localhost:8080/"
        },
        "id": "p_mMyWC85A2T",
        "outputId": "2229bce9-8edc-4ec0-8ff7-f8e0a05bbaac"
      },
      "execution_count": null,
      "outputs": [
        {
          "output_type": "execute_result",
          "data": {
            "text/plain": [
              "np.float64(6.752478)"
            ]
          },
          "metadata": {},
          "execution_count": 23
        }
      ]
    },
    {
      "cell_type": "markdown",
      "source": [
        "### Output the distribution using a histogram\n",
        "Output the distribution of these estimates using a histogram. This provides an idea of the sampling distribution."
      ],
      "metadata": {
        "id": "kplpNIyK5N3w"
      }
    },
    {
      "cell_type": "code",
      "source": [
        "estimate_df['estimate'].hist()"
      ],
      "metadata": {
        "colab": {
          "base_uri": "https://localhost:8080/",
          "height": 447
        },
        "id": "faHYdbaU5Q9C",
        "outputId": "0ebc7ed7-b6ba-4428-a56e-76435927c687"
      },
      "execution_count": null,
      "outputs": [
        {
          "output_type": "execute_result",
          "data": {
            "text/plain": [
              "<Axes: >"
            ]
          },
          "metadata": {},
          "execution_count": 24
        },
        {
          "output_type": "display_data",
          "data": {
            "text/plain": [
              "<Figure size 640x480 with 1 Axes>"
            ],
            "image/png": "[encoded data removed]"
          },
          "metadata": {}
        }
      ]
    },
    {
      "cell_type": "markdown",
      "source": [
        "### Calculate the standard error\n",
        "Calculate the standard error of the mean AQI using the initial sample of 50. The standard error of a statistic measures the sample-to-sample variability of the sample statistic. It provides a numerical measure of sampling variability and answers the question: How far is a statistic based on one particular sample from the actual value of the statistic?"
      ],
      "metadata": {
        "id": "Axtw-ZPX5R7g"
      }
    },
    {
      "cell_type": "code",
      "source": [
        "standard_error = sampled_data['aqi'].std() / np.sqrt(len(sampled_data))\n",
        "standard_error"
      ],
      "metadata": {
        "colab": {
          "base_uri": "https://localhost:8080/"
        },
        "id": "DaIKuf1E5W1t",
        "outputId": "4badcf4a-fe08-4cb5-f37f-5dd534d8e3e2"
      },
      "execution_count": null,
      "outputs": [
        {
          "output_type": "execute_result",
          "data": {
            "text/plain": [
              "np.float64(0.7413225908290327)"
            ]
          },
          "metadata": {},
          "execution_count": 25
        }
      ]
    },
    {
      "cell_type": "markdown",
      "source": [
        "## Step 4 : Results and evaluation"
      ],
      "metadata": {
        "id": "X7yl8Xt05aaE"
      }
    },
    {
      "cell_type": "markdown",
      "source": [
        "### Visualize the relationship between the sampling and normal distributions\n",
        "Visualize the relationship between your sampling distribution of 10,000 estimates and the normal distribution. The following code overlays the density curve of the normal distribution described in the theorem on top of the histogram of the sampling distribution obtained by repeated sampling. The solid magenta line in the graph is the population mean, the blue dotted line is the mean of the 10,000 sample means, and the red dashed line is the mean of the first random sample of 50."
      ],
      "metadata": {
        "id": "ga9jVAcl5eGv"
      }
    },
    {
      "cell_type": "code",
      "source": [
        " # Generate a grid of 100 values from xmin to xmax.\n",
        "\n",
        "plt.figure(figsize=(8,5))\n",
        "plt.hist(estimate_df['estimate'], bins=25, density=True, alpha=0.4, label = \"histogram of sample means of 10000 random samples\")\n",
        "xmin, xmax = plt.xlim()\n",
        "x = np.linspace(xmin, xmax, 100) # generate a grid of 100 values from xmin to xmax.\n",
        "p = stats.norm.pdf(x, population_mean, standard_error)\n",
        "plt.plot(x, p, 'k', linewidth=2, label = 'normal curve from central limit theorem')\n",
        "plt.axvline(x=population_mean, color='m', linestyle = 'solid', label = 'population mean')\n",
        "plt.axvline(x=sample_mean, color='r', linestyle = '--', label = 'sample mean of the first random sample')\n",
        "plt.axvline(x=mean_sample_means, color='b', linestyle = ':', label = 'mean of sample means of 10000 random samples')\n",
        "plt.title(\"Sampling distribution of sample mean\")\n",
        "plt.xlabel('sample mean')\n",
        "plt.ylabel('density')\n",
        "plt.legend(bbox_to_anchor=(1.04,1));"
      ],
      "metadata": {
        "colab": {
          "base_uri": "https://localhost:8080/",
          "height": 273
        },
        "id": "xN7Po5ph5irA",
        "outputId": "fbd7af53-0646-49ae-e39f-a0d6c1b39ef1"
      },
      "execution_count": null,
      "outputs": [
        {
          "output_type": "display_data",
          "data": {
            "text/plain": [
              "<Figure size 800x500 with 1 Axes>"
            ],
            "image/png": "[encoded data removed]"
          },
          "metadata": {}
        }
      ]
    },
    {
      "cell_type": "markdown",
      "source": [
        "# Confidence Intervals"
      ],
      "metadata": {
        "id": "QMSIy4RcF9it"
      }
    },
    {
      "cell_type": "code",
      "source": [
        "import numpy as np\n",
        "import pandas as pd\n",
        "from scipy import stats"
      ],
      "metadata": {
        "id": "gqvcS8gMGJCZ"
      },
      "execution_count": null,
      "outputs": []
    },
    {
      "cell_type": "code",
      "source": [
        "education_districtwise = pd.read_csv(\"education_districtwise.csv\")\n",
        "education_districtwise = education_districtwise.dropna()"
      ],
      "metadata": {
        "id": "q6tk3DWkb48I"
      },
      "execution_count": null,
      "outputs": []
    },
    {
      "cell_type": "markdown",
      "source": [
        "## Sampling\n",
        "\n",
        "You can also use the same sample data that you worked with earlier. Write the code to have Python simulate the same random sample of district literacy rate data. First, name your variable *sampled_data*. Then, enter the arguments of the **sample()** function.\n",
        "\n",
        "  - n: Your sample size is 50.\n",
        "\n",
        "  - replace: Choose True because you are sampling with replacement.\n",
        "\n",
        "  - random_state: Choose the same random number to generate the same results–previously, you used 31,208."
      ],
      "metadata": {
        "id": "IG9HihCdcId2"
      }
    },
    {
      "cell_type": "code",
      "source": [
        "sampled_data = education_districtwise.sample(n=50,replace=True,random_state=31208)\n",
        "sampled_data"
      ],
      "metadata": {
        "colab": {
          "base_uri": "https://localhost:8080/",
          "height": 1000
        },
        "id": "JyX84hIPcKju",
        "outputId": "97c0bbef-3dc6-47b5-ebfb-bf4eec0deab4"
      },
      "execution_count": null,
      "outputs": [
        {
          "output_type": "execute_result",
          "data": {
            "text/plain": [
              "        DISTNAME STATNAME  BLOCKS  VILLAGES  CLUSTERS  TOTPOPULAT  OVERALL_LI\n",
              "661  DISTRICT528   STATE6       9       112        89   1863174.0       92.14\n",
              "216  DISTRICT291  STATE28      14      1188       165   3273127.0       52.49\n",
              "367   DISTRICT66  STATE23      12      1169       116   1042304.0       62.14\n",
              "254  DISTRICT458   STATE3       3       157        19     82839.0       76.33\n",
              "286  DISTRICT636  STATE35       3       187        44    514683.0       86.70\n",
              "369  DISTRICT512  STATE23       6       589        30    717169.0       68.35\n",
              "258  DISTRICT156   STATE3       6        80         9     35289.0       59.94\n",
              "10   DISTRICT412   STATE1      11       187        95    476820.0       68.69\n",
              "512  DISTRICT277   STATE9      10       558       179   2298934.0       84.31\n",
              "144  DISTRICT133  STATE21      14      1672       136   3673849.0       69.61\n",
              "325    DISTRICT1  STATE33       4       534        98    957853.0       69.37\n",
              "227  DISTRICT159  STATE28      18       870       134   2954367.0       66.23\n",
              "86   DISTRICT667  STATE25       5       396        75    896129.0       82.23\n",
              "425  DISTRICT144  STATE31       7      1064       108   2662077.0       71.59\n",
              "260  DISTRICT305   STATE3       2        62         6    145538.0       69.88\n",
              "281  DISTRICT385  STATE35       6       531        30    354972.0       75.00\n",
              "262  DISTRICT552   STATE3       3       103         4    111997.0       52.23\n",
              "253  DISTRICT168   STATE3       5       312        16    176385.0       82.14\n",
              "301  DISTRICT551  STATE14       9       103        63    693281.0       88.29\n",
              "356  DISTRICT494  STATE34      25      2179       223   3596292.0       70.95\n",
              "165  DISTRICT196  STATE21      10      1354       119   1795092.0       77.52\n",
              "565  DISTRICT308  STATE17       8       721       144    848868.0       86.54\n",
              "388  DISTRICT281  STATE23       6       392        58    949159.0       73.92\n",
              "461  DISTRICT619  STATE22       5       859        57   1064989.0       68.36\n",
              "384  DISTRICT455  STATE23       9      1217        55   1063458.0       68.85\n",
              "590   DISTRICT70  STATE20       7       427        84   1846993.0       80.30\n",
              "343  DISTRICT354  STATE33       2       192        46   1260419.0       88.66\n",
              "539  DISTRICT440  STATE17      15      1465       167   2887826.0       88.23\n",
              "459  DISTRICT431  STATE22       9      1778       143   2363744.0       73.42\n",
              "667  DISTRICT123  STATE11       3        80        16    237586.0       88.49\n",
              "387  DISTRICT231  STATE23       6       657        63    530299.0       64.51\n",
              "306   DISTRICT37   STATE4       7      1083        92    642923.0       68.38\n",
              "213  DISTRICT347  STATE28      11       623        94   2228397.0       59.65\n",
              "97    DISTRICT22   STATE2       7       182         7   2531583.0       87.12\n",
              "78   DISTRICT247  STATE25       7       314        60   1332042.0       72.73\n",
              "394  DISTRICT640  STATE24      17      1857       191   1802777.0       69.00\n",
              "184  DISTRICT596  STATE21      11      1281       108   2149066.0       51.76\n",
              "147  DISTRICT335  STATE21      17      1945       138   4380793.0       69.44\n",
              "542  DISTRICT489  STATE17       7       749        63   1198810.0       85.14\n",
              "105  DISTRICT157  STATE13      14      1994       508   3671999.0       71.68\n",
              "254  DISTRICT458   STATE3       3       157        19     82839.0       76.33\n",
              "109  DISTRICT158  STATE13       6       769       211   1338114.0       66.19\n",
              "609   DISTRICT17  STATE20       4       359        59   9588910.0       88.48\n",
              "53   DISTRICT126  STATE26       3       197        21    596294.0       68.90\n",
              "81    DISTRICT45  STATE25       9       351       130   1742815.0       73.24\n",
              "516  DISTRICT300   STATE9       5       651        84    590379.0       73.29\n",
              "641  DISTRICT484   STATE6      15       333        83   1721179.0       74.92\n",
              "650  DISTRICT145   STATE6      11       489       100   1614069.0       84.09\n",
              "70    DISTRICT99  STATE25       4       279        43    558890.0       83.44\n",
              "163  DISTRICT366  STATE21       9      1330        86   1579160.0       79.99"
            ],
            "text/html": [
              "\n",
              "  <div id=\"df-d49c6333-0e0d-4786-afc5-d8399a570f09\" class=\"colab-df-container\">\n",
              "    <div>\n",
              "<style scoped>\n",
              "    .dataframe tbody tr th:only-of-type {\n",
              "        vertical-align: middle;\n",
              "    }\n",
              "\n",
              "    .dataframe tbody tr th {\n",
              "        vertical-align: top;\n",
              "    }\n",
              "\n",
              "    .dataframe thead th {\n",
              "        text-align: right;\n",
              "    }\n",
              "</style>\n",
              "<table border=\"1\" class=\"dataframe\">\n",
              "  <thead>\n",
              "    <tr style=\"text-align: right;\">\n",
              "      <th></th>\n",
              "      <th>DISTNAME</th>\n",
              "      <th>STATNAME</th>\n",
              "      <th>BLOCKS</th>\n",
              "      <th>VILLAGES</th>\n",
              "      <th>CLUSTERS</th>\n",
              "      <th>TOTPOPULAT</th>\n",
              "      <th>OVERALL_LI</th>\n",
              "    </tr>\n",
              "  </thead>\n",
              "  <tbody>\n",
              "    <tr>\n",
              "      <th>661</th>\n",
              "      <td>DISTRICT528</td>\n",
              "      <td>STATE6</td>\n",
              "      <td>9</td>\n",
              "      <td>112</td>\n",
              "      <td>89</td>\n",
              "      <td>1863174.0</td>\n",
              "      <td>92.14</td>\n",
              "    </tr>\n",
              "    <tr>\n",
              "      <th>216</th>\n",
              "      <td>DISTRICT291</td>\n",
              "      <td>STATE28</td>\n",
              "      <td>14</td>\n",
              "      <td>1188</td>\n",
              "      <td>165</td>\n",
              "      <td>3273127.0</td>\n",
              "      <td>52.49</td>\n",
              "    </tr>\n",
              "    <tr>\n",
              "      <th>367</th>\n",
              "      <td>DISTRICT66</td>\n",
              "      <td>STATE23</td>\n",
              "      <td>12</td>\n",
              "      <td>1169</td>\n",
              "      <td>116</td>\n",
              "      <td>1042304.0</td>\n",
              "      <td>62.14</td>\n",
              "    </tr>\n",
              "    <tr>\n",
              "      <th>254</th>\n",
              "      <td>DISTRICT458</td>\n",
              "      <td>STATE3</td>\n",
              "      <td>3</td>\n",
              "      <td>157</td>\n",
              "      <td>19</td>\n",
              "      <td>82839.0</td>\n",
              "      <td>76.33</td>\n",
              "    </tr>\n",
              "    <tr>\n",
              "      <th>286</th>\n",
              "      <td>DISTRICT636</td>\n",
              "      <td>STATE35</td>\n",
              "      <td>3</td>\n",
              "      <td>187</td>\n",
              "      <td>44</td>\n",
              "      <td>514683.0</td>\n",
              "      <td>86.70</td>\n",
              "    </tr>\n",
              "    <tr>\n",
              "      <th>369</th>\n",
              "      <td>DISTRICT512</td>\n",
              "      <td>STATE23</td>\n",
              "      <td>6</td>\n",
              "      <td>589</td>\n",
              "      <td>30</td>\n",
              "      <td>717169.0</td>\n",
              "      <td>68.35</td>\n",
              "    </tr>\n",
              "    <tr>\n",
              "      <th>258</th>\n",
              "      <td>DISTRICT156</td>\n",
              "      <td>STATE3</td>\n",
              "      <td>6</td>\n",
              "      <td>80</td>\n",
              "      <td>9</td>\n",
              "      <td>35289.0</td>\n",
              "      <td>59.94</td>\n",
              "    </tr>\n",
              "    <tr>\n",
              "      <th>10</th>\n",
              "      <td>DISTRICT412</td>\n",
              "      <td>STATE1</td>\n",
              "      <td>11</td>\n",
              "      <td>187</td>\n",
              "      <td>95</td>\n",
              "      <td>476820.0</td>\n",
              "      <td>68.69</td>\n",
              "    </tr>\n",
              "    <tr>\n",
              "      <th>512</th>\n",
              "      <td>DISTRICT277</td>\n",
              "      <td>STATE9</td>\n",
              "      <td>10</td>\n",
              "      <td>558</td>\n",
              "      <td>179</td>\n",
              "      <td>2298934.0</td>\n",
              "      <td>84.31</td>\n",
              "    </tr>\n",
              "    <tr>\n",
              "      <th>144</th>\n",
              "      <td>DISTRICT133</td>\n",
              "      <td>STATE21</td>\n",
              "      <td>14</td>\n",
              "      <td>1672</td>\n",
              "      <td>136</td>\n",
              "      <td>3673849.0</td>\n",
              "      <td>69.61</td>\n",
              "    </tr>\n",
              "    <tr>\n",
              "      <th>325</th>\n",
              "      <td>DISTRICT1</td>\n",
              "      <td>STATE33</td>\n",
              "      <td>4</td>\n",
              "      <td>534</td>\n",
              "      <td>98</td>\n",
              "      <td>957853.0</td>\n",
              "      <td>69.37</td>\n",
              "    </tr>\n",
              "    <tr>\n",
              "      <th>227</th>\n",
              "      <td>DISTRICT159</td>\n",
              "      <td>STATE28</td>\n",
              "      <td>18</td>\n",
              "      <td>870</td>\n",
              "      <td>134</td>\n",
              "      <td>2954367.0</td>\n",
              "      <td>66.23</td>\n",
              "    </tr>\n",
              "    <tr>\n",
              "      <th>86</th>\n",
              "      <td>DISTRICT667</td>\n",
              "      <td>STATE25</td>\n",
              "      <td>5</td>\n",
              "      <td>396</td>\n",
              "      <td>75</td>\n",
              "      <td>896129.0</td>\n",
              "      <td>82.23</td>\n",
              "    </tr>\n",
              "    <tr>\n",
              "      <th>425</th>\n",
              "      <td>DISTRICT144</td>\n",
              "      <td>STATE31</td>\n",
              "      <td>7</td>\n",
              "      <td>1064</td>\n",
              "      <td>108</td>\n",
              "      <td>2662077.0</td>\n",
              "      <td>71.59</td>\n",
              "    </tr>\n",
              "    <tr>\n",
              "      <th>260</th>\n",
              "      <td>DISTRICT305</td>\n",
              "      <td>STATE3</td>\n",
              "      <td>2</td>\n",
              "      <td>62</td>\n",
              "      <td>6</td>\n",
              "      <td>145538.0</td>\n",
              "      <td>69.88</td>\n",
              "    </tr>\n",
              "    <tr>\n",
              "      <th>281</th>\n",
              "      <td>DISTRICT385</td>\n",
              "      <td>STATE35</td>\n",
              "      <td>6</td>\n",
              "      <td>531</td>\n",
              "      <td>30</td>\n",
              "      <td>354972.0</td>\n",
              "      <td>75.00</td>\n",
              "    </tr>\n",
              "    <tr>\n",
              "      <th>262</th>\n",
              "      <td>DISTRICT552</td>\n",
              "      <td>STATE3</td>\n",
              "      <td>3</td>\n",
              "      <td>103</td>\n",
              "      <td>4</td>\n",
              "      <td>111997.0</td>\n",
              "      <td>52.23</td>\n",
              "    </tr>\n",
              "    <tr>\n",
              "      <th>253</th>\n",
              "      <td>DISTRICT168</td>\n",
              "      <td>STATE3</td>\n",
              "      <td>5</td>\n",
              "      <td>312</td>\n",
              "      <td>16</td>\n",
              "      <td>176385.0</td>\n",
              "      <td>82.14</td>\n",
              "    </tr>\n",
              "    <tr>\n",
              "      <th>301</th>\n",
              "      <td>DISTRICT551</td>\n",
              "      <td>STATE14</td>\n",
              "      <td>9</td>\n",
              "      <td>103</td>\n",
              "      <td>63</td>\n",
              "      <td>693281.0</td>\n",
              "      <td>88.29</td>\n",
              "    </tr>\n",
              "    <tr>\n",
              "      <th>356</th>\n",
              "      <td>DISTRICT494</td>\n",
              "      <td>STATE34</td>\n",
              "      <td>25</td>\n",
              "      <td>2179</td>\n",
              "      <td>223</td>\n",
              "      <td>3596292.0</td>\n",
              "      <td>70.95</td>\n",
              "    </tr>\n",
              "    <tr>\n",
              "      <th>165</th>\n",
              "      <td>DISTRICT196</td>\n",
              "      <td>STATE21</td>\n",
              "      <td>10</td>\n",
              "      <td>1354</td>\n",
              "      <td>119</td>\n",
              "      <td>1795092.0</td>\n",
              "      <td>77.52</td>\n",
              "    </tr>\n",
              "    <tr>\n",
              "      <th>565</th>\n",
              "      <td>DISTRICT308</td>\n",
              "      <td>STATE17</td>\n",
              "      <td>8</td>\n",
              "      <td>721</td>\n",
              "      <td>144</td>\n",
              "      <td>848868.0</td>\n",
              "      <td>86.54</td>\n",
              "    </tr>\n",
              "    <tr>\n",
              "      <th>388</th>\n",
              "      <td>DISTRICT281</td>\n",
              "      <td>STATE23</td>\n",
              "      <td>6</td>\n",
              "      <td>392</td>\n",
              "      <td>58</td>\n",
              "      <td>949159.0</td>\n",
              "      <td>73.92</td>\n",
              "    </tr>\n",
              "    <tr>\n",
              "      <th>461</th>\n",
              "      <td>DISTRICT619</td>\n",
              "      <td>STATE22</td>\n",
              "      <td>5</td>\n",
              "      <td>859</td>\n",
              "      <td>57</td>\n",
              "      <td>1064989.0</td>\n",
              "      <td>68.36</td>\n",
              "    </tr>\n",
              "    <tr>\n",
              "      <th>384</th>\n",
              "      <td>DISTRICT455</td>\n",
              "      <td>STATE23</td>\n",
              "      <td>9</td>\n",
              "      <td>1217</td>\n",
              "      <td>55</td>\n",
              "      <td>1063458.0</td>\n",
              "      <td>68.85</td>\n",
              "    </tr>\n",
              "    <tr>\n",
              "      <th>590</th>\n",
              "      <td>DISTRICT70</td>\n",
              "      <td>STATE20</td>\n",
              "      <td>7</td>\n",
              "      <td>427</td>\n",
              "      <td>84</td>\n",
              "      <td>1846993.0</td>\n",
              "      <td>80.30</td>\n",
              "    </tr>\n",
              "    <tr>\n",
              "      <th>343</th>\n",
              "      <td>DISTRICT354</td>\n",
              "      <td>STATE33</td>\n",
              "      <td>2</td>\n",
              "      <td>192</td>\n",
              "      <td>46</td>\n",
              "      <td>1260419.0</td>\n",
              "      <td>88.66</td>\n",
              "    </tr>\n",
              "    <tr>\n",
              "      <th>539</th>\n",
              "      <td>DISTRICT440</td>\n",
              "      <td>STATE17</td>\n",
              "      <td>15</td>\n",
              "      <td>1465</td>\n",
              "      <td>167</td>\n",
              "      <td>2887826.0</td>\n",
              "      <td>88.23</td>\n",
              "    </tr>\n",
              "    <tr>\n",
              "      <th>459</th>\n",
              "      <td>DISTRICT431</td>\n",
              "      <td>STATE22</td>\n",
              "      <td>9</td>\n",
              "      <td>1778</td>\n",
              "      <td>143</td>\n",
              "      <td>2363744.0</td>\n",
              "      <td>73.42</td>\n",
              "    </tr>\n",
              "    <tr>\n",
              "      <th>667</th>\n",
              "      <td>DISTRICT123</td>\n",
              "      <td>STATE11</td>\n",
              "      <td>3</td>\n",
              "      <td>80</td>\n",
              "      <td>16</td>\n",
              "      <td>237586.0</td>\n",
              "      <td>88.49</td>\n",
              "    </tr>\n",
              "    <tr>\n",
              "      <th>387</th>\n",
              "      <td>DISTRICT231</td>\n",
              "      <td>STATE23</td>\n",
              "      <td>6</td>\n",
              "      <td>657</td>\n",
              "      <td>63</td>\n",
              "      <td>530299.0</td>\n",
              "      <td>64.51</td>\n",
              "    </tr>\n",
              "    <tr>\n",
              "      <th>306</th>\n",
              "      <td>DISTRICT37</td>\n",
              "      <td>STATE4</td>\n",
              "      <td>7</td>\n",
              "      <td>1083</td>\n",
              "      <td>92</td>\n",
              "      <td>642923.0</td>\n",
              "      <td>68.38</td>\n",
              "    </tr>\n",
              "    <tr>\n",
              "      <th>213</th>\n",
              "      <td>DISTRICT347</td>\n",
              "      <td>STATE28</td>\n",
              "      <td>11</td>\n",
              "      <td>623</td>\n",
              "      <td>94</td>\n",
              "      <td>2228397.0</td>\n",
              "      <td>59.65</td>\n",
              "    </tr>\n",
              "    <tr>\n",
              "      <th>97</th>\n",
              "      <td>DISTRICT22</td>\n",
              "      <td>STATE2</td>\n",
              "      <td>7</td>\n",
              "      <td>182</td>\n",
              "      <td>7</td>\n",
              "      <td>2531583.0</td>\n",
              "      <td>87.12</td>\n",
              "    </tr>\n",
              "    <tr>\n",
              "      <th>78</th>\n",
              "      <td>DISTRICT247</td>\n",
              "      <td>STATE25</td>\n",
              "      <td>7</td>\n",
              "      <td>314</td>\n",
              "      <td>60</td>\n",
              "      <td>1332042.0</td>\n",
              "      <td>72.73</td>\n",
              "    </tr>\n",
              "    <tr>\n",
              "      <th>394</th>\n",
              "      <td>DISTRICT640</td>\n",
              "      <td>STATE24</td>\n",
              "      <td>17</td>\n",
              "      <td>1857</td>\n",
              "      <td>191</td>\n",
              "      <td>1802777.0</td>\n",
              "      <td>69.00</td>\n",
              "    </tr>\n",
              "    <tr>\n",
              "      <th>184</th>\n",
              "      <td>DISTRICT596</td>\n",
              "      <td>STATE21</td>\n",
              "      <td>11</td>\n",
              "      <td>1281</td>\n",
              "      <td>108</td>\n",
              "      <td>2149066.0</td>\n",
              "      <td>51.76</td>\n",
              "    </tr>\n",
              "    <tr>\n",
              "      <th>147</th>\n",
              "      <td>DISTRICT335</td>\n",
              "      <td>STATE21</td>\n",
              "      <td>17</td>\n",
              "      <td>1945</td>\n",
              "      <td>138</td>\n",
              "      <td>4380793.0</td>\n",
              "      <td>69.44</td>\n",
              "    </tr>\n",
              "    <tr>\n",
              "      <th>542</th>\n",
              "      <td>DISTRICT489</td>\n",
              "      <td>STATE17</td>\n",
              "      <td>7</td>\n",
              "      <td>749</td>\n",
              "      <td>63</td>\n",
              "      <td>1198810.0</td>\n",
              "      <td>85.14</td>\n",
              "    </tr>\n",
              "    <tr>\n",
              "      <th>105</th>\n",
              "      <td>DISTRICT157</td>\n",
              "      <td>STATE13</td>\n",
              "      <td>14</td>\n",
              "      <td>1994</td>\n",
              "      <td>508</td>\n",
              "      <td>3671999.0</td>\n",
              "      <td>71.68</td>\n",
              "    </tr>\n",
              "    <tr>\n",
              "      <th>254</th>\n",
              "      <td>DISTRICT458</td>\n",
              "      <td>STATE3</td>\n",
              "      <td>3</td>\n",
              "      <td>157</td>\n",
              "      <td>19</td>\n",
              "      <td>82839.0</td>\n",
              "      <td>76.33</td>\n",
              "    </tr>\n",
              "    <tr>\n",
              "      <th>109</th>\n",
              "      <td>DISTRICT158</td>\n",
              "      <td>STATE13</td>\n",
              "      <td>6</td>\n",
              "      <td>769</td>\n",
              "      <td>211</td>\n",
              "      <td>1338114.0</td>\n",
              "      <td>66.19</td>\n",
              "    </tr>\n",
              "    <tr>\n",
              "      <th>609</th>\n",
              "      <td>DISTRICT17</td>\n",
              "      <td>STATE20</td>\n",
              "      <td>4</td>\n",
              "      <td>359</td>\n",
              "      <td>59</td>\n",
              "      <td>9588910.0</td>\n",
              "      <td>88.48</td>\n",
              "    </tr>\n",
              "    <tr>\n",
              "      <th>53</th>\n",
              "      <td>DISTRICT126</td>\n",
              "      <td>STATE26</td>\n",
              "      <td>3</td>\n",
              "      <td>197</td>\n",
              "      <td>21</td>\n",
              "      <td>596294.0</td>\n",
              "      <td>68.90</td>\n",
              "    </tr>\n",
              "    <tr>\n",
              "      <th>81</th>\n",
              "      <td>DISTRICT45</td>\n",
              "      <td>STATE25</td>\n",
              "      <td>9</td>\n",
              "      <td>351</td>\n",
              "      <td>130</td>\n",
              "      <td>1742815.0</td>\n",
              "      <td>73.24</td>\n",
              "    </tr>\n",
              "    <tr>\n",
              "      <th>516</th>\n",
              "      <td>DISTRICT300</td>\n",
              "      <td>STATE9</td>\n",
              "      <td>5</td>\n",
              "      <td>651</td>\n",
              "      <td>84</td>\n",
              "      <td>590379.0</td>\n",
              "      <td>73.29</td>\n",
              "    </tr>\n",
              "    <tr>\n",
              "      <th>641</th>\n",
              "      <td>DISTRICT484</td>\n",
              "      <td>STATE6</td>\n",
              "      <td>15</td>\n",
              "      <td>333</td>\n",
              "      <td>83</td>\n",
              "      <td>1721179.0</td>\n",
              "      <td>74.92</td>\n",
              "    </tr>\n",
              "    <tr>\n",
              "      <th>650</th>\n",
              "      <td>DISTRICT145</td>\n",
              "      <td>STATE6</td>\n",
              "      <td>11</td>\n",
              "      <td>489</td>\n",
              "      <td>100</td>\n",
              "      <td>1614069.0</td>\n",
              "      <td>84.09</td>\n",
              "    </tr>\n",
              "    <tr>\n",
              "      <th>70</th>\n",
              "      <td>DISTRICT99</td>\n",
              "      <td>STATE25</td>\n",
              "      <td>4</td>\n",
              "      <td>279</td>\n",
              "      <td>43</td>\n",
              "      <td>558890.0</td>\n",
              "      <td>83.44</td>\n",
              "    </tr>\n",
              "    <tr>\n",
              "      <th>163</th>\n",
              "      <td>DISTRICT366</td>\n",
              "      <td>STATE21</td>\n",
              "      <td>9</td>\n",
              "      <td>1330</td>\n",
              "      <td>86</td>\n",
              "      <td>1579160.0</td>\n",
              "      <td>79.99</td>\n",
              "    </tr>\n",
              "  </tbody>\n",
              "</table>\n",
              "</div>\n",
              "    <div class=\"colab-df-buttons\">\n",
              "\n",
              "  <div class=\"colab-df-container\">\n",
              "    <button class=\"colab-df-convert\" onclick=\"convertToInteractive('df-d49c6333-0e0d-4786-afc5-d8399a570f09')\"\n",
              "            title=\"Convert this dataframe to an interactive table.\"\n",
              "            style=\"display:none;\">\n",
              "\n",
              "  <svg xmlns=\"http://www.w3.org/2000/svg\" height=\"24px\" viewBox=\"0 -960 960 960\">\n",
              "    <path d=\"M120-120v-720h720v720H120Zm60-500h600v-160H180v160Zm220 220h160v-160H400v160Zm0 220h160v-160H400v160ZM180-400h160v-160H180v160Zm440 0h160v-160H620v160ZM180-180h160v-160H180v160Zm440 0h160v-160H620v160Z\"/>\n",
              "  </svg>\n",
              "    </button>\n",
              "\n",
              "  <style>\n",
              "    .colab-df-container {\n",
              "      display:flex;\n",
              "      gap: 12px;\n",
              "    }\n",
              "\n",
              "    .colab-df-convert {\n",
              "      background-color: #E8F0FE;\n",
              "      border: none;\n",
              "      border-radius: 50%;\n",
              "      cursor: pointer;\n",
              "      display: none;\n",
              "      fill: #1967D2;\n",
              "      height: 32px;\n",
              "      padding: 0 0 0 0;\n",
              "      width: 32px;\n",
              "    }\n",
              "\n",
              "    .colab-df-convert:hover {\n",
              "      background-color: #E2EBFA;\n",
              "      box-shadow: 0px 1px 2px rgba(60, 64, 67, 0.3), 0px 1px 3px 1px rgba(60, 64, 67, 0.15);\n",
              "      fill: #174EA6;\n",
              "    }\n",
              "\n",
              "    .colab-df-buttons div {\n",
              "      margin-bottom: 4px;\n",
              "    }\n",
              "\n",
              "    [theme=dark] .colab-df-convert {\n",
              "      background-color: #3B4455;\n",
              "      fill: #D2E3FC;\n",
              "    }\n",
              "\n",
              "    [theme=dark] .colab-df-convert:hover {\n",
              "      background-color: #434B5C;\n",
              "      box-shadow: 0px 1px 3px 1px rgba(0, 0, 0, 0.15);\n",
              "      filter: drop-shadow(0px 1px 2px rgba(0, 0, 0, 0.3));\n",
              "      fill: #FFFFFF;\n",
              "    }\n",
              "  </style>\n",
              "\n",
              "    <script>\n",
              "      const buttonEl =\n",
              "        document.querySelector('#df-d49c6333-0e0d-4786-afc5-d8399a570f09 button.colab-df-convert');\n",
              "      buttonEl.style.display =\n",
              "        google.colab.kernel.accessAllowed ? 'block' : 'none';\n",
              "\n",
              "      async function convertToInteractive(key) {\n",
              "        const element = document.querySelector('#df-d49c6333-0e0d-4786-afc5-d8399a570f09');\n",
              "        const dataTable =\n",
              "          await google.colab.kernel.invokeFunction('convertToInteractive',\n",
              "                                                    [key], {});\n",
              "        if (!dataTable) return;\n",
              "\n",
              "        const docLinkHtml = 'Like what you see? Visit the ' +\n",
              "          '<a target=\"_blank\" href=https://colab.research.google.com/notebooks/data_table.ipynb>data table notebook</a>'\n",
              "          + ' to learn more about interactive tables.';\n",
              "        element.innerHTML = '';\n",
              "        dataTable['output_type'] = 'display_data';\n",
              "        await google.colab.output.renderOutput(dataTable, element);\n",
              "        const docLink = document.createElement('div');\n",
              "        docLink.innerHTML = docLinkHtml;\n",
              "        element.appendChild(docLink);\n",
              "      }\n",
              "    </script>\n",
              "  </div>\n",
              "\n",
              "\n",
              "<div id=\"df-645796d7-5d30-4a11-b9bb-2015fff97185\">\n",
              "  <button class=\"colab-df-quickchart\" onclick=\"quickchart('df-645796d7-5d30-4a11-b9bb-2015fff97185')\"\n",
              "            title=\"Suggest charts\"\n",
              "            style=\"display:none;\">\n",
              "\n",
              "<svg xmlns=\"http://www.w3.org/2000/svg\" height=\"24px\"viewBox=\"0 0 24 24\"\n",
              "     width=\"24px\">\n",
              "    <g>\n",
              "        <path d=\"M19 3H5c-1.1 0-2 .9-2 2v14c0 1.1.9 2 2 2h14c1.1 0 2-.9 2-2V5c0-1.1-.9-2-2-2zM9 17H7v-7h2v7zm4 0h-2V7h2v10zm4 0h-2v-4h2v4z\"/>\n",
              "    </g>\n",
              "</svg>\n",
              "  </button>\n",
              "\n",
              "<style>\n",
              "  .colab-df-quickchart {\n",
              "      --bg-color: #E8F0FE;\n",
              "      --fill-color: #1967D2;\n",
              "      --hover-bg-color: #E2EBFA;\n",
              "      --hover-fill-color: #174EA6;\n",
              "      --disabled-fill-color: #AAA;\n",
              "      --disabled-bg-color: #DDD;\n",
              "  }\n",
              "\n",
              "  [theme=dark] .colab-df-quickchart {\n",
              "      --bg-color: #3B4455;\n",
              "      --fill-color: #D2E3FC;\n",
              "      --hover-bg-color: #434B5C;\n",
              "      --hover-fill-color: #FFFFFF;\n",
              "      --disabled-bg-color: #3B4455;\n",
              "      --disabled-fill-color: #666;\n",
              "  }\n",
              "\n",
              "  .colab-df-quickchart {\n",
              "    background-color: var(--bg-color);\n",
              "    border: none;\n",
              "    border-radius: 50%;\n",
              "    cursor: pointer;\n",
              "    display: none;\n",
              "    fill: var(--fill-color);\n",
              "    height: 32px;\n",
              "    padding: 0;\n",
              "    width: 32px;\n",
              "  }\n",
              "\n",
              "  .colab-df-quickchart:hover {\n",
              "    background-color: var(--hover-bg-color);\n",
              "    box-shadow: 0 1px 2px rgba(60, 64, 67, 0.3), 0 1px 3px 1px rgba(60, 64, 67, 0.15);\n",
              "    fill: var(--button-hover-fill-color);\n",
              "  }\n",
              "\n",
              "  .colab-df-quickchart-complete:disabled,\n",
              "  .colab-df-quickchart-complete:disabled:hover {\n",
              "    background-color: var(--disabled-bg-color);\n",
              "    fill: var(--disabled-fill-color);\n",
              "    box-shadow: none;\n",
              "  }\n",
              "\n",
              "  .colab-df-spinner {\n",
              "    border: 2px solid var(--fill-color);\n",
              "    border-color: transparent;\n",
              "    border-bottom-color: var(--fill-color);\n",
              "    animation:\n",
              "      spin 1s steps(1) infinite;\n",
              "  }\n",
              "\n",
              "  @keyframes spin {\n",
              "    0% {\n",
              "      border-color: transparent;\n",
              "      border-bottom-color: var(--fill-color);\n",
              "      border-left-color: var(--fill-color);\n",
              "    }\n",
              "    20% {\n",
              "      border-color: transparent;\n",
              "      border-left-color: var(--fill-color);\n",
              "      border-top-color: var(--fill-color);\n",
              "    }\n",
              "    30% {\n",
              "      border-color: transparent;\n",
              "      border-left-color: var(--fill-color);\n",
              "      border-top-color: var(--fill-color);\n",
              "      border-right-color: var(--fill-color);\n",
              "    }\n",
              "    40% {\n",
              "      border-color: transparent;\n",
              "      border-right-color: var(--fill-color);\n",
              "      border-top-color: var(--fill-color);\n",
              "    }\n",
              "    60% {\n",
              "      border-color: transparent;\n",
              "      border-right-color: var(--fill-color);\n",
              "    }\n",
              "    80% {\n",
              "      border-color: transparent;\n",
              "      border-right-color: var(--fill-color);\n",
              "      border-bottom-color: var(--fill-color);\n",
              "    }\n",
              "    90% {\n",
              "      border-color: transparent;\n",
              "      border-bottom-color: var(--fill-color);\n",
              "    }\n",
              "  }\n",
              "</style>\n",
              "\n",
              "  <script>\n",
              "    async function quickchart(key) {\n",
              "      const quickchartButtonEl =\n",
              "        document.querySelector('#' + key + ' button');\n",
              "      quickchartButtonEl.disabled = true;  // To prevent multiple clicks.\n",
              "      quickchartButtonEl.classList.add('colab-df-spinner');\n",
              "      try {\n",
              "        const charts = await google.colab.kernel.invokeFunction(\n",
              "            'suggestCharts', [key], {});\n",
              "      } catch (error) {\n",
              "        console.error('Error during call to suggestCharts:', error);\n",
              "      }\n",
              "      quickchartButtonEl.classList.remove('colab-df-spinner');\n",
              "      quickchartButtonEl.classList.add('colab-df-quickchart-complete');\n",
              "    }\n",
              "    (() => {\n",
              "      let quickchartButtonEl =\n",
              "        document.querySelector('#df-645796d7-5d30-4a11-b9bb-2015fff97185 button');\n",
              "      quickchartButtonEl.style.display =\n",
              "        google.colab.kernel.accessAllowed ? 'block' : 'none';\n",
              "    })();\n",
              "  </script>\n",
              "</div>\n",
              "\n",
              "  <div id=\"id_94cc628f-55fb-4aad-852e-38e3ac8b4abb\">\n",
              "    <style>\n",
              "      .colab-df-generate {\n",
              "        background-color: #E8F0FE;\n",
              "        border: none;\n",
              "        border-radius: 50%;\n",
              "        cursor: pointer;\n",
              "        display: none;\n",
              "        fill: #1967D2;\n",
              "        height: 32px;\n",
              "        padding: 0 0 0 0;\n",
              "        width: 32px;\n",
              "      }\n",
              "\n",
              "      .colab-df-generate:hover {\n",
              "        background-color: #E2EBFA;\n",
              "        box-shadow: 0px 1px 2px rgba(60, 64, 67, 0.3), 0px 1px 3px 1px rgba(60, 64, 67, 0.15);\n",
              "        fill: #174EA6;\n",
              "      }\n",
              "\n",
              "      [theme=dark] .colab-df-generate {\n",
              "        background-color: #3B4455;\n",
              "        fill: #D2E3FC;\n",
              "      }\n",
              "\n",
              "      [theme=dark] .colab-df-generate:hover {\n",
              "        background-color: #434B5C;\n",
              "        box-shadow: 0px 1px 3px 1px rgba(0, 0, 0, 0.15);\n",
              "        filter: drop-shadow(0px 1px 2px rgba(0, 0, 0, 0.3));\n",
              "        fill: #FFFFFF;\n",
              "      }\n",
              "    </style>\n",
              "    <button class=\"colab-df-generate\" onclick=\"generateWithVariable('sampled_data')\"\n",
              "            title=\"Generate code using this dataframe.\"\n",
              "            style=\"display:none;\">\n",
              "\n",
              "  <svg xmlns=\"http://www.w3.org/2000/svg\" height=\"24px\"viewBox=\"0 0 24 24\"\n",
              "       width=\"24px\">\n",
              "    <path d=\"M7,19H8.4L18.45,9,17,7.55,7,17.6ZM5,21V16.75L18.45,3.32a2,2,0,0,1,2.83,0l1.4,1.43a1.91,1.91,0,0,1,.58,1.4,1.91,1.91,0,0,1-.58,1.4L9.25,21ZM18.45,9,17,7.55Zm-12,3A5.31,5.31,0,0,0,4.9,8.1,5.31,5.31,0,0,0,1,6.5,5.31,5.31,0,0,0,4.9,4.9,5.31,5.31,0,0,0,6.5,1,5.31,5.31,0,0,0,8.1,4.9,5.31,5.31,0,0,0,12,6.5,5.46,5.46,0,0,0,6.5,12Z\"/>\n",
              "  </svg>\n",
              "    </button>\n",
              "    <script>\n",
              "      (() => {\n",
              "      const buttonEl =\n",
              "        document.querySelector('#id_94cc628f-55fb-4aad-852e-38e3ac8b4abb button.colab-df-generate');\n",
              "      buttonEl.style.display =\n",
              "        google.colab.kernel.accessAllowed ? 'block' : 'none';\n",
              "\n",
              "      buttonEl.onclick = () => {\n",
              "        google.colab.notebook.generateWithVariable('sampled_data');\n",
              "      }\n",
              "      })();\n",
              "    </script>\n",
              "  </div>\n",
              "\n",
              "    </div>\n",
              "  </div>\n"
            ],
            "application/vnd.google.colaboratory.intrinsic+json": {
              "type": "dataframe",
              "variable_name": "sampled_data",
              "summary": "{\n  \"name\": \"sampled_data\",\n  \"rows\": 50,\n  \"fields\": [\n    {\n      \"column\": \"DISTNAME\",\n      \"properties\": {\n        \"dtype\": \"string\",\n        \"num_unique_values\": 49,\n        \"samples\": [\n          \"DISTRICT144\",\n          \"DISTRICT484\",\n          \"DISTRICT99\"\n        ],\n        \"semantic_type\": \"\",\n        \"description\": \"\"\n      }\n    },\n    {\n      \"column\": \"STATNAME\",\n      \"properties\": {\n        \"dtype\": \"category\",\n        \"num_unique_values\": 22,\n        \"samples\": [\n          \"STATE6\",\n          \"STATE17\",\n          \"STATE33\"\n        ],\n        \"semantic_type\": \"\",\n        \"description\": \"\"\n      }\n    },\n    {\n      \"column\": \"BLOCKS\",\n      \"properties\": {\n        \"dtype\": \"number\",\n        \"std\": 4,\n        \"min\": 2,\n        \"max\": 25,\n        \"num_unique_values\": 16,\n        \"samples\": [\n          9,\n          14,\n          11\n        ],\n        \"semantic_type\": \"\",\n        \"description\": \"\"\n      }\n    },\n    {\n      \"column\": \"VILLAGES\",\n      \"properties\": {\n        \"dtype\": \"number\",\n        \"std\": 589,\n        \"min\": 62,\n        \"max\": 2179,\n        \"num_unique_values\": 46,\n        \"samples\": [\n          197,\n          1465,\n          1778\n        ],\n        \"semantic_type\": \"\",\n        \"description\": \"\"\n      }\n    },\n    {\n      \"column\": \"CLUSTERS\",\n      \"properties\": {\n        \"dtype\": \"number\",\n        \"std\": 81,\n        \"min\": 4,\n        \"max\": 508,\n        \"num_unique_values\": 43,\n        \"samples\": [\n          21,\n          84,\n          46\n        ],\n        \"semantic_type\": \"\",\n        \"description\": \"\"\n      }\n    },\n    {\n      \"column\": \"TOTPOPULAT\",\n      \"properties\": {\n        \"dtype\": \"number\",\n        \"std\": 1588538.027299373,\n        \"min\": 35289.0,\n        \"max\": 9588910.0,\n        \"num_unique_values\": 49,\n        \"samples\": [\n          2662077.0,\n          1721179.0,\n          558890.0\n        ],\n        \"semantic_type\": \"\",\n        \"description\": \"\"\n      }\n    },\n    {\n      \"column\": \"OVERALL_LI\",\n      \"properties\": {\n        \"dtype\": \"number\",\n        \"std\": 10.106000795647736,\n        \"min\": 51.76,\n        \"max\": 92.14,\n        \"num_unique_values\": 49,\n        \"samples\": [\n          71.59,\n          74.92,\n          83.44\n        ],\n        \"semantic_type\": \"\",\n        \"description\": \"\"\n      }\n    }\n  ]\n}"
            }
          },
          "metadata": {},
          "execution_count": 3
        }
      ]
    },
    {
      "cell_type": "markdown",
      "source": [
        "## Construct a 95% confidence interval\n",
        "\n",
        "Now, construct a 95% confidence interval of the mean district literacy rate based on your sample data. Recall the four steps for constructing a confidence interval:\n",
        "\n",
        "  1. Identify a sample statistic\n",
        "  2. Choose a confidence level\n",
        "  3. Find the margin of error\n",
        "  4. Calculate the interval"
      ],
      "metadata": {
        "id": "zDzKOjqFcz_5"
      }
    },
    {
      "cell_type": "markdown",
      "source": [
        "### scipy.stats.norm.interval()\n",
        "Earlier, you worked through these steps one by one to construct a confidence interval. With Python, you can construct a confidence interval with just a single line of code–and get your results faster!\n",
        "\n",
        "If you’re working with a large sample size, say larger than 30, you can construct a confidence interval for the mean using **scipy.stats.norm.interval()**. This function includes the following arguments:\n",
        "\n",
        "  - alpha: The confidence level\n",
        "\n",
        "  - loc: The sample mean\n",
        "\n",
        "  - scale: The sample standard error"
      ],
      "metadata": {
        "id": "lAFg0MVKc-ui"
      }
    },
    {
      "cell_type": "markdown",
      "source": [
        "**alpha: The confidence level**\n",
        "\n",
        "The Department of Education requests a confidence level of 95%, which is the accepted standard for government funded research.\n",
        "\n",
        "**loc: The sample mean**\n",
        "\n",
        "This is the mean literacy rate of your sample of 50 districts. Name a new variable sample_mean. Then, compute the mean district literacy rate for your sample data."
      ],
      "metadata": {
        "id": "3N73NhYNddik"
      }
    },
    {
      "cell_type": "code",
      "source": [
        "sample_mean = sampled_data['OVERALL_LI'].mean()"
      ],
      "metadata": {
        "id": "zHnJ58PWdpUE"
      },
      "execution_count": null,
      "outputs": []
    },
    {
      "cell_type": "markdown",
      "source": [
        "**scale: The sample standard error**\n",
        "\n",
        "Recall that standard error measures the variability of your sample data. You may remember that the formula for the sample standard error is the sample standard deviation divided by the square root of the sample size."
      ],
      "metadata": {
        "id": "5i49Gkksdt41"
      }
    },
    {
      "cell_type": "markdown",
      "source": [
        "You can write code to express the formula and have Python do the calculation for you:\n",
        "\n",
        "  1. Name a new variable **estimated_standard_error**.\n",
        "\n",
        "  2. Take the standard deviation of your sample data, and divide by the square root of your sample.\n",
        "\n",
        "  3. In parentheses, write the name of your data frame followed by the shape function and zero in brackets. Recall that the shape function returns the number of rows and columns in a data frame. **shape[0]** returns only the number of rows, which is the same number as your sample size."
      ],
      "metadata": {
        "id": "uPYXqtbbdzlW"
      }
    },
    {
      "cell_type": "code",
      "source": [
        "estimated_standard_error = sampled_data['OVERALL_LI'].std() / np.sqrt(sampled_data.shape[0])"
      ],
      "metadata": {
        "id": "1KpEmiFDeJEV"
      },
      "execution_count": null,
      "outputs": []
    },
    {
      "cell_type": "markdown",
      "source": [
        "Now you’re ready to put all this together to construct your confidence interval for the mean using scipy.stats.norm.interval(). First, write out the function and set the arguments:\n",
        "\n",
        "  - *alpha*: Enter **0.95** because you want to use a 95% confidence level\n",
        "\n",
        "  - *loc*: Enter the variable **sample_mean**\n",
        "\n",
        "  - *scale*: Enter the variable **estimated_standard_error**"
      ],
      "metadata": {
        "id": "ZdNcjhCyeNZ0"
      }
    },
    {
      "cell_type": "code",
      "source": [
        "stats.norm.interval(confidence=0.95, loc=sample_mean, scale=estimated_standard_error)"
      ],
      "metadata": {
        "colab": {
          "base_uri": "https://localhost:8080/"
        },
        "id": "rAmkJWPbePhS",
        "outputId": "829304cb-97ff-4062-a7f1-f771f5192ee7"
      },
      "execution_count": null,
      "outputs": [
        {
          "output_type": "execute_result",
          "data": {
            "text/plain": [
              "(np.float64(71.42241096968617), np.float64(77.02478903031381))"
            ]
          },
          "metadata": {},
          "execution_count": 14
        }
      ]
    },
    {
      "cell_type": "markdown",
      "source": [
        "## Construct a 99% confidence interval"
      ],
      "metadata": {
        "id": "mXlisU3PgFPP"
      }
    },
    {
      "cell_type": "code",
      "source": [
        "stats.norm.interval(confidence=0.99, loc=sample_mean, scale=estimated_standard_error)"
      ],
      "metadata": {
        "colab": {
          "base_uri": "https://localhost:8080/"
        },
        "id": "mcKSqsKMgIO7",
        "outputId": "4c5c314f-8862-4cdf-92c9-3518f534823a"
      },
      "execution_count": null,
      "outputs": [
        {
          "output_type": "execute_result",
          "data": {
            "text/plain": [
              "(np.float64(70.54221358373107), np.float64(77.90498641626891))"
            ]
          },
          "metadata": {},
          "execution_count": 15
        }
      ]
    },
    {
      "cell_type": "markdown",
      "source": [],
      "metadata": {
        "id": "V5dcmksggU7s"
      }
    },
    {
      "cell_type": "markdown",
      "source": [
        "###Relationship between confidence level and confidence interval\n",
        "\n",
        "You may notice that as the confidence level gets higher, the confidence interval gets wider.\n",
        "\n",
        "- With a confidence level of 95%, the interval covers 5.6 percentage points (71.4% - 77.0%)\n",
        "- With a confidence level of 99%, the interval covers 7.4 percentage points (70.5% - 77.9%)\n",
        "\n",
        "This is because a wider confidence interval is more likely to include the actual population parameter."
      ],
      "metadata": {
        "id": "WtlzmNIFgU-C"
      }
    },
    {
      "cell_type": "markdown",
      "source": [
        "# Activity : Explore confidence interval"
      ],
      "metadata": {
        "id": "zmyQ_Bergb1P"
      }
    },
    {
      "cell_type": "markdown",
      "source": [
        "## Introduction\n",
        "The Air Quality Index (AQI) is the Environmental Protection Agency's index for reporting air quality. A value close to 0 signals little to no public health concern, while higher values are associated with increased risk to public health. The United States is considering a new federal policy that would create a subsidy for renewable energy in states observing an average AQI of 10 or above.\n",
        "\n",
        "You've just started your new role as a data analyst in the Strategy division of Ripple Renewable Energy (RRE). **RRE operates in the following U.S. states**: **California, Florida, Michigan, Ohio, Pennsylvania, Texas**. You've been tasked with constructing an analysis which identifies which of these states are most likely to be affected, should the new federal policy be enacted.\n",
        "\n",
        "Your manager has requested that you do the following for your analysis:\n",
        "\n",
        "1. Provide a summary of the mean AQI for the states in which RRE operates.\n",
        "2. Construct a boxplot visualization for AQI of these states using seaborn.\n",
        "3. Evaluate which state(s) may be most affected by this policy, based on the data and your boxplot visualization.\n",
        "4. Construct a confidence interval for the RRE state with the highest mean AQI."
      ],
      "metadata": {
        "id": "BeGKaR88PWpO"
      }
    },
    {
      "cell_type": "markdown",
      "source": [
        "## Step 1: Imports\n",
        "Import packages\n",
        "Import pandas and numpy."
      ],
      "metadata": {
        "id": "_XGhf4fgPpSM"
      }
    },
    {
      "cell_type": "code",
      "source": [
        "# Import relevant packages.\n",
        "\n",
        "import pandas as pd\n",
        "import numpy as np"
      ],
      "metadata": {
        "id": "xoHBXU20Psjg"
      },
      "execution_count": null,
      "outputs": []
    },
    {
      "cell_type": "markdown",
      "source": [
        "### Load the dataset\n",
        "The dataset provided gives national Air Quality Index (AQI) measurements by state over time. Use pandas to import the file c4_epa_air_quality.csv as a DataFrame named aqi."
      ],
      "metadata": {
        "id": "LOpf55FmPzJF"
      }
    },
    {
      "cell_type": "code",
      "source": [
        "# Use read_csv() to import the data.\n",
        "\n",
        "aqi = pd.read_csv('c4_epa_air_quality.csv')"
      ],
      "metadata": {
        "id": "eoKyHYBJP1WH"
      },
      "execution_count": null,
      "outputs": []
    },
    {
      "cell_type": "markdown",
      "source": [
        "## Step 2: Data exploration\n",
        "\n",
        "Explore your dataset¶\n",
        "Before proceeding to your deliverables, spend some time exploring the aqi DataFrame."
      ],
      "metadata": {
        "id": "wssAu9C4QB_z"
      }
    },
    {
      "cell_type": "code",
      "source": [
        "# Explore the `aqi` DataFrame.\n",
        "\n",
        "print(\"Use describe() to summarize AQI\")\n",
        "print(aqi.describe(include='all'))\n",
        "\n",
        "print(\"For a more thorough examination of observations by state use values_counts()\")\n",
        "print(aqi['state_name'].value_counts())"
      ],
      "metadata": {
        "colab": {
          "base_uri": "https://localhost:8080/"
        },
        "id": "Dj4JG4y9P3f8",
        "outputId": "58f33d4f-f075-49e1-a26e-c19459127852"
      },
      "execution_count": null,
      "outputs": [
        {
          "output_type": "stream",
          "name": "stdout",
          "text": [
            "Use describe() to summarize AQI\n",
            "        Unnamed: 0  date_local  state_name  county_name      city_name  \\\n",
            "count   260.000000         260         260          260            260   \n",
            "unique         NaN           1          52          149            190   \n",
            "top            NaN  2018-01-01  California  Los Angeles  Not in a city   \n",
            "freq           NaN         260          66           14             21   \n",
            "mean    129.500000         NaN         NaN          NaN            NaN   \n",
            "std      75.199734         NaN         NaN          NaN            NaN   \n",
            "min       0.000000         NaN         NaN          NaN            NaN   \n",
            "25%      64.750000         NaN         NaN          NaN            NaN   \n",
            "50%     129.500000         NaN         NaN          NaN            NaN   \n",
            "75%     194.250000         NaN         NaN          NaN            NaN   \n",
            "max     259.000000         NaN         NaN          NaN            NaN   \n",
            "\n",
            "       local_site_name   parameter_name   units_of_measure  arithmetic_mean  \\\n",
            "count              257              260                260       260.000000   \n",
            "unique             253                1                  1              NaN   \n",
            "top            Kapolei  Carbon monoxide  Parts per million              NaN   \n",
            "freq                 2              260                260              NaN   \n",
            "mean               NaN              NaN                NaN         0.403169   \n",
            "std                NaN              NaN                NaN         0.317902   \n",
            "min                NaN              NaN                NaN         0.000000   \n",
            "25%                NaN              NaN                NaN         0.200000   \n",
            "50%                NaN              NaN                NaN         0.276315   \n",
            "75%                NaN              NaN                NaN         0.516009   \n",
            "max                NaN              NaN                NaN         1.921053   \n",
            "\n",
            "               aqi  \n",
            "count   260.000000  \n",
            "unique         NaN  \n",
            "top            NaN  \n",
            "freq           NaN  \n",
            "mean      6.757692  \n",
            "std       7.061707  \n",
            "min       0.000000  \n",
            "25%       2.000000  \n",
            "50%       5.000000  \n",
            "75%       9.000000  \n",
            "max      50.000000  \n",
            "For a more thorough examination of observations by state use values_counts()\n",
            "state_name\n",
            "California              66\n",
            "Arizona                 14\n",
            "Ohio                    12\n",
            "Florida                 12\n",
            "Texas                   10\n",
            "Pennsylvania            10\n",
            "New York                10\n",
            "Colorado                 9\n",
            "Michigan                 9\n",
            "Minnesota                7\n",
            "New Jersey               6\n",
            "Indiana                  5\n",
            "Nevada                   4\n",
            "Maryland                 4\n",
            "Massachusetts            4\n",
            "Oklahoma                 4\n",
            "North Carolina           4\n",
            "Virginia                 4\n",
            "Connecticut              4\n",
            "Wyoming                  3\n",
            "Utah                     3\n",
            "Hawaii                   3\n",
            "Illinois                 3\n",
            "Missouri                 3\n",
            "Iowa                     3\n",
            "Kentucky                 3\n",
            "Vermont                  3\n",
            "Rhode Island             2\n",
            "Alaska                   2\n",
            "Georgia                  2\n",
            "Washington               2\n",
            "Idaho                    2\n",
            "Nebraska                 2\n",
            "Montana                  2\n",
            "Tennessee                2\n",
            "Maine                    2\n",
            "New Mexico               2\n",
            "District Of Columbia     2\n",
            "Oregon                   2\n",
            "New Hampshire            2\n",
            "Kansas                   1\n",
            "Alabama                  1\n",
            "South Dakota             1\n",
            "West Virginia            1\n",
            "Mississippi              1\n",
            "Louisiana                1\n",
            "Delaware                 1\n",
            "North Dakota             1\n",
            "Arkansas                 1\n",
            "Puerto Rico              1\n",
            "South Carolina           1\n",
            "Wisconsin                1\n",
            "Name: count, dtype: int64\n"
          ]
        }
      ]
    },
    {
      "cell_type": "code",
      "source": [],
      "metadata": {
        "id": "s5K0JZ11QHdy"
      },
      "execution_count": null,
      "outputs": []
    },
    {
      "cell_type": "markdown",
      "source": [
        "## Step 3: Statistical tests\n",
        "\n",
        "**Summarize the mean AQI for RRE states**\n",
        "Start with your first deliverable. Summarize the mean AQI for the states in which RRE operates."
      ],
      "metadata": {
        "id": "TelK6spiQRO5"
      }
    },
    {
      "cell_type": "code",
      "source": [
        "# Summarize the mean AQI for RRE states.\n",
        "\n",
        "# Create a list of RRE states.\n",
        "\n",
        "rre_states = ['California','Florida','Michigan','Ohio','Pennsylvania','Texas']\n",
        "\n",
        "# Subset `aqi` to only consider these states.\n",
        "\n",
        "aqi_rre = aqi[aqi['state_name'].isin(rre_states)]\n",
        "\n",
        "# Find the mean aqi for each of the RRE states.\n",
        "\n",
        "aqi_rre.groupby(['state_name']).agg({\"aqi\":\"mean\",\"state_name\":\"count\"}) #alias as aqi_rre"
      ],
      "metadata": {
        "colab": {
          "base_uri": "https://localhost:8080/",
          "height": 266
        },
        "id": "GVPzy2WCQYw6",
        "outputId": "28518ae6-24d8-4fe8-a950-123870733617"
      },
      "execution_count": null,
      "outputs": [
        {
          "output_type": "execute_result",
          "data": {
            "text/plain": [
              "                    aqi  state_name\n",
              "state_name                         \n",
              "California    12.121212          66\n",
              "Florida        5.500000          12\n",
              "Michigan       8.111111           9\n",
              "Ohio           3.333333          12\n",
              "Pennsylvania   2.900000          10\n",
              "Texas          2.700000          10"
            ],
            "text/html": [
              "\n",
              "  <div id=\"df-3afa4d70-e91b-4b6e-91f2-e9e3f3cb9adf\" class=\"colab-df-container\">\n",
              "    <div>\n",
              "<style scoped>\n",
              "    .dataframe tbody tr th:only-of-type {\n",
              "        vertical-align: middle;\n",
              "    }\n",
              "\n",
              "    .dataframe tbody tr th {\n",
              "        vertical-align: top;\n",
              "    }\n",
              "\n",
              "    .dataframe thead th {\n",
              "        text-align: right;\n",
              "    }\n",
              "</style>\n",
              "<table border=\"1\" class=\"dataframe\">\n",
              "  <thead>\n",
              "    <tr style=\"text-align: right;\">\n",
              "      <th></th>\n",
              "      <th>aqi</th>\n",
              "      <th>state_name</th>\n",
              "    </tr>\n",
              "    <tr>\n",
              "      <th>state_name</th>\n",
              "      <th></th>\n",
              "      <th></th>\n",
              "    </tr>\n",
              "  </thead>\n",
              "  <tbody>\n",
              "    <tr>\n",
              "      <th>California</th>\n",
              "      <td>12.121212</td>\n",
              "      <td>66</td>\n",
              "    </tr>\n",
              "    <tr>\n",
              "      <th>Florida</th>\n",
              "      <td>5.500000</td>\n",
              "      <td>12</td>\n",
              "    </tr>\n",
              "    <tr>\n",
              "      <th>Michigan</th>\n",
              "      <td>8.111111</td>\n",
              "      <td>9</td>\n",
              "    </tr>\n",
              "    <tr>\n",
              "      <th>Ohio</th>\n",
              "      <td>3.333333</td>\n",
              "      <td>12</td>\n",
              "    </tr>\n",
              "    <tr>\n",
              "      <th>Pennsylvania</th>\n",
              "      <td>2.900000</td>\n",
              "      <td>10</td>\n",
              "    </tr>\n",
              "    <tr>\n",
              "      <th>Texas</th>\n",
              "      <td>2.700000</td>\n",
              "      <td>10</td>\n",
              "    </tr>\n",
              "  </tbody>\n",
              "</table>\n",
              "</div>\n",
              "    <div class=\"colab-df-buttons\">\n",
              "\n",
              "  <div class=\"colab-df-container\">\n",
              "    <button class=\"colab-df-convert\" onclick=\"convertToInteractive('df-3afa4d70-e91b-4b6e-91f2-e9e3f3cb9adf')\"\n",
              "            title=\"Convert this dataframe to an interactive table.\"\n",
              "            style=\"display:none;\">\n",
              "\n",
              "  <svg xmlns=\"http://www.w3.org/2000/svg\" height=\"24px\" viewBox=\"0 -960 960 960\">\n",
              "    <path d=\"M120-120v-720h720v720H120Zm60-500h600v-160H180v160Zm220 220h160v-160H400v160Zm0 220h160v-160H400v160ZM180-400h160v-160H180v160Zm440 0h160v-160H620v160ZM180-180h160v-160H180v160Zm440 0h160v-160H620v160Z\"/>\n",
              "  </svg>\n",
              "    </button>\n",
              "\n",
              "  <style>\n",
              "    .colab-df-container {\n",
              "      display:flex;\n",
              "      gap: 12px;\n",
              "    }\n",
              "\n",
              "    .colab-df-convert {\n",
              "      background-color: #E8F0FE;\n",
              "      border: none;\n",
              "      border-radius: 50%;\n",
              "      cursor: pointer;\n",
              "      display: none;\n",
              "      fill: #1967D2;\n",
              "      height: 32px;\n",
              "      padding: 0 0 0 0;\n",
              "      width: 32px;\n",
              "    }\n",
              "\n",
              "    .colab-df-convert:hover {\n",
              "      background-color: #E2EBFA;\n",
              "      box-shadow: 0px 1px 2px rgba(60, 64, 67, 0.3), 0px 1px 3px 1px rgba(60, 64, 67, 0.15);\n",
              "      fill: #174EA6;\n",
              "    }\n",
              "\n",
              "    .colab-df-buttons div {\n",
              "      margin-bottom: 4px;\n",
              "    }\n",
              "\n",
              "    [theme=dark] .colab-df-convert {\n",
              "      background-color: #3B4455;\n",
              "      fill: #D2E3FC;\n",
              "    }\n",
              "\n",
              "    [theme=dark] .colab-df-convert:hover {\n",
              "      background-color: #434B5C;\n",
              "      box-shadow: 0px 1px 3px 1px rgba(0, 0, 0, 0.15);\n",
              "      filter: drop-shadow(0px 1px 2px rgba(0, 0, 0, 0.3));\n",
              "      fill: #FFFFFF;\n",
              "    }\n",
              "  </style>\n",
              "\n",
              "    <script>\n",
              "      const buttonEl =\n",
              "        document.querySelector('#df-3afa4d70-e91b-4b6e-91f2-e9e3f3cb9adf button.colab-df-convert');\n",
              "      buttonEl.style.display =\n",
              "        google.colab.kernel.accessAllowed ? 'block' : 'none';\n",
              "\n",
              "      async function convertToInteractive(key) {\n",
              "        const element = document.querySelector('#df-3afa4d70-e91b-4b6e-91f2-e9e3f3cb9adf');\n",
              "        const dataTable =\n",
              "          await google.colab.kernel.invokeFunction('convertToInteractive',\n",
              "                                                    [key], {});\n",
              "        if (!dataTable) return;\n",
              "\n",
              "        const docLinkHtml = 'Like what you see? Visit the ' +\n",
              "          '<a target=\"_blank\" href=https://colab.research.google.com/notebooks/data_table.ipynb>data table notebook</a>'\n",
              "          + ' to learn more about interactive tables.';\n",
              "        element.innerHTML = '';\n",
              "        dataTable['output_type'] = 'display_data';\n",
              "        await google.colab.output.renderOutput(dataTable, element);\n",
              "        const docLink = document.createElement('div');\n",
              "        docLink.innerHTML = docLinkHtml;\n",
              "        element.appendChild(docLink);\n",
              "      }\n",
              "    </script>\n",
              "  </div>\n",
              "\n",
              "\n",
              "<div id=\"df-c6ba5312-c0c3-4136-88ec-02657145dea7\">\n",
              "  <button class=\"colab-df-quickchart\" onclick=\"quickchart('df-c6ba5312-c0c3-4136-88ec-02657145dea7')\"\n",
              "            title=\"Suggest charts\"\n",
              "            style=\"display:none;\">\n",
              "\n",
              "<svg xmlns=\"http://www.w3.org/2000/svg\" height=\"24px\"viewBox=\"0 0 24 24\"\n",
              "     width=\"24px\">\n",
              "    <g>\n",
              "        <path d=\"M19 3H5c-1.1 0-2 .9-2 2v14c0 1.1.9 2 2 2h14c1.1 0 2-.9 2-2V5c0-1.1-.9-2-2-2zM9 17H7v-7h2v7zm4 0h-2V7h2v10zm4 0h-2v-4h2v4z\"/>\n",
              "    </g>\n",
              "</svg>\n",
              "  </button>\n",
              "\n",
              "<style>\n",
              "  .colab-df-quickchart {\n",
              "      --bg-color: #E8F0FE;\n",
              "      --fill-color: #1967D2;\n",
              "      --hover-bg-color: #E2EBFA;\n",
              "      --hover-fill-color: #174EA6;\n",
              "      --disabled-fill-color: #AAA;\n",
              "      --disabled-bg-color: #DDD;\n",
              "  }\n",
              "\n",
              "  [theme=dark] .colab-df-quickchart {\n",
              "      --bg-color: #3B4455;\n",
              "      --fill-color: #D2E3FC;\n",
              "      --hover-bg-color: #434B5C;\n",
              "      --hover-fill-color: #FFFFFF;\n",
              "      --disabled-bg-color: #3B4455;\n",
              "      --disabled-fill-color: #666;\n",
              "  }\n",
              "\n",
              "  .colab-df-quickchart {\n",
              "    background-color: var(--bg-color);\n",
              "    border: none;\n",
              "    border-radius: 50%;\n",
              "    cursor: pointer;\n",
              "    display: none;\n",
              "    fill: var(--fill-color);\n",
              "    height: 32px;\n",
              "    padding: 0;\n",
              "    width: 32px;\n",
              "  }\n",
              "\n",
              "  .colab-df-quickchart:hover {\n",
              "    background-color: var(--hover-bg-color);\n",
              "    box-shadow: 0 1px 2px rgba(60, 64, 67, 0.3), 0 1px 3px 1px rgba(60, 64, 67, 0.15);\n",
              "    fill: var(--button-hover-fill-color);\n",
              "  }\n",
              "\n",
              "  .colab-df-quickchart-complete:disabled,\n",
              "  .colab-df-quickchart-complete:disabled:hover {\n",
              "    background-color: var(--disabled-bg-color);\n",
              "    fill: var(--disabled-fill-color);\n",
              "    box-shadow: none;\n",
              "  }\n",
              "\n",
              "  .colab-df-spinner {\n",
              "    border: 2px solid var(--fill-color);\n",
              "    border-color: transparent;\n",
              "    border-bottom-color: var(--fill-color);\n",
              "    animation:\n",
              "      spin 1s steps(1) infinite;\n",
              "  }\n",
              "\n",
              "  @keyframes spin {\n",
              "    0% {\n",
              "      border-color: transparent;\n",
              "      border-bottom-color: var(--fill-color);\n",
              "      border-left-color: var(--fill-color);\n",
              "    }\n",
              "    20% {\n",
              "      border-color: transparent;\n",
              "      border-left-color: var(--fill-color);\n",
              "      border-top-color: var(--fill-color);\n",
              "    }\n",
              "    30% {\n",
              "      border-color: transparent;\n",
              "      border-left-color: var(--fill-color);\n",
              "      border-top-color: var(--fill-color);\n",
              "      border-right-color: var(--fill-color);\n",
              "    }\n",
              "    40% {\n",
              "      border-color: transparent;\n",
              "      border-right-color: var(--fill-color);\n",
              "      border-top-color: var(--fill-color);\n",
              "    }\n",
              "    60% {\n",
              "      border-color: transparent;\n",
              "      border-right-color: var(--fill-color);\n",
              "    }\n",
              "    80% {\n",
              "      border-color: transparent;\n",
              "      border-right-color: var(--fill-color);\n",
              "      border-bottom-color: var(--fill-color);\n",
              "    }\n",
              "    90% {\n",
              "      border-color: transparent;\n",
              "      border-bottom-color: var(--fill-color);\n",
              "    }\n",
              "  }\n",
              "</style>\n",
              "\n",
              "  <script>\n",
              "    async function quickchart(key) {\n",
              "      const quickchartButtonEl =\n",
              "        document.querySelector('#' + key + ' button');\n",
              "      quickchartButtonEl.disabled = true;  // To prevent multiple clicks.\n",
              "      quickchartButtonEl.classList.add('colab-df-spinner');\n",
              "      try {\n",
              "        const charts = await google.colab.kernel.invokeFunction(\n",
              "            'suggestCharts', [key], {});\n",
              "      } catch (error) {\n",
              "        console.error('Error during call to suggestCharts:', error);\n",
              "      }\n",
              "      quickchartButtonEl.classList.remove('colab-df-spinner');\n",
              "      quickchartButtonEl.classList.add('colab-df-quickchart-complete');\n",
              "    }\n",
              "    (() => {\n",
              "      let quickchartButtonEl =\n",
              "        document.querySelector('#df-c6ba5312-c0c3-4136-88ec-02657145dea7 button');\n",
              "      quickchartButtonEl.style.display =\n",
              "        google.colab.kernel.accessAllowed ? 'block' : 'none';\n",
              "    })();\n",
              "  </script>\n",
              "</div>\n",
              "    </div>\n",
              "  </div>\n"
            ],
            "application/vnd.google.colaboratory.intrinsic+json": {
              "type": "dataframe",
              "repr_error": "cannot insert state_name, already exists"
            }
          },
          "metadata": {},
          "execution_count": 5
        }
      ]
    },
    {
      "cell_type": "markdown",
      "source": [
        "### Construct a boxplot visualization for the AQI of these states\n",
        "Seaborn is a simple visualization library, commonly imported as sns. Import seaborn. Then utilize a boxplot visualization from this library to compare the distributions of AQI scores by state."
      ],
      "metadata": {
        "id": "5z42td1yQfhO"
      }
    },
    {
      "cell_type": "code",
      "source": [
        "# Import seaborn as sns.\n",
        "\n",
        "import seaborn as sns"
      ],
      "metadata": {
        "id": "uk4kHcg8QiRc"
      },
      "execution_count": null,
      "outputs": []
    },
    {
      "cell_type": "markdown",
      "source": [
        "### Create an in-line visualization showing the distribution of aqi by state_name\n",
        "Now, create an in-line visualization showing the distribution of **aqi** by **state_name**."
      ],
      "metadata": {
        "id": "Jmtj5-PMQlDJ"
      }
    },
    {
      "cell_type": "code",
      "source": [
        "sns.boxplot(x=aqi_rre[\"state_name\"],y=aqi_rre[\"aqi\"])"
      ],
      "metadata": {
        "colab": {
          "base_uri": "https://localhost:8080/",
          "height": 466
        },
        "id": "_Z_ZSzwSQjOh",
        "outputId": "ed4a2fb1-6faf-4e0c-ca9e-bddbad2ae74d"
      },
      "execution_count": null,
      "outputs": [
        {
          "output_type": "execute_result",
          "data": {
            "text/plain": [
              "<Axes: xlabel='state_name', ylabel='aqi'>"
            ]
          },
          "metadata": {},
          "execution_count": 7
        },
        {
          "output_type": "display_data",
          "data": {
            "text/plain": [
              "<Figure size 640x480 with 1 Axes>"
            ],
            "image/png": "[encoded data removed]"
          },
          "metadata": {}
        }
      ]
    },
    {
      "cell_type": "markdown",
      "source": [
        "**Question: Based on the data and your visualizations, which state(s) do you suspect will be most affected by this policy?**\n",
        "\n",
        "- California: The mean and a signficant portion of the boxplot range over 10.\n",
        "- Michigan: While the mean is below 10, the boxplot ranges above 10."
      ],
      "metadata": {
        "id": "ddu-9mWnQzwX"
      }
    },
    {
      "cell_type": "markdown",
      "source": [
        "## Construct a confidence interval for the RRE state with the highest mean AQI\n",
        "\n",
        "Recall the four-step process for constructing a confidence interval:\n",
        "\n",
        "1. Identify a sample statistic.\n",
        "2. Choose a confidence level.\n",
        "3. Find the margin of error.\n",
        "4. Calculate the interval."
      ],
      "metadata": {
        "id": "clE7FxwCQztw"
      }
    },
    {
      "cell_type": "markdown",
      "source": [
        "### Construct your sample statistic\n",
        "To contruct your sample statistic, find the mean AQI for your state."
      ],
      "metadata": {
        "id": "Z49NhhNQQ3vJ"
      }
    },
    {
      "cell_type": "code",
      "source": [
        "# Find the mean aqi for your state.\n",
        "\n",
        "aqi_ca = aqi[aqi['state_name']=='California']\n",
        "\n",
        "sample_mean = aqi_ca['aqi'].mean()\n",
        "sample_mean"
      ],
      "metadata": {
        "colab": {
          "base_uri": "https://localhost:8080/"
        },
        "id": "cy3px3owRLsn",
        "outputId": "015141a4-a5d8-4474-b0de-f0c75c41febf"
      },
      "execution_count": null,
      "outputs": [
        {
          "output_type": "execute_result",
          "data": {
            "text/plain": [
              "np.float64(12.121212121212121)"
            ]
          },
          "metadata": {},
          "execution_count": 8
        }
      ]
    },
    {
      "cell_type": "markdown",
      "source": [
        "### Choose your confidence level\n",
        "Choose your confidence level for your analysis. The most typical confidence level chosen is 95%; however, you can choose 90% or 99% if you want decrease or increase (respectively) your level of confidence about your result."
      ],
      "metadata": {
        "id": "DYPuk16qROgV"
      }
    },
    {
      "cell_type": "code",
      "source": [
        "# Input your confidence level.\n",
        "\n",
        "confidence_level = 0.95\n",
        "confidence_level"
      ],
      "metadata": {
        "colab": {
          "base_uri": "https://localhost:8080/"
        },
        "id": "Z5B0fPEYRMzL",
        "outputId": "50e6006d-1fc9-4c99-aaba-eb58d9c13205"
      },
      "execution_count": null,
      "outputs": [
        {
          "output_type": "execute_result",
          "data": {
            "text/plain": [
              "0.95"
            ]
          },
          "metadata": {},
          "execution_count": 9
        }
      ]
    },
    {
      "cell_type": "markdown",
      "source": [
        "###Find your margin of error (ME)\n",
        "Recall margin of error = z * standard error, where z is the appropriate z-value for the given confidence level. To calculate your margin of error:\n",
        "\n",
        "- Find your z-value.\n",
        "- Find the approximate z for common confidence levels.\n",
        "- Calculate your **standard error** estimate.\n",
        "\n",
        "| Confidence Level |\tZ Score\n",
        "| --- | --- |\n",
        "|90%\t| 1.65\n",
        "|95%\t| 1.96\n",
        "|99%\t| 2.58\n"
      ],
      "metadata": {
        "id": "2KbV1WrDRbba"
      }
    },
    {
      "cell_type": "code",
      "source": [
        "# Calculate your margin of error.\n",
        "\n",
        "# Begin by identifying the z associated with your chosen confidence level.\n",
        "\n",
        "z_value = 1.96\n",
        "\n",
        "# Next, calculate your standard error.\n",
        "\n",
        "standard_error = aqi_ca['aqi'].std() / np.sqrt(aqi_ca.shape[0])\n",
        "print(\"standard error:\")\n",
        "print(standard_error)\n",
        "\n",
        "# Lastly, use the preceding result to calculate your margin of error.\n",
        "\n",
        "margin_of_error = standard_error * z_value\n",
        "print(\"margin of error:\")\n",
        "print(margin_of_error)"
      ],
      "metadata": {
        "colab": {
          "base_uri": "https://localhost:8080/"
        },
        "id": "F-hMIgiTSErK",
        "outputId": "f16ab247-423f-48a6-bd1a-66bf71e58367"
      },
      "execution_count": null,
      "outputs": [
        {
          "output_type": "stream",
          "name": "stdout",
          "text": [
            "standard error:\n",
            "0.8987209641127412\n",
            "margin of error:\n",
            "1.7614930896609726\n"
          ]
        }
      ]
    },
    {
      "cell_type": "markdown",
      "source": [],
      "metadata": {
        "id": "7T07PeFtSKNW"
      }
    },
    {
      "cell_type": "markdown",
      "source": [
        "### Calculate your interval\n",
        "Calculate both a lower and upper limit surrounding your sample mean to create your interval."
      ],
      "metadata": {
        "id": "86-EWxXISKP7"
      }
    },
    {
      "cell_type": "code",
      "source": [
        "# Calculate your confidence interval (upper and lower limits).\n",
        "\n",
        "upper_ci_limit = sample_mean + margin_of_error\n",
        "lower_ci_limit = sample_mean - margin_of_error\n",
        "(lower_ci_limit, upper_ci_limit)"
      ],
      "metadata": {
        "colab": {
          "base_uri": "https://localhost:8080/"
        },
        "id": "z8Wo-uBpSNIM",
        "outputId": "b89733e7-fc1b-4dac-b18a-850e8764ba07"
      },
      "execution_count": null,
      "outputs": [
        {
          "output_type": "execute_result",
          "data": {
            "text/plain": [
              "(np.float64(10.359719031551148), np.float64(13.882705210873095))"
            ]
          },
          "metadata": {},
          "execution_count": 11
        }
      ]
    },
    {
      "cell_type": "markdown",
      "source": [
        "**Alternative: Construct the interval using scipy.stats.norm.interval()**\n",
        "\n",
        "`scipy` presents a simpler solution to developing a confidence interval. To use this, first import the `stats` module from `scipy`."
      ],
      "metadata": {
        "id": "_1lEV7yLSTjI"
      }
    },
    {
      "cell_type": "code",
      "source": [
        "# Import stats from scipy.\n",
        "\n",
        "\n",
        "from scipy import stats"
      ],
      "metadata": {
        "id": "BVGqWl8KSOPv"
      },
      "execution_count": null,
      "outputs": []
    },
    {
      "cell_type": "markdown",
      "source": [
        "## Step 4: Results and evaluation\n",
        "\n",
        "**Recalculate your confidence interval**\n",
        "\n",
        "Provide your chosen `confidence_level`, `sample_mean`, and `standard_error` to `stats.norm.interval()` and recalculate your confidence interval."
      ],
      "metadata": {
        "id": "91gpdkhtSmP6"
      }
    },
    {
      "cell_type": "code",
      "source": [
        "stats.norm.interval(confidence=confidence_level, loc=sample_mean, scale=standard_error)"
      ],
      "metadata": {
        "colab": {
          "base_uri": "https://localhost:8080/"
        },
        "id": "lxA2bqwySipF",
        "outputId": "ac0c2ddc-472a-467c-e558-6b15d20e8e62"
      },
      "execution_count": null,
      "outputs": [
        {
          "output_type": "execute_result",
          "data": {
            "text/plain": [
              "(np.float64(10.359751399400034), np.float64(13.882672843024208))"
            ]
          },
          "metadata": {},
          "execution_count": 15
        }
      ]
    },
    {
      "cell_type": "markdown",
      "source": [
        "### Considerations\n",
        "**What are key takeaways from this lab?**\n",
        "- Based on the mean AQI for RRE states, California and Michigan were most likely to have experienced a mean AQI above 10.\n",
        "- With California experiencing the highest sample mean AQI in the data, it appears to be the state most likely to be affected by the policy change.\n",
        "- Constructing a confidence interval allowed you to estimate the sample mean AQI with a certain degree of confidence.\n",
        "\n",
        "**What findings would you share with others?**\n",
        "\n",
        "- Present this notebook to convey the analytical process and describe the methodology behind constructing the confidence interval.\n",
        "- Convey that a confidence interval at the 95% level of confidence from this sample data yielded `[10.36 , 13.88]`, which provides the interpretation \"given the observed sample AQI measurements, there is a 95% confidence that the population mean AQI for California was between 10.36 and 13.88. This range is notably greater than 10.\"\n",
        "- Share how varying the confidence level changes the interval. For example, if you varied the confidence level to 99%, the confidence interval would become `[9.80 , 14.43]`.\n",
        "\n",
        "**What would you convey to external stakeholders?**\n",
        "\n",
        "- Explain statistical significance at a high level.\n",
        "- Describe California's observed mean AQI and suggest focusing on that state.\n",
        "- Share the result of the 95% confidence interval, describing what this means relative to the threshold of 10.\n",
        "- Convey any potential shortcomings of this analysis, such as the short time period being referenced."
      ],
      "metadata": {
        "id": "9vHJtWmIUjTr"
      }
    },
    {
      "cell_type": "markdown",
      "source": [
        "# Use Python Conduct to conduct a hypothesis test"
      ],
      "metadata": {
        "id": "5c7gnqLPydle"
      }
    },
    {
      "cell_type": "markdown",
      "source": [
        "## Import packages and libraries"
      ],
      "metadata": {
        "id": "WSKGk17tyk9f"
      }
    },
    {
      "cell_type": "code",
      "source": [
        "import pandas as pd\n",
        "from scipy import stats"
      ],
      "metadata": {
        "id": "RKRJLMbCyuxc"
      },
      "execution_count": null,
      "outputs": []
    },
    {
      "cell_type": "code",
      "source": [
        "education_districtwise = pd.read_csv(\"education_districtwise.csv\")\n",
        "education_districtwise = education_districtwise.dropna()"
      ],
      "metadata": {
        "id": "P-z92_FSy1VK"
      },
      "execution_count": null,
      "outputs": []
    },
    {
      "cell_type": "markdown",
      "source": [
        "## Activity Overview\n",
        "Now imagine that the Department of Education asks you to collect data on mean district literacy rates for two of the nation’s largest states: STATE21 and STATE28. STATE28 has almost 40 districts, and STATE21 has more than 70. Due to limited time and resources, you are only able to survey 20 randomly chosen districts in each state. The department asks you to determine if the difference between the two mean district literacy rates is statistically significant or due to chance. This will help the department decide how to distribute government funding to improve literacy. If there is a statistically-significant difference, the state with the lower literacy rate may receive more funding.\n",
        "\n",
        "In this activity, you will use Python to simulate taking a random sample of 20 districts in each state and conduct a two-sample t-test based on the sample data."
      ],
      "metadata": {
        "id": "Sl7kSjkvy8yR"
      }
    },
    {
      "cell_type": "markdown",
      "source": [
        "## Explore data\n",
        "To start, filter your dataframe for the district literacy rate data from the states STATE21 and STATE28.\n",
        "\n",
        "First, name a new variable: `state21`. Then, use the relational operator for equals (`==`) to get the relevant data from the `STATNAME` column."
      ],
      "metadata": {
        "id": "zyWSiN_kzNsn"
      }
    },
    {
      "cell_type": "code",
      "source": [
        "state21 = education_districtwise[education_districtwise['STATNAME'] == 'STATE21']"
      ],
      "metadata": {
        "id": "0SEEPEkYzaH6"
      },
      "execution_count": null,
      "outputs": []
    },
    {
      "cell_type": "code",
      "source": [
        "state28 = education_districtwise[education_districtwise['STATNAME'] == \"STATE28\"]"
      ],
      "metadata": {
        "id": "gpInzGXYzwBc"
      },
      "execution_count": null,
      "outputs": []
    },
    {
      "cell_type": "markdown",
      "source": [
        "### Simulate random sampling\n",
        "Now that you have organized your data, use the `sample()` function to take a random sample of 20 districts from each state. First, name a new variable: `sampled_state21`. Then, enter the arguments of the `sample()` function.\n",
        "\n",
        "  - `n`: Your sample size is 20.\n",
        "  - `replace`: Choose True because you are sampling with replacement.\n",
        "  - `random_state`: Choose an arbitrary number for the random seed – how about 13490."
      ],
      "metadata": {
        "id": "42-UVlAAzzvE"
      }
    },
    {
      "cell_type": "code",
      "source": [
        "sampled_state21 = state21.sample(n=20, replace = True, random_state=13490)"
      ],
      "metadata": {
        "id": "zVLKz4Lw0Lia"
      },
      "execution_count": null,
      "outputs": []
    },
    {
      "cell_type": "code",
      "source": [
        "sampled_state28 = state28.sample(n=20, replace = True, random_state=39103)"
      ],
      "metadata": {
        "id": "nRNDR0XP0NYx"
      },
      "execution_count": null,
      "outputs": []
    },
    {
      "cell_type": "markdown",
      "source": [
        "### Compute the sample means\n",
        "You now have two random samples of 20 districts—one sample for each state. Next, use mean() to compute the mean district literacy rate for both STATE21 and STATE28."
      ],
      "metadata": {
        "id": "cIG9zguH0Snw"
      }
    },
    {
      "cell_type": "code",
      "source": [
        "sampled_state21['OVERALL_LI'].mean()"
      ],
      "metadata": {
        "colab": {
          "base_uri": "https://localhost:8080/"
        },
        "id": "-ON5T8Ae0Ut9",
        "outputId": "a4173511-0082-430c-afe0-0ae1bfadee54"
      },
      "execution_count": null,
      "outputs": [
        {
          "output_type": "execute_result",
          "data": {
            "text/plain": [
              "np.float64(70.82900000000001)"
            ]
          },
          "metadata": {},
          "execution_count": 7
        }
      ]
    },
    {
      "cell_type": "code",
      "source": [
        "sampled_state28['OVERALL_LI'].mean()"
      ],
      "metadata": {
        "colab": {
          "base_uri": "https://localhost:8080/"
        },
        "id": "QmAaO0sZ0WQS",
        "outputId": "3912b9df-5497-45b7-ea34-5cf4ad672815"
      },
      "execution_count": null,
      "outputs": [
        {
          "output_type": "execute_result",
          "data": {
            "text/plain": [
              "np.float64(64.60100000000001)"
            ]
          },
          "metadata": {},
          "execution_count": 8
        }
      ]
    },
    {
      "cell_type": "markdown",
      "source": [
        "`STATE21` has a mean district literacy rate of about 70.8%, while `STATE28` has a mean district literacy rate of about 64.6%.\n",
        "Based on your sample data, the observed difference between the mean district literacy rates of `STATE21` and `STATE28` is 6.2 percentage points (70.8% - 64.6%).\n",
        "\n",
        "**Note**: At this point, you might be tempted to conclude that `STATE21` has a higher overall literacy rate than `STATE28`. However, due to sampling variability, this observed difference might simply be due to chance, rather than an actual difference in the corresponding population means. A hypothesis test can help you determine whether or not your results are statistically significant."
      ],
      "metadata": {
        "id": "_XaB4XKY0kmS"
      }
    },
    {
      "cell_type": "markdown",
      "source": [
        "## Conduct a hypothesis test"
      ],
      "metadata": {
        "id": "15Kgluwn0yi1"
      }
    },
    {
      "cell_type": "markdown",
      "source": [
        "### Step 1: State the null hypothesis and the alternative hypothesis\n",
        "In a two-sample t-test, the null hypothesis states that there is no difference between the means of your two groups. The alternative hypothesis states the contrary claim: there is a difference between the means of your two groups.\n",
        "\n",
        "  - 𝐻0\n",
        " : There is no difference in the mean district literacy rates between **STATE21** and **STATE28**.\n",
        "\n",
        "  - 𝐻𝐴\n",
        " : There is a difference in the mean district literacy rates between **STATE21** and **STATE28**."
      ],
      "metadata": {
        "id": "csb3gwYU1E-5"
      }
    },
    {
      "cell_type": "markdown",
      "source": [
        "### Step 2: Choose a significance level\n",
        "\n",
        "The **significance level** is the threshold at which you will consider a result statistically significant. This is the probability of rejecting the null hypothesis when it is true. The Department of Education asks you to use their standard level of 5%, or 0.05."
      ],
      "metadata": {
        "id": "DVRwni1Q1i2J"
      }
    },
    {
      "cell_type": "markdown",
      "source": [
        "### Step 3: Find the p-value\n",
        "P-value refers to the probability of observing results as or more extreme than those observed when the null hypothesis is true.\n",
        "\n",
        "Based on your sample data, the difference between the mean district literacy rates of STATE21 and STATE28 is 6.2 percentage points. Your null hypothesis claims that this difference is due to chance. Your p-value is the probability of observing an absolute difference in sample means that is 6.2 or greater if the null hypothesis is true. If the probability of this outcome is very unlikely—in particular, if your p-value is less than your significance level of 5%— then you will reject the null hypothesis.\n",
        "\n",
        "`scipy.stats.ttest_ind()`\n",
        "\n",
        "For a two-sample  𝑡\n",
        " -test, you can use `scipy.stats.ttest_ind()` to compute your p-value. This function includes the following arguments:\n",
        "\n",
        "- `a`: Observations from the first sample\n",
        "- `b`: Observations from the second sample\n",
        "- `equal_var`: A boolean, or true/false statement, which indicates whether the population variance of the two samples is assumed to be equal. In our example, you don’t have access to data for the entire population, so you don’t want to assume anything about the variance. To avoid making a wrong assumption, set this argument to `False`."
      ],
      "metadata": {
        "id": "Pdl9jpld1vHn"
      }
    },
    {
      "cell_type": "code",
      "source": [
        "stats.ttest_ind(a=sampled_state21['OVERALL_LI'], b=sampled_state28['OVERALL_LI'], equal_var=False)"
      ],
      "metadata": {
        "colab": {
          "base_uri": "https://localhost:8080/"
        },
        "id": "JPYtkfb12Tja",
        "outputId": "75c7f1ef-5343-476f-ca5e-033f822de96d"
      },
      "execution_count": null,
      "outputs": [
        {
          "output_type": "execute_result",
          "data": {
            "text/plain": [
              "TtestResult(statistic=np.float64(2.8980444277268735), pvalue=np.float64(0.006421719142765237), df=np.float64(35.20796133045557))"
            ]
          },
          "metadata": {},
          "execution_count": 9
        }
      ]
    },
    {
      "cell_type": "markdown",
      "source": [
        "Your p-value is about 0.0064, or 0.64%.\n",
        "\n",
        "This means there is only a 0.64% probability that the absolute difference between the two mean district literacy rates would be 6.2 percentage points or greater if the null hypothesis were true. In other words, it’s highly unlikely that the difference in the two means is due to chance."
      ],
      "metadata": {
        "id": "n1L4qW_d2Y9s"
      }
    },
    {
      "cell_type": "markdown",
      "source": [
        "### Step 4: Reject or fail to reject the null hypothesis\n",
        "To draw a conclusion, compare your p-value with the significance level.\n",
        "\n",
        "- If the p-value is less than the significance level, you can conclude that there is a statistically significant difference in the mean district literacy rates between STATE21 and STATE28. In other words, you will reject the null hypothesis  𝐻0.\n",
        "- If the p-value is greater than the significance level, you can conclude that there is not a statistically significant difference in the mean district literacy rates between STATE21 and STATE28. In other words, you will fail to reject the null hypothesis  𝐻0.\n",
        "\n",
        "Your p-value of 0.0064, or 0.64%, is less than the significance level of 0.05, or 5%. Therefore, you will *reject* the null hypothesis and conclude that there is a statistically significant difference between the mean district literacy rates of the two states: STATE21 and STATE28.\n"
      ],
      "metadata": {
        "id": "xpp8U0mQ2dM3"
      }
    },
    {
      "cell_type": "markdown",
      "source": [
        "# Activity : Explore hypothesis testing"
      ],
      "metadata": {
        "id": "Yuon5IsJ2xTY"
      }
    },
    {
      "cell_type": "markdown",
      "source": [
        "## Introduction\n",
        "You work for an environmental think tank called Repair Our Air (ROA). ROA is formulating policy recommendations to improve the air quality in America, using the Environmental Protection Agency's Air Quality Index (AQI) to guide their decision making. An AQI value close to 0 signals \"little to no\" public health concern, while higher values are associated with increased risk to public health.\n",
        "\n",
        "They've tasked you with leveraging AQI data to help them prioritize their strategy for improving air quality in America.\n",
        "\n",
        "ROA is considering the following decisions. For each, construct a hypothesis test and an accompanying visualization, using your results of that test to make a recommendation:\n",
        "\n",
        "  1. ROA is considering a metropolitan-focused approach. Within California, they want to know if the mean AQI in Los Angeles County is statistically different from the rest of California.\n",
        "  2. With limited resources, ROA has to choose between New York and Ohio for their next regional office. Does New York have a lower AQI than Ohio?\n",
        "  3. A new policy will affect those states with a mean AQI of 10 or greater. Would Michigan be affected by this new policy?\n",
        "\n",
        "**Notes:**\n",
        "\n",
        "  1. For your analysis, you'll default to a 5% level of significance.\n",
        "  2. Throughout the lab, for two-sample t-tests, use Welch's `t-test` (i.e., setting the `equal_var` parameter to False in `scipy.stats.ttest_ind()`). This will account for the possibly unequal variances between the two groups in the comparison."
      ],
      "metadata": {
        "id": "Rb8FXTZrUmrL"
      }
    },
    {
      "cell_type": "markdown",
      "source": [
        "## Step 1: Imports\n",
        "To proceed with your analysis, import pandas and numpy. To conduct your hypothesis testing, import stats from scipy."
      ],
      "metadata": {
        "id": "uTyGoJ-CU48-"
      }
    },
    {
      "cell_type": "code",
      "source": [
        "# Import relevant packages\n",
        "\n",
        "import pandas as pd\n",
        "import numpy as np\n",
        "from scipy import stats"
      ],
      "metadata": {
        "id": "RBWjeMPWU9-a"
      },
      "execution_count": null,
      "outputs": []
    },
    {
      "cell_type": "code",
      "source": [
        "# Use read_csv() to import your data\n",
        "\n",
        "aqi = pd.read_csv('c4_epa_air_quality.csv')"
      ],
      "metadata": {
        "id": "R-QWDyP_U_y3"
      },
      "execution_count": null,
      "outputs": []
    },
    {
      "cell_type": "markdown",
      "source": [
        "## Step 2: Data Exploration\n",
        "\n",
        "**Before proceeding to your deliverables, explore your datasets.**\n",
        "\n",
        "Use the following space to surface descriptive statistics about your data. In particular, explore whether you believe the research questions you were given are readily answerable with this data."
      ],
      "metadata": {
        "id": "stag4PTLVHx1"
      }
    },
    {
      "cell_type": "code",
      "source": [
        "# Explore your dataframe `aqi` here:\n",
        "\n",
        "print(\"Use head() to show a sample of data\")\n",
        "print(aqi.head())\n",
        "\n",
        "print(\"Use describe() to summarize AQI\")\n",
        "print(aqi.describe(include='all'))\n",
        "\n",
        "print(\"For a more thorough examination of observations by state use values_counts()\")\n",
        "print(aqi['state_name'].value_counts())\n",
        "\n",
        "print('for a more')"
      ],
      "metadata": {
        "colab": {
          "base_uri": "https://localhost:8080/"
        },
        "id": "GZKxvzErVB90",
        "outputId": "3fe9ae03-ec44-4057-8362-13f2d67efd18"
      },
      "execution_count": null,
      "outputs": [
        {
          "output_type": "stream",
          "name": "stdout",
          "text": [
            "Use head() to show a sample of data\n",
            "   Unnamed: 0  date_local    state_name   county_name      city_name  \\\n",
            "0           0  2018-01-01       Arizona      Maricopa        Buckeye   \n",
            "1           1  2018-01-01          Ohio       Belmont      Shadyside   \n",
            "2           2  2018-01-01       Wyoming         Teton  Not in a city   \n",
            "3           3  2018-01-01  Pennsylvania  Philadelphia   Philadelphia   \n",
            "4           4  2018-01-01          Iowa          Polk     Des Moines   \n",
            "\n",
            "                                     local_site_name   parameter_name  \\\n",
            "0                                            BUCKEYE  Carbon monoxide   \n",
            "1                                          Shadyside  Carbon monoxide   \n",
            "2  Yellowstone National Park - Old Faithful Snow ...  Carbon monoxide   \n",
            "3                             North East Waste (NEW)  Carbon monoxide   \n",
            "4                                          CARPENTER  Carbon monoxide   \n",
            "\n",
            "    units_of_measure  arithmetic_mean  aqi  \n",
            "0  Parts per million         0.473684    7  \n",
            "1  Parts per million         0.263158    5  \n",
            "2  Parts per million         0.111111    2  \n",
            "3  Parts per million         0.300000    3  \n",
            "4  Parts per million         0.215789    3  \n",
            "Use describe() to summarize AQI\n",
            "        Unnamed: 0  date_local  state_name  county_name      city_name  \\\n",
            "count   260.000000         260         260          260            260   \n",
            "unique         NaN           1          52          149            190   \n",
            "top            NaN  2018-01-01  California  Los Angeles  Not in a city   \n",
            "freq           NaN         260          66           14             21   \n",
            "mean    129.500000         NaN         NaN          NaN            NaN   \n",
            "std      75.199734         NaN         NaN          NaN            NaN   \n",
            "min       0.000000         NaN         NaN          NaN            NaN   \n",
            "25%      64.750000         NaN         NaN          NaN            NaN   \n",
            "50%     129.500000         NaN         NaN          NaN            NaN   \n",
            "75%     194.250000         NaN         NaN          NaN            NaN   \n",
            "max     259.000000         NaN         NaN          NaN            NaN   \n",
            "\n",
            "       local_site_name   parameter_name   units_of_measure  arithmetic_mean  \\\n",
            "count              257              260                260       260.000000   \n",
            "unique             253                1                  1              NaN   \n",
            "top            Kapolei  Carbon monoxide  Parts per million              NaN   \n",
            "freq                 2              260                260              NaN   \n",
            "mean               NaN              NaN                NaN         0.403169   \n",
            "std                NaN              NaN                NaN         0.317902   \n",
            "min                NaN              NaN                NaN         0.000000   \n",
            "25%                NaN              NaN                NaN         0.200000   \n",
            "50%                NaN              NaN                NaN         0.276315   \n",
            "75%                NaN              NaN                NaN         0.516009   \n",
            "max                NaN              NaN                NaN         1.921053   \n",
            "\n",
            "               aqi  \n",
            "count   260.000000  \n",
            "unique         NaN  \n",
            "top            NaN  \n",
            "freq           NaN  \n",
            "mean      6.757692  \n",
            "std       7.061707  \n",
            "min       0.000000  \n",
            "25%       2.000000  \n",
            "50%       5.000000  \n",
            "75%       9.000000  \n",
            "max      50.000000  \n",
            "For a more thorough examination of observations by state use values_counts()\n",
            "state_name\n",
            "California              66\n",
            "Arizona                 14\n",
            "Ohio                    12\n",
            "Florida                 12\n",
            "Texas                   10\n",
            "Pennsylvania            10\n",
            "New York                10\n",
            "Colorado                 9\n",
            "Michigan                 9\n",
            "Minnesota                7\n",
            "New Jersey               6\n",
            "Indiana                  5\n",
            "Nevada                   4\n",
            "Maryland                 4\n",
            "Massachusetts            4\n",
            "Oklahoma                 4\n",
            "North Carolina           4\n",
            "Virginia                 4\n",
            "Connecticut              4\n",
            "Wyoming                  3\n",
            "Utah                     3\n",
            "Hawaii                   3\n",
            "Illinois                 3\n",
            "Missouri                 3\n",
            "Iowa                     3\n",
            "Kentucky                 3\n",
            "Vermont                  3\n",
            "Rhode Island             2\n",
            "Alaska                   2\n",
            "Georgia                  2\n",
            "Washington               2\n",
            "Idaho                    2\n",
            "Nebraska                 2\n",
            "Montana                  2\n",
            "Tennessee                2\n",
            "Maine                    2\n",
            "New Mexico               2\n",
            "District Of Columbia     2\n",
            "Oregon                   2\n",
            "New Hampshire            2\n",
            "Kansas                   1\n",
            "Alabama                  1\n",
            "South Dakota             1\n",
            "West Virginia            1\n",
            "Mississippi              1\n",
            "Louisiana                1\n",
            "Delaware                 1\n",
            "North Dakota             1\n",
            "Arkansas                 1\n",
            "Puerto Rico              1\n",
            "South Carolina           1\n",
            "Wisconsin                1\n",
            "Name: count, dtype: int64\n",
            "for a more\n"
          ]
        }
      ]
    },
    {
      "cell_type": "markdown",
      "source": [
        "**Question 1: From preceding data exploration, what do you recognize?**\n",
        "\n",
        "  - You have county-level data for the first hypothesis.\n",
        "  - Ohio and New York both have a higher number of observations to work with in this dataset."
      ],
      "metadata": {
        "id": "RPl2Eio3VV8m"
      }
    },
    {
      "cell_type": "markdown",
      "source": [
        "## Step 3. Statistical Tests\n",
        "Before you proceed, recall the following steps for conducting hypothesis testing:\n",
        "\n",
        "  1. Formulate the null hypothesis and the alternative hypothesis.\n",
        "  2. Set the significance level.\n",
        "  3. Determine the appropriate test procedure.\n",
        "  4. Compute the p-value.\n",
        "  5. Draw your conclusion."
      ],
      "metadata": {
        "id": "0ZiFC3DmVbm-"
      }
    },
    {
      "cell_type": "markdown",
      "source": [
        "### Hypothesis 1:\n",
        "**ROA is considering a metropolitan-focused approach. Within California, they want to know if the mean AQI in Los Angeles County is statistically different from the rest of California.**\n",
        "\n",
        "Before proceeding with your analysis, it will be helpful to subset the data for your comparison."
      ],
      "metadata": {
        "id": "XFMFxSBsVljw"
      }
    },
    {
      "cell_type": "code",
      "source": [
        "# Create dataframes for each sample being compared in your test\n",
        "\n",
        "ca_la = aqi[aqi['county_name']=='Los Angeles']\n",
        "ca_other = aqi[(aqi['state_name']=='California') & (aqi['county_name']!='Los Angeles')]"
      ],
      "metadata": {
        "id": "Cgym25BDVruW"
      },
      "execution_count": null,
      "outputs": []
    },
    {
      "cell_type": "markdown",
      "source": [
        "**Formulate your hypothesis:**\n",
        "\n",
        "Formulate your null and alternative hypotheses:\n",
        "\n",
        "  - 𝐻0\n",
        ": There is no difference in the mean AQI between Los Angeles County and the rest of California.\n",
        "\n",
        "  - 𝐻𝐴\n",
        ": There is a difference in the mean AQI between Los Angeles County and the rest of California."
      ],
      "metadata": {
        "id": "0wnjk3ImVvhg"
      }
    },
    {
      "cell_type": "markdown",
      "source": [
        "Set the significance level:"
      ],
      "metadata": {
        "id": "mp4foglOV759"
      }
    },
    {
      "cell_type": "code",
      "source": [
        "# For this analysis, the significance level is 5%\n",
        "\n",
        "significance_level = 0.05\n",
        "significance_level"
      ],
      "metadata": {
        "id": "TVvrvRTKVtnk"
      },
      "execution_count": null,
      "outputs": []
    },
    {
      "cell_type": "markdown",
      "source": [
        "**Determine the appropriate test procedure:**\n",
        "\n",
        "Here, you are comparing the sample means between two independent samples. Therefore, you will utilize a **two-sample 𝑡-test**."
      ],
      "metadata": {
        "id": "bSwkAhILWNTr"
      }
    },
    {
      "cell_type": "markdown",
      "source": [
        "**Compute the p-value**"
      ],
      "metadata": {
        "id": "2eHlBeSGWSC2"
      }
    },
    {
      "cell_type": "code",
      "source": [
        "# Compute your p-value here\n",
        "\n",
        "stats.ttest_ind(a=ca_la['aqi'], b=ca_other['aqi'], equal_var=False)"
      ],
      "metadata": {
        "colab": {
          "base_uri": "https://localhost:8080/"
        },
        "id": "NSD6jgVuWUYe",
        "outputId": "93684e0e-8d3a-473c-8423-440bad947226"
      },
      "execution_count": null,
      "outputs": [
        {
          "output_type": "execute_result",
          "data": {
            "text/plain": [
              "TtestResult(statistic=np.float64(2.1107010796372014), pvalue=np.float64(0.049839056842410995), df=np.float64(17.08246830361151))"
            ]
          },
          "metadata": {},
          "execution_count": 5
        }
      ]
    },
    {
      "cell_type": "markdown",
      "source": [
        "**Question 2. What is your p-value for hypothesis 1, and what does this indicate for your null hypothesis?**\n",
        "\n",
        "With a p-value (0.049) being less than 0.05 (as your significance level is 5%), reject the null hypothesis in favor of the alternative hypothesis.\n",
        "\n",
        "Therefore, a metropolitan strategy may make sense in this case"
      ],
      "metadata": {
        "id": "FwT-z12HWWz3"
      }
    },
    {
      "cell_type": "markdown",
      "source": [
        "## Hypothesis 2:\n",
        "**With limited resources, ROA has to choose between New York and Ohio for their next regional office. Does New York have a lower AQI than Ohio?**\n",
        "\n",
        "Before proceeding with your analysis, it will be helpful to subset the data for your comparison."
      ],
      "metadata": {
        "id": "2ogWPwh-WfyP"
      }
    },
    {
      "cell_type": "code",
      "source": [
        "# Create dataframes for each sample being compared in your test\n",
        "\n",
        "ny = aqi[aqi['state_name']=='New York']\n",
        "ohio = aqi[aqi['state_name']=='Ohio']"
      ],
      "metadata": {
        "id": "KsvuMaImWipH"
      },
      "execution_count": null,
      "outputs": []
    },
    {
      "cell_type": "markdown",
      "source": [
        "Formulate your hypothesis:\n",
        "\n",
        "Formulate your null and alternative hypotheses:\n",
        "\n",
        "  - 𝐻0\n",
        ": The mean AQI of New York is greater than or equal to that of Ohio.\n",
        "  \n",
        "  - 𝐻𝐴\n",
        ": The mean AQI of New York is below that of Ohio.\n",
        "\n",
        "**Significance Level (remains at 5%)**\n",
        "\n",
        "**Determine the appropriate test procedure:**\n",
        "\n",
        "Here, you are comparing the sample means between two independent samples in one direction. Therefore, you will utilize a **two-sample 𝑡-test**."
      ],
      "metadata": {
        "id": "5Y6H1tMmWmld"
      }
    },
    {
      "cell_type": "markdown",
      "source": [
        "**Compute the p-value**"
      ],
      "metadata": {
        "id": "EL_W8S0pW15E"
      }
    },
    {
      "cell_type": "code",
      "source": [
        "# Compute your p-value here\n",
        "\n",
        "tstat, pvalue = stats.ttest_ind(a=ny['aqi'], b=ohio['aqi'], alternative='less', equal_var=False)\n",
        "print(tstat)\n",
        "print(pvalue)"
      ],
      "metadata": {
        "colab": {
          "base_uri": "https://localhost:8080/"
        },
        "id": "VhIDkASVW5Rd",
        "outputId": "54f83e48-364e-4575-faf2-c2c8a6b8e173"
      },
      "execution_count": null,
      "outputs": [
        {
          "output_type": "stream",
          "name": "stdout",
          "text": [
            "-2.025951038880333\n",
            "0.03044650269193468\n"
          ]
        }
      ]
    },
    {
      "cell_type": "markdown",
      "source": [
        "**Question 3. What is your p-value for hypothesis 2, and what does this indicate for your null hypothesis?**\n",
        "\n",
        "With a p-value (0.030) of less than 0.05 (as your significance level is 5%) and a t-statistic < 0 (-2.036), **reject the null hypothesis in favor of the alternative hypothesis.**\n",
        "\n",
        "Therefore, you can conclude at the 5% significance level that New York has a lower mean AQI than Ohio."
      ],
      "metadata": {
        "id": "7pzWOVJnW95z"
      }
    },
    {
      "cell_type": "markdown",
      "source": [
        "### Hypothesis 3:\n",
        "\n",
        "**A new policy will affect those states with a mean AQI of 10 or greater. Will Michigan be affected by this new policy?**\n",
        "\n",
        "Before proceeding with your analysis, it will be helpful to subset the data for your comparison."
      ],
      "metadata": {
        "id": "6TDXx9enXEyl"
      }
    },
    {
      "cell_type": "code",
      "source": [
        "# Create dataframes for each sample being compared in your test\n",
        "\n",
        "michigan = aqi[aqi['state_name']=='Michigan']"
      ],
      "metadata": {
        "id": "E_tbaz0GXMQY"
      },
      "execution_count": null,
      "outputs": []
    },
    {
      "cell_type": "markdown",
      "source": [
        "**Formulate your hypothesis:**\n",
        "\n",
        "**Formulate your null and alternative hypotheses here:**\n",
        "\n",
        "  - 𝐻0\n",
        ": The mean AQI of Michigan is less than or equal to 10.\n",
        "  - 𝐻𝐴\n",
        ": The mean AQI of Michigan is greater than 10.\n",
        "\n",
        "**Significance Level (remains at 5%)**\n",
        "\n",
        "**Determine the appropriate test procedure:**\n",
        "\n",
        "Here, you are comparing one sample mean relative to a particular value in one direction. Therefore, you will utilize a **one-sample 𝑡-test**.\n",
        "\n",
        "**Compute the P-value**"
      ],
      "metadata": {
        "id": "kcu639U1XQ-W"
      }
    },
    {
      "cell_type": "code",
      "source": [
        "# Compute your p-value here\n",
        "\n",
        "tstat, pvalue = stats.ttest_1samp(michigan['aqi'], 10, alternative='greater')\n",
        "print(tstat)\n",
        "print(pvalue)"
      ],
      "metadata": {
        "colab": {
          "base_uri": "https://localhost:8080/"
        },
        "id": "_WXojb51Xgce",
        "outputId": "684048a3-cf47-405f-89b5-494ccad81b76"
      },
      "execution_count": null,
      "outputs": [
        {
          "output_type": "stream",
          "name": "stdout",
          "text": [
            "-1.7395913343286131\n",
            "0.9399405193140109\n"
          ]
        }
      ]
    },
    {
      "cell_type": "markdown",
      "source": [
        "**Question 4. What is your p-value for hypothesis 3, and what does this indicate for your null hypothesis?**\n",
        "\n",
        "With a p-value (0.940) being greater than 0.05 (as your significance level is 5%) and a t-statistic < 0 (-1.74), **fail to reject the null hypothesis**.\n",
        "\n",
        "Therefore, you cannot conclude at the 5% significance level that Michigan's mean AQI is greater than 10. This implies that Michigan would most likely not be affected by the new policy."
      ],
      "metadata": {
        "id": "wMQJKb58XjmJ"
      }
    },
    {
      "cell_type": "markdown",
      "source": [
        "## Step 4. Results and Evaluation\n",
        "Now that you've completed your statistical tests, you can consider your hypotheses and the results you gathered.\n",
        "\n",
        "**Question 5. Did your results show that the AQI in Los Angeles County was statistically different from the rest of California?**\n",
        "\n",
        "  - Yes, the results indicated that the AQI in Los Angeles County was in fact different from the rest of California.\n",
        "\n",
        "**Question 6. Did New York or Ohio have a lower AQI?**\n",
        "\n",
        "  - Using a 5% significance level, you can conclude that New York has a lower AQI than Ohio based on the results.\n",
        "\n",
        "**Question 7: Will Michigan be affected by the new policy impacting states with a mean AQI of 10 or greater?**\n",
        "\n",
        "  - Based on the tests, you would fail to reject the null hypothesis, meaning you can't conclude that the mean AQI is greater than 10. Thus, it is unlikely that Michigan would be affected by the new policy."
      ],
      "metadata": {
        "id": "_3xW8vy8XrdW"
      }
    },
    {
      "cell_type": "markdown",
      "source": [
        "### Conclusion\n",
        "\n",
        "**What are key takeaways from this lab?**\n",
        "\n",
        "  - Even with small sample sizes, the variation within the data is enough to allow you to make statistically significant conclusions. You identified at the 5% significance level that the Los Angeles mean AQI was stastitically different from the rest of California, and that New York does have a lower mean AQI than Ohio. However, you were unable to conclude at the 5% significance level that Michigan's mean AQI was greater than 10.\n",
        "\n",
        "**What would you consider presenting to your manager as part of your findings?**\n",
        "  - For each test, you would present the null and alternative hypothesis, then describe your conclusion and the resulting p-value that drove that conclusion. As the setup of t-test's have a few key configurations that dictate how you interpret the result, you would specify the type of test you chose, whether that tail was one-tail or two-tailed, and how you performed the t-test from `stats`.\n",
        "\n",
        "**What would you convey to external stakeholders?**\n",
        "\n",
        "  - In answer to the research questions posed, you would convey the level of significance (5%) and your conclusion. Additionally, providing the sample statistics being compared in each case will likely provide important context for stakeholders to quickly understand the difference between your results."
      ],
      "metadata": {
        "id": "LKc6WcSRYAc0"
      }
    },
    {
      "cell_type": "markdown",
      "source": [],
      "metadata": {
        "id": "VwjTrrRsYTHO"
      }
    }
  ]
}